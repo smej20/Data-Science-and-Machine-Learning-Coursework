{
 "cells": [
  {
   "cell_type": "markdown",
   "metadata": {},
   "source": [
    "# <u> Utilising Python for Analysis of the SARS-CoV-2 (COVID-19) Sequence. <u>"
   ]
  },
  {
   "cell_type": "markdown",
   "metadata": {},
   "source": [
    "### SARS-CoV-2 (COVID-19) is a single standed RNA virus responsible for the world pandemic currently faced by mankind. Here, Python is used to demonstrate the utility of such coding langauges to further explore DNA sequences with real world applications."
   ]
  },
  {
   "cell_type": "markdown",
   "metadata": {},
   "source": [
    "#### <u> Installing Required Packages <u>"
   ]
  },
  {
   "cell_type": "markdown",
   "metadata": {},
   "source": [
    "<i>Firstly, it is important to ensure that the required packages and functions are installed and imported. This is done with the following lines of code: <i>"
   ]
  },
  {
   "cell_type": "code",
   "execution_count": 1,
   "metadata": {},
   "outputs": [
    {
     "name": "stdout",
     "output_type": "stream",
     "text": [
      "Requirement already satisfied: Biopython in c:\\users\\smej20\\anaconda3\\lib\\site-packages (1.78)\n",
      "Requirement already satisfied: numpy in c:\\users\\smej20\\anaconda3\\lib\\site-packages (from Biopython) (1.19.2)\n",
      "Note: you may need to restart the kernel to use updated packages.\n"
     ]
    }
   ],
   "source": [
    "pip install Biopython"
   ]
  },
  {
   "cell_type": "code",
   "execution_count": 2,
   "metadata": {},
   "outputs": [
    {
     "name": "stdout",
     "output_type": "stream",
     "text": [
      "Requirement already satisfied: pandas in c:\\users\\smej20\\anaconda3\\lib\\site-packages (1.1.3)Note: you may need to restart the kernel to use updated packages.\n",
      "\n",
      "Requirement already satisfied: python-dateutil>=2.7.3 in c:\\users\\smej20\\anaconda3\\lib\\site-packages (from pandas) (2.8.1)\n",
      "Requirement already satisfied: numpy>=1.15.4 in c:\\users\\smej20\\anaconda3\\lib\\site-packages (from pandas) (1.19.2)\n",
      "Requirement already satisfied: pytz>=2017.2 in c:\\users\\smej20\\anaconda3\\lib\\site-packages (from pandas) (2020.1)\n",
      "Requirement already satisfied: six>=1.5 in c:\\users\\smej20\\anaconda3\\lib\\site-packages (from python-dateutil>=2.7.3->pandas) (1.15.0)\n"
     ]
    }
   ],
   "source": [
    "pip install pandas"
   ]
  },
  {
   "cell_type": "code",
   "execution_count": 3,
   "metadata": {},
   "outputs": [
    {
     "name": "stdout",
     "output_type": "stream",
     "text": [
      "Requirement already satisfied: primer3-py in c:\\users\\smej20\\anaconda3\\lib\\site-packages (0.6.1)Note: you may need to restart the kernel to use updated packages.\n",
      "\n"
     ]
    }
   ],
   "source": [
    " pip install primer3-py"
   ]
  },
  {
   "cell_type": "code",
   "execution_count": 4,
   "metadata": {},
   "outputs": [],
   "source": [
    "from Bio import SeqIO"
   ]
  },
  {
   "cell_type": "code",
   "execution_count": 5,
   "metadata": {},
   "outputs": [],
   "source": [
    "from Bio.SeqUtils import GC"
   ]
  },
  {
   "cell_type": "code",
   "execution_count": 6,
   "metadata": {},
   "outputs": [],
   "source": [
    "from Bio.SeqRecord import SeqRecord"
   ]
  },
  {
   "cell_type": "code",
   "execution_count": 7,
   "metadata": {},
   "outputs": [],
   "source": [
    "import pandas as pd"
   ]
  },
  {
   "cell_type": "code",
   "execution_count": 8,
   "metadata": {},
   "outputs": [],
   "source": [
    "import primer3"
   ]
  },
  {
   "cell_type": "code",
   "execution_count": 9,
   "metadata": {},
   "outputs": [],
   "source": [
    "from Bio.Blast import NCBIWWW"
   ]
  },
  {
   "cell_type": "code",
   "execution_count": 10,
   "metadata": {},
   "outputs": [],
   "source": [
    "from Bio import pairwise2"
   ]
  },
  {
   "cell_type": "markdown",
   "metadata": {},
   "source": [
    "#### <u> Inputting and Exploring the Sequence <u> "
   ]
  },
  {
   "cell_type": "markdown",
   "metadata": {},
   "source": [
    " <i> The complete genome assembly was obtained from https://www.nature.com/articles/s41586-020-2008-3 and  the complete genome sequence of COVID19 in GenBank can be found under the accession number MN908947. <i>"
   ]
  },
  {
   "cell_type": "code",
   "execution_count": 11,
   "metadata": {},
   "outputs": [
    {
     "name": "stdout",
     "output_type": "stream",
     "text": [
      "GenBankId: MN908947.3\n",
      "Size: 29903 nucleotides\n"
     ]
    }
   ],
   "source": [
    "for sequence in SeqIO.parse(\"MN908947.fna\", \"fasta\"):\n",
    "    print('GenBankId: '  + sequence.id + '\\nSize: ' + str(len(sequence))+' nucleotides')"
   ]
  },
  {
   "cell_type": "markdown",
   "metadata": {},
   "source": [
    "<i> This line of code takes a file type, in this case a fasta sequence, and reports the sequence back as a SeqRecord object which can be read by Biopython. The str(len(sequence)) function can be used to take a string as an argument, e.g. the COVID-19 sequence, and return its length. The output states that the sequence length for the genome assembly of COVID-19 is 29,903 nucleotide bases long. <i>"
   ]
  },
  {
   "cell_type": "code",
   "execution_count": 12,
   "metadata": {},
   "outputs": [],
   "source": [
    "Covid19 = SeqIO.read(\"MN908947.fna\", \"fasta\")"
   ]
  },
  {
   "cell_type": "code",
   "execution_count": 15,
   "metadata": {},
   "outputs": [
    {
     "name": "stdout",
     "output_type": "stream",
     "text": [
      "ATTAAAGGTTTATACCTTCCCAGGTAACAAACCAACCAACTTTCGATCTCTTGTAGATCTGTTCTCTAAACGAACTTTAAAATCTGTGTGGCTGTCACTCGGCTGCATGCTTAGTGCACTCACGCAGTATAATTAATAACTAATTACTGTCGTTGACAGGACACGAGTAACTCGTCTATCTTCTGCAGGCTGCTTACGGTTTCGTCCGTGTTGCAGCCGATCATCAGCACATCTAGGTTTCGTCCGGGTGTGACCGAAAGGTAAGATGGAGAGCCTTGTCCCTGGTTTCAACGAGAAAACACACGTCCAACTCAGTTTGCCTGTTTTACAGGTTCGCGACGTGCTCGTACGTGGCTTTGGAGACTCCGTGGAGGAGGTCTTATCAGAGGCACGTCAACATCTTAAAGATGGCACTTGTGGCTTAGTAGAAGTTGAAAAAGGCGTTTTGCCTCAACTTGAACAGCCCTATGTGTTCATCAAACGTTCGGATGCTCGAACTG\n"
     ]
    }
   ],
   "source": [
    "Covid19DNA = Covid19.seq\n",
    "print(Covid19DNA[:500])"
   ]
  },
  {
   "cell_type": "markdown",
   "metadata": {},
   "source": [
    "<i> This takes the COVID-19 sequence and creates an object called Covid19 which is read in as a SeqRecord object that can be recognised by Biopython. An object called Covid19DNA is then created from just the sequence of Covid19. The first 500 nucleotides are then printed to view the sequence and ensure it has been read by the software correctly (29,903 nucleotides can be quite lengthy to read!). <i>"
   ]
  },
  {
   "cell_type": "code",
   "execution_count": 16,
   "metadata": {},
   "outputs": [],
   "source": [
    "dna_list = list(Covid19DNA)"
   ]
  },
  {
   "cell_type": "markdown",
   "metadata": {},
   "source": [
    "<i> The sequence loaded is initially read a string by Biopython, so in order to count the contents of the sequence assembly, the string must be converted into a list. This is done using the above function. <i>"
   ]
  },
  {
   "cell_type": "markdown",
   "metadata": {},
   "source": [
    "<i> Counting of each respective nucleotide is undertaken using the following code: <i>"
   ]
  },
  {
   "cell_type": "code",
   "execution_count": 17,
   "metadata": {},
   "outputs": [
    {
     "name": "stdout",
     "output_type": "stream",
     "text": [
      "{'A': 8954, 'T': 9594, 'G': 5863, 'C': 5492}\n"
     ]
    }
   ],
   "source": [
    "count_DNA = Covid19DNA\n",
    "nucleotides={}\n",
    "for n in count_DNA:\n",
    "    if n in nucleotides:\n",
    "        nucleotides[n] += 1\n",
    "    else:\n",
    "        nucleotides[n] =  1\n",
    "print(nucleotides)\n",
    "\n",
    "\n",
    "n_count = pd.DataFrame(data=nucleotides, index=[0]).T.reset_index()\n",
    "n_count = n_count.rename(columns={0: 'frequency', 'index': 'nucleotides'})\n",
    "n_count = n_count.sort_values(by=['frequency'], ascending=True)"
   ]
  },
  {
   "cell_type": "markdown",
   "metadata": {},
   "source": [
    "<i> A loop is set up to count each nucleotide base (A, T, G and C). When the computer reads either an A, T , G or C from the DNA list, a 1 is added to that specific nucleotide which has been created into a dictonary called nucleotides through the use of '{}'. This allows for a value to be mapped onto each nucleotide base. If the computer does not read that specific nuceleotide then a one is not added and the value remains unchanged. This is done seperately for each nucleotide base until all four have been counted and this is then printed onto the screen to be evaluated. The dictionary nucleotides is then placed into a dataframe to create the graph below. <i>"
   ]
  },
  {
   "cell_type": "code",
   "execution_count": 18,
   "metadata": {},
   "outputs": [
    {
     "data": {
      "image/png": "[encoded data removed]",
      "text/plain": [
       "<Figure size 576x288 with 1 Axes>"
      ]
     },
     "metadata": {
      "needs_background": "light"
     },
     "output_type": "display_data"
    }
   ],
   "source": [
    "import matplotlib.pyplot as plt\n",
    "plt.figure(figsize=(8,4))\n",
    "a= n_count['frequency'].plot.bar(color= ['blue', 'yellow', 'green', 'red'])\n",
    "plt.xticks(rotation=5)\n",
    "plt.ylabel(\"Nucleotide Base Frequency\")\n",
    "r=list(range(len(n_count)))\n",
    "plt.xticks(r, n_count.nucleotides)\n",
    "plt.xlabel(\"Nucleotide Bases\")\n",
    "plt.title(\"Nucleotide Base Content of the SARS-CoV-2 (COVID-19) Sequence\", weight='bold', size=15)\n",
    "plt.show()"
   ]
  },
  {
   "cell_type": "markdown",
   "metadata": {},
   "source": [
    "<i> From the bar chart above, we can say that the %GC content of the SARS-CoV-2 (COVID-19) sequence is less than 50%. To get the percentage of the GC content, the below code can be used. The round function is used to round the percentage to the nearest whole number. It is important to know the %GC content of a sequence as this is an important consideration for primer design in PCR experiments.  <i>"
   ]
  },
  {
   "cell_type": "code",
   "execution_count": 20,
   "metadata": {},
   "outputs": [
    {
     "name": "stdout",
     "output_type": "stream",
     "text": [
      "The GC content of SARS-CoV-2 (COVID-19) is 38 %\n"
     ]
    }
   ],
   "source": [
    "GC_COVID19=GC(Covid19DNA)\n",
    "print (\"The GC content of SARS-CoV-2 (COVID-19) is\", round(GC_COVID19), \"%\") "
   ]
  },
  {
   "cell_type": "markdown",
   "metadata": {},
   "source": [
    "#### <u> Transcribing and Translating the Sequence <u>"
   ]
  },
  {
   "cell_type": "markdown",
   "metadata": {},
   "source": [
    "<i> In order to fully explore the SARS-CoV-2 (COVID-19) sequence, the cDNA sequence is converted into mRNA using the .transcribe() function. This will then allow for the mRNA to be translated into its respective amino acids and its protein sequence can be analysed. The first 200 nucleotide bases can then be printed to ensure this has been done correctly. <i>"
   ]
  },
  {
   "cell_type": "code",
   "execution_count": 21,
   "metadata": {},
   "outputs": [],
   "source": [
    "Covid19mRNA = Covid19DNA.transcribe()"
   ]
  },
  {
   "cell_type": "code",
   "execution_count": 22,
   "metadata": {},
   "outputs": [
    {
     "name": "stdout",
     "output_type": "stream",
     "text": [
      "AUUAAAGGUUUAUACCUUCCCAGGUAACAAACCAACCAACUUUCGAUCUCUUGUAGAUCUGUUCUCUAAACGAACUUUAAAAUCUGUGUGGCUGUCACUCGGCUGCAUGCUUAGUGCACUCACGCAGUAUAAUUAAUAACUAAUUACUGUCGUUGACAGGACACGAGUAACUCGUCUAUCUUCUGCAGGCUGCUUACGGU\n"
     ]
    }
   ],
   "source": [
    "print(Covid19mRNA[:200])"
   ]
  },
  {
   "cell_type": "markdown",
   "metadata": {},
   "source": [
    "<i> The cDNA sequence for SARS-CoV-2 (COVID-19) has been correctly converted into mRNA as the thymine (T) base has been swapped for uracil (U) base. The first 200 bases have been printed. <i>"
   ]
  },
  {
   "cell_type": "markdown",
   "metadata": {},
   "source": [
    "<i> One key disadvanatge of this code is that it does not know what kind of modifications are made either to generate mature mRNA or post-translational modifications made to the proteins. This is why when trying to translate the mRNA into its respctive amino acids, an error message occurs, as 29,903 is not a multiple of 3 which is required to accurately translate mRNA into amino acids. <i>"
   ]
  },
  {
   "cell_type": "code",
   "execution_count": 23,
   "metadata": {},
   "outputs": [
    {
     "name": "stderr",
     "output_type": "stream",
     "text": [
      "C:\\Users\\smej20\\Anaconda3\\lib\\site-packages\\Bio\\Seq.py:2334: BiopythonWarning: Partial codon, len(sequence) not a multiple of three. Explicitly trim the sequence or add trailing N before translation. This may become an error in future.\n",
      "  warnings.warn(\n"
     ]
    }
   ],
   "source": [
    "Amino_Acid = Covid19mRNA.translate()"
   ]
  },
  {
   "cell_type": "markdown",
   "metadata": {},
   "source": [
    "<i> The mRNA of SARS-CoV-2 (COVID19) is translated based upon the Codon Table printed below. <i>"
   ]
  },
  {
   "cell_type": "code",
   "execution_count": 24,
   "metadata": {},
   "outputs": [
    {
     "name": "stdout",
     "output_type": "stream",
     "text": [
      "Table 1 Standard, SGC0\n",
      "\n",
      "  |  U      |  C      |  A      |  G      |\n",
      "--+---------+---------+---------+---------+--\n",
      "U | UUU F   | UCU S   | UAU Y   | UGU C   | U\n",
      "U | UUC F   | UCC S   | UAC Y   | UGC C   | C\n",
      "U | UUA L   | UCA S   | UAA Stop| UGA Stop| A\n",
      "U | UUG L(s)| UCG S   | UAG Stop| UGG W   | G\n",
      "--+---------+---------+---------+---------+--\n",
      "C | CUU L   | CCU P   | CAU H   | CGU R   | U\n",
      "C | CUC L   | CCC P   | CAC H   | CGC R   | C\n",
      "C | CUA L   | CCA P   | CAA Q   | CGA R   | A\n",
      "C | CUG L(s)| CCG P   | CAG Q   | CGG R   | G\n",
      "--+---------+---------+---------+---------+--\n",
      "A | AUU I   | ACU T   | AAU N   | AGU S   | U\n",
      "A | AUC I   | ACC T   | AAC N   | AGC S   | C\n",
      "A | AUA I   | ACA T   | AAA K   | AGA R   | A\n",
      "A | AUG M(s)| ACG T   | AAG K   | AGG R   | G\n",
      "--+---------+---------+---------+---------+--\n",
      "G | GUU V   | GCU A   | GAU D   | GGU G   | U\n",
      "G | GUC V   | GCC A   | GAC D   | GGC G   | C\n",
      "G | GUA V   | GCA A   | GAA E   | GGA G   | A\n",
      "G | GUG V   | GCG A   | GAG E   | GGG G   | G\n",
      "--+---------+---------+---------+---------+--\n"
     ]
    }
   ],
   "source": [
    "from Bio.Data import CodonTable\n",
    "print(CodonTable.unambiguous_rna_by_name['Standard'])"
   ]
  },
  {
   "cell_type": "code",
   "execution_count": 25,
   "metadata": {},
   "outputs": [
    {
     "name": "stdout",
     "output_type": "stream",
     "text": [
      "Length of Protein: 9967\n",
      "IKGLYLPR*QTNQLSISCRSVL*TNFKICVAVTRLHA*CTHAV*LITNYCR*QDTSNSSIFCRLLTVSSVLQPIISTSRFRPGVTER*DGEPCPWFQRENTRPTQFACFTGSRRARTWLWRLRGGGLIRGTSTS*RWHLWLSRS*KRRFAST*TALCVHQTFGCSNCTSWSCYG*AGSRTRRHSVRS*W*DTWCPCPSCGRNTSGLPQGSSS*ER**RSWWP*LRRRSKVI*LRRRAWH*SL*RFSRKLEH*T*QWCYP*THA*A*RRGIHSLCR*QLLWP*WLPS*VH*RPSSTCW*SFMHFVRTTGLY*H*EGCILLP*T*A*NCLVHGTF*KEL*IADTF*N*IGKEI*HLQWGMSKFCISLKFHNQDYSTKG*KEKA*WLYG*NSICLSSCVTK*MQPNVPFNSHEV*SLW*NFMADGRFC*SHLRILWH*EFD*RRCHYLWLLTPKCCC*NLLSSMSQFRSRT*A*SCRIP**IWLENHSS*GWSHYCLWRLCVLLCWLP*QVCLLGSTC*R*HRL*PYRCCWRRFRRS**QPS*NTPKRESQHQYCW*L*T**RDRHYFGIFFCFHKCFCGNCERFGL*SIQTNC*ILW*F*SYKRKS*KRCLEYW*TEINTESSLCICIRGCSCCTINFLPHS*NCSKFCACFTEGRYNNTRWNFTVFTETH*CYDVHI*FGY*QSSCNGLHYRWCCSVDFAVAN*HLWHCL*KTQTRP*LA*REV*GRCRVS*RRLGNC*IYLNLCL*NCRWTNCHLCKGN*GECSDIL*ACK*IFGFVC*LYHYWWS*T*SLEFR*NICHALKGIVQKVC*IQRRNWPTHASKSPKRNYLLRGRNTSHRSVNRGSCLENW*FTTIRTTY**SC*SSIGWYTSLY*RAYVARNQRHRKVLCPCT*YDGNKQYLHTQRRCTNKGYFW**HCDRSARLQECEYHF*T**KD**ST**EVLCLYS*TRYRSK*VRLCCGRCCHKNFATSI*ITYTTGH*FR*VEYGYILLI**VW*V*IGFTYVLFFLPSR*G*RRR*L*RRRV*AINSI*VWY*R*LPR*TFGIWCHFCCSST*RRARRRLVR***STNCWSTRRQ*GQSDNYYSNNC*GSTSIRDGTYTSCSDY*SE*F*WLFKTY*QCIH*KCRHCGRS*KGKTNSGC*CSQCLP*TWRRCCRSLK*GY*QCHAS*I**LHSY*WTT*SGW*LCFKRTQSC*TLSSCCRPKC*QR*RHSTS*ECL*KF*SARSSTCTIIISWYFWC*PYTFFKSLCRYCSHKCLLSCL**KSL*QTCFKLFGNEE*KAS*TKDR*DS*RGS*AIYN*K*TFS*TEKTR**ENQSLC*RSYNNSGRN*VPHRKLVTLY*H*WQSSSRFCHSC**H*HHFLKERCSIYSG*CCSRGCFNCCGYTY*KGWWHY*NASESFEKSANRQLYNHLPGSGFKWLHCRGGKDSA*KV*KCLLHSTIYYL**EARNSWNCFLEFARNACTCRRNTQINACLCGN*SHSFNYTA*I*GY*NTRGCG*LWC*ILLLHQ*NNCSVTYQHT*RSK*NSCYNATWLCNTWLKFGRSCSVYEISQSASYSFCFFT*CCYSV*WLSYFFF*NT*RTFY*NHLTCWFL*RLVLFWTIYTTRYRIS*ER**KCILH**SYHIPPRW*SYHL*QS*DTSFFERSEDY*GVYNSRQH*PPHASCGHVNDIWTTVWSNLFGWS*CY*NKTS*FT*R*NILCFT***HSTC*GF*VLPHN*S*FSG*VHVSIKSH*KVEIPTS*WFNFY*MGR*QLLSCHCIVNTPTNRVEV*STCSTRCLLQSKGW*SC*LLCTYLSLL**DSR*VR*C*RNNELLVSTCQFRFLQKSLERGV*NLWTTADNP*GCRSCYVHGHTFL*TI*ERCSDTLYVW*TSYKISSTTGVTFCYDVSTTCSV*T*AWYIYLC**VHW*LPVWSL*TYNF*RNFVLHRRCFTYKVLRIQRSYYGCFLQRKQLHNNHKTSYL*IGWCCLYRN*P*VGQLL*ERQFLFHRATN*SCTKPTISKRKLR*F*VCM**YQIC**FKPVNWL*ETCFKRA*SYIFP*LKW*CGGY*L*TLHTLF*ERS*IVT*TYCLAC*QCN**SHV*TKYLVYTLSLEHKTS*NIKFV*CTEVRGRAGNG*SCLRRSKTSL*RSSGKSYHTERRS*V*CENYRSCRRHYT*TSK**FKNYRRGWPHRSNGCLCRQF*SYY*ET**II*SIRFENPCYSWFSCC**CPLGYYS*LC*AFS*QSC*YNY*HSYTVFKPCLY*LYALFLYFIATIVYFY*KYKF*N*SIYADYYSKEYC*ECR*ILSRGFI*LFEVT*FF*TDKYYNLVFTIKCLPRFFNLLNRCFRCFNV*FRHAFLLYWLQRRLFELY*CHYCNLLYWFYTL*CLS*WFRFFRHLSFFRNYTNYHFIF*MGFNCFWLSCRVVFGIYSFH*VFLCTWIGCNHAIVFQLFCSTFY**FLAYVVNN*SCTNGPDFSYG*NVHLLCIILLCMEKLCACCRRL*FINLYDVLQT**SNKSRMYNYC*WC*KVLLCLC*WR*RLLQTTQLELC*L*YILCW*YIY***SCERLVTTV*KTNKSY*PVFLHR**CYSEEWFHPSLL**SWSKDL*KTFSLSFC*LRQPES**H*RFIAY*CYSF*W*IKM*RIICKISVCLLQSAYVSTYTVTRSGISV*CW**CGSCS*NV*CLR*YVFINF*RTNGKTQNTSCNCRS*TCKECVLRQCLIYFYFSSSARVC*FRCRN*RCC*MS*IVTSI*HRSYWR*L**LYAHL*QS*KHDTP*PWCLY*L*CASY*CAGSKKSQHCFDMER*RFHVIV*TTTKTNT*CC*KE*LTF*VDMCNY*TSC*CCNNKDST*GW*NC**LVEAVN*SYTCVPFCCCYFLFNNTCSCHV*TY*LFK*NHRIQGY*WWCHS*HSIYRYLFC*QTC*F*HMV*PAWW*LY**QSLPIDCCSHNKRSGFCRAWFAWHDITHN*W*LFAFLT*SF*CSW*HLLHTIKTYRVH*LCNISLCFGC*MYNF*RCFW*ASTILL*YQCTRRFCCL*KFTP*HTLCAHGWLYYSIS*HLP*RFC*SGNNF*F*VL*ARHL*KIRSWCLCIY*W*MGT*Q*LLQIFTRSFLWCRCCKFTY*YVYTTNSTYWCFGHISIYSSWWYCSYRSNMPCLLFYEV*KSFW*IQSCSCL*YFTIPYVIHCTLFNTSLLILTWCLFCYLLVLDILSY**CFFFSTYSVDGYVHTFSTFLDNNCLYHLYFHKAFLLVL**LPKETCSL*WCFL*YF*RSCAVHLFVK*RNVSKVA**CAITSYAI**ILSSL**VQVF*WSNGYN*LQRSCLLSSRKGSQ*LQ*LRF*CSLPTTTNLYHLSCFAEWF*KNGIPIW*S*GLYGTSNLWYNYT*RSLA**RSLLSKTCDLHL*RHA*P*L*RFTHS*V*S*FLGTGW*CSTQGYWTFYAKLCT*A*G*YSQS*DT*V*VCSHSTRTDFFSVSLLQWFTIWCLPMCYEAQFHY*GFIP*WFMW*CWF*HRL*LCLFLLHAPYGITNWSSCWHRLRR*LLWTFC*QANSTSSWYGHNYYS*CFSLVVRCCYKWRQVVSQSIYHNS**L*PCGYEVQL*TSNTRPC*HTRTSFCSNWNCRFRYVCFIKRITAKWYEWTYHIG*CFIRR*IYTF*CC*TMLRCYFPKCSEKNNQGYTPLVVTHNFDFTFSFSPEYSMVFVLFFV*KCLFTFCYGYYCYVCFCNDVCQT*ACISLFVFVTFSCHCSLF*YGLYAC*LGDAYYDMVGYG*Y*FVWF*AKRLCYVCISCSVTNPYDSKNCV**WC*ESVDTYECLDTRL*SLLW*CFRSSHFHVGSYNLCYF*LLRCSYNCHVFGQRYCFYVC*VLPYFLHNW*YTSVYNASLLFLRLFLYLLLWPLLFTQPLL*TDSWCL*LLSFYTGV*IYEFTGTTPTQE*HRCLQTQH*IVGCWWQTLYQSSHCTV*NVRCKVHISSLTLSFATTQSRIII*IVGSMCPVTQ*HSLS*RYY*SL*KNGFTTFCFAFHAGCCRHKQAL*RNAGQQGNLTSYSLRV*FPSIICSFCYCSRSL*AGCC*W*F*SCS*KVEEVFECG*I*I*P*CSHAT*VGKDG*SSYDPNV*TG*I*GQEGKSY*CYADNAFHYA*KVG**CTQQHYQQCKRWLCSLEHNTSYNSSQTNGCHTRL*HI*KYV*WYNIYLCISIVGNPTGCRCR**NCST**N*YGQFT*FSMASYCNSFKGQFCCQITE**A*SCCTTTDVLCCRYYTNCLH**QCVSLLQHNKGR*VCTCTVIRFTGFEMG*IP*E*WNWYYLYRTGTTL*VCYRHT*RS*SEVFILY*RIKQPK*RYGTW*FSCHSTSTSW*CNRSACQFNCIIFLCFCCRCC*SLQRLSS*WGTTNH*LC*DVVYTHWYWSGNNSYTGSQYGSRILWWCIVLSVLPLPHRSSKS*RIL*LKR*VCTNTYNLC**PCGFYT*KHSLYRLRYVERLWL*L*STPRTHASVS*CTIVFKRVCGVSAARLTPCGTGTSTDVVYRAFDIYNDKVAGFAKFLKTNCCRFQEKDEDDNLIDSYFVVKRHTFSNYQHEETIYNLLKDCPAVAKHDFFKFRIDGDMVPHISRQRLTKYTMADLVYALRHFDEGNCDTLKEILVTYNCCDDDYFNKKDWYDFVENPDILRVYANLGERVRQALLKTVQFCDAMRNAGIVGVLTLDNQDLNGNWYDFGDFIQTTPGSGVPVVDSYYSLLMPILTLTRALTAESHVDTDLTKPYIKWDLLKYDFTEERLKLFDRYFKYWDQTYHPNCVNCLDDRCILHCANFNVLFSTVFPPTSFGPLVRKIFVDGVPFVVSTGYHFRELGVVHNQDVNLHSSRLSFKELLVYAADPAMHAASGNLLLDKRTTCFSVAALTNNVAFQTVKPGNFNKDFYDFAVSKGFFKEGSSVELKHFFFAQDGNAAISDYDYYRYNLPTMCDIRQLLFVVEVVDKYFDCYDGGCINANQVIVNNLDKSAGFPFNKWGKARLYYDSMSYEDQDALFAYTKRNVIPTITQMNLKYAISAKNRARTVAGVSICSTMTNRQFHQKLLKSIAATRGATVVIGTSKFYGGWHNMLKTVYSDVENPHLMGWDYPKCDRAMPNMLRIMASLVLARKHTTCCSLSHRFYRLANECAQVLSEMVMCGGSLYVKPGGTSSGDATTAYANSVFNICQAVTANVNALLSTDGNKIADKYVRNLQHRLYECLYRNRDVDTDFVNEFYAYLRKHFSMMILSDDAVVCFNSTYASQGLVASIKNFKSVLYYQNNVFMSEAKCWTETDLTKGPHEFCSQHTMLVKQGDDYVYLPYPDPSRILGAGCFVDDIVKTDGTLMIERFVSLAIDAYPLTKHPNQEYADVFHLYLQYIRKLHDELTGHMLDMYSVMLTNDNTSRYWEPEFYEAMYTPHTVLQAVGACVLCNSQTSLRCGACIRRPFLCCKCCYDHVISTSHKLVLSVNPYVCNAPGCDVTDVTQLYLGGMSYYCKSHKPPISFPLCANGQVFGLYKNTCVGSDNVTDFNAIATCDWTNAGDYILANTCTERLKLFAAETLKATEETFKLSYGIATVREVLSDRELHLSWEVGKPRPPLNRNYVFTGYRVTKNSKVQIGEYTFEKGDYGDAVVYRGTTTYKLNVGDYFVLTSHTVMPLSAPTLVPQEHYVRITGLYPTLNISDEFSSNVANYQKVGMQKYSTLQGPPGTGKSHFAIGLALYYPSARIVYTACSHAAVDALCEKALKYLPIDKCSRIIPARARVECFDKFKVNSTLEQYVFCTVNALPETTADIVVFDEISMATNYDLSVVNARLRAKHYVYIGDPAQLPAPRTLLTKGTLEPEYFNSVCRLMKTIGPDMFLGTCRRCPAEIVDTVSALVYDNKLKAHKDKSAQCFKMFYKGVITHDVSSAINRPQIGVVREFLTRNPAWRKAVFISPYNSQNAVASKILGLPTQTVDSSQGSEYDYVIFTQTTETAHSCNVNRFNVAITRAKVGILCIMSDRDLYDKLQFTSLEIPRRNVATLQAENVTGLFKDCSKVITGLHPTQAPTHLSVDTKFKTEGLCVDIPGIPKDMTYRRLISMMGFKMNYQVNGYPNMFITREEAIRHVRAWIGFDVEGCHATREAVGTNLPLQLGFSTGVNLVAVPTGYVDTPNNTDFSRVSAKPPPGDQFKHLIPLMYKGLPWNVVRIKIVQMLSDTLKNLSDRVVFVLWAHGFELTSMKYFVKIGPERTCCLCDRRATCFSTASDTYACWHHSIGFDYVYNPFMIDVQQWGFTGNLQSNHDLYCQVHGNAHVASCDAIMTRCLAVHECFVKRVDWTIEYPIIGDELKINAACRKVQHMVVKAALLADKFPVLHDIGNPKAIKCVPQADVEWKFYDAQPCSDKAYKIEELFYSYATHSDKFTDGVCLFWNCNVDRYPANSIVCRFDTRVLSNLNLPGCDGGSLYVNKHAFHTPAFDKSAFVNLKQLPFFYYSDSPCESHGKQVVSDIDYVPLKSATCITRCNLGGAVCRHHANEYRLYLDAYNMMISAGFSLWVYKQFDTYNLWNTFTRLQSLENVAFNVVNKGHFDGQQGEVPVSIINNTVYTKVDGVDVELFENKTTLPVNVAFELWAKRNIKPVPEVKILNNLGVDIAANTVIWDYKRDAPAHISTIGVCSMTDIAKKPTETICAPLTVFFDGRVDGQVDLFRNARNGVLITEGSVKGLQPSVGPKQASLNGVTLIGEAVKTQFNYYKKVDGVVQQLPETYFTQSRNLQEFKPRSQMEIDFLELAMDEFIERYKLEGYAFEHIVYGDFSHSQLGGLHLLIGLAKRFKESPFELEDFIPMDSTVKNYFITDAQTGSSKCVCSVIDLLLDDFVEIIKSQDLSVVSKVVKVTIDYTEISFMLWCKDGHVETFYPKLQSSQAWQPGVAMPNLYKMQRMLLEKCDLQNYGDSATLPKGIMMNVAKYTQLCQYLNTLTLAVPYNMRVIHFGAGSDKGVAPGTAVLRQWLPTGTLLVDSDLNDFVSDADSTLIGDCATVHTANKWDLIISDMYDPKTKNVTKENDSKEGFFTYICGFIQQKLALGGSVAIKITEHSWNADLYKLMGHFAWWTAFVTNVNASSSEAFLIGCNYLGKPREQIDGYVMHANYIFWRNTNPIQLSSYSLFDMSKFPLKLRGTAVMSLKEGQINDMILSLLSKGRLIIRENNRVVISSDVLVNN*TNNVCFSCFIATSL*SVC*SYNQNSITPCIH*FFHTWCLLP*QSFQILSFTFNSGLVLTFLFQCYLVPCYTCLWDQWY*EV**PCPTI**WCLFCFH*EV*HNKRLDFWYYFRFEDPVPTYC**RY*CCY*SL*ISIL**SIFGCLLPQKQQKLDGK*VQSLF*CE*LHF*ICLSAFSYGP*RKTG*FQKS*GICV*EY*WLF*NIF*AHAY*FSA*SPSGFFGFRTIGRFANRY*HH*VSNFTCFT*KLFDSW*FFFRLDSWCCSLLCGLSST*DFSIKI**KWNHYRCCRLCT*PSLRNKVYVEILHCRKRNLSNF*L*SPTNRIYC*IS*YYKLVPFW*SF*RHQICICLCLEQEENQQLCC*LFCPI*FRIIFHF*VLWSVSY*IK*SLLY*CLCRFICN*R**SQTNRSRANWKDC*L*L*ITR*FYRLRYSLEF*QS*F*GWW*L*LPV*IV*EV*SQTF*ERYFN*NLSGR*HTL*WC*RF*LLLSFTIIWFPTH*WCWLPTIQSSSTFF*TSTCTSNCLWT*KVY*FG*KQMCQFQLQWFNRHRCSY*V*QKVSAFPTIWQRHC*HY*CCP*STDT*DS*HYTMFFWWCQCYNTRNKYF*PGCCSLSGC*LHRSPCCYSCRSTYSYLACLFYRF*CFSNTCRLFNRG*TCQQLI*V*HTHWCRYMR*LSDSD*FSSAGT*CS*SIHHCLHYVTWCRKFSCLL**LYCHTHKFYY*CYHRNSTSVYDQDISRLYNVHLW*FN*MQQSFVAIWQFLYTIKPCFNWNSC*TRQKHPRSFCTSQTNLQNTTN*RFWWF*FFTNITRSIKTKQEVIY*RSTFQQSDTCRCWLHQTIW*LPW*YCC*RPHLCTKV*RPYCFATFAHR*NDCSIHFCTVSGYNHFWLDLWCRCCITNTICYANGL*V*WYWSYTECSL*EPKIDCQPI**CYWQNSRLTFFHSKCTWKTSRCGQPKCTSFKHAC*TT*LQFWCNFKCFK*YPFTS*QS*G*SAN**VDHRQTSKFADICDSTIN*SCRNQSFC*SCCY*NVRVCTWTIKKS*FLWKGLSSYVLPSVSTSWCSLLACDLCPCTRKELHNCSCHLS*WKSTLSS*RCLCFKWHTLVCNTKEFL*TTNHYYRQHICVW*L*CCNRNCQQHSL*SFAT*IRLIQGGVR*IF*ESYITRC*FR*HLWH*CFSCKHSKRN*PPQ*GCQEFK*ISHRSPRTWKV*AVYKMAMVHLARFYSWLDCHSNGDNYALLYDQLL*LSQGLLFLWILLQI**RRL*ASAQRSQITLHINELMDLFMRIFTIGTVTLKQGEIKDATPSDFVRATATIPIQASLPFGWLIVGVALLAVFQSASKIITLKKRWQLALSKGVHFVCNLLLLFVTVYSHLLLVAAGLEAPFLYLYALVYFLQSINFVRIIMRLWLCWKCRSKNPLLYDANYFLCWHTNCYDYCIPYNSVTSSIVITSGDGTTSPISEHDYQIGGYTEKWESGVKDCVVLHSYFTSDYYQLYSTQLSTDTGVEHVTFFIYNKIVDEPEEHVQIHTIDGSSGVVNPVMEPIYDEPTTTTSVPL*AQADEYELMYSFVSEETGTLIVNSVLLFLAFVVFLLVTLAILTALRLCAYCCNIVNVSLVKPSFYVYSRVKNLNSSRVPDLLV*TN*ILY*FFCLEL*F*PWQIPTVLLPLKSLKSSLNNGT***VSYSLHGFVFYNLPMPTGIGFCI*LS*FSSGCYGQ*L*LVLCLLLFTE*IGSPVELLSQWLVL*A*CGSATSLLLSDCLRVRVPCGHSIQKLTFFSTCHSMALF*PDRF*KVNS*SEL*SFVDIFVLLDTI*DAVTSRTCLKKSLLLHHERFLITNWELRSV*QVTQVLLHTVATGLATIN*TQTIPVAVTILLCLYSK*QQMFHLVDFQVTIAEILLIIMRTFKVSIWNLDYIINLIIKNLSKSLTENKYSQLDEEQPMEID*TNMKIILFLALITLATCELYHYQECVRGTTVLLKEPCSSGTYEGNSPFHPLADNKFALTCFSTQFAFACPDGVKHVYQLRARSVSPKLFIRQEEVQELYSPIFLIVAAIVFITLCFTLKRKTE*LNFH*LTSICAF*PFCYSLF*LCLLSFGSHLNCKIIMKLVTPKRT*NFLFS*ESSQL*LHFTKNVVYSHVLNINHM*LMTRVLFTSILNGILE*ELENQHL*LNCAWMRLVLNHPFSTSISVIIQFPVYLLQLIARNLNWVVL*CVVRSMKTF*SIMTFVLF*ISSKRTN*NV**WTPKSAKCTPHYVWWTLRFNWQ*PEWRTQWGAIKTTSAPRFTQ*YCVLVHRSHSTWQGRP*IPSRTRRSN*HQ*QSR*PNWLLPKSYQTNSWW*R*NERSQSKMVFLLPRNWARSWTSLWC*QRRHHMGCN*GSLEYTKRSHWHPQSC*QCCNRATTSSRNNIAKRLLRRREQRRQSSLFSFLIT*SQQFKKFNSRQQ*GNFSC*NGWQWR*CCSCFAAA*QIEPA*EQNVW*RPTTTRPNCH*EICC*GF*EASAKTYCH*SIQCNTSFRQTWSRTNPRKFWGPGTNQTRN*LQTLAANCTICPQRFSVLRNVAHWHGSHTFGNVVDLHRCHQIG*QRSKFQRSSHFAE*AY*RIQNIPTNRA*KGQKEEG**NSSLTAETEETANCDSSSCCRFG*FLQTIATIHEQC*LNSGLNSCRPHKADGLYKRFRFSVYDI*STLVQNEFS*LHSTSRCS*L*SHIAIFNQCVTLGRT*KSHHIFTEATRSTIECTVNNARESCLYGRALMCKINFSSAIPM*F**LLRRMTKKKKKKKKKK\n"
     ]
    }
   ],
   "source": [
    "print(\"Length of Protein:\",len(Amino_Acid))\n",
    "print(Amino_Acid)"
   ]
  },
  {
   "cell_type": "markdown",
   "metadata": {},
   "source": [
    "<i> The length of the translated mRNA into amino acids is printed along with the sequence of amino acids to ensure that the translation has been done correctly. In order to identify the amino acid sequences for indivdual proteins, the amino acid sequence was split by the '*' which represents a stop codon for that specific protein sequence. This is shown in the line of code below, the first 10 sequences are then printed. <i>"
   ]
  },
  {
   "cell_type": "code",
   "execution_count": 26,
   "metadata": {},
   "outputs": [
    {
     "name": "stdout",
     "output_type": "stream",
     "text": [
      "[Seq('IKGLYLPR'), Seq('QTNQLSISCRSVL'), Seq('TNFKICVAVTRLHA'), Seq('CTHAV'), Seq('LITNYCR'), Seq('QDTSNSSIFCRLLTVSSVLQPIISTSRFRPGVTER'), Seq('DGEPCPWFQRENTRPTQFACFTGSRRARTWLWRLRGGGLIRGTSTS'), Seq('RWHLWLSRS'), Seq('KRRFAST'), Seq('TALCVHQTFGCSNCTSWSCYG')]\n"
     ]
    }
   ],
   "source": [
    "Proteins = Amino_Acid.split('*')\n",
    "print(Proteins[:10])"
   ]
  },
  {
   "cell_type": "code",
   "execution_count": 27,
   "metadata": {},
   "outputs": [
    {
     "name": "stdout",
     "output_type": "stream",
     "text": [
      "Total Proteins: 775\n"
     ]
    }
   ],
   "source": [
    "TotalProteins=pd.DataFrame(Proteins)\n",
    "TotalProteins.describe()\n",
    "print(\"Total Proteins:\", len(TotalProteins))"
   ]
  },
  {
   "cell_type": "markdown",
   "metadata": {},
   "source": [
    "<i> It is well known that the smallest functional proteins are no shorter than 20 amino acids in length, so all amino acid sequences shorter than this are removed and not included in further analysis. <i>"
   ]
  },
  {
   "cell_type": "code",
   "execution_count": 28,
   "metadata": {},
   "outputs": [
    {
     "name": "stdout",
     "output_type": "stream",
     "text": [
      "Total Functional Proteins: 80\n"
     ]
    }
   ],
   "source": [
    "for i in Proteins[:]:\n",
    "    if len(i) < 20:\n",
    "        Proteins.remove(i)\n",
    "print(\"Total Functional Proteins:\", len(Proteins))"
   ]
  },
  {
   "cell_type": "markdown",
   "metadata": {},
   "source": [
    "<i> The resulting data can then be organised based on the user's preference and future applications. Here, two examples of collating the data obtained is illustrated, either by putting all the sequences into a collective dataframe or placing the sequences into separate files for further investigation. <i>"
   ]
  },
  {
   "cell_type": "code",
   "execution_count": 29,
   "metadata": {},
   "outputs": [],
   "source": [
    "def print_full(x):\n",
    "    pd.set_option('display.max_rows', len(x))\n",
    "    print(x)\n",
    "    pd.reset_option('display.max_rows')"
   ]
  },
  {
   "cell_type": "code",
   "execution_count": 30,
   "metadata": {},
   "outputs": [
    {
     "data": {
      "text/html": [
       "<div>\n",
       "<style scoped>\n",
       "    .dataframe tbody tr th:only-of-type {\n",
       "        vertical-align: middle;\n",
       "    }\n",
       "\n",
       "    .dataframe tbody tr th {\n",
       "        vertical-align: top;\n",
       "    }\n",
       "\n",
       "    .dataframe thead th {\n",
       "        text-align: right;\n",
       "    }\n",
       "</style>\n",
       "<table border=\"1\" class=\"dataframe\">\n",
       "  <thead>\n",
       "    <tr style=\"text-align: right;\">\n",
       "      <th></th>\n",
       "      <th>Amino Acid Sequence</th>\n",
       "      <th>Protein Length</th>\n",
       "    </tr>\n",
       "  </thead>\n",
       "  <tbody>\n",
       "    <tr>\n",
       "      <th>0</th>\n",
       "      <td>QDTSNSSIFCRLLTVSSVLQPIISTSRFRPGVTER</td>\n",
       "      <td>35</td>\n",
       "    </tr>\n",
       "    <tr>\n",
       "      <th>1</th>\n",
       "      <td>DGEPCPWFQRENTRPTQFACFTGSRRARTWLWRLRGGGLIRGTSTS</td>\n",
       "      <td>46</td>\n",
       "    </tr>\n",
       "    <tr>\n",
       "      <th>2</th>\n",
       "      <td>TALCVHQTFGCSNCTSWSCYG</td>\n",
       "      <td>21</td>\n",
       "    </tr>\n",
       "    <tr>\n",
       "      <th>3</th>\n",
       "      <td>DTWCPCPSCGRNTSGLPQGSSS</td>\n",
       "      <td>22</td>\n",
       "    </tr>\n",
       "    <tr>\n",
       "      <th>4</th>\n",
       "      <td>HLQWGMSKFCISLKFHNQDYSTKG</td>\n",
       "      <td>24</td>\n",
       "    </tr>\n",
       "    <tr>\n",
       "      <th>...</th>\n",
       "      <td>...</td>\n",
       "      <td>...</td>\n",
       "    </tr>\n",
       "    <tr>\n",
       "      <th>75</th>\n",
       "      <td>SIQCNTSFRQTWSRTNPRKFWGPGTNQTRN</td>\n",
       "      <td>30</td>\n",
       "    </tr>\n",
       "    <tr>\n",
       "      <th>76</th>\n",
       "      <td>LQTLAANCTICPQRFSVLRNVAHWHGSHTFGNVVDLHRCHQIG</td>\n",
       "      <td>43</td>\n",
       "    </tr>\n",
       "    <tr>\n",
       "      <th>77</th>\n",
       "      <td>NSSLTAETEETANCDSSSCCRFG</td>\n",
       "      <td>23</td>\n",
       "    </tr>\n",
       "    <tr>\n",
       "      <th>78</th>\n",
       "      <td>LNSGLNSCRPHKADGLYKRFRFSVYDI</td>\n",
       "      <td>27</td>\n",
       "    </tr>\n",
       "    <tr>\n",
       "      <th>79</th>\n",
       "      <td>KSHHIFTEATRSTIECTVNNARESCLYGRALMCKINFSSAIPM</td>\n",
       "      <td>43</td>\n",
       "    </tr>\n",
       "  </tbody>\n",
       "</table>\n",
       "<p>80 rows × 2 columns</p>\n",
       "</div>"
      ],
      "text/plain": [
       "                               Amino Acid Sequence  Protein Length\n",
       "0              QDTSNSSIFCRLLTVSSVLQPIISTSRFRPGVTER              35\n",
       "1   DGEPCPWFQRENTRPTQFACFTGSRRARTWLWRLRGGGLIRGTSTS              46\n",
       "2                            TALCVHQTFGCSNCTSWSCYG              21\n",
       "3                           DTWCPCPSCGRNTSGLPQGSSS              22\n",
       "4                         HLQWGMSKFCISLKFHNQDYSTKG              24\n",
       "..                                             ...             ...\n",
       "75                  SIQCNTSFRQTWSRTNPRKFWGPGTNQTRN              30\n",
       "76     LQTLAANCTICPQRFSVLRNVAHWHGSHTFGNVVDLHRCHQIG              43\n",
       "77                         NSSLTAETEETANCDSSSCCRFG              23\n",
       "78                     LNSGLNSCRPHKADGLYKRFRFSVYDI              27\n",
       "79     KSHHIFTEATRSTIECTVNNARESCLYGRALMCKINFSSAIPM              43\n",
       "\n",
       "[80 rows x 2 columns]"
      ]
     },
     "execution_count": 30,
     "metadata": {},
     "output_type": "execute_result"
    }
   ],
   "source": [
    "proteinas=pd.DataFrame(Proteins)\n",
    "proteinas['Amino Acid Sequence'] = proteinas[0].apply(str)\n",
    "proteinas['Protein Length'] = proteinas[0].apply(len)\n",
    "proteinas.rename(columns={0: \"sequence\"}, inplace=True)\n",
    "pro=proteinas.drop('sequence', axis=1)\n",
    "Protein_df=pd.DataFrame(pro)\n",
    "Protein_df"
   ]
  },
  {
   "cell_type": "code",
   "execution_count": 31,
   "metadata": {},
   "outputs": [],
   "source": [
    "pro.to_excel(\"Covid19_Protein_Sequence.xlsx\")"
   ]
  },
  {
   "cell_type": "markdown",
   "metadata": {},
   "source": [
    "<i> The preceding lines of code place the protein data into a dataframe which can then be converted into an excel sheet for ease of use. Whilst the lines of code below place each peptide sequence into separate files.  <i>"
   ]
  },
  {
   "cell_type": "code",
   "execution_count": 32,
   "metadata": {},
   "outputs": [],
   "source": [
    "for count, item in enumerate(Proteins, 1):\n",
    "     with open(f'Peptide_{count}.fasta', 'w') as f:\n",
    "        f.write(\"%s\\n\" % item)"
   ]
  },
  {
   "cell_type": "markdown",
   "metadata": {},
   "source": [
    "<i> To investigate the different properties of each suggested protein, the below code was used. This calculates the percentage of each respective amino acid, the molecular weight, the aromaticity, the flexibility, the isoelectric point and secondary structure fraction of each suggested protein. The data collected is then placed into a dataframe which can then be exported into an excel 'xlsx' file. <i>"
   ]
  },
  {
   "cell_type": "markdown",
   "metadata": {},
   "source": [
    "#### <u> Protein Investigation <u>"
   ]
  },
  {
   "cell_type": "code",
   "execution_count": 33,
   "metadata": {},
   "outputs": [
    {
     "data": {
      "text/html": [
       "<div>\n",
       "<style scoped>\n",
       "    .dataframe tbody tr th:only-of-type {\n",
       "        vertical-align: middle;\n",
       "    }\n",
       "\n",
       "    .dataframe tbody tr th {\n",
       "        vertical-align: top;\n",
       "    }\n",
       "\n",
       "    .dataframe thead th {\n",
       "        text-align: right;\n",
       "    }\n",
       "</style>\n",
       "<table border=\"1\" class=\"dataframe\">\n",
       "  <thead>\n",
       "    <tr style=\"text-align: right;\">\n",
       "      <th></th>\n",
       "      <th>Amino Acid Sequence</th>\n",
       "      <th>Amino Acids Percent</th>\n",
       "      <th>Molecular Weight</th>\n",
       "      <th>Aromaticity</th>\n",
       "      <th>Flexibility</th>\n",
       "      <th>Isoelectric Point</th>\n",
       "      <th>Secondary Structure Fraction</th>\n",
       "    </tr>\n",
       "  </thead>\n",
       "  <tbody>\n",
       "    <tr>\n",
       "      <th>0</th>\n",
       "      <td>QDTSNSSIFCRLLTVSSVLQPIISTSRFRPGVTER</td>\n",
       "      <td>{'A': 0.0, 'C': 0.02857142857142857, 'D': 0.02...</td>\n",
       "      <td>[3896.388, 5313.909099999998, 2268.52760000000...</td>\n",
       "      <td>0.057143</td>\n",
       "      <td>[1.0254166666666666, 1.0115238095238097, 0.973...</td>\n",
       "      <td>10.196142</td>\n",
       "      <td>(0.3142857142857143, 0.3142857142857143, 0.114...</td>\n",
       "    </tr>\n",
       "    <tr>\n",
       "      <th>1</th>\n",
       "      <td>DGEPCPWFQRENTRPTQFACFTGSRRARTWLWRLRGGGLIRGTSTS</td>\n",
       "      <td>{'A': 0.043478260869565216, 'C': 0.04347826086...</td>\n",
       "      <td>[3896.388, 5313.909099999998, 2268.52760000000...</td>\n",
       "      <td>0.130435</td>\n",
       "      <td>[1.024761904761905, 0.960797619047619, 0.98515...</td>\n",
       "      <td>11.524642</td>\n",
       "      <td>(0.2173913043478261, 0.2826086956521739, 0.152...</td>\n",
       "    </tr>\n",
       "    <tr>\n",
       "      <th>2</th>\n",
       "      <td>TALCVHQTFGCSNCTSWSCYG</td>\n",
       "      <td>{'A': 0.047619047619047616, 'C': 0.19047619047...</td>\n",
       "      <td>[3896.388, 5313.909099999998, 2268.52760000000...</td>\n",
       "      <td>0.142857</td>\n",
       "      <td>[0.9590833333333334, 0.9787619047619047, 0.960...</td>\n",
       "      <td>6.390601</td>\n",
       "      <td>(0.23809523809523808, 0.2857142857142857, 0.09...</td>\n",
       "    </tr>\n",
       "    <tr>\n",
       "      <th>3</th>\n",
       "      <td>DTWCPCPSCGRNTSGLPQGSSS</td>\n",
       "      <td>{'A': 0.0, 'C': 0.13636363636363635, 'D': 0.04...</td>\n",
       "      <td>[3896.388, 5313.909099999998, 2268.52760000000...</td>\n",
       "      <td>0.045455</td>\n",
       "      <td>[0.94975, 1.004285714285714, 0.986535714285714...</td>\n",
       "      <td>5.815959</td>\n",
       "      <td>(0.09090909090909091, 0.5454545454545454, 0.04...</td>\n",
       "    </tr>\n",
       "    <tr>\n",
       "      <th>4</th>\n",
       "      <td>HLQWGMSKFCISLKFHNQDYSTKG</td>\n",
       "      <td>{'A': 0.0, 'C': 0.041666666666666664, 'D': 0.0...</td>\n",
       "      <td>[3896.388, 5313.909099999998, 2268.52760000000...</td>\n",
       "      <td>0.166667</td>\n",
       "      <td>[0.975107142857143, 1.0098214285714286, 1.0038...</td>\n",
       "      <td>9.113847</td>\n",
       "      <td>(0.29166666666666663, 0.25, 0.125)</td>\n",
       "    </tr>\n",
       "    <tr>\n",
       "      <th>...</th>\n",
       "      <td>...</td>\n",
       "      <td>...</td>\n",
       "      <td>...</td>\n",
       "      <td>...</td>\n",
       "      <td>...</td>\n",
       "      <td>...</td>\n",
       "      <td>...</td>\n",
       "    </tr>\n",
       "    <tr>\n",
       "      <th>75</th>\n",
       "      <td>SIQCNTSFRQTWSRTNPRKFWGPGTNQTRN</td>\n",
       "      <td>{'A': 0.0, 'C': 0.03333333333333333, 'D': 0.0,...</td>\n",
       "      <td>[3896.388, 5313.909099999998, 2268.52760000000...</td>\n",
       "      <td>0.133333</td>\n",
       "      <td>[0.9837023809523809, 1.0040357142857144, 0.973...</td>\n",
       "      <td>11.999968</td>\n",
       "      <td>(0.16666666666666669, 0.3666666666666667, 0.0)</td>\n",
       "    </tr>\n",
       "    <tr>\n",
       "      <th>76</th>\n",
       "      <td>LQTLAANCTICPQRFSVLRNVAHWHGSHTFGNVVDLHRCHQIG</td>\n",
       "      <td>{'A': 0.06976744186046512, 'C': 0.069767441860...</td>\n",
       "      <td>[3896.388, 5313.909099999998, 2268.52760000000...</td>\n",
       "      <td>0.069767</td>\n",
       "      <td>[0.9817857142857143, 0.9929523809523809, 0.946...</td>\n",
       "      <td>8.738577</td>\n",
       "      <td>(0.3023255813953488, 0.20930232558139536, 0.16...</td>\n",
       "    </tr>\n",
       "    <tr>\n",
       "      <th>77</th>\n",
       "      <td>NSSLTAETEETANCDSSSCCRFG</td>\n",
       "      <td>{'A': 0.08695652173913043, 'C': 0.130434782608...</td>\n",
       "      <td>[3896.388, 5313.909099999998, 2268.52760000000...</td>\n",
       "      <td>0.043478</td>\n",
       "      <td>[1.0114285714285716, 1.0422261904761907, 1.011...</td>\n",
       "      <td>4.050028</td>\n",
       "      <td>(0.08695652173913043, 0.34782608695652173, 0.2...</td>\n",
       "    </tr>\n",
       "    <tr>\n",
       "      <th>78</th>\n",
       "      <td>LNSGLNSCRPHKADGLYKRFRFSVYDI</td>\n",
       "      <td>{'A': 0.037037037037037035, 'C': 0.03703703703...</td>\n",
       "      <td>[3896.388, 5313.909099999998, 2268.52760000000...</td>\n",
       "      <td>0.148148</td>\n",
       "      <td>[1.0257738095238096, 1.0074404761904763, 0.974...</td>\n",
       "      <td>9.625146</td>\n",
       "      <td>(0.3333333333333333, 0.2962962962962963, 0.148...</td>\n",
       "    </tr>\n",
       "    <tr>\n",
       "      <th>79</th>\n",
       "      <td>KSHHIFTEATRSTIECTVNNARESCLYGRALMCKINFSSAIPM</td>\n",
       "      <td>{'A': 0.09302325581395349, 'C': 0.069767441860...</td>\n",
       "      <td>[3896.388, 5313.909099999998, 2268.52760000000...</td>\n",
       "      <td>0.069767</td>\n",
       "      <td>[0.9723690476190476, 0.989452380952381, 1.0022...</td>\n",
       "      <td>8.657669</td>\n",
       "      <td>(0.23255813953488372, 0.23255813953488372, 0.2...</td>\n",
       "    </tr>\n",
       "  </tbody>\n",
       "</table>\n",
       "<p>80 rows × 7 columns</p>\n",
       "</div>"
      ],
      "text/plain": [
       "                               Amino Acid Sequence  \\\n",
       "0              QDTSNSSIFCRLLTVSSVLQPIISTSRFRPGVTER   \n",
       "1   DGEPCPWFQRENTRPTQFACFTGSRRARTWLWRLRGGGLIRGTSTS   \n",
       "2                            TALCVHQTFGCSNCTSWSCYG   \n",
       "3                           DTWCPCPSCGRNTSGLPQGSSS   \n",
       "4                         HLQWGMSKFCISLKFHNQDYSTKG   \n",
       "..                                             ...   \n",
       "75                  SIQCNTSFRQTWSRTNPRKFWGPGTNQTRN   \n",
       "76     LQTLAANCTICPQRFSVLRNVAHWHGSHTFGNVVDLHRCHQIG   \n",
       "77                         NSSLTAETEETANCDSSSCCRFG   \n",
       "78                     LNSGLNSCRPHKADGLYKRFRFSVYDI   \n",
       "79     KSHHIFTEATRSTIECTVNNARESCLYGRALMCKINFSSAIPM   \n",
       "\n",
       "                                  Amino Acids Percent  \\\n",
       "0   {'A': 0.0, 'C': 0.02857142857142857, 'D': 0.02...   \n",
       "1   {'A': 0.043478260869565216, 'C': 0.04347826086...   \n",
       "2   {'A': 0.047619047619047616, 'C': 0.19047619047...   \n",
       "3   {'A': 0.0, 'C': 0.13636363636363635, 'D': 0.04...   \n",
       "4   {'A': 0.0, 'C': 0.041666666666666664, 'D': 0.0...   \n",
       "..                                                ...   \n",
       "75  {'A': 0.0, 'C': 0.03333333333333333, 'D': 0.0,...   \n",
       "76  {'A': 0.06976744186046512, 'C': 0.069767441860...   \n",
       "77  {'A': 0.08695652173913043, 'C': 0.130434782608...   \n",
       "78  {'A': 0.037037037037037035, 'C': 0.03703703703...   \n",
       "79  {'A': 0.09302325581395349, 'C': 0.069767441860...   \n",
       "\n",
       "                                     Molecular Weight  Aromaticity  \\\n",
       "0   [3896.388, 5313.909099999998, 2268.52760000000...     0.057143   \n",
       "1   [3896.388, 5313.909099999998, 2268.52760000000...     0.130435   \n",
       "2   [3896.388, 5313.909099999998, 2268.52760000000...     0.142857   \n",
       "3   [3896.388, 5313.909099999998, 2268.52760000000...     0.045455   \n",
       "4   [3896.388, 5313.909099999998, 2268.52760000000...     0.166667   \n",
       "..                                                ...          ...   \n",
       "75  [3896.388, 5313.909099999998, 2268.52760000000...     0.133333   \n",
       "76  [3896.388, 5313.909099999998, 2268.52760000000...     0.069767   \n",
       "77  [3896.388, 5313.909099999998, 2268.52760000000...     0.043478   \n",
       "78  [3896.388, 5313.909099999998, 2268.52760000000...     0.148148   \n",
       "79  [3896.388, 5313.909099999998, 2268.52760000000...     0.069767   \n",
       "\n",
       "                                          Flexibility  Isoelectric Point  \\\n",
       "0   [1.0254166666666666, 1.0115238095238097, 0.973...          10.196142   \n",
       "1   [1.024761904761905, 0.960797619047619, 0.98515...          11.524642   \n",
       "2   [0.9590833333333334, 0.9787619047619047, 0.960...           6.390601   \n",
       "3   [0.94975, 1.004285714285714, 0.986535714285714...           5.815959   \n",
       "4   [0.975107142857143, 1.0098214285714286, 1.0038...           9.113847   \n",
       "..                                                ...                ...   \n",
       "75  [0.9837023809523809, 1.0040357142857144, 0.973...          11.999968   \n",
       "76  [0.9817857142857143, 0.9929523809523809, 0.946...           8.738577   \n",
       "77  [1.0114285714285716, 1.0422261904761907, 1.011...           4.050028   \n",
       "78  [1.0257738095238096, 1.0074404761904763, 0.974...           9.625146   \n",
       "79  [0.9723690476190476, 0.989452380952381, 1.0022...           8.657669   \n",
       "\n",
       "                         Secondary Structure Fraction  \n",
       "0   (0.3142857142857143, 0.3142857142857143, 0.114...  \n",
       "1   (0.2173913043478261, 0.2826086956521739, 0.152...  \n",
       "2   (0.23809523809523808, 0.2857142857142857, 0.09...  \n",
       "3   (0.09090909090909091, 0.5454545454545454, 0.04...  \n",
       "4                  (0.29166666666666663, 0.25, 0.125)  \n",
       "..                                                ...  \n",
       "75     (0.16666666666666669, 0.3666666666666667, 0.0)  \n",
       "76  (0.3023255813953488, 0.20930232558139536, 0.16...  \n",
       "77  (0.08695652173913043, 0.34782608695652173, 0.2...  \n",
       "78  (0.3333333333333333, 0.2962962962962963, 0.148...  \n",
       "79  (0.23255813953488372, 0.23255813953488372, 0.2...  \n",
       "\n",
       "[80 rows x 7 columns]"
      ]
     },
     "execution_count": 33,
     "metadata": {},
     "output_type": "execute_result"
    }
   ],
   "source": [
    "from __future__ import division\n",
    "poi_list = []\n",
    "MW_list = []\n",
    "from Bio.SeqUtils import ProtParam\n",
    "ProteinProperties= []\n",
    "Y = pro['Amino Acid Sequence'].to_dict()\n",
    "for record in Proteins[:]:\n",
    "    X = ProtParam.ProteinAnalysis(str(record))\n",
    "    POI = X.count_amino_acids()\n",
    "    poi_list.append(POI)\n",
    "    MW = X.molecular_weight()\n",
    "    MW_list.append(MW)\n",
    "    ProteinProperties.append(\n",
    "        {\n",
    "            \n",
    "            \"Amino Acids Percent\": str(X.get_amino_acids_percent()),\n",
    "            \"Molecular Weight\": MW_list,\n",
    "            \"Aromaticity\": X.aromaticity(),\n",
    "            \"Flexibility\": X.flexibility(),\n",
    "            \"Isoelectric Point\": X.isoelectric_point(),\n",
    "            \"Secondary Structure Fraction\": X.secondary_structure_fraction()\n",
    "        }\n",
    "    )\n",
    "\n",
    "df= pd.DataFrame(ProteinProperties)\n",
    "series = pd.Series(Protein_df['Amino Acid Sequence'], index=Protein_df.index)\n",
    "Protein_Joined=df.join(series)\n",
    "ProteinAttributes= Protein_Joined[\n",
    "    [\n",
    "    'Amino Acid Sequence', \n",
    "    'Amino Acids Percent', \n",
    "    'Molecular Weight', \n",
    "    'Aromaticity','Flexibility', \n",
    "    'Isoelectric Point',\n",
    "    'Secondary Structure Fraction']\n",
    "]\n",
    "ProteinAttributes\n",
    "\n",
    "\n"
   ]
  },
  {
   "cell_type": "code",
   "execution_count": 34,
   "metadata": {},
   "outputs": [],
   "source": [
    "ProteinAttributes.to_excel(\"Covid19_Protein_Attributes.xlsx\")"
   ]
  },
  {
   "cell_type": "markdown",
   "metadata": {},
   "source": [
    "<i> The data obtained can be analysed further through the generation of bar charts such as the one created below. Here, the molecular weight of each protein sequence was placed into a separate dataframe which was used to generate a bar chart for the molecular weight of Protein Sequence 49 (Python starts counting at 0, hence in the protein of interest list Protein Sequence 49 is actually number 48 in the list. This is reflected in the code below. <i>"
   ]
  },
  {
   "cell_type": "code",
   "execution_count": 35,
   "metadata": {},
   "outputs": [
    {
     "data": {
      "text/plain": [
       "<BarContainer object of 20 artists>"
      ]
     },
     "execution_count": 35,
     "metadata": {},
     "output_type": "execute_result"
    },
    {
     "data": {
      "image/png": "[encoded data removed]",
      "text/plain": [
       "<Figure size 720x432 with 1 Axes>"
      ]
     },
     "metadata": {
      "needs_background": "light"
     },
     "output_type": "display_data"
    }
   ],
   "source": [
    "MolecularWeight=pd.DataFrame(data= MW_list,columns= [\"Molecular Weights\"])\n",
    "ProteinsofInterest= poi_list[48]\n",
    "plt.figure(figsize=(10,6));\n",
    "plt.bar(ProteinsofInterest.keys(), list(ProteinsofInterest.values()), align='center')"
   ]
  },
  {
   "cell_type": "markdown",
   "metadata": {},
   "source": [
    "<i> From this bar chart and the information from the dataframes above we can see that for Protein Sequence 49, the molecular weight is high in comparison to the other sequences, with the predomiant amino acids being leucine and valine. This is due to the sequence being considerably longer than the other sequences, being 2701 amino acids in length. <i>"
   ]
  },
  {
   "cell_type": "markdown",
   "metadata": {},
   "source": [
    "<i> Protein sequences of interest can then be further investigated by matching them with online databases. Here, NCBI Blast is used to match an identified protein sequence of interest, in this case Protein Sequence 49, to a non-redundant protein database. The data obtained from this search is then written and saved to an 'xml' file. <i>"
   ]
  },
  {
   "cell_type": "code",
   "execution_count": 55,
   "metadata": {},
   "outputs": [],
   "source": [
    "fasta_string = open(\"Peptide_49.fasta\").read()\n",
    "result_handle = NCBIWWW.qblast(\n",
    "\"blastp\",\n",
    "\"nr\", \n",
    "fasta_string, hitlist_size=10,\n",
    ")\n",
    "save_file = open(\"pep49out.xml\", \"w\")\n",
    "\n",
    "save_file.write(result_handle.read())\n",
    "\n",
    "save_file.close()\n",
    "\n",
    "result_handle.close()"
   ]
  },
  {
   "cell_type": "markdown",
   "metadata": {},
   "source": [
    "<i> This blast search revealed that Peptide_49.fasta matched for part of the ORF1ab polyprotein, an important protein for RNA synthesis in the SARS-CoV-2 (COVID-19) genome. <i>"
   ]
  },
  {
   "cell_type": "markdown",
   "metadata": {},
   "source": [
    "#### <u> Primer Design for Specified Regions<u>"
   ]
  },
  {
   "cell_type": "markdown",
   "metadata": {},
   "source": [
    "<i> To experimentally investigate expression levels of specific mRNA transcripts it would be useful to design primers for polymerase chain reaction (PCR) and quantitative polymerase chain reaction (qPCR) experiments. The lines of code below allow us to do this through the use of Primer3. Here, it possible to specify the exact parameters required want for primer design, including specifying the TM, GC% content and size for each primer.  <i>"
   ]
  },
  {
   "cell_type": "markdown",
   "metadata": {},
   "source": [
    "<i>The code below designs primer pairs for multiple regions within the SARS-CoV-2 (COVID-19) sequence. Further investigation of ORF1ab polyportein revealed that it spans the region 227-21,516bp within the SARS-CoV-2 (COVID-19) sequence. Hence, this example of primer design focuses on this region. <i>"
   ]
  },
  {
   "cell_type": "code",
   "execution_count": 64,
   "metadata": {},
   "outputs": [],
   "source": [
    "request_list = [ \n",
    "    {\n",
    "        \"SEQUENCE_ID\": \"(COVID-19)\",\n",
    "        \"SEQUENCE_TEMPLATE\": str(Covid19DNA),\n",
    "        \"SEQUENCE_INCLUDED_REGION\": [300,800]\n",
    "    },\n",
    "    {\n",
    "        \"SEQUENCE_ID\": \"(COVID-19)\",\n",
    "        \"SEQUENCE_TEMPLATE\": str(Covid19DNA),\n",
    "        \"SEQUENCE_INCLUDED_REGION\": [8500,8700]\n",
    "    },\n",
    "    {\n",
    "        \"SEQUENCE_ID\": \"(COVID-19)\",\n",
    "        \"SEQUENCE_TEMPLATE\": str(Covid19DNA),\n",
    "        \"SEQUENCE_INCLUDED_REGION\": [10000,11000]\n",
    "    },\n",
    "    \n",
    "]\n",
    "\n",
    "primers_list = []\n",
    "\n",
    "for request in request_list:\n",
    "    primers = primer3.designPrimers(request, \n",
    "        {'PRIMER_OPT_SIZE': 20,\n",
    "        'PRIMER_INTERNAL_MAX_SELF_END': 8,\n",
    "        'PRIMER_MIN_SIZE': 18,\n",
    "        'PRIMER_MAX_SIZE': 25,\n",
    "        'PRIMER_OPT_TM': 60.0,\n",
    "        'PRIMER_MIN_TM': 57.0,\n",
    "        'PRIMER_MAX_TM': 63.0,\n",
    "        'PRIMER_MIN_GC': 40.0,\n",
    "        'PRIMER_MAX_GC': 60.0,\n",
    "        'PRIMER_MAX_POLY_X': 100,\n",
    "        'PRIMER_SALT_MONOVALENT': 50.0,\n",
    "        'PRIMER_DNA_CONC': 50.0,\n",
    "        'PRIMER_MAX_NS_ACCEPTED': 0,\n",
    "        'PRIMER_MAX_SELF_ANY': 12,\n",
    "        'PRIMER_MAX_SELF_END': 8,\n",
    "        'PRIMER_PAIR_MAX_COMPL_ANY': 12,\n",
    "        'PRIMER_PAIR_MAX_COMPL_END': 8,\n",
    "        'PRIMER_PRODUCT_SIZE_RANGE': [[75,100],[100,125],[125,150],\n",
    "                                      [150,175],[175,200],[200,225]]})\n",
    "    primers_list.append(primers)\n"
   ]
  },
  {
   "cell_type": "markdown",
   "metadata": {},
   "source": [
    "<i> The specific regions for primer designed are stored as a string in a list called request_list. A loop is then established to run through primer design for each specific region within the request_list. The results of the primer design is then appended to another list called primer_list. The primer_list is then put into a dataframe and the columns and rows are are swapped round for ease of viewing. A total of 5 primer pairs is generated for each specific region. <i>"
   ]
  },
  {
   "cell_type": "code",
   "execution_count": 65,
   "metadata": {},
   "outputs": [
    {
     "name": "stdout",
     "output_type": "stream",
     "text": [
      "                                                                              0  \\\n",
      "PRIMER_LEFT_EXPLAIN           considered 5808, GC content failed 1450, low t...   \n",
      "PRIMER_RIGHT_EXPLAIN          considered 5808, GC content failed 1650, low t...   \n",
      "PRIMER_PAIR_EXPLAIN           considered 854, unacceptable product size 847,...   \n",
      "PRIMER_LEFT_NUM_RETURNED                                                      5   \n",
      "PRIMER_RIGHT_NUM_RETURNED                                                     5   \n",
      "PRIMER_INTERNAL_NUM_RETURNED                                                  0   \n",
      "PRIMER_PAIR_NUM_RETURNED                                                      5   \n",
      "PRIMER_PAIR_0_PENALTY                                                  0.147198   \n",
      "PRIMER_LEFT_0_PENALTY                                                 0.0373256   \n",
      "PRIMER_RIGHT_0_PENALTY                                                 0.109873   \n",
      "PRIMER_LEFT_0_SEQUENCE                                     TCGAACTGCACCTCATGGTC   \n",
      "PRIMER_RIGHT_0_SEQUENCE                                    GTGTCTCACCACTACGACCG   \n",
      "PRIMER_LEFT_0                                                         (492, 20)   \n",
      "PRIMER_RIGHT_0                                                        (574, 20)   \n",
      "PRIMER_LEFT_0_TM                                                        60.0373   \n",
      "PRIMER_RIGHT_0_TM                                                       60.1099   \n",
      "PRIMER_LEFT_0_GC_PERCENT                                                     55   \n",
      "PRIMER_RIGHT_0_GC_PERCENT                                                    60   \n",
      "PRIMER_LEFT_0_SELF_ANY_TH                                                     0   \n",
      "PRIMER_RIGHT_0_SELF_ANY_TH                                                    0   \n",
      "PRIMER_LEFT_0_SELF_END_TH                                                     0   \n",
      "PRIMER_RIGHT_0_SELF_END_TH                                                    0   \n",
      "PRIMER_LEFT_0_HAIRPIN_TH                                                46.5965   \n",
      "PRIMER_RIGHT_0_HAIRPIN_TH                                               32.4954   \n",
      "PRIMER_LEFT_0_END_STABILITY                                                4.02   \n",
      "PRIMER_RIGHT_0_END_STABILITY                                               4.79   \n",
      "PRIMER_PAIR_0_COMPL_ANY_TH                                                    0   \n",
      "PRIMER_PAIR_0_COMPL_END_TH                                                    0   \n",
      "PRIMER_PAIR_0_PRODUCT_SIZE                                                   83   \n",
      "PRIMER_PAIR_1_PENALTY                                                  0.148856   \n",
      "PRIMER_LEFT_1_PENALTY                                                 0.0389831   \n",
      "PRIMER_RIGHT_1_PENALTY                                                 0.109873   \n",
      "PRIMER_LEFT_1_SEQUENCE                                     TCAAACGTTCGGATGCTCGA   \n",
      "PRIMER_RIGHT_1_SEQUENCE                                    GTGTCTCACCACTACGACCG   \n",
      "PRIMER_LEFT_1                                                         (476, 20)   \n",
      "PRIMER_RIGHT_1                                                        (574, 20)   \n",
      "PRIMER_LEFT_1_TM                                                         60.039   \n",
      "PRIMER_RIGHT_1_TM                                                       60.1099   \n",
      "PRIMER_LEFT_1_GC_PERCENT                                                     50   \n",
      "PRIMER_RIGHT_1_GC_PERCENT                                                    60   \n",
      "PRIMER_LEFT_1_SELF_ANY_TH                                                     0   \n",
      "PRIMER_RIGHT_1_SELF_ANY_TH                                                    0   \n",
      "PRIMER_LEFT_1_SELF_END_TH                                                     0   \n",
      "PRIMER_RIGHT_1_SELF_END_TH                                                    0   \n",
      "PRIMER_LEFT_1_HAIRPIN_TH                                                37.3848   \n",
      "PRIMER_RIGHT_1_HAIRPIN_TH                                               32.4954   \n",
      "PRIMER_LEFT_1_END_STABILITY                                                4.04   \n",
      "PRIMER_RIGHT_1_END_STABILITY                                               4.79   \n",
      "PRIMER_PAIR_1_COMPL_ANY_TH                                                    0   \n",
      "PRIMER_PAIR_1_COMPL_END_TH                                                    0   \n",
      "PRIMER_PAIR_1_PRODUCT_SIZE                                                   99   \n",
      "PRIMER_PAIR_2_PENALTY                                                  0.219595   \n",
      "PRIMER_LEFT_2_PENALTY                                                  0.109873   \n",
      "PRIMER_RIGHT_2_PENALTY                                                 0.109723   \n",
      "PRIMER_LEFT_2_SEQUENCE                                     CGGTCGTAGTGGTGAGACAC   \n",
      "PRIMER_RIGHT_2_SEQUENCE                                    AAGAACCTTGCGGTAAGCCA   \n",
      "PRIMER_LEFT_2                                                         (555, 20)   \n",
      "PRIMER_RIGHT_2                                                        (630, 20)   \n",
      "PRIMER_LEFT_2_TM                                                        60.1099   \n",
      "PRIMER_RIGHT_2_TM                                                       59.8903   \n",
      "PRIMER_LEFT_2_GC_PERCENT                                                     60   \n",
      "PRIMER_RIGHT_2_GC_PERCENT                                                    50   \n",
      "PRIMER_LEFT_2_SELF_ANY_TH                                                     0   \n",
      "PRIMER_RIGHT_2_SELF_ANY_TH                                                    0   \n",
      "PRIMER_LEFT_2_SELF_END_TH                                                     0   \n",
      "PRIMER_RIGHT_2_SELF_END_TH                                                    0   \n",
      "PRIMER_LEFT_2_HAIRPIN_TH                                                 41.631   \n",
      "PRIMER_RIGHT_2_HAIRPIN_TH                                               44.7257   \n",
      "PRIMER_LEFT_2_END_STABILITY                                                3.67   \n",
      "PRIMER_RIGHT_2_END_STABILITY                                               4.75   \n",
      "PRIMER_PAIR_2_COMPL_ANY_TH                                                    0   \n",
      "PRIMER_PAIR_2_COMPL_END_TH                                                    0   \n",
      "PRIMER_PAIR_2_PRODUCT_SIZE                                                   76   \n",
      "PRIMER_PAIR_3_PENALTY                                                  0.351931   \n",
      "PRIMER_LEFT_3_PENALTY                                                  0.322098   \n",
      "PRIMER_RIGHT_3_PENALTY                                                0.0298335   \n",
      "PRIMER_LEFT_3_SEQUENCE                                     TGTGGGCGAAATACCAGTGG   \n",
      "PRIMER_RIGHT_3_SEQUENCE                                    GACTTTAGATCGGCGCCGTA   \n",
      "PRIMER_LEFT_3                                                         (594, 20)   \n",
      "PRIMER_RIGHT_3                                                        (689, 20)   \n",
      "PRIMER_LEFT_3_TM                                                        60.3221   \n",
      "PRIMER_RIGHT_3_TM                                                       59.9702   \n",
      "PRIMER_LEFT_3_GC_PERCENT                                                     55   \n",
      "PRIMER_RIGHT_3_GC_PERCENT                                                    55   \n",
      "PRIMER_LEFT_3_SELF_ANY_TH                                               7.91039   \n",
      "PRIMER_RIGHT_3_SELF_ANY_TH                                              44.1643   \n",
      "PRIMER_LEFT_3_SELF_END_TH                                               7.91039   \n",
      "PRIMER_RIGHT_3_SELF_END_TH                                              31.7089   \n",
      "PRIMER_LEFT_3_HAIRPIN_TH                                                37.4509   \n",
      "PRIMER_RIGHT_3_HAIRPIN_TH                                               40.7403   \n",
      "PRIMER_LEFT_3_END_STABILITY                                                   4   \n",
      "PRIMER_RIGHT_3_END_STABILITY                                               4.02   \n",
      "PRIMER_PAIR_3_COMPL_ANY_TH                                              1.82569   \n",
      "PRIMER_PAIR_3_COMPL_END_TH                                                    0   \n",
      "PRIMER_PAIR_3_PRODUCT_SIZE                                                   96   \n",
      "PRIMER_PAIR_4_PENALTY                                                  0.357828   \n",
      "PRIMER_LEFT_4_PENALTY                                                  0.319083   \n",
      "PRIMER_RIGHT_4_PENALTY                                                0.0387444   \n",
      "PRIMER_LEFT_4_SEQUENCE                                     TTACCCGTGAACTCATGCGT   \n",
      "PRIMER_RIGHT_4_SEQUENCE                                    CCATCAGGGCCACAGAAGTT   \n",
      "PRIMER_LEFT_4                                                         (770, 20)   \n",
      "PRIMER_RIGHT_4                                                        (848, 20)   \n",
      "PRIMER_LEFT_4_TM                                                        59.6809   \n",
      "PRIMER_RIGHT_4_TM                                                       59.9613   \n",
      "PRIMER_LEFT_4_GC_PERCENT                                                     50   \n",
      "PRIMER_RIGHT_4_GC_PERCENT                                                    55   \n",
      "PRIMER_LEFT_4_SELF_ANY_TH                                                     0   \n",
      "PRIMER_RIGHT_4_SELF_ANY_TH                                              6.18107   \n",
      "PRIMER_LEFT_4_SELF_END_TH                                                     0   \n",
      "PRIMER_RIGHT_4_SELF_END_TH                                                    0   \n",
      "PRIMER_LEFT_4_HAIRPIN_TH                                                      0   \n",
      "PRIMER_RIGHT_4_HAIRPIN_TH                                                     0   \n",
      "PRIMER_LEFT_4_END_STABILITY                                                5.24   \n",
      "PRIMER_RIGHT_4_END_STABILITY                                               2.66   \n",
      "PRIMER_PAIR_4_COMPL_ANY_TH                                                    0   \n",
      "PRIMER_PAIR_4_COMPL_END_TH                                                    0   \n",
      "PRIMER_PAIR_4_PRODUCT_SIZE                                                   79   \n",
      "\n",
      "                                                                              1  \\\n",
      "PRIMER_LEFT_EXPLAIN           considered 69008, GC content failed 41154, low...   \n",
      "PRIMER_RIGHT_EXPLAIN          considered 69008, GC content failed 40797, low...   \n",
      "PRIMER_PAIR_EXPLAIN           considered 1624, unacceptable product size 161...   \n",
      "PRIMER_LEFT_NUM_RETURNED                                                      5   \n",
      "PRIMER_RIGHT_NUM_RETURNED                                                     5   \n",
      "PRIMER_INTERNAL_NUM_RETURNED                                                  0   \n",
      "PRIMER_PAIR_NUM_RETURNED                                                      5   \n",
      "PRIMER_PAIR_0_PENALTY                                                 0.0669999   \n",
      "PRIMER_LEFT_0_PENALTY                                                 0.0367647   \n",
      "PRIMER_RIGHT_0_PENALTY                                                0.0302352   \n",
      "PRIMER_LEFT_0_SEQUENCE                                     TTTAGCCAGCGTGGTGGTAG   \n",
      "PRIMER_RIGHT_0_SEQUENCE                                    GGCACGACAAAACCCACTTC   \n",
      "PRIMER_LEFT_0                                                        (8776, 20)   \n",
      "PRIMER_RIGHT_0                                                       (8864, 20)   \n",
      "PRIMER_LEFT_0_TM                                                        60.0368   \n",
      "PRIMER_RIGHT_0_TM                                                       59.9698   \n",
      "PRIMER_LEFT_0_GC_PERCENT                                                     55   \n",
      "PRIMER_RIGHT_0_GC_PERCENT                                                    55   \n",
      "PRIMER_LEFT_0_SELF_ANY_TH                                               18.4459   \n",
      "PRIMER_RIGHT_0_SELF_ANY_TH                                                    0   \n",
      "PRIMER_LEFT_0_SELF_END_TH                                                     0   \n",
      "PRIMER_RIGHT_0_SELF_END_TH                                                    0   \n",
      "PRIMER_LEFT_0_HAIRPIN_TH                                                40.4595   \n",
      "PRIMER_RIGHT_0_HAIRPIN_TH                                                     0   \n",
      "PRIMER_LEFT_0_END_STABILITY                                                3.18   \n",
      "PRIMER_RIGHT_0_END_STABILITY                                               3.01   \n",
      "PRIMER_PAIR_0_COMPL_ANY_TH                                                    0   \n",
      "PRIMER_PAIR_0_COMPL_END_TH                                                    0   \n",
      "PRIMER_PAIR_0_PRODUCT_SIZE                                                   89   \n",
      "PRIMER_PAIR_1_PENALTY                                                 0.0701306   \n",
      "PRIMER_LEFT_1_PENALTY                                                 0.0333659   \n",
      "PRIMER_RIGHT_1_PENALTY                                                0.0367647   \n",
      "PRIMER_LEFT_1_SEQUENCE                                     TGATGGTGGTGTCACTCGTG   \n",
      "PRIMER_RIGHT_1_SEQUENCE                                    CTACCACCACGCTGGCTAAA   \n",
      "PRIMER_LEFT_1                                                        (8700, 20)   \n",
      "PRIMER_RIGHT_1                                                       (8795, 20)   \n",
      "PRIMER_LEFT_1_TM                                                        59.9666   \n",
      "PRIMER_RIGHT_1_TM                                                       60.0368   \n",
      "PRIMER_LEFT_1_GC_PERCENT                                                     55   \n",
      "PRIMER_RIGHT_1_GC_PERCENT                                                    55   \n",
      "PRIMER_LEFT_1_SELF_ANY_TH                                               2.35311   \n",
      "PRIMER_RIGHT_1_SELF_ANY_TH                                              4.22595   \n",
      "PRIMER_LEFT_1_SELF_END_TH                                                     0   \n",
      "PRIMER_RIGHT_1_SELF_END_TH                                                    0   \n",
      "PRIMER_LEFT_1_HAIRPIN_TH                                                43.1709   \n",
      "PRIMER_RIGHT_1_HAIRPIN_TH                                                 42.67   \n",
      "PRIMER_LEFT_1_END_STABILITY                                                4.35   \n",
      "PRIMER_RIGHT_1_END_STABILITY                                               1.85   \n",
      "PRIMER_PAIR_1_COMPL_ANY_TH                                              19.7939   \n",
      "PRIMER_PAIR_1_COMPL_END_TH                                              10.3919   \n",
      "PRIMER_PAIR_1_PRODUCT_SIZE                                                   96   \n",
      "PRIMER_PAIR_2_PENALTY                                                  0.138084   \n",
      "PRIMER_LEFT_2_PENALTY                                                  0.107848   \n",
      "PRIMER_RIGHT_2_PENALTY                                                0.0302352   \n",
      "PRIMER_LEFT_2_SEQUENCE                                     GCCAGCGTGGTGGTAGTTAT   \n",
      "PRIMER_RIGHT_2_SEQUENCE                                    GGCACGACAAAACCCACTTC   \n",
      "PRIMER_LEFT_2                                                        (8780, 20)   \n",
      "PRIMER_RIGHT_2                                                       (8864, 20)   \n",
      "PRIMER_LEFT_2_TM                                                        60.1078   \n",
      "PRIMER_RIGHT_2_TM                                                       59.9698   \n",
      "PRIMER_LEFT_2_GC_PERCENT                                                     55   \n",
      "PRIMER_RIGHT_2_GC_PERCENT                                                    55   \n",
      "PRIMER_LEFT_2_SELF_ANY_TH                                               18.4459   \n",
      "PRIMER_RIGHT_2_SELF_ANY_TH                                                    0   \n",
      "PRIMER_LEFT_2_SELF_END_TH                                                     0   \n",
      "PRIMER_RIGHT_2_SELF_END_TH                                                    0   \n",
      "PRIMER_LEFT_2_HAIRPIN_TH                                                40.4595   \n",
      "PRIMER_RIGHT_2_HAIRPIN_TH                                                     0   \n",
      "PRIMER_LEFT_2_END_STABILITY                                                1.89   \n",
      "PRIMER_RIGHT_2_END_STABILITY                                               3.01   \n",
      "PRIMER_PAIR_2_COMPL_ANY_TH                                                    0   \n",
      "PRIMER_PAIR_2_COMPL_END_TH                                                    0   \n",
      "PRIMER_PAIR_2_PRODUCT_SIZE                                                   85   \n",
      "PRIMER_PAIR_3_PENALTY                                                  0.141214   \n",
      "PRIMER_LEFT_3_PENALTY                                                 0.0333659   \n",
      "PRIMER_RIGHT_3_PENALTY                                                 0.107848   \n",
      "PRIMER_LEFT_3_SEQUENCE                                     TGATGGTGGTGTCACTCGTG   \n",
      "PRIMER_RIGHT_3_SEQUENCE                                    ATAACTACCACCACGCTGGC   \n",
      "PRIMER_LEFT_3                                                        (8700, 20)   \n",
      "PRIMER_RIGHT_3                                                       (8799, 20)   \n",
      "PRIMER_LEFT_3_TM                                                        59.9666   \n",
      "PRIMER_RIGHT_3_TM                                                       60.1078   \n",
      "PRIMER_LEFT_3_GC_PERCENT                                                     55   \n",
      "PRIMER_RIGHT_3_GC_PERCENT                                                    55   \n",
      "PRIMER_LEFT_3_SELF_ANY_TH                                               2.35311   \n",
      "PRIMER_RIGHT_3_SELF_ANY_TH                                              4.22595   \n",
      "PRIMER_LEFT_3_SELF_END_TH                                                     0   \n",
      "PRIMER_RIGHT_3_SELF_END_TH                                                    0   \n",
      "PRIMER_LEFT_3_HAIRPIN_TH                                                43.1709   \n",
      "PRIMER_RIGHT_3_HAIRPIN_TH                                                 42.67   \n",
      "PRIMER_LEFT_3_END_STABILITY                                                4.35   \n",
      "PRIMER_RIGHT_3_END_STABILITY                                               4.85   \n",
      "PRIMER_PAIR_3_COMPL_ANY_TH                                              19.7939   \n",
      "PRIMER_PAIR_3_COMPL_END_TH                                              3.76759   \n",
      "PRIMER_PAIR_3_PRODUCT_SIZE                                                  100   \n",
      "PRIMER_PAIR_4_PENALTY                                                  0.144565   \n",
      "PRIMER_LEFT_4_PENALTY                                                  0.111061   \n",
      "PRIMER_RIGHT_4_PENALTY                                                0.0335041   \n",
      "PRIMER_LEFT_4_SEQUENCE                                     AACTGGAGTTCATGCTGGCA   \n",
      "PRIMER_RIGHT_4_SEQUENCE                                    AGTTGTGTCCGTACCAGCTG   \n",
      "PRIMER_LEFT_4                                                       (10557, 20)   \n",
      "PRIMER_RIGHT_4                                                      (10650, 20)   \n",
      "PRIMER_LEFT_4_TM                                                        59.8889   \n",
      "PRIMER_RIGHT_4_TM                                                       59.9665   \n",
      "PRIMER_LEFT_4_GC_PERCENT                                                     50   \n",
      "PRIMER_RIGHT_4_GC_PERCENT                                                    55   \n",
      "PRIMER_LEFT_4_SELF_ANY_TH                                                     0   \n",
      "PRIMER_RIGHT_4_SELF_ANY_TH                                              6.77688   \n",
      "PRIMER_LEFT_4_SELF_END_TH                                                     0   \n",
      "PRIMER_RIGHT_4_SELF_END_TH                                              6.77688   \n",
      "PRIMER_LEFT_4_HAIRPIN_TH                                                31.6374   \n",
      "PRIMER_RIGHT_4_HAIRPIN_TH                                                     0   \n",
      "PRIMER_LEFT_4_END_STABILITY                                                4.92   \n",
      "PRIMER_RIGHT_4_END_STABILITY                                               4.24   \n",
      "PRIMER_PAIR_4_COMPL_ANY_TH                                               9.7239   \n",
      "PRIMER_PAIR_4_COMPL_END_TH                                              4.59461   \n",
      "PRIMER_PAIR_4_PRODUCT_SIZE                                                   94   \n",
      "\n",
      "                                                                              2  \n",
      "PRIMER_LEFT_EXPLAIN           considered 87408, GC content failed 51909, low...  \n",
      "PRIMER_RIGHT_EXPLAIN          considered 87408, GC content failed 52088, low...  \n",
      "PRIMER_PAIR_EXPLAIN           considered 7912, unacceptable product size 790...  \n",
      "PRIMER_LEFT_NUM_RETURNED                                                      5  \n",
      "PRIMER_RIGHT_NUM_RETURNED                                                     5  \n",
      "PRIMER_INTERNAL_NUM_RETURNED                                                  0  \n",
      "PRIMER_PAIR_NUM_RETURNED                                                      5  \n",
      "PRIMER_PAIR_0_PENALTY                                                  0.144565  \n",
      "PRIMER_LEFT_0_PENALTY                                                  0.111061  \n",
      "PRIMER_RIGHT_0_PENALTY                                                0.0335041  \n",
      "PRIMER_LEFT_0_SEQUENCE                                     AACTGGAGTTCATGCTGGCA  \n",
      "PRIMER_RIGHT_0_SEQUENCE                                    AGTTGTGTCCGTACCAGCTG  \n",
      "PRIMER_LEFT_0                                                       (10557, 20)  \n",
      "PRIMER_RIGHT_0                                                      (10650, 20)  \n",
      "PRIMER_LEFT_0_TM                                                        59.8889  \n",
      "PRIMER_RIGHT_0_TM                                                       59.9665  \n",
      "PRIMER_LEFT_0_GC_PERCENT                                                     50  \n",
      "PRIMER_RIGHT_0_GC_PERCENT                                                    55  \n",
      "PRIMER_LEFT_0_SELF_ANY_TH                                                     0  \n",
      "PRIMER_RIGHT_0_SELF_ANY_TH                                              6.77688  \n",
      "PRIMER_LEFT_0_SELF_END_TH                                                     0  \n",
      "PRIMER_RIGHT_0_SELF_END_TH                                              6.77688  \n",
      "PRIMER_LEFT_0_HAIRPIN_TH                                                31.6374  \n",
      "PRIMER_RIGHT_0_HAIRPIN_TH                                                     0  \n",
      "PRIMER_LEFT_0_END_STABILITY                                                4.92  \n",
      "PRIMER_RIGHT_0_END_STABILITY                                               4.24  \n",
      "PRIMER_PAIR_0_COMPL_ANY_TH                                               9.7239  \n",
      "PRIMER_PAIR_0_COMPL_END_TH                                              4.59461  \n",
      "PRIMER_PAIR_0_PRODUCT_SIZE                                                   94  \n",
      "PRIMER_PAIR_1_PENALTY                                                  0.150692  \n",
      "PRIMER_LEFT_1_PENALTY                                                  0.112995  \n",
      "PRIMER_RIGHT_1_PENALTY                                                0.0376972  \n",
      "PRIMER_LEFT_1_SEQUENCE                                     AGGGCCAATTCTGCTGTCAA  \n",
      "PRIMER_RIGHT_1_SEQUENCE                                    TGTAGTACCGGCAGCACAAG  \n",
      "PRIMER_LEFT_1                                                       (12658, 20)  \n",
      "PRIMER_RIGHT_1                                                      (12741, 20)  \n",
      "PRIMER_LEFT_1_TM                                                         59.887  \n",
      "PRIMER_RIGHT_1_TM                                                       60.0377  \n",
      "PRIMER_LEFT_1_GC_PERCENT                                                     50  \n",
      "PRIMER_RIGHT_1_GC_PERCENT                                                    55  \n",
      "PRIMER_LEFT_1_SELF_ANY_TH                                               6.18107  \n",
      "PRIMER_RIGHT_1_SELF_ANY_TH                                                    0  \n",
      "PRIMER_LEFT_1_SELF_END_TH                                                     0  \n",
      "PRIMER_RIGHT_1_SELF_END_TH                                                    0  \n",
      "PRIMER_LEFT_1_HAIRPIN_TH                                                      0  \n",
      "PRIMER_RIGHT_1_HAIRPIN_TH                                                     0  \n",
      "PRIMER_LEFT_1_END_STABILITY                                                3.18  \n",
      "PRIMER_RIGHT_1_END_STABILITY                                               3.16  \n",
      "PRIMER_PAIR_1_COMPL_ANY_TH                                                    0  \n",
      "PRIMER_PAIR_1_COMPL_END_TH                                                    0  \n",
      "PRIMER_PAIR_1_PRODUCT_SIZE                                                   84  \n",
      "PRIMER_PAIR_2_PENALTY                                                  0.150692  \n",
      "PRIMER_LEFT_2_PENALTY                                                  0.112995  \n",
      "PRIMER_RIGHT_2_PENALTY                                                0.0376972  \n",
      "PRIMER_LEFT_2_SEQUENCE                                     AAGGGCCAATTCTGCTGTCA  \n",
      "PRIMER_RIGHT_2_SEQUENCE                                    TGTAGTACCGGCAGCACAAG  \n",
      "PRIMER_LEFT_2                                                       (12657, 20)  \n",
      "PRIMER_RIGHT_2                                                      (12741, 20)  \n",
      "PRIMER_LEFT_2_TM                                                         59.887  \n",
      "PRIMER_RIGHT_2_TM                                                       60.0377  \n",
      "PRIMER_LEFT_2_GC_PERCENT                                                     50  \n",
      "PRIMER_RIGHT_2_GC_PERCENT                                                    55  \n",
      "PRIMER_LEFT_2_SELF_ANY_TH                                               6.18107  \n",
      "PRIMER_RIGHT_2_SELF_ANY_TH                                                    0  \n",
      "PRIMER_LEFT_2_SELF_END_TH                                                     0  \n",
      "PRIMER_RIGHT_2_SELF_END_TH                                                    0  \n",
      "PRIMER_LEFT_2_HAIRPIN_TH                                                      0  \n",
      "PRIMER_RIGHT_2_HAIRPIN_TH                                                     0  \n",
      "PRIMER_LEFT_2_END_STABILITY                                                3.58  \n",
      "PRIMER_RIGHT_2_END_STABILITY                                               3.16  \n",
      "PRIMER_PAIR_2_COMPL_ANY_TH                                                    0  \n",
      "PRIMER_PAIR_2_COMPL_END_TH                                                    0  \n",
      "PRIMER_PAIR_2_PRODUCT_SIZE                                                   85  \n",
      "PRIMER_PAIR_3_PENALTY                                                  0.206987  \n",
      "PRIMER_LEFT_3_PENALTY                                                  0.105408  \n",
      "PRIMER_RIGHT_3_PENALTY                                                 0.101579  \n",
      "PRIMER_LEFT_3_SEQUENCE                                     ACGCCAACTTAGGTGAACGT  \n",
      "PRIMER_RIGHT_3_SEQUENCE                                    CAGCATTTCGCATGGCATCA  \n",
      "PRIMER_LEFT_3                                                       (13963, 20)  \n",
      "PRIMER_RIGHT_3                                                      (14037, 20)  \n",
      "PRIMER_LEFT_3_TM                                                        59.8946  \n",
      "PRIMER_RIGHT_3_TM                                                       59.8984  \n",
      "PRIMER_LEFT_3_GC_PERCENT                                                     50  \n",
      "PRIMER_RIGHT_3_GC_PERCENT                                                    50  \n",
      "PRIMER_LEFT_3_SELF_ANY_TH                                               11.4068  \n",
      "PRIMER_RIGHT_3_SELF_ANY_TH                                                    0  \n",
      "PRIMER_LEFT_3_SELF_END_TH                                               11.4068  \n",
      "PRIMER_RIGHT_3_SELF_END_TH                                                    0  \n",
      "PRIMER_LEFT_3_HAIRPIN_TH                                                41.7508  \n",
      "PRIMER_RIGHT_3_HAIRPIN_TH                                               46.1271  \n",
      "PRIMER_LEFT_3_END_STABILITY                                                3.99  \n",
      "PRIMER_RIGHT_3_END_STABILITY                                               3.07  \n",
      "PRIMER_PAIR_3_COMPL_ANY_TH                                                    0  \n",
      "PRIMER_PAIR_3_COMPL_END_TH                                                    0  \n",
      "PRIMER_PAIR_3_PRODUCT_SIZE                                                   75  \n",
      "PRIMER_PAIR_4_PENALTY                                                  0.222405  \n",
      "PRIMER_LEFT_4_PENALTY                                                  0.114364  \n",
      "PRIMER_RIGHT_4_PENALTY                                                 0.108041  \n",
      "PRIMER_LEFT_4_SEQUENCE                                     TGGTGCTAGGAGAGTGTGGA  \n",
      "PRIMER_RIGHT_4_SEQUENCE                                    GCCCACATGGAAATGGCTTG  \n",
      "PRIMER_LEFT_4                                                       (11373, 20)  \n",
      "PRIMER_RIGHT_4                                                      (11468, 20)  \n",
      "PRIMER_LEFT_4_TM                                                        59.8856  \n",
      "PRIMER_RIGHT_4_TM                                                        60.108  \n",
      "PRIMER_LEFT_4_GC_PERCENT                                                     55  \n",
      "PRIMER_RIGHT_4_GC_PERCENT                                                    55  \n",
      "PRIMER_LEFT_4_SELF_ANY_TH                                                     0  \n",
      "PRIMER_RIGHT_4_SELF_ANY_TH                                                    0  \n",
      "PRIMER_LEFT_4_SELF_END_TH                                                     0  \n",
      "PRIMER_RIGHT_4_SELF_END_TH                                                    0  \n",
      "PRIMER_LEFT_4_HAIRPIN_TH                                                      0  \n",
      "PRIMER_RIGHT_4_HAIRPIN_TH                                               39.0472  \n",
      "PRIMER_LEFT_4_END_STABILITY                                                4.02  \n",
      "PRIMER_RIGHT_4_END_STABILITY                                               4.01  \n",
      "PRIMER_PAIR_4_COMPL_ANY_TH                                                    0  \n",
      "PRIMER_PAIR_4_COMPL_END_TH                                                    0  \n",
      "PRIMER_PAIR_4_PRODUCT_SIZE                                                   96  \n"
     ]
    }
   ],
   "source": [
    "Primer = pd.DataFrame(primers_list)\n",
    "Primer_final= Primer.transpose()\n",
    "print_full(Primer_final)"
   ]
  },
  {
   "cell_type": "code",
   "execution_count": 51,
   "metadata": {},
   "outputs": [],
   "source": [
    "Primer_final.to_excel(\"Primers.xlsx\")"
   ]
  },
  {
   "cell_type": "markdown",
   "metadata": {},
   "source": [
    "<i> The dataframe Primer_final can be exported into an 'xlsx' excel file for future use. <i>"
   ]
  },
  {
   "cell_type": "markdown",
   "metadata": {},
   "source": [
    "#### <u> Comparison of SARS-CoV-2 (COVID-19)"
   ]
  },
  {
   "cell_type": "markdown",
   "metadata": {},
   "source": [
    "<i> At the beginning of this world pandemic scientists aimed to understand and predict the impact that SARS-CoV-2 (COVID-19) may have on our health and how the virus may respond to possible treatments. To do this, we can compare SARS-CoV-2 (COVID-19) to other known respiratory viruses, this Jupyter Notebook looks at both \n",
    "Severe Acute Respiratory Syndrome (SARS-CoV-1 ) and \n",
    "Middle East Respiratory Syndrome (MERS-CoV) in comparison to SARS-CoV-2 (COVID-19). <i>"
   ]
  },
  {
   "cell_type": "markdown",
   "metadata": {},
   "source": [
    "<i> The SARS and MERS are read in as a SeqRecord object so that they can be used and recognised by Biopython. A summary of the sequence length for SARS, MERS and COVID-19 is calculated and printed to be compared. <i>"
   ]
  },
  {
   "cell_type": "code",
   "execution_count": 68,
   "metadata": {},
   "outputs": [],
   "source": [
    "SARS= SeqIO.read(\"SARS.fasta.txt\", \"fasta\")"
   ]
  },
  {
   "cell_type": "code",
   "execution_count": 69,
   "metadata": {},
   "outputs": [],
   "source": [
    "MERS= SeqIO.read(\"MERS.fasta.txt\", \"fasta\")"
   ]
  },
  {
   "cell_type": "code",
   "execution_count": 70,
   "metadata": {},
   "outputs": [
    {
     "name": "stdout",
     "output_type": "stream",
     "text": [
      "Sequence Lengths:\n",
      "SARS: 29751\n",
      "COVID19: 29903\n",
      "MERS: 30119\n"
     ]
    }
   ],
   "source": [
    "print('Sequence Lengths:')\n",
    "print('SARS:', len(SARS.seq))\n",
    "print('COVID19:', len(Covid19.seq))\n",
    "print('MERS:', len(MERS.seq))"
   ]
  },
  {
   "cell_type": "markdown",
   "metadata": {},
   "source": [
    "<i> From this we can see that all the sequences are of a similar length, with ~200bp difference between both SARS/MERS and COVID-19 sequence. <i>"
   ]
  },
  {
   "cell_type": "markdown",
   "metadata": {},
   "source": [
    "<i> Next, alignments can be generated to produce a similarity percentage between the different sequences. This is undertaken using the code below with the similarity percentage being printed. <i>"
   ]
  },
  {
   "cell_type": "code",
   "execution_count": 71,
   "metadata": {},
   "outputs": [
    {
     "name": "stdout",
     "output_type": "stream",
     "text": [
      "SARS/COVID19 Similarity (%):  83.33837518066619\n",
      "MERS/COVID19 Similarity (%):  69.39141405757164\n",
      "MERS/COV Similarity (%):  69.93714496991697\n"
     ]
    }
   ],
   "source": [
    "\n",
    "SARS_COV = pairwise2.align.globalxx(SARS.seq, Covid19.seq, one_alignment_only = True, score_only = True)\n",
    "print('SARS/COVID19 Similarity (%): ', SARS_COV / len(SARS.seq) * 100)\n",
    "\n",
    "MERS_COV = pairwise2.align.globalxx(MERS.seq, Covid19.seq, one_alignment_only = True, score_only = True)\n",
    "print('MERS/COVID19 Similarity (%): ', MERS_COV / len(MERS.seq) * 100)\n",
    "\n",
    "MERS_SARS = pairwise2.align.globalxx(MERS.seq, SARS.seq, one_alignment_only = True, score_only = True)\n",
    "print('MERS/COV Similarity (%): ', MERS_SARS / len(SARS.seq) * 100)"
   ]
  },
  {
   "cell_type": "code",
   "execution_count": 75,
   "metadata": {},
   "outputs": [
    {
     "data": {
      "text/plain": [
       "<BarContainer object of 3 artists>"
      ]
     },
     "execution_count": 75,
     "metadata": {},
     "output_type": "execute_result"
    },
    {
     "data": {
      "image/png": "[encoded data removed]",
      "text/plain": [
       "<Figure size 432x288 with 1 Axes>"
      ]
     },
     "metadata": {
      "needs_background": "light"
     },
     "output_type": "display_data"
    }
   ],
   "source": [
    "X = ['SARS/COVID19', 'MERS/COVID19', 'MERS/SARS']\n",
    "Y = [SARS_COV/ len(SARS.seq) * 100, MERS_COV/ len(MERS.seq)*100, MERS_SARS/len(SARS.seq)*100]\n",
    "plt.title('Sequence Identity (%)', weight=\"bold\")\n",
    "plt.bar(X,Y, color= ['red', 'green', 'blue'])"
   ]
  },
  {
   "cell_type": "markdown",
   "metadata": {},
   "source": [
    "<i> This information can then be plotted into a barchart to interpret. From this data, it is possible to draw the conclusion that COVID-19 is most similar to SARS comapred to MERS. <i>"
   ]
  }
 ],
 "metadata": {
  "kernelspec": {
   "display_name": "Python 3",
   "language": "python",
   "name": "python3"
  },
  "language_info": {
   "codemirror_mode": {
    "name": "ipython",
    "version": 3
   },
   "file_extension": ".py",
   "mimetype": "text/x-python",
   "name": "python",
   "nbconvert_exporter": "python",
   "pygments_lexer": "ipython3",
   "version": "3.8.5"
  }
 },
 "nbformat": 4,
 "nbformat_minor": 4
}
