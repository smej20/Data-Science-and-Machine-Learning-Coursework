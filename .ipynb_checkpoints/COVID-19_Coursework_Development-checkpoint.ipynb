{
 "cells": [
  {
   "cell_type": "markdown",
   "metadata": {},
   "source": [
    "# <u> Utilising Python for Analysis of the SARS-CoV-2 (COVID-19) Sequence. <u>"
   ]
  },
  {
   "cell_type": "markdown",
   "metadata": {},
   "source": [
    "### SARS-CoV-2 (COVID-19) is a single standed RNA virus responsible for the world pandemic currently faced by mankind. Here, Python is used to demonstrate the utility of such coding langauges to further explore DNA sequences with real world applications."
   ]
  },
  {
   "cell_type": "markdown",
   "metadata": {},
   "source": [
    "<i>Firstly, it is important to ensure that the required packages and functions are installed and imported. This is done with the following lines of code: <i>"
   ]
  },
  {
   "cell_type": "code",
   "execution_count": 1,
   "metadata": {},
   "outputs": [
    {
     "name": "stdout",
     "output_type": "stream",
     "text": [
      "Requirement already satisfied: Biopython in c:\\users\\smej20\\anaconda3\\lib\\site-packages (1.78)\n",
      "Requirement already satisfied: numpy in c:\\users\\smej20\\anaconda3\\lib\\site-packages (from Biopython) (1.19.2)\n",
      "Note: you may need to restart the kernel to use updated packages.\n"
     ]
    }
   ],
   "source": [
    "pip install Biopython"
   ]
  },
  {
   "cell_type": "code",
   "execution_count": 2,
   "metadata": {},
   "outputs": [
    {
     "name": "stdout",
     "output_type": "stream",
     "text": [
      "Requirement already satisfied: pandas in c:\\users\\smej20\\anaconda3\\lib\\site-packages (1.1.3)\n",
      "Requirement already satisfied: python-dateutil>=2.7.3 in c:\\users\\smej20\\anaconda3\\lib\\site-packages (from pandas) (2.8.1)\n",
      "Requirement already satisfied: pytz>=2017.2 in c:\\users\\smej20\\anaconda3\\lib\\site-packages (from pandas) (2020.1)\n",
      "Requirement already satisfied: numpy>=1.15.4 in c:\\users\\smej20\\anaconda3\\lib\\site-packages (from pandas) (1.19.2)\n",
      "Requirement already satisfied: six>=1.5 in c:\\users\\smej20\\anaconda3\\lib\\site-packages (from python-dateutil>=2.7.3->pandas) (1.15.0)\n",
      "Note: you may need to restart the kernel to use updated packages.\n"
     ]
    }
   ],
   "source": [
    "pip install pandas"
   ]
  },
  {
   "cell_type": "code",
   "execution_count": 3,
   "metadata": {},
   "outputs": [
    {
     "name": "stdout",
     "output_type": "stream",
     "text": [
      "Requirement already satisfied: primer3-py in c:\\users\\smej20\\anaconda3\\lib\\site-packages (0.6.1)\n",
      "Note: you may need to restart the kernel to use updated packages.\n"
     ]
    }
   ],
   "source": [
    " pip install primer3-py"
   ]
  },
  {
   "cell_type": "code",
   "execution_count": 4,
   "metadata": {},
   "outputs": [],
   "source": [
    "from Bio import SeqIO"
   ]
  },
  {
   "cell_type": "code",
   "execution_count": 5,
   "metadata": {},
   "outputs": [],
   "source": [
    "from Bio.SeqUtils import GC"
   ]
  },
  {
   "cell_type": "code",
   "execution_count": 6,
   "metadata": {},
   "outputs": [],
   "source": [
    "from Bio.SeqRecord import SeqRecord"
   ]
  },
  {
   "cell_type": "code",
   "execution_count": 7,
   "metadata": {},
   "outputs": [],
   "source": [
    "import pandas as pd"
   ]
  },
  {
   "cell_type": "code",
   "execution_count": 8,
   "metadata": {},
   "outputs": [],
   "source": [
    "import primer3"
   ]
  },
  {
   "cell_type": "markdown",
   "metadata": {},
   "source": [
    " <i> The complete genome assembly was obtained from https://www.nature.com/articles/s41586-020-2008-3 and is freely accessible from NCBI Sequence Read Archive database under the BioProject accession number PRJNA603194. The complete genome sequence of COVID19 in GenBank can be found under the accession number MN908947. <i>"
   ]
  },
  {
   "cell_type": "code",
   "execution_count": 9,
   "metadata": {},
   "outputs": [
    {
     "name": "stdout",
     "output_type": "stream",
     "text": [
      "GenBankId: MN908947.3\n",
      "Size: 29903 nucleotides\n"
     ]
    }
   ],
   "source": [
    "for sequence in SeqIO.parse(\"MN908947.fna\", \"fasta\"):\n",
    "    print('GenBankId: '  + sequence.id + '\\nSize: ' + str(len(sequence))+' nucleotides')"
   ]
  },
  {
   "cell_type": "markdown",
   "metadata": {},
   "source": [
    "<i> This line of code takes a file type, in this case a fasta sequence, and reports the sequence back as a SeqRecord object which can be read by Biopython for further use. For example, the str(len(sequence)) function can be used to take a string as an argument, e.g. the COVID-19 sequence, and return its length. The output states that the sequence length for the genome assembly of COVID-19 is 29,903 nucleotide bases long. <i>"
   ]
  },
  {
   "cell_type": "code",
   "execution_count": 10,
   "metadata": {},
   "outputs": [],
   "source": [
    "DNAseq = SeqIO.read(\"MN908947.fna\", \"fasta\")"
   ]
  },
  {
   "cell_type": "code",
   "execution_count": 11,
   "metadata": {},
   "outputs": [
    {
     "name": "stdout",
     "output_type": "stream",
     "text": [
      "ATTAAAGGTTTATACCTTCCCAGGTAACAAACCAACCAACTTTCGATCTCTTGTAGATCTGTTCTCTAAACGAACTTTAAAATCTGTGTGGCTGTCACTCGGCTGCATGCTTAGTGCACTCACGCAGTATAATTAATAACTAATTACTGTCGTTGACAGGACACGAGTAACTCGTCTATCTTCTGCAGGCTGCTTACGGTTTCGTCCGTGTTGCAGCCGATCATCAGCACATCTAGGTTTCGTCCGGGTGTGACCGAAAGGTAAGATGGAGAGCCTTGTCCCTGGTTTCAACGAGAAAACACACGTCCAACTCAGTTTGCCTGTTTTACAGGTTCGCGACGTGCTCGTACGTGGCTTTGGAGACTCCGTGGAGGAGGTCTTATCAGAGGCACGTCAACATCTTAAAGATGGCACTTGTGGCTTAGTAGAAGTTGAAAAAGGCGTTTTGCCTCAACTTGAACAGCCCTATGTGTTCATCAAACGTTCGGATGCTCGAACTG\n"
     ]
    }
   ],
   "source": [
    "DNA = DNAseq.seq\n",
    "print(DNA[:500])"
   ]
  },
  {
   "cell_type": "markdown",
   "metadata": {},
   "source": [
    "<i> This takes the COVID-19 sequence and creates an object called DNAseq which is read in as a SeqRecord object that can be recognised by Biopython. An object called DNA is then created from just the sequence of DNAseq. The first 500 nucleotides are then printed to view the sequence and ensure it has been read by the software correctly (29,903 nucleotides can be quite lengthy to read!). <i>"
   ]
  },
  {
   "cell_type": "code",
   "execution_count": 12,
   "metadata": {},
   "outputs": [],
   "source": [
    "dna_list = list(DNA)"
   ]
  },
  {
   "cell_type": "markdown",
   "metadata": {},
   "source": [
    "<i> The sequence loaded is initially read a string by Biopython, so in order to count the contents of the sequence assembly, the string must be converted into a list. This is done using the above function. <i>"
   ]
  },
  {
   "cell_type": "markdown",
   "metadata": {},
   "source": [
    "<i> Counting of each respective nucleotide is undertaken using the following code: <i>"
   ]
  },
  {
   "cell_type": "code",
   "execution_count": 13,
   "metadata": {},
   "outputs": [
    {
     "name": "stdout",
     "output_type": "stream",
     "text": [
      "{'A': 8954, 'T': 9594, 'G': 5863, 'C': 5492}\n"
     ]
    }
   ],
   "source": [
    "count_DNA = DNA\n",
    "nucleotides={}\n",
    "for n in count_DNA:\n",
    "    if n in nucleotides:\n",
    "        nucleotides[n] += 1\n",
    "    else:\n",
    "        nucleotides[n] =  1\n",
    "print(nucleotides)\n",
    "\n",
    "\n",
    "n_count = pd.DataFrame(data=nucleotides, index=[0]).T.reset_index()\n",
    "n_count = n_count.rename(columns={0: 'frequency', 'index': 'nucleotides'})\n",
    "n_count = n_count.sort_values(by=['frequency'], ascending=True)"
   ]
  },
  {
   "cell_type": "markdown",
   "metadata": {},
   "source": [
    "<i> A loop is set up to count each nucleotide base (A, T, G and C). When the computer reads either an A, T , G or C from the DNA list, a 1 is added to that specific nucleotide which has been created into a dictonary called nucleotides through the use of '{}'. This allows for a value to be mapped onto each nucleotide base. If the computer does not read that specific nuceleotide then a one is not added and the value remains unchanged. This is done seperately for each nucleotide base until all four have been counted and this is then printed onto the screen to be evaluated. The dictionary nucleotides is then placed into a dataframe to create the graph below. <i>"
   ]
  },
  {
   "cell_type": "code",
   "execution_count": 14,
   "metadata": {},
   "outputs": [
    {
     "data": {
      "image/png": "[encoded data removed]",
      "text/plain": [
       "<Figure size 576x288 with 1 Axes>"
      ]
     },
     "metadata": {
      "needs_background": "light"
     },
     "output_type": "display_data"
    }
   ],
   "source": [
    "import matplotlib.pyplot as plt\n",
    "plt.figure(figsize=(8,4))\n",
    "a= n_count['frequency'].plot.bar(color= ['blue', 'yellow', 'green', 'red'])\n",
    "plt.xticks(rotation=5)\n",
    "plt.ylabel(\"Nucleotide Base Frequency\")\n",
    "r=list(range(len(n_count)))\n",
    "plt.xticks(r, n_count.nucleotides)\n",
    "plt.xlabel(\"Nucleotide Bases\")\n",
    "plt.title(\"Nucleotide Base Content of the SARS-CoV-2 (COVID-19) Sequence\", weight='bold', size=15)\n",
    "plt.show()"
   ]
  },
  {
   "cell_type": "markdown",
   "metadata": {},
   "source": [
    "<i> From the bar chart above, we can say that the %GC content of the SARS-CoV-2 (COVID-19) sequence is less than 50%. To get the percentage of the GC content, the below code can be used. The round function is used to round ther percentage to the nearest whole number. It is important to know the %GC content of a sequence as this is an important consideration for primer design in PCR experiments.  <i>"
   ]
  },
  {
   "cell_type": "code",
   "execution_count": 65,
   "metadata": {},
   "outputs": [
    {
     "name": "stdout",
     "output_type": "stream",
     "text": [
      "The GC content of SARS-CoV-2 (COVID-19) is 38 %\n"
     ]
    }
   ],
   "source": [
    "GC_COVID19=GC(DNA)\n",
    "print (\"The GC content of SARS-CoV-2 (COVID-19) is\", round(GC_COVID19), \"%\") "
   ]
  },
  {
   "cell_type": "markdown",
   "metadata": {},
   "source": [
    "<i> In order to fully explore the SARS-CoV-2 (COVID-19) sequence, the cDNA sequence is converted into mRNA using the .transcribe() function. This will then allow for the mRNA to be translated into its respective amino acids and its protein sequence can be analysed. The first 200 nucleotide bases can then be printed to ensure this has been done correctly. <i>"
   ]
  },
  {
   "cell_type": "code",
   "execution_count": 16,
   "metadata": {},
   "outputs": [],
   "source": [
    "mRNA = DNA.transcribe()"
   ]
  },
  {
   "cell_type": "code",
   "execution_count": 17,
   "metadata": {},
   "outputs": [
    {
     "name": "stdout",
     "output_type": "stream",
     "text": [
      "AUUAAAGGUUUAUACCUUCCCAGGUAACAAACCAACCAACUUUCGAUCUCUUGUAGAUCUGUUCUCUAAACGAACUUUAAAAUCUGUGUGGCUGUCACUCGGCUGCAUGCUUAGUGCACUCACGCAGUAUAAUUAAUAACUAAUUACUGUCGUUGACAGGACACGAGUAACUCGUCUAUCUUCUGCAGGCUGCUUACGGU\n"
     ]
    }
   ],
   "source": [
    "print(mRNA[:200])"
   ]
  },
  {
   "cell_type": "markdown",
   "metadata": {},
   "source": [
    "<i> The cDNA sequence for SARS-CoV-2 (COVID-19) has been correctly converted into mRNA as the thymine (T) base has been swapped for uracil (U) base. The first 200 bases have been printed. <i>"
   ]
  },
  {
   "cell_type": "markdown",
   "metadata": {},
   "source": [
    "<i> One key disadvanatge of this code is that it does not know what kind of modifications are made either to generate mature mRNA or post-translational modifications made to the proteins. This is why when trying to translate the mRNA into its respctive amino acids, an error message occurs, as 29,903 is not a multiple of 3 which is required when translating mRNA into amino acids. <i>"
   ]
  },
  {
   "cell_type": "markdown",
   "metadata": {},
   "source": [
    "<i> However we do know that the Poly(A) tail, which is located at that end of the mRNA sequence and is required for stability of the mRNA, is not translated into proteins, therefore we can remove this using the following line of code: <i>"
   ]
  },
  {
   "cell_type": "code",
   "execution_count": 18,
   "metadata": {},
   "outputs": [],
   "source": [
    "Less_polyA = mRNA.rstrip(\"A\")"
   ]
  },
  {
   "cell_type": "code",
   "execution_count": 19,
   "metadata": {},
   "outputs": [
    {
     "name": "stdout",
     "output_type": "stream",
     "text": [
      "Length of mRNA minus Poly A tail: 29870\n"
     ]
    }
   ],
   "source": [
    "print(\"Length of mRNA minus Poly A tail:\",len(Less_polyA))"
   ]
  },
  {
   "cell_type": "markdown",
   "metadata": {},
   "source": [
    "<i> This removes the poly(A) tails and then prints the number of nucleotide bases once the poly(A) tail has been removed. This results in 29,870 nucleotide bases remaining which is divisble by 3, and therefore no error messages occur when the mRNA sequence minus the poly(A) tail was translated into amino acids. <i>"
   ]
  },
  {
   "cell_type": "code",
   "execution_count": 63,
   "metadata": {},
   "outputs": [],
   "source": [
    "Amino_Acid = Less_polyA.translate()"
   ]
  },
  {
   "cell_type": "code",
   "execution_count": 66,
   "metadata": {},
   "outputs": [
    {
     "name": "stdout",
     "output_type": "stream",
     "text": [
      "Length of Protein: 9956\n",
      "IKGLYLPR*QTNQLSISCRSVL*TNFKICVAVTRLHA*CTHAV*LITNYCR*QDTSNSSIFCRLLTVSSVLQPIISTSRFRPGVTER*DGEPCPWFQRENTRPTQFACFTGSRRARTWLWRLRGGGLIRGTSTS*RWHLWLSRS*KRRFAST*TALCVHQTFGCSNCTSWSCYG*AGSRTRRHSVRS*W*DTWCPCPSCG\n"
     ]
    }
   ],
   "source": [
    "print(\"Length of Protein:\",len(Amino_Acid))\n",
    "print(Amino_Acid[:200])"
   ]
  },
  {
   "cell_type": "markdown",
   "metadata": {},
   "source": [
    "<i> The length of the translated mRNA into amino acids is printed along with the first 200 amino acids in the sequence to ensure that the translation has been done correctly. In order to identify the amino acid sequences for indivdual proteins, the amino acid sequence was split by the '*' which represents a stop codon for that specific protein sequence. This is shown in the line of code bewlow, the first 10 sequences are then printed. <i>"
   ]
  },
  {
   "cell_type": "code",
   "execution_count": 68,
   "metadata": {},
   "outputs": [
    {
     "name": "stdout",
     "output_type": "stream",
     "text": [
      "[Seq('IKGLYLPR'), Seq('QTNQLSISCRSVL'), Seq('TNFKICVAVTRLHA'), Seq('CTHAV'), Seq('LITNYCR'), Seq('QDTSNSSIFCRLLTVSSVLQPIISTSRFRPGVTER'), Seq('DGEPCPWFQRENTRPTQFACFTGSRRARTWLWRLRGGGLIRGTSTS'), Seq('RWHLWLSRS'), Seq('KRRFAST'), Seq('TALCVHQTFGCSNCTSWSCYG')]\n"
     ]
    }
   ],
   "source": [
    "Proteins = Amino_Acid.split('*')\n",
    "print(Proteins[:10])"
   ]
  },
  {
   "cell_type": "markdown",
   "metadata": {},
   "source": [
    "<i> It is well known that the smallest functional proteins are no shorter than 20 amino acids in length, so all amino acid sequences shorter than this are removed. <i>"
   ]
  },
  {
   "cell_type": "code",
   "execution_count": 72,
   "metadata": {},
   "outputs": [],
   "source": [
    "for i in Proteins[:]:\n",
    "    if len(i) < 20:\n",
    "        Proteins.remove(i)"
   ]
  },
  {
   "cell_type": "markdown",
   "metadata": {},
   "source": [
    "<i> The resulting data can then be placed in a dataframe to be utilised for further investigation. <i>"
   ]
  },
  {
   "cell_type": "code",
   "execution_count": 73,
   "metadata": {},
   "outputs": [],
   "source": [
    "proteinas=pd.DataFrame(Proteins)\n",
    "proteinas['Amino Acid Sequence'] = proteinas[0].apply(str)\n",
    "proteinas['Protein Length'] = proteinas[0].apply(len)\n",
    "proteinas.rename(columns={0: \"sequence\"}, inplace=True)\n",
    "pro=proteinas.drop('sequence', axis=1)\n",
    "pro= pro.sort_values(by=['Protein Length'], ascending=False)"
   ]
  },
  {
   "cell_type": "code",
   "execution_count": 74,
   "metadata": {},
   "outputs": [
    {
     "name": "stdout",
     "output_type": "stream",
     "text": [
      "                                  Amino Acid Sequence  Protein Length\n",
      "48  CTIVFKRVCGVSAARLTPCGTGTSTDVVYRAFDIYNDKVAGFAKFL...            2701\n",
      "61  ASAQRSQITLHINELMDLFMRIFTIGTVTLKQGEIKDATPSDFVRA...             290\n",
      "68  TNMKIILFLALITLATCELYHYQECVRGTTVLLKEPCSSGTYEGNS...             123\n",
      "62  AQADEYELMYSFVSEETGTLIVNSVLLFLAFVVFLLVTLAILTALR...              83\n",
      "67  QQMFHLVDFQVTIAEILLIIMRTFKVSIWNLDYIINLIIKNLSKSL...              63\n",
      "36     TMLRCYFPKCSEKNNQGYTPLVVTHNFDFTFSFSPEYSMVFVLFFV              46\n",
      "1      DGEPCPWFQRENTRPTQFACFTGSRRARTWLWRLRGGGLIRGTSTS              46\n",
      "79        KSHHIFTEATRSTIECTVNNARESCLYGRALMCKINFSSAIPM              43\n",
      "76        LQTLAANCTICPQRFSVLRNVAHWHGSHTFGNVVDLHRCHQIG              43\n",
      "47        DVVYTHWYWSGNNSYTGSQYGSRILWWCIVLSVLPLPHRSSKS              43\n",
      "59         FLWKGLSSYVLPSVSTSWCSLLACDLCPCTRKELHNCSCHLS              42\n",
      "70          LNCAWMRLVLNHPFSTSISVIIQFPVYLLQLIARNLNWVVL              41\n",
      "18           RNFVLHRRCFTYKVLRIQRSYYGCFLQRKQLHNNHKTSYL              40\n",
      "9             IQRRNWPTHASKSPKRNYLLRGRNTSHRSVNRGSCLENW              39\n",
      "29             YVYTTNSTYWCFGHISIYSSWWYCSYRSNMPCLLFYEV              38\n",
      "65             CGSATSLLLSDCLRVRVPCGHSIQKLTFFSTCHSMALF              38\n",
      "31             CFFFSTYSVDGYVHTFSTFLDNNCLYHLYFHKAFLLVL              38\n",
      "14              NSCYNATWLCNTWLKFGRSCSVYEISQSASYSFCFFT              37\n",
      "57               NDCSIHFCTVSGYNHFWLDLWCRCCITNTICYANGL              36\n",
      "49               QSFQILSFTFNSGLVLTFLFQCYLVPCYTCLWDQWY              36\n",
      "74               QCCNRATTSSRNNIAKRLLRRREQRRQSSLFSFLIT              36\n",
      "30               YFTIPYVIHCTLFNTSLLILTWCLFCYLLVLDILSY              36\n",
      "35                HTRTSFCSNWNCRFRYVCFIKRITAKWYEWTYHIG              35\n",
      "0                 QDTSNSSIFCRLLTVSSVLQPIISTSRFRPGVTER              35\n",
      "12                NASESFEKSANRQLYNHLPGSGFKWLHCRGGKDSA              35\n",
      "60                 AVYKMAMVHLARFYSWLDCHSNGDNYALLYDQLL              34\n",
      "32                 VCSHSTRTDFFSVSLLQWFTIWCLPMCYEAQFHY              34\n",
      "58                 CYWQNSRLTFFHSKCTWKTSRCGQPKCTSFKHAC              34\n",
      "43                 CTQQHYQQCKRWLCSLEHNTSYNSSQTNGCHTRL              34\n",
      "13                   EARNSWNCFLEFARNACTCRRNTQINACLCGN              32\n",
      "66                     DAVTSRTCLKKSLLLHHERFLITNWELRSV              30\n",
      "20                     TDKYYNLVFTIKCLPRFFNLLNRCFRCFNV              30\n",
      "40                     YTSVYNASLLFLRLFLYLLLWPLLFTQPLL              30\n",
      "75                     SIQCNTSFRQTWSRTNPRKFWGPGTNQTRN              30\n",
      "28                      QSLPIDCCSHNKRSGFCRAWFAWHDITHN              29\n",
      "7                        NCSKFCACFTEGRYNNTRWNFTVFTETH              28\n",
      "25                       RIICKISVCLLQSAYVSTYTVTRSGISV              28\n",
      "6                         TEINTESSLCICIRGCSCCTINFLPHS              27\n",
      "78                        LNSGLNSCRPHKADGLYKRFRFSVYDI              27\n",
      "73                          NERSQSKMVFLLPRNWARSWTSLWC              25\n",
      "5                           RDRHYFGIFFCFHKCFCGNCERFGL              25\n",
      "69                           LCLLSFGSHLNCKIIMKLVTPKRT              24\n",
      "53                           LHRSPCCYSCRSTYSYLACLFYRF              24\n",
      "15                           PPHASCGHVNDIWTTVWSNLFGWS              24\n",
      "34                           CFSLVVRCCYKWRQVVSQSIYHNS              24\n",
      "33                           LCLFLLHAPYGITNWSSCWHRLRR              24\n",
      "4                            HLQWGMSKFCISLKFHNQDYSTKG              24\n",
      "41                           NVRCKVHISSLTLSFATTQSRIII              24\n",
      "55                           MQQSFVAIWQFLYTIKPCFNWNSC              24\n",
      "54                            CYHRNSTSVYDQDISRLYNVHLW              23\n",
      "26                            TCKECVLRQCLIYFYFSSSARVC              23\n",
      "64                            VSYSLHGFVFYNLPMPTGIGFCI              23\n",
      "16                            RNNELLVSTCQFRFLQKSLERGV              23\n",
      "23                            VFLCTWIGCNHAIVFQLFCSTFY              23\n",
      "77                            NSSLTAETEETANCDSSSCCRFG              23\n",
      "17                            TSYKISSTTGVTFCYDVSTTCSV              23\n",
      "38                            AKRLCYVCISCSVTNPYDSKNCV              23\n",
      "37                            KCLFTFCYGYYCYVCFCNDVCQT              23\n",
      "63                             PWQIPTVLLPLKSLKSSLNNGT              22\n",
      "3                              DTWCPCPSCGRNTSGLPQGSSS              22\n",
      "71                             WTPKSAKCTPHYVWWTLRFNWQ              22\n",
      "24                             NVHLLCIILLCMEKLCACCRRL              22\n",
      "42                             KNGFTTFCFAFHAGCCRHKQAL              22\n",
      "27                             SYTCVPFCCCYFLFNNTCSCHV              22\n",
      "51                             PSLRNKVYVEILHCRKRNLSNF              22\n",
      "10                              YDGNKQYLHTQRRCTNKGYFW              21\n",
      "2                               TALCVHQTFGCSNCTSWSCYG              21\n",
      "21                              WFRFFRHLSFFRNYTNYHFIF              21\n",
      "8                               QSSCNGLHYRWCCSVDFAVAN              21\n",
      "46                              CNRSACQFNCIIFLCFCCRCC              21\n",
      "50                              HNKRLDFWYYFRFEDPVPTYC              21\n",
      "56                              TRQKHPRSFCTSQTNLQNTTN              21\n",
      "11                              PYTFFKSLCRYCSHKCLLSCL              21\n",
      "45                               FSMASYCNSFKGQFCCQITE              20\n",
      "44                               WYNIYLCISIVGNPTGCRCR              20\n",
      "72                               PEWRTQWGAIKTTSAPRFTQ              20\n",
      "39                               LLRCSYNCHVFGQRYCFYVC              20\n",
      "19                               FKNYRRGWPHRSNGCLCRQF              20\n",
      "22                               MGFNCFWLSCRVVFGIYSFH              20\n",
      "52                               RHQICICLCLEQEENQQLCC              20\n"
     ]
    }
   ],
   "source": [
    "print_full(pro)"
   ]
  },
  {
   "cell_type": "markdown",
   "metadata": {},
   "source": [
    "<i> This collection of protein sequences can then be saved and placed in an excel sheet with the following code: <i>"
   ]
  },
  {
   "cell_type": "code",
   "execution_count": 76,
   "metadata": {},
   "outputs": [],
   "source": [
    "pro.to_excel(\"Covid19_Protein_Sequence.xlsx\")"
   ]
  },
  {
   "cell_type": "markdown",
   "metadata": {},
   "source": [
    "**These sequences can now be matched with online databases (BLAST) to identify the proteins.**"
   ]
  },
  {
   "cell_type": "code",
   "execution_count": 58,
   "metadata": {},
   "outputs": [],
   "source": [
    "Primers=primer3.designPrimers(\n",
    "    {\n",
    "        \"SEQUENCE_ID\": \"COVID-19\",\n",
    "        \"SEQUENCE_TEMPLATE\": str(DNA),\n",
    "        \"SEQUENCE_INCLUDED_REGION\": [36,342]\n",
    "    },\n",
    "    {\n",
    "        'PRIMER_OPT_SIZE': 20,\n",
    "        'PRIMER_INTERNAL_MAX_SELF_END': 8,\n",
    "        'PRIMER_MIN_SIZE': 18,\n",
    "        'PRIMER_MAX_SIZE': 25,\n",
    "        'PRIMER_OPT_TM': 60.0,\n",
    "        'PRIMER_MIN_TM': 57.0,\n",
    "        'PRIMER_MAX_TM': 63.0,\n",
    "        'PRIMER_MIN_GC': 20.0,\n",
    "        'PRIMER_MAX_GC': 80.0,\n",
    "        'PRIMER_MAX_POLY_X': 100,\n",
    "        'PRIMER_SALT_MONOVALENT': 50.0,\n",
    "        'PRIMER_DNA_CONC': 50.0,\n",
    "        'PRIMER_MAX_NS_ACCEPTED': 0,\n",
    "        'PRIMER_MAX_SELF_ANY': 12,\n",
    "        'PRIMER_MAX_SELF_END': 8,\n",
    "        'PRIMER_PAIR_MAX_COMPL_ANY': 12,\n",
    "        'PRIMER_PAIR_MAX_COMPL_END': 8,\n",
    "        'PRIMER_PRODUCT_SIZE_RANGE': [[75,100],[100,125],[125,150],\n",
    "                                      [150,175],[175,200],[200,225]],\n",
    "    })"
   ]
  },
  {
   "cell_type": "code",
   "execution_count": 59,
   "metadata": {},
   "outputs": [],
   "source": [
    "Primer = pd.DataFrame(Primers)\n",
    "Primer_Table=Primer[:1] #keep top 1\n",
    "Primer_final= Primer_Table.transpose()"
   ]
  },
  {
   "cell_type": "code",
   "execution_count": 60,
   "metadata": {},
   "outputs": [],
   "source": [
    "def print_full(x):\n",
    "    pd.set_option('display.max_rows', len(x))\n",
    "    print(x)\n",
    "    pd.reset_option('display.max_rows')"
   ]
  },
  {
   "cell_type": "code",
   "execution_count": 61,
   "metadata": {},
   "outputs": [
    {
     "name": "stdout",
     "output_type": "stream",
     "text": [
      "                                                                              0\n",
      "PRIMER_LEFT_EXPLAIN           considered 2144, GC content failed 50, low tm ...\n",
      "PRIMER_RIGHT_EXPLAIN          considered 2144, GC content failed 50, low tm ...\n",
      "PRIMER_PAIR_EXPLAIN           considered 216, unacceptable product size 207,...\n",
      "PRIMER_LEFT_NUM_RETURNED                                                      5\n",
      "PRIMER_RIGHT_NUM_RETURNED                                                     5\n",
      "PRIMER_INTERNAL_NUM_RETURNED                                                  0\n",
      "PRIMER_PAIR_NUM_RETURNED                                                      5\n",
      "PRIMER_PAIR_0_PENALTY                                                 0.0681176\n",
      "PRIMER_LEFT_0_PENALTY                                                 0.0378823\n",
      "PRIMER_RIGHT_0_PENALTY                                                0.0302352\n",
      "PRIMER_LEFT_0_SEQUENCE                                     ATCTGTGTGGCTGTCACTCG\n",
      "PRIMER_RIGHT_0_SEQUENCE                                    CTCGTGTCCTGTCAACGACA\n",
      "PRIMER_LEFT_0                                                                81\n",
      "PRIMER_RIGHT_0                                                              166\n",
      "PRIMER_LEFT_0_TM                                                        60.0379\n",
      "PRIMER_RIGHT_0_TM                                                       59.9698\n",
      "PRIMER_LEFT_0_GC_PERCENT                                                     55\n",
      "PRIMER_RIGHT_0_GC_PERCENT                                                    55\n",
      "PRIMER_LEFT_0_SELF_ANY_TH                                               14.1541\n",
      "PRIMER_RIGHT_0_SELF_ANY_TH                                                    0\n",
      "PRIMER_LEFT_0_SELF_END_TH                                               6.90746\n",
      "PRIMER_RIGHT_0_SELF_END_TH                                                    0\n",
      "PRIMER_LEFT_0_HAIRPIN_TH                                                46.1955\n",
      "PRIMER_RIGHT_0_HAIRPIN_TH                                                  40.5\n",
      "PRIMER_LEFT_0_END_STABILITY                                                4.18\n",
      "PRIMER_RIGHT_0_END_STABILITY                                               4.35\n",
      "PRIMER_PAIR_0_COMPL_ANY_TH                                                    0\n",
      "PRIMER_PAIR_0_COMPL_END_TH                                                    0\n",
      "PRIMER_PAIR_0_PRODUCT_SIZE                                                   86\n",
      "PRIMER_PAIR_1_PENALTY                                                 0.0682518\n",
      "PRIMER_LEFT_1_PENALTY                                                 0.0378823\n",
      "PRIMER_RIGHT_1_PENALTY                                                0.0303695\n",
      "PRIMER_LEFT_1_SEQUENCE                                     ATCTGTGTGGCTGTCACTCG\n",
      "PRIMER_RIGHT_1_SEQUENCE                                    ACTCGTGTCCTGTCAACGAC\n",
      "PRIMER_LEFT_1                                                                81\n",
      "PRIMER_RIGHT_1                                                              167\n",
      "PRIMER_LEFT_1_TM                                                        60.0379\n",
      "PRIMER_RIGHT_1_TM                                                       59.9696\n",
      "PRIMER_LEFT_1_GC_PERCENT                                                     55\n",
      "PRIMER_RIGHT_1_GC_PERCENT                                                    55\n",
      "PRIMER_LEFT_1_SELF_ANY_TH                                               14.1541\n",
      "PRIMER_RIGHT_1_SELF_ANY_TH                                                    0\n",
      "PRIMER_LEFT_1_SELF_END_TH                                               6.90746\n",
      "PRIMER_RIGHT_1_SELF_END_TH                                                    0\n",
      "PRIMER_LEFT_1_HAIRPIN_TH                                                46.1955\n",
      "PRIMER_RIGHT_1_HAIRPIN_TH                                                     0\n",
      "PRIMER_LEFT_1_END_STABILITY                                                4.18\n",
      "PRIMER_RIGHT_1_END_STABILITY                                               4.34\n",
      "PRIMER_PAIR_1_COMPL_ANY_TH                                                    0\n",
      "PRIMER_PAIR_1_COMPL_END_TH                                                    0\n",
      "PRIMER_PAIR_1_PRODUCT_SIZE                                                   87\n",
      "PRIMER_PAIR_2_PENALTY                                                  0.149012\n",
      "PRIMER_LEFT_2_PENALTY                                                  0.110486\n",
      "PRIMER_RIGHT_2_PENALTY                                                0.0385265\n",
      "PRIMER_LEFT_2_SEQUENCE                                     GAGCCTTGTCCCTGGTTTCA\n",
      "PRIMER_RIGHT_2_SEQUENCE                                    AGTCTCCAAAGCCACGTACG\n",
      "PRIMER_LEFT_2                                                               270\n",
      "PRIMER_RIGHT_2                                                              364\n",
      "PRIMER_LEFT_2_TM                                                        59.8895\n",
      "PRIMER_RIGHT_2_TM                                                       60.0385\n",
      "PRIMER_LEFT_2_GC_PERCENT                                                     55\n",
      "PRIMER_RIGHT_2_GC_PERCENT                                                    55\n",
      "PRIMER_LEFT_2_SELF_ANY_TH                                                     0\n",
      "PRIMER_RIGHT_2_SELF_ANY_TH                                              15.0079\n",
      "PRIMER_LEFT_2_SELF_END_TH                                                     0\n",
      "PRIMER_RIGHT_2_SELF_END_TH                                              15.0079\n",
      "PRIMER_LEFT_2_HAIRPIN_TH                                                      0\n",
      "PRIMER_RIGHT_2_HAIRPIN_TH                                                     0\n",
      "PRIMER_LEFT_2_END_STABILITY                                                2.69\n",
      "PRIMER_RIGHT_2_END_STABILITY                                               3.67\n",
      "PRIMER_PAIR_2_COMPL_ANY_TH                                                    0\n",
      "PRIMER_PAIR_2_COMPL_END_TH                                                    0\n",
      "PRIMER_PAIR_2_PRODUCT_SIZE                                                   95\n",
      "PRIMER_PAIR_3_PENALTY                                                  0.149378\n",
      "PRIMER_LEFT_3_PENALTY                                                  0.110486\n",
      "PRIMER_RIGHT_3_PENALTY                                                 0.038892\n",
      "PRIMER_LEFT_3_SEQUENCE                                     GAGCCTTGTCCCTGGTTTCA\n",
      "PRIMER_RIGHT_3_SEQUENCE                                    GTCTCCAAAGCCACGTACGA\n",
      "PRIMER_LEFT_3                                                               270\n",
      "PRIMER_RIGHT_3                                                              363\n",
      "PRIMER_LEFT_3_TM                                                        59.8895\n",
      "PRIMER_RIGHT_3_TM                                                       60.0389\n",
      "PRIMER_LEFT_3_GC_PERCENT                                                     55\n",
      "PRIMER_RIGHT_3_GC_PERCENT                                                    55\n",
      "PRIMER_LEFT_3_SELF_ANY_TH                                                     0\n",
      "PRIMER_RIGHT_3_SELF_ANY_TH                                              24.4082\n",
      "PRIMER_LEFT_3_SELF_END_TH                                                     0\n",
      "PRIMER_RIGHT_3_SELF_END_TH                                                    0\n",
      "PRIMER_LEFT_3_HAIRPIN_TH                                                      0\n",
      "PRIMER_RIGHT_3_HAIRPIN_TH                                                     0\n",
      "PRIMER_LEFT_3_END_STABILITY                                                2.69\n",
      "PRIMER_RIGHT_3_END_STABILITY                                               3.43\n",
      "PRIMER_PAIR_3_COMPL_ANY_TH                                                    0\n",
      "PRIMER_PAIR_3_COMPL_END_TH                                                    0\n",
      "PRIMER_PAIR_3_PRODUCT_SIZE                                                   94\n",
      "PRIMER_PAIR_4_PENALTY                                                  0.218828\n",
      "PRIMER_LEFT_4_PENALTY                                                  0.179936\n",
      "PRIMER_RIGHT_4_PENALTY                                                 0.038892\n",
      "PRIMER_LEFT_4_SEQUENCE                                     GATGGAGAGCCTTGTCCCTG\n",
      "PRIMER_RIGHT_4_SEQUENCE                                    GTCTCCAAAGCCACGTACGA\n",
      "PRIMER_LEFT_4                                                               264\n",
      "PRIMER_RIGHT_4                                                              363\n",
      "PRIMER_LEFT_4_TM                                                        59.8201\n",
      "PRIMER_RIGHT_4_TM                                                       60.0389\n",
      "PRIMER_LEFT_4_GC_PERCENT                                                     60\n",
      "PRIMER_RIGHT_4_GC_PERCENT                                                    55\n",
      "PRIMER_LEFT_4_SELF_ANY_TH                                                     0\n",
      "PRIMER_RIGHT_4_SELF_ANY_TH                                              24.4082\n",
      "PRIMER_LEFT_4_SELF_END_TH                                                     0\n",
      "PRIMER_RIGHT_4_SELF_END_TH                                                    0\n",
      "PRIMER_LEFT_4_HAIRPIN_TH                                                35.9156\n",
      "PRIMER_RIGHT_4_HAIRPIN_TH                                                     0\n",
      "PRIMER_LEFT_4_END_STABILITY                                                4.45\n",
      "PRIMER_RIGHT_4_END_STABILITY                                               3.43\n",
      "PRIMER_PAIR_4_COMPL_ANY_TH                                                    0\n",
      "PRIMER_PAIR_4_COMPL_END_TH                                                    0\n",
      "PRIMER_PAIR_4_PRODUCT_SIZE                                                  100\n"
     ]
    }
   ],
   "source": [
    "print_full(Primer_final)"
   ]
  },
  {
   "cell_type": "code",
   "execution_count": 32,
   "metadata": {},
   "outputs": [],
   "source": [
    "Primer_final.to_excel(\"Primers.xlsx\")"
   ]
  },
  {
   "cell_type": "code",
   "execution_count": 38,
   "metadata": {},
   "outputs": [],
   "source": [
    "\n"
   ]
  },
  {
   "cell_type": "code",
   "execution_count": null,
   "metadata": {},
   "outputs": [],
   "source": []
  }
 ],
 "metadata": {
  "kernelspec": {
   "display_name": "Python 3",
   "language": "python",
   "name": "python3"
  },
  "language_info": {
   "codemirror_mode": {
    "name": "ipython",
    "version": 3
   },
   "file_extension": ".py",
   "mimetype": "text/x-python",
   "name": "python",
   "nbconvert_exporter": "python",
   "pygments_lexer": "ipython3",
   "version": "3.8.5"
  }
 },
 "nbformat": 4,
 "nbformat_minor": 4
}
