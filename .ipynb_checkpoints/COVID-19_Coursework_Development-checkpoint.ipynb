{
 "cells": [
  {
   "cell_type": "markdown",
   "metadata": {},
   "source": [
    "# <u> Utilising Python for Analysis of the SARS-CoV-2 (COVID-19) Sequence. <u>"
   ]
  },
  {
   "cell_type": "markdown",
   "metadata": {},
   "source": [
    "### SARS-CoV-2 (COVID-19) is a single standed RNA virus responsible for the world pandemic currently faced by mankind. Here, Python is used to demonstrate the utility of such coding langauges to further explore DNA sequences with real world applications."
   ]
  },
  {
   "cell_type": "markdown",
   "metadata": {},
   "source": [
    "<i>Firstly, it is important to ensure that the required packages and functions are installed and imported. This is done with the following lines of code: <i>"
   ]
  },
  {
   "cell_type": "code",
   "execution_count": 28,
   "metadata": {},
   "outputs": [
    {
     "name": "stdout",
     "output_type": "stream",
     "text": [
      "Requirement already satisfied: Biopython in c:\\users\\smej20\\anaconda3\\lib\\site-packages (1.78)\n",
      "Requirement already satisfied: numpy in c:\\users\\smej20\\anaconda3\\lib\\site-packages (from Biopython) (1.19.2)\n",
      "Note: you may need to restart the kernel to use updated packages.\n"
     ]
    }
   ],
   "source": [
    "pip install Biopython"
   ]
  },
  {
   "cell_type": "code",
   "execution_count": 29,
   "metadata": {},
   "outputs": [
    {
     "name": "stdout",
     "output_type": "stream",
     "text": [
      "Requirement already satisfied: pandas in c:\\users\\smej20\\anaconda3\\lib\\site-packages (1.1.3)\n",
      "Requirement already satisfied: python-dateutil>=2.7.3 in c:\\users\\smej20\\anaconda3\\lib\\site-packages (from pandas) (2.8.1)\n",
      "Requirement already satisfied: pytz>=2017.2 in c:\\users\\smej20\\anaconda3\\lib\\site-packages (from pandas) (2020.1)\n",
      "Requirement already satisfied: numpy>=1.15.4 in c:\\users\\smej20\\anaconda3\\lib\\site-packages (from pandas) (1.19.2)\n",
      "Requirement already satisfied: six>=1.5 in c:\\users\\smej20\\anaconda3\\lib\\site-packages (from python-dateutil>=2.7.3->pandas) (1.15.0)Note: you may need to restart the kernel to use updated packages.\n",
      "\n"
     ]
    }
   ],
   "source": [
    "pip install pandas"
   ]
  },
  {
   "cell_type": "code",
   "execution_count": 30,
   "metadata": {},
   "outputs": [
    {
     "name": "stdout",
     "output_type": "stream",
     "text": [
      "Requirement already satisfied: primer3-py in c:\\users\\smej20\\anaconda3\\lib\\site-packages (0.6.1)\n",
      "Note: you may need to restart the kernel to use updated packages.\n"
     ]
    }
   ],
   "source": [
    " pip install primer3-py"
   ]
  },
  {
   "cell_type": "code",
   "execution_count": 31,
   "metadata": {},
   "outputs": [],
   "source": [
    "from Bio import SeqIO"
   ]
  },
  {
   "cell_type": "code",
   "execution_count": 32,
   "metadata": {},
   "outputs": [],
   "source": [
    "from Bio.SeqUtils import GC"
   ]
  },
  {
   "cell_type": "code",
   "execution_count": 33,
   "metadata": {},
   "outputs": [],
   "source": [
    "from Bio.SeqRecord import SeqRecord"
   ]
  },
  {
   "cell_type": "code",
   "execution_count": 34,
   "metadata": {},
   "outputs": [],
   "source": [
    "import pandas as pd"
   ]
  },
  {
   "cell_type": "code",
   "execution_count": 35,
   "metadata": {},
   "outputs": [],
   "source": [
    "import primer3"
   ]
  },
  {
   "cell_type": "code",
   "execution_count": 36,
   "metadata": {},
   "outputs": [],
   "source": [
    "from Bio.Blast import NCBIWWW"
   ]
  },
  {
   "cell_type": "markdown",
   "metadata": {},
   "source": [
    " <i> The complete genome assembly was obtained from https://www.nature.com/articles/s41586-020-2008-3 and is freely accessible from NCBI Sequence Read Archive database under the BioProject accession number PRJNA603194. The complete genome sequence of COVID19 in GenBank can be found under the accession number MN908947. <i>"
   ]
  },
  {
   "cell_type": "code",
   "execution_count": 37,
   "metadata": {},
   "outputs": [
    {
     "name": "stdout",
     "output_type": "stream",
     "text": [
      "GenBankId: MN908947.3\n",
      "Size: 29903 nucleotides\n"
     ]
    }
   ],
   "source": [
    "for sequence in SeqIO.parse(\"MN908947.fna\", \"fasta\"):\n",
    "    print('GenBankId: '  + sequence.id + '\\nSize: ' + str(len(sequence))+' nucleotides')"
   ]
  },
  {
   "cell_type": "markdown",
   "metadata": {},
   "source": [
    "<i> This line of code takes a file type, in this case a fasta sequence, and reports the sequence back as a SeqRecord object which can be read by Biopython for further use. For example, the str(len(sequence)) function can be used to take a string as an argument, e.g. the COVID-19 sequence, and return its length. The output states that the sequence length for the genome assembly of COVID-19 is 29,903 nucleotide bases long. <i>"
   ]
  },
  {
   "cell_type": "code",
   "execution_count": 38,
   "metadata": {},
   "outputs": [],
   "source": [
    "DNAseq = SeqIO.read(\"MN908947.fna\", \"fasta\")"
   ]
  },
  {
   "cell_type": "code",
   "execution_count": 39,
   "metadata": {},
   "outputs": [
    {
     "name": "stdout",
     "output_type": "stream",
     "text": [
      "ATTAAAGGTTTATACCTTCCCAGGTAACAAACCAACCAACTTTCGATCTCTTGTAGATCTGTTCTCTAAACGAACTTTAAAATCTGTGTGGCTGTCACTCGGCTGCATGCTTAGTGCACTCACGCAGTATAATTAATAACTAATTACTGTCGTTGACAGGACACGAGTAACTCGTCTATCTTCTGCAGGCTGCTTACGGTTTCGTCCGTGTTGCAGCCGATCATCAGCACATCTAGGTTTCGTCCGGGTGTGACCGAAAGGTAAGATGGAGAGCCTTGTCCCTGGTTTCAACGAGAAAACACACGTCCAACTCAGTTTGCCTGTTTTACAGGTTCGCGACGTGCTCGTACGTGGCTTTGGAGACTCCGTGGAGGAGGTCTTATCAGAGGCACGTCAACATCTTAAAGATGGCACTTGTGGCTTAGTAGAAGTTGAAAAAGGCGTTTTGCCTCAACTTGAACAGCCCTATGTGTTCATCAAACGTTCGGATGCTCGAACTG\n"
     ]
    }
   ],
   "source": [
    "DNA = DNAseq.seq\n",
    "print(DNA[:500])"
   ]
  },
  {
   "cell_type": "markdown",
   "metadata": {},
   "source": [
    "<i> This takes the COVID-19 sequence and creates an object called DNAseq which is read in as a SeqRecord object that can be recognised by Biopython. An object called DNA is then created from just the sequence of DNAseq. The first 500 nucleotides are then printed to view the sequence and ensure it has been read by the software correctly (29,903 nucleotides can be quite lengthy to read!). <i>"
   ]
  },
  {
   "cell_type": "code",
   "execution_count": 40,
   "metadata": {},
   "outputs": [],
   "source": [
    "dna_list = list(DNA)"
   ]
  },
  {
   "cell_type": "markdown",
   "metadata": {},
   "source": [
    "<i> The sequence loaded is initially read a string by Biopython, so in order to count the contents of the sequence assembly, the string must be converted into a list. This is done using the above function. <i>"
   ]
  },
  {
   "cell_type": "markdown",
   "metadata": {},
   "source": [
    "<i> Counting of each respective nucleotide is undertaken using the following code: <i>"
   ]
  },
  {
   "cell_type": "code",
   "execution_count": 41,
   "metadata": {},
   "outputs": [
    {
     "name": "stdout",
     "output_type": "stream",
     "text": [
      "{'A': 8954, 'T': 9594, 'G': 5863, 'C': 5492}\n"
     ]
    }
   ],
   "source": [
    "count_DNA = DNA\n",
    "nucleotides={}\n",
    "for n in count_DNA:\n",
    "    if n in nucleotides:\n",
    "        nucleotides[n] += 1\n",
    "    else:\n",
    "        nucleotides[n] =  1\n",
    "print(nucleotides)\n",
    "\n",
    "\n",
    "n_count = pd.DataFrame(data=nucleotides, index=[0]).T.reset_index()\n",
    "n_count = n_count.rename(columns={0: 'frequency', 'index': 'nucleotides'})\n",
    "n_count = n_count.sort_values(by=['frequency'], ascending=True)"
   ]
  },
  {
   "cell_type": "markdown",
   "metadata": {},
   "source": [
    "<i> A loop is set up to count each nucleotide base (A, T, G and C). When the computer reads either an A, T , G or C from the DNA list, a 1 is added to that specific nucleotide which has been created into a dictonary called nucleotides through the use of '{}'. This allows for a value to be mapped onto each nucleotide base. If the computer does not read that specific nuceleotide then a one is not added and the value remains unchanged. This is done seperately for each nucleotide base until all four have been counted and this is then printed onto the screen to be evaluated. The dictionary nucleotides is then placed into a dataframe to create the graph below. <i>"
   ]
  },
  {
   "cell_type": "code",
   "execution_count": 42,
   "metadata": {},
   "outputs": [
    {
     "data": {
      "image/png": "[encoded data removed]",
      "text/plain": [
       "<Figure size 576x288 with 1 Axes>"
      ]
     },
     "metadata": {
      "needs_background": "light"
     },
     "output_type": "display_data"
    }
   ],
   "source": [
    "import matplotlib.pyplot as plt\n",
    "plt.figure(figsize=(8,4))\n",
    "a= n_count['frequency'].plot.bar(color= ['blue', 'yellow', 'green', 'red'])\n",
    "plt.xticks(rotation=5)\n",
    "plt.ylabel(\"Nucleotide Base Frequency\")\n",
    "r=list(range(len(n_count)))\n",
    "plt.xticks(r, n_count.nucleotides)\n",
    "plt.xlabel(\"Nucleotide Bases\")\n",
    "plt.title(\"Nucleotide Base Content of the SARS-CoV-2 (COVID-19) Sequence\", weight='bold', size=15)\n",
    "plt.show()"
   ]
  },
  {
   "cell_type": "markdown",
   "metadata": {},
   "source": [
    "<i> From the bar chart above, we can say that the %GC content of the SARS-CoV-2 (COVID-19) sequence is less than 50%. To get the percentage of the GC content, the below code can be used. The round function is used to round ther percentage to the nearest whole number. It is important to know the %GC content of a sequence as this is an important consideration for primer design in PCR experiments.  <i>"
   ]
  },
  {
   "cell_type": "code",
   "execution_count": 43,
   "metadata": {},
   "outputs": [
    {
     "name": "stdout",
     "output_type": "stream",
     "text": [
      "The GC content of SARS-CoV-2 (COVID-19) is 38 %\n"
     ]
    }
   ],
   "source": [
    "GC_COVID19=GC(DNA)\n",
    "print (\"The GC content of SARS-CoV-2 (COVID-19) is\", round(GC_COVID19), \"%\") "
   ]
  },
  {
   "cell_type": "markdown",
   "metadata": {},
   "source": [
    "<i> In order to fully explore the SARS-CoV-2 (COVID-19) sequence, the cDNA sequence is converted into mRNA using the .transcribe() function. This will then allow for the mRNA to be translated into its respective amino acids and its protein sequence can be analysed. The first 200 nucleotide bases can then be printed to ensure this has been done correctly. <i>"
   ]
  },
  {
   "cell_type": "code",
   "execution_count": 44,
   "metadata": {},
   "outputs": [],
   "source": [
    "mRNA = DNA.transcribe()"
   ]
  },
  {
   "cell_type": "code",
   "execution_count": 45,
   "metadata": {},
   "outputs": [
    {
     "name": "stdout",
     "output_type": "stream",
     "text": [
      "AUUAAAGGUUUAUACCUUCCCAGGUAACAAACCAACCAACUUUCGAUCUCUUGUAGAUCUGUUCUCUAAACGAACUUUAAAAUCUGUGUGGCUGUCACUCGGCUGCAUGCUUAGUGCACUCACGCAGUAUAAUUAAUAACUAAUUACUGUCGUUGACAGGACACGAGUAACUCGUCUAUCUUCUGCAGGCUGCUUACGGU\n"
     ]
    }
   ],
   "source": [
    "print(mRNA[:200])"
   ]
  },
  {
   "cell_type": "markdown",
   "metadata": {},
   "source": [
    "<i> The cDNA sequence for SARS-CoV-2 (COVID-19) has been correctly converted into mRNA as the thymine (T) base has been swapped for uracil (U) base. The first 200 bases have been printed. <i>"
   ]
  },
  {
   "cell_type": "markdown",
   "metadata": {},
   "source": [
    "<i> One key disadvanatge of this code is that it does not know what kind of modifications are made either to generate mature mRNA or post-translational modifications made to the proteins. This is why when trying to translate the mRNA into its respctive amino acids, an error message occurs, as 29,903 is not a multiple of 3 which is required when translating mRNA into amino acids. <i>"
   ]
  },
  {
   "cell_type": "markdown",
   "metadata": {},
   "source": [
    "<i> However we do know that the Poly(A) tail, which is located at that end of the mRNA sequence and is required for stability of the mRNA, is not translated into proteins, therefore we can remove this using the following line of code: <i>"
   ]
  },
  {
   "cell_type": "code",
   "execution_count": 46,
   "metadata": {},
   "outputs": [],
   "source": [
    "Less_polyA = mRNA.rstrip(\"A\")"
   ]
  },
  {
   "cell_type": "code",
   "execution_count": 47,
   "metadata": {},
   "outputs": [
    {
     "name": "stdout",
     "output_type": "stream",
     "text": [
      "Length of mRNA minus Poly A tail: 29870\n"
     ]
    }
   ],
   "source": [
    "print(\"Length of mRNA minus Poly A tail:\",len(Less_polyA))"
   ]
  },
  {
   "cell_type": "markdown",
   "metadata": {},
   "source": [
    "<i> This removes the poly(A) tails and then prints the number of nucleotide bases once the poly(A) tail has been removed. This results in 29,870 nucleotide bases remaining which is divisble by 3, and therefore no error messages occur when the mRNA sequence minus the poly(A) tail was translated into amino acids. <i>"
   ]
  },
  {
   "cell_type": "code",
   "execution_count": 49,
   "metadata": {},
   "outputs": [],
   "source": [
    "Amino_Acid = Less_polyA.translate()"
   ]
  },
  {
   "cell_type": "code",
   "execution_count": 82,
   "metadata": {},
   "outputs": [
    {
     "name": "stdout",
     "output_type": "stream",
     "text": [
      "Length of Protein: 9956\n",
      "IKGLYLPR*QTNQLSISCRSVL*TNFKICVAVTRLHA*CTHAV*LITNYCR*QDTSNSSIFCRLLTVSSVLQPIISTSRFRPGVTER*DGEPCPWFQRENTRPTQFACFTGSRRARTWLWRLRGGGLIRGTSTS*RWHLWLSRS*KRRFAST*TALCVHQTFGCSNCTSWSCYG*AGSRTRRHSVRS*W*DTWCPCPSCGRNTSGLPQGSSS*ER**RSWWP*LRRRSKVI*LRRRAWH*SL*RFSRKLEH*T*QWCYP*THA*A*RRGIHSLCR*QLLWP*WLPS*VH*RPSSTCW*SFMHFVRTTGLY*H*EGCILLP*T*A*NCLVHGTF*KEL*IADTF*N*IGKEI*HLQWGMSKFCISLKFHNQDYSTKG*KEKA*WLYG*NSICLSSCVTK*MQPNVPFNSHEV*SLW*NFMADGRFC*SHLRILWH*EFD*RRCHYLWLLTPKCCC*NLLSSMSQFRSRT*A*SCRIP**IWLENHSS*GWSHYCLWRLCVLLCWLP*QVCLLGSTC*R*HRL*PYRCCWRRFRRS**QPS*NTPKRESQHQYCW*L*T**RDRHYFGIFFCFHKCFCGNCERFGL*SIQTNC*ILW*F*SYKRKS*KRCLEYW*TEINTESSLCICIRGCSCCTINFLPHS*NCSKFCACFTEGRYNNTRWNFTVFTETH*CYDVHI*FGY*QSSCNGLHYRWCCSVDFAVAN*HLWHCL*KTQTRP*LA*REV*GRCRVS*RRLGNC*IYLNLCL*NCRWTNCHLCKGN*GECSDIL*ACK*IFGFVC*LYHYWWS*T*SLEFR*NICHALKGIVQKVC*IQRRNWPTHASKSPKRNYLLRGRNTSHRSVNRGSCLENW*FTTIRTTY**SC*SSIGWYTSLY*RAYVARNQRHRKVLCPCT*YDGNKQYLHTQRRCTNKGYFW**HCDRSARLQECEYHF*T**KD**ST**EVLCLYS*TRYRSK*VRLCCGRCCHKNFATSI*ITYTTGH*FR*VEYGYILLI**VW*V*IGFTYVLFFLPSR*G*RRR*L*RRRV*AINSI*VWY*R*LPR*TFGIWCHFCCSST*RRARRRLVR***STNCWSTRRQ*GQSDNYYSNNC*GSTSIRDGTYTSCSDY*SE*F*WLFKTY*QCIH*KCRHCGRS*KGKTNSGC*CSQCLP*TWRRCCRSLK*GY*QCHAS*I**LHSY*WTT*SGW*LCFKRTQSC*TLSSCCRPKC*QR*RHSTS*ECL*KF*SARSSTCTIIISWYFWC*PYTFFKSLCRYCSHKCLLSCL**KSL*QTCFKLFGNEE*KAS*TKDR*DS*RGS*AIYN*K*TFS*TEKTR**ENQSLC*RSYNNSGRN*VPHRKLVTLY*H*WQSSSRFCHSC**H*HHFLKERCSIYSG*CCSRGCFNCCGYTY*KGWWHY*NASESFEKSANRQLYNHLPGSGFKWLHCRGGKDSA*KV*KCLLHSTIYYL**EARNSWNCFLEFARNACTCRRNTQINACLCGN*SHSFNYTA*I*GY*NTRGCG*LWC*ILLLHQ*NNCSVTYQHT*RSK*NSCYNATWLCNTWLKFGRSCSVYEISQSASYSFCFFT*CCYSV*WLSYFFF*NT*RTFY*NHLTCWFL*RLVLFWTIYTTRYRIS*ER**KCILH**SYHIPPRW*SYHL*QS*DTSFFERSEDY*GVYNSRQH*PPHASCGHVNDIWTTVWSNLFGWS*CY*NKTS*FT*R*NILCFT***HSTC*GF*VLPHN*S*FSG*VHVSIKSH*KVEIPTS*WFNFY*MGR*QLLSCHCIVNTPTNRVEV*STCSTRCLLQSKGW*SC*LLCTYLSLL**DSR*VR*C*RNNELLVSTCQFRFLQKSLERGV*NLWTTADNP*GCRSCYVHGHTFL*TI*ERCSDTLYVW*TSYKISSTTGVTFCYDVSTTCSV*T*AWYIYLC**VHW*LPVWSL*TYNF*RNFVLHRRCFTYKVLRIQRSYYGCFLQRKQLHNNHKTSYL*IGWCCLYRN*P*VGQLL*ERQFLFHRATN*SCTKPTISKRKLR*F*VCM**YQIC**FKPVNWL*ETCFKRA*SYIFP*LKW*CGGY*L*TLHTLF*ERS*IVT*TYCLAC*QCN**SHV*TKYLVYTLSLEHKTS*NIKFV*CTEVRGRAGNG*SCLRRSKTSL*RSSGKSYHTERRS*V*CENYRSCRRHYT*TSK**FKNYRRGWPHRSNGCLCRQF*SYY*ET**II*SIRFENPCYSWFSCC**CPLGYYS*LC*AFS*QSC*YNY*HSYTVFKPCLY*LYALFLYFIATIVYFY*KYKF*N*SIYADYYSKEYC*ECR*ILSRGFI*LFEVT*FF*TDKYYNLVFTIKCLPRFFNLLNRCFRCFNV*FRHAFLLYWLQRRLFELY*CHYCNLLYWFYTL*CLS*WFRFFRHLSFFRNYTNYHFIF*MGFNCFWLSCRVVFGIYSFH*VFLCTWIGCNHAIVFQLFCSTFY**FLAYVVNN*SCTNGPDFSYG*NVHLLCIILLCMEKLCACCRRL*FINLYDVLQT**SNKSRMYNYC*WC*KVLLCLC*WR*RLLQTTQLELC*L*YILCW*YIY***SCERLVTTV*KTNKSY*PVFLHR**CYSEEWFHPSLL**SWSKDL*KTFSLSFC*LRQPES**H*RFIAY*CYSF*W*IKM*RIICKISVCLLQSAYVSTYTVTRSGISV*CW**CGSCS*NV*CLR*YVFINF*RTNGKTQNTSCNCRS*TCKECVLRQCLIYFYFSSSARVC*FRCRN*RCC*MS*IVTSI*HRSYWR*L**LYAHL*QS*KHDTP*PWCLY*L*CASY*CAGSKKSQHCFDMER*RFHVIV*TTTKTNT*CC*KE*LTF*VDMCNY*TSC*CCNNKDST*GW*NC**LVEAVN*SYTCVPFCCCYFLFNNTCSCHV*TY*LFK*NHRIQGY*WWCHS*HSIYRYLFC*QTC*F*HMV*PAWW*LY**QSLPIDCCSHNKRSGFCRAWFAWHDITHN*W*LFAFLT*SF*CSW*HLLHTIKTYRVH*LCNISLCFGC*MYNF*RCFW*ASTILL*YQCTRRFCCL*KFTP*HTLCAHGWLYYSIS*HLP*RFC*SGNNF*F*VL*ARHL*KIRSWCLCIY*W*MGT*Q*LLQIFTRSFLWCRCCKFTY*YVYTTNSTYWCFGHISIYSSWWYCSYRSNMPCLLFYEV*KSFW*IQSCSCL*YFTIPYVIHCTLFNTSLLILTWCLFCYLLVLDILSY**CFFFSTYSVDGYVHTFSTFLDNNCLYHLYFHKAFLLVL**LPKETCSL*WCFL*YF*RSCAVHLFVK*RNVSKVA**CAITSYAI**ILSSL**VQVF*WSNGYN*LQRSCLLSSRKGSQ*LQ*LRF*CSLPTTTNLYHLSCFAEWF*KNGIPIW*S*GLYGTSNLWYNYT*RSLA**RSLLSKTCDLHL*RHA*P*L*RFTHS*V*S*FLGTGW*CSTQGYWTFYAKLCT*A*G*YSQS*DT*V*VCSHSTRTDFFSVSLLQWFTIWCLPMCYEAQFHY*GFIP*WFMW*CWF*HRL*LCLFLLHAPYGITNWSSCWHRLRR*LLWTFC*QANSTSSWYGHNYYS*CFSLVVRCCYKWRQVVSQSIYHNS**L*PCGYEVQL*TSNTRPC*HTRTSFCSNWNCRFRYVCFIKRITAKWYEWTYHIG*CFIRR*IYTF*CC*TMLRCYFPKCSEKNNQGYTPLVVTHNFDFTFSFSPEYSMVFVLFFV*KCLFTFCYGYYCYVCFCNDVCQT*ACISLFVFVTFSCHCSLF*YGLYAC*LGDAYYDMVGYG*Y*FVWF*AKRLCYVCISCSVTNPYDSKNCV**WC*ESVDTYECLDTRL*SLLW*CFRSSHFHVGSYNLCYF*LLRCSYNCHVFGQRYCFYVC*VLPYFLHNW*YTSVYNASLLFLRLFLYLLLWPLLFTQPLL*TDSWCL*LLSFYTGV*IYEFTGTTPTQE*HRCLQTQH*IVGCWWQTLYQSSHCTV*NVRCKVHISSLTLSFATTQSRIII*IVGSMCPVTQ*HSLS*RYY*SL*KNGFTTFCFAFHAGCCRHKQAL*RNAGQQGNLTSYSLRV*FPSIICSFCYCSRSL*AGCC*W*F*SCS*KVEEVFECG*I*I*P*CSHAT*VGKDG*SSYDPNV*TG*I*GQEGKSY*CYADNAFHYA*KVG**CTQQHYQQCKRWLCSLEHNTSYNSSQTNGCHTRL*HI*KYV*WYNIYLCISIVGNPTGCRCR**NCST**N*YGQFT*FSMASYCNSFKGQFCCQITE**A*SCCTTTDVLCCRYYTNCLH**QCVSLLQHNKGR*VCTCTVIRFTGFEMG*IP*E*WNWYYLYRTGTTL*VCYRHT*RS*SEVFILY*RIKQPK*RYGTW*FSCHSTSTSW*CNRSACQFNCIIFLCFCCRCC*SLQRLSS*WGTTNH*LC*DVVYTHWYWSGNNSYTGSQYGSRILWWCIVLSVLPLPHRSSKS*RIL*LKR*VCTNTYNLC**PCGFYT*KHSLYRLRYVERLWL*L*STPRTHASVS*CTIVFKRVCGVSAARLTPCGTGTSTDVVYRAFDIYNDKVAGFAKFLKTNCCRFQEKDEDDNLIDSYFVVKRHTFSNYQHEETIYNLLKDCPAVAKHDFFKFRIDGDMVPHISRQRLTKYTMADLVYALRHFDEGNCDTLKEILVTYNCCDDDYFNKKDWYDFVENPDILRVYANLGERVRQALLKTVQFCDAMRNAGIVGVLTLDNQDLNGNWYDFGDFIQTTPGSGVPVVDSYYSLLMPILTLTRALTAESHVDTDLTKPYIKWDLLKYDFTEERLKLFDRYFKYWDQTYHPNCVNCLDDRCILHCANFNVLFSTVFPPTSFGPLVRKIFVDGVPFVVSTGYHFRELGVVHNQDVNLHSSRLSFKELLVYAADPAMHAASGNLLLDKRTTCFSVAALTNNVAFQTVKPGNFNKDFYDFAVSKGFFKEGSSVELKHFFFAQDGNAAISDYDYYRYNLPTMCDIRQLLFVVEVVDKYFDCYDGGCINANQVIVNNLDKSAGFPFNKWGKARLYYDSMSYEDQDALFAYTKRNVIPTITQMNLKYAISAKNRARTVAGVSICSTMTNRQFHQKLLKSIAATRGATVVIGTSKFYGGWHNMLKTVYSDVENPHLMGWDYPKCDRAMPNMLRIMASLVLARKHTTCCSLSHRFYRLANECAQVLSEMVMCGGSLYVKPGGTSSGDATTAYANSVFNICQAVTANVNALLSTDGNKIADKYVRNLQHRLYECLYRNRDVDTDFVNEFYAYLRKHFSMMILSDDAVVCFNSTYASQGLVASIKNFKSVLYYQNNVFMSEAKCWTETDLTKGPHEFCSQHTMLVKQGDDYVYLPYPDPSRILGAGCFVDDIVKTDGTLMIERFVSLAIDAYPLTKHPNQEYADVFHLYLQYIRKLHDELTGHMLDMYSVMLTNDNTSRYWEPEFYEAMYTPHTVLQAVGACVLCNSQTSLRCGACIRRPFLCCKCCYDHVISTSHKLVLSVNPYVCNAPGCDVTDVTQLYLGGMSYYCKSHKPPISFPLCANGQVFGLYKNTCVGSDNVTDFNAIATCDWTNAGDYILANTCTERLKLFAAETLKATEETFKLSYGIATVREVLSDRELHLSWEVGKPRPPLNRNYVFTGYRVTKNSKVQIGEYTFEKGDYGDAVVYRGTTTYKLNVGDYFVLTSHTVMPLSAPTLVPQEHYVRITGLYPTLNISDEFSSNVANYQKVGMQKYSTLQGPPGTGKSHFAIGLALYYPSARIVYTACSHAAVDALCEKALKYLPIDKCSRIIPARARVECFDKFKVNSTLEQYVFCTVNALPETTADIVVFDEISMATNYDLSVVNARLRAKHYVYIGDPAQLPAPRTLLTKGTLEPEYFNSVCRLMKTIGPDMFLGTCRRCPAEIVDTVSALVYDNKLKAHKDKSAQCFKMFYKGVITHDVSSAINRPQIGVVREFLTRNPAWRKAVFISPYNSQNAVASKILGLPTQTVDSSQGSEYDYVIFTQTTETAHSCNVNRFNVAITRAKVGILCIMSDRDLYDKLQFTSLEIPRRNVATLQAENVTGLFKDCSKVITGLHPTQAPTHLSVDTKFKTEGLCVDIPGIPKDMTYRRLISMMGFKMNYQVNGYPNMFITREEAIRHVRAWIGFDVEGCHATREAVGTNLPLQLGFSTGVNLVAVPTGYVDTPNNTDFSRVSAKPPPGDQFKHLIPLMYKGLPWNVVRIKIVQMLSDTLKNLSDRVVFVLWAHGFELTSMKYFVKIGPERTCCLCDRRATCFSTASDTYACWHHSIGFDYVYNPFMIDVQQWGFTGNLQSNHDLYCQVHGNAHVASCDAIMTRCLAVHECFVKRVDWTIEYPIIGDELKINAACRKVQHMVVKAALLADKFPVLHDIGNPKAIKCVPQADVEWKFYDAQPCSDKAYKIEELFYSYATHSDKFTDGVCLFWNCNVDRYPANSIVCRFDTRVLSNLNLPGCDGGSLYVNKHAFHTPAFDKSAFVNLKQLPFFYYSDSPCESHGKQVVSDIDYVPLKSATCITRCNLGGAVCRHHANEYRLYLDAYNMMISAGFSLWVYKQFDTYNLWNTFTRLQSLENVAFNVVNKGHFDGQQGEVPVSIINNTVYTKVDGVDVELFENKTTLPVNVAFELWAKRNIKPVPEVKILNNLGVDIAANTVIWDYKRDAPAHISTIGVCSMTDIAKKPTETICAPLTVFFDGRVDGQVDLFRNARNGVLITEGSVKGLQPSVGPKQASLNGVTLIGEAVKTQFNYYKKVDGVVQQLPETYFTQSRNLQEFKPRSQMEIDFLELAMDEFIERYKLEGYAFEHIVYGDFSHSQLGGLHLLIGLAKRFKESPFELEDFIPMDSTVKNYFITDAQTGSSKCVCSVIDLLLDDFVEIIKSQDLSVVSKVVKVTIDYTEISFMLWCKDGHVETFYPKLQSSQAWQPGVAMPNLYKMQRMLLEKCDLQNYGDSATLPKGIMMNVAKYTQLCQYLNTLTLAVPYNMRVIHFGAGSDKGVAPGTAVLRQWLPTGTLLVDSDLNDFVSDADSTLIGDCATVHTANKWDLIISDMYDPKTKNVTKENDSKEGFFTYICGFIQQKLALGGSVAIKITEHSWNADLYKLMGHFAWWTAFVTNVNASSSEAFLIGCNYLGKPREQIDGYVMHANYIFWRNTNPIQLSSYSLFDMSKFPLKLRGTAVMSLKEGQINDMILSLLSKGRLIIRENNRVVISSDVLVNN*TNNVCFSCFIATSL*SVC*SYNQNSITPCIH*FFHTWCLLP*QSFQILSFTFNSGLVLTFLFQCYLVPCYTCLWDQWY*EV**PCPTI**WCLFCFH*EV*HNKRLDFWYYFRFEDPVPTYC**RY*CCY*SL*ISIL**SIFGCLLPQKQQKLDGK*VQSLF*CE*LHF*ICLSAFSYGP*RKTG*FQKS*GICV*EY*WLF*NIF*AHAY*FSA*SPSGFFGFRTIGRFANRY*HH*VSNFTCFT*KLFDSW*FFFRLDSWCCSLLCGLSST*DFSIKI**KWNHYRCCRLCT*PSLRNKVYVEILHCRKRNLSNF*L*SPTNRIYC*IS*YYKLVPFW*SF*RHQICICLCLEQEENQQLCC*LFCPI*FRIIFHF*VLWSVSY*IK*SLLY*CLCRFICN*R**SQTNRSRANWKDC*L*L*ITR*FYRLRYSLEF*QS*F*GWW*L*LPV*IV*EV*SQTF*ERYFN*NLSGR*HTL*WC*RF*LLLSFTIIWFPTH*WCWLPTIQSSSTFF*TSTCTSNCLWT*KVY*FG*KQMCQFQLQWFNRHRCSY*V*QKVSAFPTIWQRHC*HY*CCP*STDT*DS*HYTMFFWWCQCYNTRNKYF*PGCCSLSGC*LHRSPCCYSCRSTYSYLACLFYRF*CFSNTCRLFNRG*TCQQLI*V*HTHWCRYMR*LSDSD*FSSAGT*CS*SIHHCLHYVTWCRKFSCLL**LYCHTHKFYY*CYHRNSTSVYDQDISRLYNVHLW*FN*MQQSFVAIWQFLYTIKPCFNWNSC*TRQKHPRSFCTSQTNLQNTTN*RFWWF*FFTNITRSIKTKQEVIY*RSTFQQSDTCRCWLHQTIW*LPW*YCC*RPHLCTKV*RPYCFATFAHR*NDCSIHFCTVSGYNHFWLDLWCRCCITNTICYANGL*V*WYWSYTECSL*EPKIDCQPI**CYWQNSRLTFFHSKCTWKTSRCGQPKCTSFKHAC*TT*LQFWCNFKCFK*YPFTS*QS*G*SAN**VDHRQTSKFADICDSTIN*SCRNQSFC*SCCY*NVRVCTWTIKKS*FLWKGLSSYVLPSVSTSWCSLLACDLCPCTRKELHNCSCHLS*WKSTLSS*RCLCFKWHTLVCNTKEFL*TTNHYYRQHICVW*L*CCNRNCQQHSL*SFAT*IRLIQGGVR*IF*ESYITRC*FR*HLWH*CFSCKHSKRN*PPQ*GCQEFK*ISHRSPRTWKV*AVYKMAMVHLARFYSWLDCHSNGDNYALLYDQLL*LSQGLLFLWILLQI**RRL*ASAQRSQITLHINELMDLFMRIFTIGTVTLKQGEIKDATPSDFVRATATIPIQASLPFGWLIVGVALLAVFQSASKIITLKKRWQLALSKGVHFVCNLLLLFVTVYSHLLLVAAGLEAPFLYLYALVYFLQSINFVRIIMRLWLCWKCRSKNPLLYDANYFLCWHTNCYDYCIPYNSVTSSIVITSGDGTTSPISEHDYQIGGYTEKWESGVKDCVVLHSYFTSDYYQLYSTQLSTDTGVEHVTFFIYNKIVDEPEEHVQIHTIDGSSGVVNPVMEPIYDEPTTTTSVPL*AQADEYELMYSFVSEETGTLIVNSVLLFLAFVVFLLVTLAILTALRLCAYCCNIVNVSLVKPSFYVYSRVKNLNSSRVPDLLV*TN*ILY*FFCLEL*F*PWQIPTVLLPLKSLKSSLNNGT***VSYSLHGFVFYNLPMPTGIGFCI*LS*FSSGCYGQ*L*LVLCLLLFTE*IGSPVELLSQWLVL*A*CGSATSLLLSDCLRVRVPCGHSIQKLTFFSTCHSMALF*PDRF*KVNS*SEL*SFVDIFVLLDTI*DAVTSRTCLKKSLLLHHERFLITNWELRSV*QVTQVLLHTVATGLATIN*TQTIPVAVTILLCLYSK*QQMFHLVDFQVTIAEILLIIMRTFKVSIWNLDYIINLIIKNLSKSLTENKYSQLDEEQPMEID*TNMKIILFLALITLATCELYHYQECVRGTTVLLKEPCSSGTYEGNSPFHPLADNKFALTCFSTQFAFACPDGVKHVYQLRARSVSPKLFIRQEEVQELYSPIFLIVAAIVFITLCFTLKRKTE*LNFH*LTSICAF*PFCYSLF*LCLLSFGSHLNCKIIMKLVTPKRT*NFLFS*ESSQL*LHFTKNVVYSHVLNINHM*LMTRVLFTSILNGILE*ELENQHL*LNCAWMRLVLNHPFSTSISVIIQFPVYLLQLIARNLNWVVL*CVVRSMKTF*SIMTFVLF*ISSKRTN*NV**WTPKSAKCTPHYVWWTLRFNWQ*PEWRTQWGAIKTTSAPRFTQ*YCVLVHRSHSTWQGRP*IPSRTRRSN*HQ*QSR*PNWLLPKSYQTNSWW*R*NERSQSKMVFLLPRNWARSWTSLWC*QRRHHMGCN*GSLEYTKRSHWHPQSC*QCCNRATTSSRNNIAKRLLRRREQRRQSSLFSFLIT*SQQFKKFNSRQQ*GNFSC*NGWQWR*CCSCFAAA*QIEPA*EQNVW*RPTTTRPNCH*EICC*GF*EASAKTYCH*SIQCNTSFRQTWSRTNPRKFWGPGTNQTRN*LQTLAANCTICPQRFSVLRNVAHWHGSHTFGNVVDLHRCHQIG*QRSKFQRSSHFAE*AY*RIQNIPTNRA*KGQKEEG**NSSLTAETEETANCDSSSCCRFG*FLQTIATIHEQC*LNSGLNSCRPHKADGLYKRFRFSVYDI*STLVQNEFS*LHSTSRCS*L*SHIAIFNQCVTLGRT*KSHHIFTEATRSTIECTVNNARESCLYGRALMCKINFSSAIPM*F**LLRRM\n"
     ]
    }
   ],
   "source": [
    "print(\"Length of Protein:\",len(Amino_Acid))\n",
    "print(Amino_Acid)"
   ]
  },
  {
   "cell_type": "markdown",
   "metadata": {},
   "source": [
    "<i> The length of the translated mRNA into amino acids is printed along with the first 200 amino acids in the sequence to ensure that the translation has been done correctly. In order to identify the amino acid sequences for indivdual proteins, the amino acid sequence was split by the '*' which represents a stop codon for that specific protein sequence. This is shown in the line of code bewlow, the first 10 sequences are then printed. <i>"
   ]
  },
  {
   "cell_type": "code",
   "execution_count": 108,
   "metadata": {},
   "outputs": [
    {
     "name": "stdout",
     "output_type": "stream",
     "text": [
      "[Seq('IKGLYLPR'), Seq('QTNQLSISCRSVL'), Seq('TNFKICVAVTRLHA'), Seq('CTHAV'), Seq('LITNYCR'), Seq('QDTSNSSIFCRLLTVSSVLQPIISTSRFRPGVTER'), Seq('DGEPCPWFQRENTRPTQFACFTGSRRARTWLWRLRGGGLIRGTSTS'), Seq('RWHLWLSRS'), Seq('KRRFAST'), Seq('TALCVHQTFGCSNCTSWSCYG')]\n"
     ]
    }
   ],
   "source": [
    "Proteins = Amino_Acid.split('*')\n",
    "print(Proteins[:10])"
   ]
  },
  {
   "cell_type": "code",
   "execution_count": 109,
   "metadata": {},
   "outputs": [
    {
     "name": "stdout",
     "output_type": "stream",
     "text": [
      "Total Proteins: 775\n"
     ]
    }
   ],
   "source": [
    "TotalProteins=pd.DataFrame(Proteins)\n",
    "TotalProteins.describe()\n",
    "print(\"Total Proteins:\", len(TotalProteins))"
   ]
  },
  {
   "cell_type": "markdown",
   "metadata": {},
   "source": [
    "<i> It is well known that the smallest functional proteins are no shorter than 20 amino acids in length, so all amino acid sequences shorter than this are removed and not included in further analysis. <i>"
   ]
  },
  {
   "cell_type": "code",
   "execution_count": 110,
   "metadata": {},
   "outputs": [
    {
     "name": "stdout",
     "output_type": "stream",
     "text": [
      "Total Functional Proteins: 80\n"
     ]
    }
   ],
   "source": [
    "for i in Proteins[:]:\n",
    "    if len(i) < 20:\n",
    "        Proteins.remove(i)\n",
    "print(\"Total Functional Proteins:\", len(Proteins))"
   ]
  },
  {
   "cell_type": "markdown",
   "metadata": {},
   "source": [
    "<i> The resulting data can then be organised based on the user's preference and future applications. Here, two examples of collating the data obtained is illustrated, either by putting all the sequences into a collective dataframe or placing the sequences into separate files for further investigation. <i>"
   ]
  },
  {
   "cell_type": "code",
   "execution_count": null,
   "metadata": {},
   "outputs": [],
   "source": [
    "proteinas=pd.DataFrame(Proteins)\n",
    "proteinas['Amino Acid Sequence'] = proteinas[0].apply(str)\n",
    "proteinas['Protein Length'] = proteinas[0].apply(len)\n",
    "proteinas.rename(columns={0: \"sequence\"}, inplace=True)\n",
    "pro=proteinas.drop('sequence', axis=1)\n",
    "pro= pro.sort_values(by=['Protein Length'], ascending=False)"
   ]
  },
  {
   "cell_type": "code",
   "execution_count": null,
   "metadata": {},
   "outputs": [],
   "source": [
    "pro.to_excel(\"Covid19_Protein_Sequence.xlsx\")"
   ]
  },
  {
   "cell_type": "markdown",
   "metadata": {},
   "source": [
    "<i> The preceding lines of code place the protein data intoa dataframe which can then be converted into an excel sheet for ease of use. Whilst the lines of code below place each peptide sequence into separate files.  <i>"
   ]
  },
  {
   "cell_type": "code",
   "execution_count": 53,
   "metadata": {},
   "outputs": [],
   "source": [
    "for count, item in enumerate(Proteins, 1):\n",
    "     with open(f'Peptide_{count}.fasta', 'w') as f:\n",
    "        f.write(\"%s\\n\" % item)\n"
   ]
  },
  {
   "cell_type": "code",
   "execution_count": 111,
   "metadata": {},
   "outputs": [
    {
     "name": "stdout",
     "output_type": "stream",
     "text": [
      "\n",
      "\n",
      "Protein of Interest =  {'A': 0, 'C': 1, 'D': 1, 'E': 1, 'F': 2, 'G': 1, 'H': 0, 'I': 3, 'K': 0, 'L': 3, 'M': 0, 'N': 1, 'P': 2, 'Q': 2, 'R': 4, 'S': 7, 'T': 4, 'V': 3, 'W': 0, 'Y': 0}\n",
      "Amino acids percent =     {'A': 0.0, 'C': 0.02857142857142857, 'D': 0.02857142857142857, 'E': 0.02857142857142857, 'F': 0.05714285714285714, 'G': 0.02857142857142857, 'H': 0.0, 'I': 0.08571428571428572, 'K': 0.0, 'L': 0.08571428571428572, 'M': 0.0, 'N': 0.02857142857142857, 'P': 0.05714285714285714, 'Q': 0.05714285714285714, 'R': 0.11428571428571428, 'S': 0.2, 'T': 0.11428571428571428, 'V': 0.08571428571428572, 'W': 0.0, 'Y': 0.0}\n",
      "Molecular weight =  [3896.388]\n",
      "Aromaticity =  0.05714285714285714\n",
      "Flexibility =  [1.0254166666666666, 1.0115238095238097, 0.9737499999999999, 0.9758214285714286, 0.9602857142857143, 0.9736428571428574, 0.9377261904761905, 0.9531309523809526, 0.9757857142857143, 0.9605952380952383, 0.9992738095238096, 0.9844642857142858, 0.9694166666666666, 0.9892738095238094, 1.004392857142857, 0.9920833333333334, 0.9642261904761905, 0.9855000000000002, 1.0142619047619048, 0.9869166666666667, 1.004809523809524, 0.991095238095238, 0.9842857142857142, 1.016547619047619, 1.0062023809523808, 1.000690476190476]\n",
      "Isoelectric point =  10.196142387390136\n",
      "Secondary structure fraction =  (0.3142857142857143, 0.3142857142857143, 0.11428571428571428)\n",
      "\n",
      "\n",
      "Protein of Interest =  {'A': 2, 'C': 2, 'D': 1, 'E': 2, 'F': 3, 'G': 6, 'H': 0, 'I': 1, 'K': 0, 'L': 3, 'M': 0, 'N': 1, 'P': 3, 'Q': 2, 'R': 8, 'S': 3, 'T': 6, 'V': 0, 'W': 3, 'Y': 0}\n",
      "Amino acids percent =     {'A': 0.043478260869565216, 'C': 0.043478260869565216, 'D': 0.021739130434782608, 'E': 0.043478260869565216, 'F': 0.06521739130434782, 'G': 0.13043478260869565, 'H': 0.0, 'I': 0.021739130434782608, 'K': 0.0, 'L': 0.06521739130434782, 'M': 0.0, 'N': 0.021739130434782608, 'P': 0.06521739130434782, 'Q': 0.043478260869565216, 'R': 0.17391304347826086, 'S': 0.06521739130434782, 'T': 0.13043478260869565, 'V': 0.0, 'W': 0.06521739130434782, 'Y': 0.0}\n",
      "Molecular weight =  [3896.388, 5313.909099999998]\n",
      "Aromaticity =  0.13043478260869565\n",
      "Flexibility =  [1.024761904761905, 0.960797619047619, 0.9851547619047619, 1.0093214285714285, 0.9928333333333335, 1.0282380952380954, 1.0132023809523811, 1.018392857142857, 1.0311547619047619, 1.029059523809524, 1.0048809523809523, 1.0074166666666666, 0.9627619047619047, 0.9858928571428571, 0.9519880952380952, 0.9654166666666667, 0.9850952380952381, 0.9874999999999998, 0.9975595238095238, 0.9956428571428572, 1.0078928571428571, 0.9997619047619049, 0.9988095238095237, 0.9788809523809524, 0.9518809523809524, 0.9632380952380953, 0.9474642857142858, 0.9758095238095239, 0.9518333333333334, 0.9903333333333334, 0.9936785714285712, 0.995095238095238, 0.9979761904761905, 0.9770714285714287, 0.989642857142857, 1.0060833333333332, 0.9990595238095239]\n",
      "Isoelectric point =  11.52464237213135\n",
      "Secondary structure fraction =  (0.2173913043478261, 0.2826086956521739, 0.15217391304347827)\n",
      "\n",
      "\n",
      "Protein of Interest =  {'A': 1, 'C': 4, 'D': 0, 'E': 0, 'F': 1, 'G': 2, 'H': 1, 'I': 0, 'K': 0, 'L': 1, 'M': 0, 'N': 1, 'P': 0, 'Q': 1, 'R': 0, 'S': 3, 'T': 3, 'V': 1, 'W': 1, 'Y': 1}\n",
      "Amino acids percent =     {'A': 0.047619047619047616, 'C': 0.19047619047619047, 'D': 0.0, 'E': 0.0, 'F': 0.047619047619047616, 'G': 0.09523809523809523, 'H': 0.047619047619047616, 'I': 0.0, 'K': 0.0, 'L': 0.047619047619047616, 'M': 0.0, 'N': 0.047619047619047616, 'P': 0.0, 'Q': 0.047619047619047616, 'R': 0.0, 'S': 0.14285714285714285, 'T': 0.14285714285714285, 'V': 0.047619047619047616, 'W': 0.047619047619047616, 'Y': 0.047619047619047616}\n",
      "Molecular weight =  [3896.388, 5313.909099999998, 2268.5276000000003]\n",
      "Aromaticity =  0.14285714285714285\n",
      "Flexibility =  [0.9590833333333334, 0.9787619047619047, 0.9600714285714286, 0.9582500000000002, 1.0021190476190476, 0.9597380952380952, 1.0098095238095237, 0.9892380952380952, 0.9609166666666666, 1.0051785714285715, 0.9943333333333333, 0.955654761904762]\n",
      "Isoelectric point =  6.390601158142091\n",
      "Secondary structure fraction =  (0.23809523809523808, 0.2857142857142857, 0.09523809523809523)\n",
      "\n",
      "\n",
      "Protein of Interest =  {'A': 0, 'C': 3, 'D': 1, 'E': 0, 'F': 0, 'G': 3, 'H': 0, 'I': 0, 'K': 0, 'L': 1, 'M': 0, 'N': 1, 'P': 3, 'Q': 1, 'R': 1, 'S': 5, 'T': 2, 'V': 0, 'W': 1, 'Y': 0}\n",
      "Amino acids percent =     {'A': 0.0, 'C': 0.13636363636363635, 'D': 0.045454545454545456, 'E': 0.0, 'F': 0.0, 'G': 0.13636363636363635, 'H': 0.0, 'I': 0.0, 'K': 0.0, 'L': 0.045454545454545456, 'M': 0.0, 'N': 0.045454545454545456, 'P': 0.13636363636363635, 'Q': 0.045454545454545456, 'R': 0.045454545454545456, 'S': 0.22727272727272727, 'T': 0.09090909090909091, 'V': 0.0, 'W': 0.045454545454545456, 'Y': 0.0}\n",
      "Molecular weight =  [3896.388, 5313.909099999998, 2268.5276000000003, 2240.4102]\n",
      "Aromaticity =  0.045454545454545456\n",
      "Flexibility =  [0.94975, 1.004285714285714, 0.9865357142857144, 0.9701904761904762, 1.0229642857142855, 1.000952380952381, 1.021297619047619, 1.0032142857142856, 1.0229761904761905, 1.016202380952381, 0.9990952380952381, 1.0384047619047618, 1.0198095238095237]\n",
      "Isoelectric point =  5.8159589767456055\n",
      "Secondary structure fraction =  (0.09090909090909091, 0.5454545454545454, 0.045454545454545456)\n",
      "\n",
      "\n",
      "Protein of Interest =  {'A': 0, 'C': 1, 'D': 1, 'E': 0, 'F': 2, 'G': 2, 'H': 2, 'I': 1, 'K': 3, 'L': 2, 'M': 1, 'N': 1, 'P': 0, 'Q': 2, 'R': 0, 'S': 3, 'T': 1, 'V': 0, 'W': 1, 'Y': 1}\n",
      "Amino acids percent =     {'A': 0.0, 'C': 0.041666666666666664, 'D': 0.041666666666666664, 'E': 0.0, 'F': 0.08333333333333333, 'G': 0.08333333333333333, 'H': 0.08333333333333333, 'I': 0.041666666666666664, 'K': 0.125, 'L': 0.08333333333333333, 'M': 0.041666666666666664, 'N': 0.041666666666666664, 'P': 0.0, 'Q': 0.08333333333333333, 'R': 0.0, 'S': 0.125, 'T': 0.041666666666666664, 'V': 0.0, 'W': 0.041666666666666664, 'Y': 0.041666666666666664}\n",
      "Molecular weight =  [3896.388, 5313.909099999998, 2268.5276000000003, 2240.4102, 2856.2400000000002]\n",
      "Aromaticity =  0.16666666666666666\n",
      "Flexibility =  [0.975107142857143, 1.0098214285714286, 1.0038095238095242, 0.9549880952380954, 0.9783333333333333, 0.9802500000000001, 0.9986190476190476, 0.9555238095238097, 1.0097619047619049, 0.9553214285714285, 1.0031785714285715, 1.0190238095238096, 1.0046904761904762, 1.0179642857142857, 0.9887976190476192]\n",
      "Isoelectric point =  9.113847160339354\n",
      "Secondary structure fraction =  (0.29166666666666663, 0.25, 0.125)\n",
      "\n",
      "\n",
      "Protein of Interest =  {'A': 0, 'C': 4, 'D': 1, 'E': 1, 'F': 6, 'G': 3, 'H': 2, 'I': 1, 'K': 1, 'L': 1, 'M': 0, 'N': 1, 'P': 0, 'Q': 0, 'R': 3, 'S': 0, 'T': 0, 'V': 0, 'W': 0, 'Y': 1}\n",
      "Amino acids percent =     {'A': 0.0, 'C': 0.16, 'D': 0.04, 'E': 0.04, 'F': 0.24, 'G': 0.12, 'H': 0.08, 'I': 0.04, 'K': 0.04, 'L': 0.04, 'M': 0.0, 'N': 0.04, 'P': 0.0, 'Q': 0.0, 'R': 0.12, 'S': 0.0, 'T': 0.0, 'V': 0.0, 'W': 0.0, 'Y': 0.04}\n",
      "Molecular weight =  [3896.388, 5313.909099999998, 2268.5276000000003, 2240.4102, 2856.2400000000002, 3103.5840000000003]\n",
      "Aromaticity =  0.27999999999999997\n",
      "Flexibility =  [0.9634761904761905, 0.977845238095238, 0.9277261904761905, 0.9350357142857144, 0.9319285714285714, 0.9348095238095239, 0.940845238095238, 0.9477738095238097, 0.9769880952380954, 0.9213333333333333, 0.962607142857143, 0.9601428571428572, 0.9948333333333333, 0.985952380952381, 0.9574047619047619, 1.0270357142857143]\n",
      "Isoelectric point =  8.535823631286618\n",
      "Secondary structure fraction =  (0.36, 0.16, 0.08)\n",
      "\n",
      "\n",
      "Protein of Interest =  {'A': 0, 'C': 5, 'D': 0, 'E': 2, 'F': 1, 'G': 1, 'H': 1, 'I': 4, 'K': 0, 'L': 2, 'M': 0, 'N': 2, 'P': 1, 'Q': 0, 'R': 1, 'S': 4, 'T': 3, 'V': 0, 'W': 0, 'Y': 0}\n",
      "Amino acids percent =     {'A': 0.0, 'C': 0.18518518518518517, 'D': 0.0, 'E': 0.07407407407407407, 'F': 0.037037037037037035, 'G': 0.037037037037037035, 'H': 0.037037037037037035, 'I': 0.14814814814814814, 'K': 0.0, 'L': 0.07407407407407407, 'M': 0.0, 'N': 0.07407407407407407, 'P': 0.037037037037037035, 'Q': 0.0, 'R': 0.037037037037037035, 'S': 0.14814814814814814, 'T': 0.1111111111111111, 'V': 0.0, 'W': 0.0, 'Y': 0.0}\n",
      "Molecular weight =  [3896.388, 5313.909099999998, 2268.5276000000003, 2240.4102, 2856.2400000000002, 3103.5840000000003, 2945.3948000000005]\n",
      "Aromaticity =  0.037037037037037035\n",
      "Flexibility =  [1.0450952380952383, 1.015107142857143, 1.0115476190476191, 0.976154761904762, 0.9678333333333332, 0.9616309523809525, 0.9447380952380952, 0.9481428571428572, 0.9666428571428572, 0.9658214285714286, 0.9419523809523809, 0.991904761904762, 0.9389642857142856, 0.9622857142857142, 0.974797619047619, 0.943952380952381, 0.9860714285714287, 0.9406547619047619]\n",
      "Isoelectric point =  5.366760444641113\n",
      "Secondary structure fraction =  (0.25925925925925924, 0.2962962962962963, 0.14814814814814814)\n",
      "\n",
      "\n",
      "Protein of Interest =  {'A': 1, 'C': 3, 'D': 0, 'E': 2, 'F': 4, 'G': 1, 'H': 1, 'I': 0, 'K': 1, 'L': 0, 'M': 0, 'N': 4, 'P': 0, 'Q': 0, 'R': 2, 'S': 1, 'T': 5, 'V': 1, 'W': 1, 'Y': 1}\n",
      "Amino acids percent =     {'A': 0.03571428571428571, 'C': 0.10714285714285714, 'D': 0.0, 'E': 0.07142857142857142, 'F': 0.14285714285714285, 'G': 0.03571428571428571, 'H': 0.03571428571428571, 'I': 0.0, 'K': 0.03571428571428571, 'L': 0.0, 'M': 0.0, 'N': 0.14285714285714285, 'P': 0.0, 'Q': 0.0, 'R': 0.07142857142857142, 'S': 0.03571428571428571, 'T': 0.17857142857142858, 'V': 0.03571428571428571, 'W': 0.03571428571428571, 'Y': 0.03571428571428571}\n",
      "Molecular weight =  [3896.388, 5313.909099999998, 2268.5276000000003, 2240.4102, 2856.2400000000002, 3103.5840000000003, 2945.3948000000005, 3377.7007000000003]\n",
      "Aromaticity =  0.21428571428571427\n",
      "Flexibility =  [0.9694761904761904, 0.9744047619047619, 0.9476785714285713, 0.9637142857142857, 0.9847857142857143, 1.0032738095238096, 0.9888452380952382, 1.0032261904761905, 0.99675, 1.0350357142857145, 1.0093333333333332, 0.9953214285714286, 0.9988928571428571, 0.9712142857142856, 1.0100833333333334, 0.9486309523809522, 0.9800476190476192, 0.9552261904761905, 0.9668333333333333]\n",
      "Isoelectric point =  7.959476280212403\n",
      "Secondary structure fraction =  (0.25, 0.21428571428571425, 0.10714285714285714)\n",
      "\n",
      "\n",
      "Protein of Interest =  {'A': 2, 'C': 3, 'D': 1, 'E': 0, 'F': 1, 'G': 1, 'H': 1, 'I': 0, 'K': 0, 'L': 1, 'M': 0, 'N': 2, 'P': 0, 'Q': 1, 'R': 1, 'S': 3, 'T': 0, 'V': 2, 'W': 1, 'Y': 1}\n",
      "Amino acids percent =     {'A': 0.09523809523809523, 'C': 0.14285714285714285, 'D': 0.047619047619047616, 'E': 0.0, 'F': 0.047619047619047616, 'G': 0.047619047619047616, 'H': 0.047619047619047616, 'I': 0.0, 'K': 0.0, 'L': 0.047619047619047616, 'M': 0.0, 'N': 0.09523809523809523, 'P': 0.0, 'Q': 0.047619047619047616, 'R': 0.047619047619047616, 'S': 0.14285714285714285, 'T': 0.0, 'V': 0.09523809523809523, 'W': 0.047619047619047616, 'Y': 0.047619047619047616}\n",
      "Molecular weight =  [3896.388, 5313.909099999998, 2268.5276000000003, 2240.4102, 2856.2400000000002, 3103.5840000000003, 2945.3948000000005, 3377.7007000000003, 2360.6063]\n",
      "Aromaticity =  0.14285714285714285\n",
      "Flexibility =  [0.9919404761904761, 0.9683333333333334, 0.9752500000000001, 0.9571190476190475, 0.9684166666666666, 0.9291428571428572, 0.9424285714285714, 0.9483095238095238, 0.9805952380952382, 0.9430714285714286, 0.9922619047619047, 0.9447261904761907]\n",
      "Isoelectric point =  6.71719799041748\n",
      "Secondary structure fraction =  (0.2857142857142857, 0.2857142857142857, 0.14285714285714285)\n",
      "\n",
      "\n",
      "Protein of Interest =  {'A': 1, 'C': 1, 'D': 0, 'E': 1, 'F': 0, 'G': 2, 'H': 2, 'I': 1, 'K': 2, 'L': 3, 'M': 0, 'N': 5, 'P': 2, 'Q': 1, 'R': 7, 'S': 5, 'T': 2, 'V': 1, 'W': 2, 'Y': 1}\n",
      "Amino acids percent =     {'A': 0.02564102564102564, 'C': 0.02564102564102564, 'D': 0.0, 'E': 0.02564102564102564, 'F': 0.0, 'G': 0.05128205128205128, 'H': 0.05128205128205128, 'I': 0.02564102564102564, 'K': 0.05128205128205128, 'L': 0.07692307692307693, 'M': 0.0, 'N': 0.1282051282051282, 'P': 0.05128205128205128, 'Q': 0.02564102564102564, 'R': 0.1794871794871795, 'S': 0.1282051282051282, 'T': 0.05128205128205128, 'V': 0.02564102564102564, 'W': 0.05128205128205128, 'Y': 0.02564102564102564}\n",
      "Molecular weight =  [3896.388, 5313.909099999998, 2268.5276000000003, 2240.4102, 2856.2400000000002, 3103.5840000000003, 2945.3948000000005, 3377.7007000000003, 2360.6063, 4677.1971]\n",
      "Aromaticity =  0.07692307692307693\n",
      "Flexibility =  [0.9718571428571428, 1.0224404761904762, 0.9857738095238096, 0.9900595238095239, 1.010297619047619, 1.0256071428571427, 1.0432857142857141, 1.0315, 1.0495595238095237, 1.0591190476190477, 1.0232142857142859, 1.0299166666666668, 0.9823690476190476, 0.9911785714285716, 0.9817261904761905, 0.9952738095238095, 0.9940833333333333, 0.9951190476190477, 1.0149047619047618, 1.0031547619047618, 1.0241309523809523, 0.9916309523809526, 1.0159166666666668, 1.0118214285714286, 0.9830119047619047, 1.028392857142857, 0.9988928571428571, 1.0086785714285713, 1.0071428571428573, 0.9763928571428571]\n",
      "Isoelectric point =  11.885149574279783\n",
      "Secondary structure fraction =  (0.20512820512820512, 0.3589743589743589, 0.1282051282051282)\n",
      "\n",
      "\n",
      "Protein of Interest =  {'A': 0, 'C': 1, 'D': 1, 'E': 0, 'F': 1, 'G': 2, 'H': 1, 'I': 0, 'K': 2, 'L': 1, 'M': 0, 'N': 2, 'P': 0, 'Q': 2, 'R': 2, 'S': 0, 'T': 2, 'V': 0, 'W': 1, 'Y': 3}\n",
      "Amino acids percent =     {'A': 0.0, 'C': 0.047619047619047616, 'D': 0.047619047619047616, 'E': 0.0, 'F': 0.047619047619047616, 'G': 0.09523809523809523, 'H': 0.047619047619047616, 'I': 0.0, 'K': 0.09523809523809523, 'L': 0.047619047619047616, 'M': 0.0, 'N': 0.09523809523809523, 'P': 0.0, 'Q': 0.09523809523809523, 'R': 0.09523809523809523, 'S': 0.0, 'T': 0.09523809523809523, 'V': 0.0, 'W': 0.047619047619047616, 'Y': 0.14285714285714285}\n",
      "Molecular weight =  [3896.388, 5313.909099999998, 2268.5276000000003, 2240.4102, 2856.2400000000002, 3103.5840000000003, 2945.3948000000005, 3377.7007000000003, 2360.6063, 4677.1971, 2678.9358000000007]\n",
      "Aromaticity =  0.23809523809523808\n",
      "Flexibility =  [1.0099285714285715, 0.9907619047619048, 0.9964642857142858, 0.9900476190476191, 0.9938452380952382, 0.9902857142857142, 0.9805238095238094, 0.9917142857142858, 0.9790595238095238, 1.0197857142857143, 1.01675, 1.0183333333333333]\n",
      "Isoelectric point =  9.516645622253417\n",
      "Secondary structure fraction =  (0.2857142857142857, 0.19047619047619047, 0.047619047619047616)\n",
      "\n",
      "\n",
      "Protein of Interest =  {'A': 0, 'C': 4, 'D': 0, 'E': 0, 'F': 2, 'G': 0, 'H': 1, 'I': 0, 'K': 2, 'L': 4, 'M': 0, 'N': 0, 'P': 1, 'Q': 0, 'R': 1, 'S': 3, 'T': 1, 'V': 0, 'W': 0, 'Y': 2}\n",
      "Amino acids percent =     {'A': 0.0, 'C': 0.19047619047619047, 'D': 0.0, 'E': 0.0, 'F': 0.09523809523809523, 'G': 0.0, 'H': 0.047619047619047616, 'I': 0.0, 'K': 0.09523809523809523, 'L': 0.19047619047619047, 'M': 0.0, 'N': 0.0, 'P': 0.047619047619047616, 'Q': 0.0, 'R': 0.047619047619047616, 'S': 0.14285714285714285, 'T': 0.047619047619047616, 'V': 0.0, 'W': 0.0, 'Y': 0.09523809523809523}\n",
      "Molecular weight =  [3896.388, 5313.909099999998, 2268.5276000000003, 2240.4102, 2856.2400000000002, 3103.5840000000003, 2945.3948000000005, 3377.7007000000003, 2360.6063, 4677.1971, 2678.9358000000007, 2513.0319]\n",
      "Aromaticity =  0.19047619047619047\n",
      "Flexibility =  [1.013702380952381, 0.9737857142857145, 0.9620952380952381, 0.9662380952380952, 0.9885357142857144, 0.952154761904762, 0.9605357142857143, 0.9929880952380953, 0.9571428571428572, 1.005904761904762, 0.9431071428571427, 0.9783690476190475]\n",
      "Isoelectric point =  8.947712135314944\n",
      "Secondary structure fraction =  (0.38095238095238093, 0.19047619047619047, 0.19047619047619047)\n",
      "\n",
      "\n",
      "Protein of Interest =  {'A': 3, 'C': 1, 'D': 1, 'E': 2, 'F': 2, 'G': 4, 'H': 2, 'I': 0, 'K': 3, 'L': 3, 'M': 0, 'N': 3, 'P': 1, 'Q': 1, 'R': 2, 'S': 5, 'T': 0, 'V': 0, 'W': 1, 'Y': 1}\n",
      "Amino acids percent =     {'A': 0.08571428571428572, 'C': 0.02857142857142857, 'D': 0.02857142857142857, 'E': 0.05714285714285714, 'F': 0.05714285714285714, 'G': 0.11428571428571428, 'H': 0.05714285714285714, 'I': 0.0, 'K': 0.08571428571428572, 'L': 0.08571428571428572, 'M': 0.0, 'N': 0.08571428571428572, 'P': 0.02857142857142857, 'Q': 0.02857142857142857, 'R': 0.05714285714285714, 'S': 0.14285714285714285, 'T': 0.0, 'V': 0.0, 'W': 0.02857142857142857, 'Y': 0.02857142857142857}\n",
      "Molecular weight =  [3896.388, 5313.909099999998, 2268.5276000000003, 2240.4102, 2856.2400000000002, 3103.5840000000003, 2945.3948000000005, 3377.7007000000003, 2360.6063, 4677.1971, 2678.9358000000007, 2513.0319, 3893.2216000000008]\n",
      "Aromaticity =  0.11428571428571428\n",
      "Flexibility =  [1.0135119047619048, 1.069047619047619, 1.0439880952380955, 1.0310952380952383, 1.024702380952381, 1.040559523809524, 1.014345238095238, 1.0156190476190479, 0.9785357142857143, 0.9838571428571429, 1.0048333333333332, 0.965297619047619, 0.9834880952380952, 1.0148809523809523, 0.9993214285714286, 1.0153095238095238, 1.007345238095238, 0.9834999999999999, 1.0311785714285715, 0.9463214285714284, 0.974595238095238, 0.9653690476190477, 0.9555238095238094, 0.9952738095238095, 0.9956428571428569, 1.0134880952380951]\n",
      "Isoelectric point =  9.112235450744631\n",
      "Secondary structure fraction =  (0.2, 0.37142857142857144, 0.22857142857142856)\n",
      "\n",
      "\n",
      "Protein of Interest =  {'A': 4, 'C': 5, 'D': 0, 'E': 2, 'F': 2, 'G': 1, 'H': 0, 'I': 1, 'K': 0, 'L': 2, 'M': 0, 'N': 6, 'P': 0, 'Q': 1, 'R': 4, 'S': 1, 'T': 2, 'V': 0, 'W': 1, 'Y': 0}\n",
      "Amino acids percent =     {'A': 0.125, 'C': 0.15625, 'D': 0.0, 'E': 0.0625, 'F': 0.0625, 'G': 0.03125, 'H': 0.0, 'I': 0.03125, 'K': 0.0, 'L': 0.0625, 'M': 0.0, 'N': 0.1875, 'P': 0.0, 'Q': 0.03125, 'R': 0.125, 'S': 0.03125, 'T': 0.0625, 'V': 0.0, 'W': 0.03125, 'Y': 0.0}\n",
      "Molecular weight =  [3896.388, 5313.909099999998, 2268.5276000000003, 2240.4102, 2856.2400000000002, 3103.5840000000003, 2945.3948000000005, 3377.7007000000003, 2360.6063, 4677.1971, 2678.9358000000007, 2513.0319, 3893.2216000000008, 3680.1237]\n",
      "Aromaticity =  0.09375\n",
      "Flexibility =  [0.9722142857142857, 1.0079404761904764, 0.9514880952380952, 0.9688214285714286, 0.9662619047619048, 0.9964642857142859, 0.9459761904761905, 0.9939166666666667, 0.9912380952380951, 0.9988333333333334, 0.9752857142857143, 0.9627380952380952, 0.9919642857142857, 0.9593809523809523, 0.9968690476190476, 0.9864880952380953, 1.0011428571428571, 0.9937857142857143, 1.0118928571428571, 0.981, 1.0134880952380954, 0.9685357142857143, 0.9551309523809524]\n",
      "Isoelectric point =  8.47206439971924\n",
      "Secondary structure fraction =  (0.1875, 0.25, 0.25)\n",
      "\n",
      "\n",
      "Protein of Interest =  {'A': 2, 'C': 4, 'D': 0, 'E': 1, 'F': 4, 'G': 1, 'H': 0, 'I': 1, 'K': 1, 'L': 2, 'M': 0, 'N': 3, 'P': 0, 'Q': 1, 'R': 1, 'S': 7, 'T': 3, 'V': 1, 'W': 2, 'Y': 3}\n",
      "Amino acids percent =     {'A': 0.05405405405405406, 'C': 0.10810810810810811, 'D': 0.0, 'E': 0.02702702702702703, 'F': 0.10810810810810811, 'G': 0.02702702702702703, 'H': 0.0, 'I': 0.02702702702702703, 'K': 0.02702702702702703, 'L': 0.05405405405405406, 'M': 0.0, 'N': 0.08108108108108109, 'P': 0.0, 'Q': 0.02702702702702703, 'R': 0.02702702702702703, 'S': 0.1891891891891892, 'T': 0.08108108108108109, 'V': 0.02702702702702703, 'W': 0.05405405405405406, 'Y': 0.08108108108108109}\n",
      "Molecular weight =  [3896.388, 5313.909099999998, 2268.5276000000003, 2240.4102, 2856.2400000000002, 3103.5840000000003, 2945.3948000000005, 3377.7007000000003, 2360.6063, 4677.1971, 2678.9358000000007, 2513.0319, 3893.2216000000008, 3680.1237, 4315.794199999998]\n",
      "Aromaticity =  0.24324324324324326\n",
      "Flexibility =  [0.9669642857142856, 0.9709761904761907, 0.9464166666666666, 0.9684761904761905, 0.9541785714285714, 0.9826190476190477, 0.956547619047619, 0.9498214285714285, 0.9784166666666668, 1.0123690476190477, 0.9577500000000001, 1.0109166666666665, 0.9915952380952381, 1.0053214285714287, 0.9665952380952382, 1.0128333333333335, 0.965154761904762, 0.9829285714285715, 1.018511904761905, 0.9657023809523809, 1.0258928571428572, 1.009797619047619, 1.017309523809524, 1.0058214285714286, 1.019095238095238, 0.9776785714285714, 1.0046904761904762, 0.9436785714285714]\n",
      "Isoelectric point =  7.864643287658691\n",
      "Secondary structure fraction =  (0.35135135135135137, 0.2972972972972973, 0.13513513513513514)\n",
      "\n",
      "\n",
      "Protein of Interest =  {'A': 1, 'C': 1, 'D': 1, 'E': 0, 'F': 1, 'G': 2, 'H': 2, 'I': 1, 'K': 0, 'L': 1, 'M': 0, 'N': 2, 'P': 2, 'Q': 0, 'R': 0, 'S': 3, 'T': 2, 'V': 2, 'W': 3, 'Y': 0}\n",
      "Amino acids percent =     {'A': 0.041666666666666664, 'C': 0.041666666666666664, 'D': 0.041666666666666664, 'E': 0.0, 'F': 0.041666666666666664, 'G': 0.08333333333333333, 'H': 0.08333333333333333, 'I': 0.041666666666666664, 'K': 0.0, 'L': 0.041666666666666664, 'M': 0.0, 'N': 0.08333333333333333, 'P': 0.08333333333333333, 'Q': 0.0, 'R': 0.0, 'S': 0.125, 'T': 0.08333333333333333, 'V': 0.08333333333333333, 'W': 0.125, 'Y': 0.0}\n",
      "Molecular weight =  [3896.388, 5313.909099999998, 2268.5276000000003, 2240.4102, 2856.2400000000002, 3103.5840000000003, 2945.3948000000005, 3377.7007000000003, 2360.6063, 4677.1971, 2678.9358000000007, 2513.0319, 3893.2216000000008, 3680.1237, 4315.794199999998, 2711.9607]\n",
      "Aromaticity =  0.16666666666666666\n",
      "Flexibility =  [0.9617738095238095, 1.0046666666666664, 0.9689761904761905, 0.9807619047619047, 1.0043214285714286, 0.9881190476190478, 0.9595000000000001, 0.9710714285714285, 0.9857976190476191, 0.9693452380952382, 0.9561309523809525, 0.9609404761904761, 0.9962738095238095, 0.979761904761905, 0.9552500000000002]\n",
      "Isoelectric point =  5.988522148132325\n",
      "Secondary structure fraction =  (0.3333333333333333, 0.375, 0.08333333333333333)\n",
      "\n",
      "\n",
      "Protein of Interest =  {'A': 0, 'C': 1, 'D': 0, 'E': 2, 'F': 2, 'G': 1, 'H': 0, 'I': 0, 'K': 1, 'L': 4, 'M': 0, 'N': 2, 'P': 0, 'Q': 2, 'R': 3, 'S': 2, 'T': 1, 'V': 2, 'W': 0, 'Y': 0}\n",
      "Amino acids percent =     {'A': 0.0, 'C': 0.043478260869565216, 'D': 0.0, 'E': 0.08695652173913043, 'F': 0.08695652173913043, 'G': 0.043478260869565216, 'H': 0.0, 'I': 0.0, 'K': 0.043478260869565216, 'L': 0.17391304347826086, 'M': 0.0, 'N': 0.08695652173913043, 'P': 0.0, 'Q': 0.08695652173913043, 'R': 0.13043478260869565, 'S': 0.08695652173913043, 'T': 0.043478260869565216, 'V': 0.08695652173913043, 'W': 0.0, 'Y': 0.0}\n",
      "Molecular weight =  [3896.388, 5313.909099999998, 2268.5276000000003, 2240.4102, 2856.2400000000002, 3103.5840000000003, 2945.3948000000005, 3377.7007000000003, 2360.6063, 4677.1971, 2678.9358000000007, 2513.0319, 3893.2216000000008, 3680.1237, 4315.794199999998, 2711.9607, 2738.1290000000004]\n",
      "Aromaticity =  0.08695652173913043\n",
      "Flexibility =  [0.9976785714285715, 0.9843452380952383, 1.0017738095238096, 0.9674523809523811, 0.955642857142857, 0.995440476190476, 0.9470714285714286, 0.9854642857142858, 0.9541309523809525, 0.9823809523809525, 1.0081309523809525, 1.016190476190476, 1.0076428571428573, 1.0016190476190476]\n",
      "Isoelectric point =  9.500528526306152\n",
      "Secondary structure fraction =  (0.34782608695652173, 0.21739130434782608, 0.2608695652173913)\n",
      "\n",
      "\n",
      "Protein of Interest =  {'A': 0, 'C': 2, 'D': 1, 'E': 0, 'F': 1, 'G': 1, 'H': 0, 'I': 1, 'K': 1, 'L': 0, 'M': 0, 'N': 0, 'P': 0, 'Q': 0, 'R': 0, 'S': 5, 'T': 6, 'V': 3, 'W': 0, 'Y': 2}\n",
      "Amino acids percent =     {'A': 0.0, 'C': 0.08695652173913043, 'D': 0.043478260869565216, 'E': 0.0, 'F': 0.043478260869565216, 'G': 0.043478260869565216, 'H': 0.0, 'I': 0.043478260869565216, 'K': 0.043478260869565216, 'L': 0.0, 'M': 0.0, 'N': 0.0, 'P': 0.0, 'Q': 0.0, 'R': 0.0, 'S': 0.21739130434782608, 'T': 0.2608695652173913, 'V': 0.13043478260869565, 'W': 0.0, 'Y': 0.08695652173913043}\n",
      "Molecular weight =  [3896.388, 5313.909099999998, 2268.5276000000003, 2240.4102, 2856.2400000000002, 3103.5840000000003, 2945.3948000000005, 3377.7007000000003, 2360.6063, 4677.1971, 2678.9358000000007, 2513.0319, 3893.2216000000008, 3680.1237, 4315.794199999998, 2711.9607, 2738.1290000000004, 2450.6927999999994]\n",
      "Aromaticity =  0.13043478260869565\n",
      "Flexibility =  [1.0319880952380953, 1.0138690476190477, 1.001452380952381, 1.0081309523809523, 1.0035595238095238, 0.9694642857142858, 0.9840119047619047, 0.9494047619047619, 0.9552380952380952, 0.9622380952380952, 0.9907500000000001, 0.9518571428571428, 1.0009880952380954, 0.979988095238095]\n",
      "Isoelectric point =  5.494875526428221\n",
      "Secondary structure fraction =  (0.30434782608695654, 0.2608695652173913, 0.0)\n",
      "\n",
      "\n",
      "Protein of Interest =  {'A': 0, 'C': 2, 'D': 0, 'E': 0, 'F': 3, 'G': 1, 'H': 3, 'I': 1, 'K': 3, 'L': 5, 'M': 0, 'N': 3, 'P': 0, 'Q': 3, 'R': 6, 'S': 2, 'T': 2, 'V': 2, 'W': 0, 'Y': 4}\n",
      "Amino acids percent =     {'A': 0.0, 'C': 0.05, 'D': 0.0, 'E': 0.0, 'F': 0.075, 'G': 0.025, 'H': 0.075, 'I': 0.025, 'K': 0.075, 'L': 0.125, 'M': 0.0, 'N': 0.075, 'P': 0.0, 'Q': 0.075, 'R': 0.15, 'S': 0.05, 'T': 0.05, 'V': 0.05, 'W': 0.0, 'Y': 0.1}\n",
      "Molecular weight =  [3896.388, 5313.909099999998, 2268.5276000000003, 2240.4102, 2856.2400000000002, 3103.5840000000003, 2945.3948000000005, 3377.7007000000003, 2360.6063, 4677.1971, 2678.9358000000007, 2513.0319, 3893.2216000000008, 3680.1237, 4315.794199999998, 2711.9607, 2738.1290000000004, 2450.6927999999994, 5088.881]\n",
      "Aromaticity =  0.175\n",
      "Flexibility =  [0.9634642857142859, 0.9687619047619048, 0.9590714285714286, 0.9403809523809523, 0.9641666666666666, 0.9804166666666667, 0.9554880952380952, 1.0039285714285715, 0.9427261904761906, 0.9772261904761903, 0.9929404761904761, 0.9689047619047619, 1.0067857142857144, 0.9798928571428572, 0.9975952380952383, 0.9650833333333334, 0.9749761904761904, 0.98625, 0.938547619047619, 0.959, 0.9673333333333334, 0.9988452380952382, 0.9883571428571429, 1.01825, 0.9993333333333334, 0.9946190476190476, 1.0103690476190477, 1.026202380952381, 1.0114404761904763, 0.9946428571428573, 1.0411904761904762]\n",
      "Isoelectric point =  10.672499275207517\n",
      "Secondary structure fraction =  (0.375, 0.15000000000000002, 0.125)\n",
      "\n",
      "\n",
      "Protein of Interest =  {'A': 0, 'C': 2, 'D': 0, 'E': 0, 'F': 2, 'G': 2, 'H': 1, 'I': 0, 'K': 1, 'L': 1, 'M': 0, 'N': 2, 'P': 1, 'Q': 1, 'R': 4, 'S': 1, 'T': 0, 'V': 0, 'W': 1, 'Y': 1}\n",
      "Amino acids percent =     {'A': 0.0, 'C': 0.1, 'D': 0.0, 'E': 0.0, 'F': 0.1, 'G': 0.1, 'H': 0.05, 'I': 0.0, 'K': 0.05, 'L': 0.05, 'M': 0.0, 'N': 0.1, 'P': 0.05, 'Q': 0.05, 'R': 0.2, 'S': 0.05, 'T': 0.0, 'V': 0.0, 'W': 0.05, 'Y': 0.05}\n",
      "Molecular weight =  [3896.388, 5313.909099999998, 2268.5276000000003, 2240.4102, 2856.2400000000002, 3103.5840000000003, 2945.3948000000005, 3377.7007000000003, 2360.6063, 4677.1971, 2678.9358000000007, 2513.0319, 3893.2216000000008, 3680.1237, 4315.794199999998, 2711.9607, 2738.1290000000004, 2450.6927999999994, 5088.881, 2525.8732999999997]\n",
      "Aromaticity =  0.2\n",
      "Flexibility =  [0.9999642857142857, 1.0026190476190475, 0.9674642857142857, 1.016857142857143, 0.9796904761904763, 1.0128333333333333, 1.0112738095238096, 1.0041309523809525, 0.9958571428571429, 0.9635476190476191, 0.9835238095238097]\n",
      "Isoelectric point =  10.860037803649902\n",
      "Secondary structure fraction =  (0.25, 0.3, 0.05)\n",
      "\n",
      "\n",
      "Protein of Interest =  {'A': 0, 'C': 3, 'D': 1, 'E': 0, 'F': 5, 'G': 0, 'H': 0, 'I': 1, 'K': 2, 'L': 4, 'M': 0, 'N': 4, 'P': 1, 'Q': 0, 'R': 3, 'S': 0, 'T': 2, 'V': 2, 'W': 0, 'Y': 2}\n",
      "Amino acids percent =     {'A': 0.0, 'C': 0.1, 'D': 0.03333333333333333, 'E': 0.0, 'F': 0.16666666666666666, 'G': 0.0, 'H': 0.0, 'I': 0.03333333333333333, 'K': 0.06666666666666667, 'L': 0.13333333333333333, 'M': 0.0, 'N': 0.13333333333333333, 'P': 0.03333333333333333, 'Q': 0.0, 'R': 0.1, 'S': 0.0, 'T': 0.06666666666666667, 'V': 0.06666666666666667, 'W': 0.0, 'Y': 0.06666666666666667}\n",
      "Molecular weight =  [3896.388, 5313.909099999998, 2268.5276000000003, 2240.4102, 2856.2400000000002, 3103.5840000000003, 2945.3948000000005, 3377.7007000000003, 2360.6063, 4677.1971, 2678.9358000000007, 2513.0319, 3893.2216000000008, 3680.1237, 4315.794199999998, 2711.9607, 2738.1290000000004, 2450.6927999999994, 5088.881, 2525.8732999999997, 3749.4319000000014]\n",
      "Aromaticity =  0.23333333333333334\n",
      "Flexibility =  [1.0057142857142856, 0.9544166666666669, 0.96025, 0.9554285714285714, 0.9765000000000001, 0.9515119047619051, 1.0015119047619048, 0.9422499999999998, 0.9828095238095236, 0.998107142857143, 0.9716190476190476, 0.9583095238095238, 0.9650357142857143, 0.9944880952380953, 0.9539285714285713, 0.9700714285714285, 0.9901666666666668, 0.9670238095238096, 0.9501785714285714, 0.9581666666666667, 0.9740833333333334]\n",
      "Isoelectric point =  9.415881538391115\n",
      "Secondary structure fraction =  (0.4666666666666667, 0.16666666666666666, 0.13333333333333333)\n",
      "\n",
      "\n",
      "Protein of Interest =  {'A': 0, 'C': 0, 'D': 0, 'E': 0, 'F': 7, 'G': 0, 'H': 2, 'I': 1, 'K': 0, 'L': 1, 'M': 0, 'N': 2, 'P': 0, 'Q': 0, 'R': 3, 'S': 1, 'T': 1, 'V': 0, 'W': 1, 'Y': 2}\n",
      "Amino acids percent =     {'A': 0.0, 'C': 0.0, 'D': 0.0, 'E': 0.0, 'F': 0.3333333333333333, 'G': 0.0, 'H': 0.09523809523809523, 'I': 0.047619047619047616, 'K': 0.0, 'L': 0.047619047619047616, 'M': 0.0, 'N': 0.09523809523809523, 'P': 0.0, 'Q': 0.0, 'R': 0.14285714285714285, 'S': 0.047619047619047616, 'T': 0.047619047619047616, 'V': 0.0, 'W': 0.047619047619047616, 'Y': 0.09523809523809523}\n",
      "Molecular weight =  [3896.388, 5313.909099999998, 2268.5276000000003, 2240.4102, 2856.2400000000002, 3103.5840000000003, 2945.3948000000005, 3377.7007000000003, 2360.6063, 4677.1971, 2678.9358000000007, 2513.0319, 3893.2216000000008, 3680.1237, 4315.794199999998, 2711.9607, 2738.1290000000004, 2450.6927999999994, 5088.881, 2525.8732999999997, 3749.4319000000014, 2946.325500000001]\n",
      "Aromaticity =  0.47619047619047616\n",
      "Flexibility =  [0.9697261904761906, 0.9481309523809524, 0.9563214285714288, 0.9811428571428573, 0.9440952380952381, 0.9678214285714287, 0.9869404761904763, 0.9876190476190477, 0.9619761904761904, 0.9936309523809524, 0.99125, 0.9544404761904762]\n",
      "Isoelectric point =  10.903553962707516\n",
      "Secondary structure fraction =  (0.5714285714285714, 0.14285714285714285, 0.047619047619047616)\n",
      "\n",
      "\n",
      "Protein of Interest =  {'A': 0, 'C': 2, 'D': 0, 'E': 0, 'F': 4, 'G': 2, 'H': 1, 'I': 1, 'K': 0, 'L': 1, 'M': 1, 'N': 1, 'P': 0, 'Q': 0, 'R': 1, 'S': 2, 'T': 0, 'V': 2, 'W': 1, 'Y': 1}\n",
      "Amino acids percent =     {'A': 0.0, 'C': 0.1, 'D': 0.0, 'E': 0.0, 'F': 0.2, 'G': 0.1, 'H': 0.05, 'I': 0.05, 'K': 0.0, 'L': 0.05, 'M': 0.05, 'N': 0.05, 'P': 0.0, 'Q': 0.0, 'R': 0.05, 'S': 0.1, 'T': 0.0, 'V': 0.1, 'W': 0.05, 'Y': 0.05}\n",
      "Molecular weight =  [3896.388, 5313.909099999998, 2268.5276000000003, 2240.4102, 2856.2400000000002, 3103.5840000000003, 2945.3948000000005, 3377.7007000000003, 2360.6063, 4677.1971, 2678.9358000000007, 2513.0319, 3893.2216000000008, 3680.1237, 4315.794199999998, 2711.9607, 2738.1290000000004, 2450.6927999999994, 5088.881, 2525.8732999999997, 3749.4319000000014, 2946.325500000001, 2413.8374]\n",
      "Aromaticity =  0.30000000000000004\n",
      "Flexibility =  [0.953607142857143, 0.9440357142857143, 0.9511904761904763, 0.971547619047619, 0.9264166666666667, 0.9720833333333335, 0.9432976190476191, 0.9559523809523809, 0.9495119047619047, 0.9755833333333334, 0.939392857142857]\n",
      "Isoelectric point =  7.84620532989502\n",
      "Secondary structure fraction =  (0.5, 0.25, 0.1)\n",
      "\n",
      "\n",
      "Protein of Interest =  {'A': 1, 'C': 3, 'D': 0, 'E': 0, 'F': 4, 'G': 1, 'H': 1, 'I': 2, 'K': 0, 'L': 2, 'M': 0, 'N': 1, 'P': 0, 'Q': 1, 'R': 0, 'S': 1, 'T': 2, 'V': 2, 'W': 1, 'Y': 1}\n",
      "Amino acids percent =     {'A': 0.043478260869565216, 'C': 0.13043478260869565, 'D': 0.0, 'E': 0.0, 'F': 0.17391304347826086, 'G': 0.043478260869565216, 'H': 0.043478260869565216, 'I': 0.08695652173913043, 'K': 0.0, 'L': 0.08695652173913043, 'M': 0.0, 'N': 0.043478260869565216, 'P': 0.0, 'Q': 0.043478260869565216, 'R': 0.0, 'S': 0.043478260869565216, 'T': 0.08695652173913043, 'V': 0.08695652173913043, 'W': 0.043478260869565216, 'Y': 0.043478260869565216}\n",
      "Molecular weight =  [3896.388, 5313.909099999998, 2268.5276000000003, 2240.4102, 2856.2400000000002, 3103.5840000000003, 2945.3948000000005, 3377.7007000000003, 2360.6063, 4677.1971, 2678.9358000000007, 2513.0319, 3893.2216000000008, 3680.1237, 4315.794199999998, 2711.9607, 2738.1290000000004, 2450.6927999999994, 5088.881, 2525.8732999999997, 3749.4319000000014, 2946.325500000001, 2413.8374, 2713.2001]\n",
      "Aromaticity =  0.2608695652173913\n",
      "Flexibility =  [0.9236190476190477, 0.9518214285714286, 0.9749880952380953, 0.9408809523809525, 0.9937738095238096, 0.949952380952381, 0.9713333333333333, 0.9528809523809524, 0.9571428571428571, 0.9505119047619048, 0.9703928571428572, 0.9335833333333332, 0.9495357142857144, 0.9527023809523809]\n",
      "Isoelectric point =  6.686618614196779\n",
      "Secondary structure fraction =  (0.5217391304347825, 0.13043478260869565, 0.13043478260869565)\n",
      "\n",
      "\n",
      "Protein of Interest =  {'A': 1, 'C': 5, 'D': 0, 'E': 1, 'F': 0, 'G': 0, 'H': 1, 'I': 2, 'K': 1, 'L': 6, 'M': 1, 'N': 1, 'P': 0, 'Q': 0, 'R': 2, 'S': 0, 'T': 0, 'V': 1, 'W': 0, 'Y': 0}\n",
      "Amino acids percent =     {'A': 0.045454545454545456, 'C': 0.22727272727272727, 'D': 0.0, 'E': 0.045454545454545456, 'F': 0.0, 'G': 0.0, 'H': 0.045454545454545456, 'I': 0.09090909090909091, 'K': 0.045454545454545456, 'L': 0.2727272727272727, 'M': 0.045454545454545456, 'N': 0.045454545454545456, 'P': 0.0, 'Q': 0.0, 'R': 0.09090909090909091, 'S': 0.0, 'T': 0.0, 'V': 0.045454545454545456, 'W': 0.0, 'Y': 0.0}\n",
      "Molecular weight =  [3896.388, 5313.909099999998, 2268.5276000000003, 2240.4102, 2856.2400000000002, 3103.5840000000003, 2945.3948000000005, 3377.7007000000003, 2360.6063, 4677.1971, 2678.9358000000007, 2513.0319, 3893.2216000000008, 3680.1237, 4315.794199999998, 2711.9607, 2738.1290000000004, 2450.6927999999994, 5088.881, 2525.8732999999997, 3749.4319000000014, 2946.325500000001, 2413.8374, 2713.2001, 2561.2950999999994]\n",
      "Aromaticity =  0.0\n",
      "Flexibility =  [0.930202380952381, 0.9323452380952382, 0.9270833333333334, 0.9287023809523811, 0.9359285714285713, 0.9452142857142857, 0.9726666666666668, 1.0035238095238097, 0.9917500000000002, 0.9584642857142857, 0.9718333333333333, 0.9834642857142858, 0.9480952380952381]\n",
      "Isoelectric point =  8.439765739440919\n",
      "Secondary structure fraction =  (0.40909090909090906, 0.045454545454545456, 0.40909090909090906)\n",
      "\n",
      "\n",
      "Protein of Interest =  {'A': 1, 'C': 2, 'D': 0, 'E': 0, 'F': 0, 'G': 1, 'H': 0, 'I': 4, 'K': 1, 'L': 2, 'M': 0, 'N': 0, 'P': 0, 'Q': 1, 'R': 2, 'S': 5, 'T': 3, 'V': 4, 'W': 0, 'Y': 2}\n",
      "Amino acids percent =     {'A': 0.03571428571428571, 'C': 0.07142857142857142, 'D': 0.0, 'E': 0.0, 'F': 0.0, 'G': 0.03571428571428571, 'H': 0.0, 'I': 0.14285714285714285, 'K': 0.03571428571428571, 'L': 0.07142857142857142, 'M': 0.0, 'N': 0.0, 'P': 0.0, 'Q': 0.03571428571428571, 'R': 0.07142857142857142, 'S': 0.17857142857142858, 'T': 0.10714285714285714, 'V': 0.14285714285714285, 'W': 0.0, 'Y': 0.07142857142857142}\n",
      "Molecular weight =  [3896.388, 5313.909099999998, 2268.5276000000003, 2240.4102, 2856.2400000000002, 3103.5840000000003, 2945.3948000000005, 3377.7007000000003, 2360.6063, 4677.1971, 2678.9358000000007, 2513.0319, 3893.2216000000008, 3680.1237, 4315.794199999998, 2711.9607, 2738.1290000000004, 2450.6927999999994, 5088.881, 2525.8732999999997, 3749.4319000000014, 2946.325500000001, 2413.8374, 2713.2001, 2561.2950999999994, 3061.6174]\n",
      "Aromaticity =  0.07142857142857142\n",
      "Flexibility =  [0.9411071428571428, 0.9917738095238097, 0.9460119047619048, 0.9586071428571427, 0.9686666666666669, 0.9626309523809526, 0.9887261904761905, 0.975857142857143, 0.9705595238095238, 0.9739761904761906, 0.9810119047619048, 1.0021666666666667, 0.968702380952381, 0.9614642857142858, 0.9867619047619046, 0.9678809523809525, 0.99825, 0.99025, 1.0033690476190475]\n",
      "Isoelectric point =  9.38783779144287\n",
      "Secondary structure fraction =  (0.4285714285714285, 0.2142857142857143, 0.10714285714285714)\n",
      "\n",
      "\n",
      "Protein of Interest =  {'A': 1, 'C': 4, 'D': 0, 'E': 1, 'F': 2, 'G': 0, 'H': 0, 'I': 1, 'K': 1, 'L': 2, 'M': 0, 'N': 0, 'P': 0, 'Q': 1, 'R': 2, 'S': 3, 'T': 1, 'V': 2, 'W': 0, 'Y': 2}\n",
      "Amino acids percent =     {'A': 0.043478260869565216, 'C': 0.17391304347826086, 'D': 0.0, 'E': 0.043478260869565216, 'F': 0.08695652173913043, 'G': 0.0, 'H': 0.0, 'I': 0.043478260869565216, 'K': 0.043478260869565216, 'L': 0.08695652173913043, 'M': 0.0, 'N': 0.0, 'P': 0.0, 'Q': 0.043478260869565216, 'R': 0.08695652173913043, 'S': 0.13043478260869565, 'T': 0.043478260869565216, 'V': 0.08695652173913043, 'W': 0.0, 'Y': 0.08695652173913043}\n",
      "Molecular weight =  [3896.388, 5313.909099999998, 2268.5276000000003, 2240.4102, 2856.2400000000002, 3103.5840000000003, 2945.3948000000005, 3377.7007000000003, 2360.6063, 4677.1971, 2678.9358000000007, 2513.0319, 3893.2216000000008, 3680.1237, 4315.794199999998, 2711.9607, 2738.1290000000004, 2450.6927999999994, 5088.881, 2525.8732999999997, 3749.4319000000014, 2946.325500000001, 2413.8374, 2713.2001, 2561.2950999999994, 3061.6174, 2720.2162999999996]\n",
      "Aromaticity =  0.17391304347826086\n",
      "Flexibility =  [0.9895833333333334, 0.9777857142857145, 0.9870595238095238, 0.9710595238095239, 0.9336190476190477, 0.9568809523809525, 0.9433095238095238, 0.9376190476190477, 0.9322023809523811, 0.9418214285714286, 0.9513690476190477, 0.9939285714285715, 0.9883333333333333, 0.9983928571428573]\n",
      "Isoelectric point =  8.482766151428223\n",
      "Secondary structure fraction =  (0.391304347826087, 0.13043478260869565, 0.17391304347826086)\n",
      "\n",
      "\n",
      "Protein of Interest =  {'A': 0, 'C': 6, 'D': 0, 'E': 0, 'F': 3, 'G': 0, 'H': 1, 'I': 0, 'K': 0, 'L': 1, 'M': 0, 'N': 2, 'P': 1, 'Q': 0, 'R': 0, 'S': 2, 'T': 2, 'V': 2, 'W': 0, 'Y': 2}\n",
      "Amino acids percent =     {'A': 0.0, 'C': 0.2727272727272727, 'D': 0.0, 'E': 0.0, 'F': 0.13636363636363635, 'G': 0.0, 'H': 0.045454545454545456, 'I': 0.0, 'K': 0.0, 'L': 0.045454545454545456, 'M': 0.0, 'N': 0.09090909090909091, 'P': 0.045454545454545456, 'Q': 0.0, 'R': 0.0, 'S': 0.09090909090909091, 'T': 0.09090909090909091, 'V': 0.09090909090909091, 'W': 0.0, 'Y': 0.09090909090909091}\n",
      "Molecular weight =  [3896.388, 5313.909099999998, 2268.5276000000003, 2240.4102, 2856.2400000000002, 3103.5840000000003, 2945.3948000000005, 3377.7007000000003, 2360.6063, 4677.1971, 2678.9358000000007, 2513.0319, 3893.2216000000008, 3680.1237, 4315.794199999998, 2711.9607, 2738.1290000000004, 2450.6927999999994, 5088.881, 2525.8732999999997, 3749.4319000000014, 2946.325500000001, 2413.8374, 2713.2001, 2561.2950999999994, 3061.6174, 2720.2162999999996, 2554.9822]\n",
      "Aromaticity =  0.22727272727272727\n",
      "Flexibility =  [0.9758571428571426, 0.921654761904762, 0.9365357142857142, 0.928845238095238, 0.925047619047619, 0.9254166666666668, 0.9205, 0.9392380952380954, 0.9463095238095237, 0.9869880952380952, 0.9792142857142858, 0.9749761904761904, 0.9657738095238095]\n",
      "Isoelectric point =  6.436981773376464\n",
      "Secondary structure fraction =  (0.36363636363636365, 0.22727272727272727, 0.045454545454545456)\n",
      "\n",
      "\n",
      "Protein of Interest =  {'A': 2, 'C': 3, 'D': 2, 'E': 0, 'F': 2, 'G': 1, 'H': 3, 'I': 2, 'K': 1, 'L': 1, 'M': 0, 'N': 2, 'P': 1, 'Q': 1, 'R': 2, 'S': 3, 'T': 1, 'V': 0, 'W': 2, 'Y': 0}\n",
      "Amino acids percent =     {'A': 0.06896551724137931, 'C': 0.10344827586206896, 'D': 0.06896551724137931, 'E': 0.0, 'F': 0.06896551724137931, 'G': 0.034482758620689655, 'H': 0.10344827586206896, 'I': 0.06896551724137931, 'K': 0.034482758620689655, 'L': 0.034482758620689655, 'M': 0.0, 'N': 0.06896551724137931, 'P': 0.034482758620689655, 'Q': 0.034482758620689655, 'R': 0.06896551724137931, 'S': 0.10344827586206896, 'T': 0.034482758620689655, 'V': 0.0, 'W': 0.06896551724137931, 'Y': 0.0}\n",
      "Molecular weight =  [3896.388, 5313.909099999998, 2268.5276000000003, 2240.4102, 2856.2400000000002, 3103.5840000000003, 2945.3948000000005, 3377.7007000000003, 2360.6063, 4677.1971, 2678.9358000000007, 2513.0319, 3893.2216000000008, 3680.1237, 4315.794199999998, 2711.9607, 2738.1290000000004, 2450.6927999999994, 5088.881, 2525.8732999999997, 3749.4319000000014, 2946.325500000001, 2413.8374, 2713.2001, 2561.2950999999994, 3061.6174, 2720.2162999999996, 2554.9822, 3430.8130999999994]\n",
      "Aromaticity =  0.13793103448275862\n",
      "Flexibility =  [1.0120833333333334, 0.9491190476190474, 0.9739642857142857, 1.0085833333333334, 0.9737857142857143, 1.022904761904762, 1.026904761904762, 1.0076071428571427, 1.0275357142857142, 1.0081309523809525, 0.9782261904761905, 0.978392857142857, 0.9835595238095239, 0.9553095238095239, 0.9352738095238096, 0.9449642857142857, 0.961547619047619, 0.9375595238095238, 0.9632499999999999, 0.9837380952380951]\n",
      "Isoelectric point =  7.987068748474122\n",
      "Secondary structure fraction =  (0.24137931034482757, 0.24137931034482757, 0.10344827586206896)\n",
      "\n",
      "\n",
      "Protein of Interest =  {'A': 0, 'C': 3, 'D': 0, 'E': 1, 'F': 2, 'G': 1, 'H': 1, 'I': 2, 'K': 0, 'L': 2, 'M': 1, 'N': 2, 'P': 1, 'Q': 0, 'R': 1, 'S': 6, 'T': 3, 'V': 2, 'W': 3, 'Y': 7}\n",
      "Amino acids percent =     {'A': 0.0, 'C': 0.07894736842105263, 'D': 0.0, 'E': 0.02631578947368421, 'F': 0.05263157894736842, 'G': 0.02631578947368421, 'H': 0.02631578947368421, 'I': 0.05263157894736842, 'K': 0.0, 'L': 0.05263157894736842, 'M': 0.02631578947368421, 'N': 0.05263157894736842, 'P': 0.02631578947368421, 'Q': 0.0, 'R': 0.02631578947368421, 'S': 0.15789473684210525, 'T': 0.07894736842105263, 'V': 0.05263157894736842, 'W': 0.07894736842105263, 'Y': 0.18421052631578946}\n",
      "Molecular weight =  [3896.388, 5313.909099999998, 2268.5276000000003, 2240.4102, 2856.2400000000002, 3103.5840000000003, 2945.3948000000005, 3377.7007000000003, 2360.6063, 4677.1971, 2678.9358000000007, 2513.0319, 3893.2216000000008, 3680.1237, 4315.794199999998, 2711.9607, 2738.1290000000004, 2450.6927999999994, 5088.881, 2525.8732999999997, 3749.4319000000014, 2946.325500000001, 2413.8374, 2713.2001, 2561.2950999999994, 3061.6174, 2720.2162999999996, 2554.9822, 3430.8130999999994, 4735.308299999999]\n",
      "Aromaticity =  0.3157894736842105\n",
      "Flexibility =  [1.0003690476190477, 0.9950119047619048, 0.9814761904761904, 0.9646190476190477, 0.9589285714285716, 0.9524047619047619, 0.9453333333333334, 0.9688214285714284, 0.9386785714285715, 0.9530833333333333, 0.9878571428571429, 0.953654761904762, 0.9759642857142858, 0.9945000000000002, 0.97375, 0.9398095238095239, 0.9559642857142856, 0.9558214285714287, 0.9472261904761904, 0.9820595238095239, 0.9469880952380954, 0.9953928571428573, 1.0032023809523811, 1.0026071428571428, 0.9826785714285714, 1.0074047619047617, 0.9528452380952381, 0.9674166666666667, 0.9555714285714286]\n",
      "Isoelectric point =  6.717311668395996\n",
      "Secondary structure fraction =  (0.47368421052631576, 0.2631578947368421, 0.10526315789473684)\n",
      "\n",
      "\n",
      "Protein of Interest =  {'A': 0, 'C': 3, 'D': 1, 'E': 0, 'F': 3, 'G': 0, 'H': 1, 'I': 4, 'K': 0, 'L': 9, 'M': 0, 'N': 1, 'P': 1, 'Q': 0, 'R': 0, 'S': 2, 'T': 4, 'V': 2, 'W': 1, 'Y': 4}\n",
      "Amino acids percent =     {'A': 0.0, 'C': 0.08333333333333333, 'D': 0.027777777777777776, 'E': 0.0, 'F': 0.08333333333333333, 'G': 0.0, 'H': 0.027777777777777776, 'I': 0.1111111111111111, 'K': 0.0, 'L': 0.25, 'M': 0.0, 'N': 0.027777777777777776, 'P': 0.027777777777777776, 'Q': 0.0, 'R': 0.0, 'S': 0.05555555555555555, 'T': 0.1111111111111111, 'V': 0.05555555555555555, 'W': 0.027777777777777776, 'Y': 0.1111111111111111}\n",
      "Molecular weight =  [3896.388, 5313.909099999998, 2268.5276000000003, 2240.4102, 2856.2400000000002, 3103.5840000000003, 2945.3948000000005, 3377.7007000000003, 2360.6063, 4677.1971, 2678.9358000000007, 2513.0319, 3893.2216000000008, 3680.1237, 4315.794199999998, 2711.9607, 2738.1290000000004, 2450.6927999999994, 5088.881, 2525.8732999999997, 3749.4319000000014, 2946.325500000001, 2413.8374, 2713.2001, 2561.2950999999994, 3061.6174, 2720.2162999999996, 2554.9822, 3430.8130999999994, 4735.308299999999, 4319.1936]\n",
      "Aromaticity =  0.2222222222222222\n",
      "Flexibility =  [0.9366904761904762, 0.9534404761904762, 0.9494880952380953, 0.9496785714285716, 0.9346309523809524, 0.9608690476190476, 0.9414285714285716, 0.9590119047619048, 0.9963214285714286, 0.9703095238095238, 0.9910000000000002, 0.9557142857142857, 0.9700238095238095, 0.9596904761904762, 0.9506190476190477, 0.954345238095238, 0.9189404761904763, 0.9308690476190475, 0.9321190476190476, 0.9211309523809523, 0.9211904761904761, 0.9257500000000001, 0.9264166666666669, 0.9348095238095239, 0.9402380952380953, 0.9482857142857144, 0.9843452380952381]\n",
      "Isoelectric point =  5.0758584976196275\n",
      "Secondary structure fraction =  (0.6388888888888888, 0.1111111111111111, 0.25)\n",
      "\n",
      "\n",
      "Protein of Interest =  {'A': 1, 'C': 2, 'D': 2, 'E': 0, 'F': 7, 'G': 1, 'H': 3, 'I': 0, 'K': 1, 'L': 6, 'M': 0, 'N': 2, 'P': 0, 'Q': 0, 'R': 0, 'S': 3, 'T': 3, 'V': 3, 'W': 0, 'Y': 4}\n",
      "Amino acids percent =     {'A': 0.02631578947368421, 'C': 0.05263157894736842, 'D': 0.05263157894736842, 'E': 0.0, 'F': 0.18421052631578946, 'G': 0.02631578947368421, 'H': 0.07894736842105263, 'I': 0.0, 'K': 0.02631578947368421, 'L': 0.15789473684210525, 'M': 0.0, 'N': 0.05263157894736842, 'P': 0.0, 'Q': 0.0, 'R': 0.0, 'S': 0.07894736842105263, 'T': 0.07894736842105263, 'V': 0.07894736842105263, 'W': 0.0, 'Y': 0.10526315789473684}\n",
      "Molecular weight =  [3896.388, 5313.909099999998, 2268.5276000000003, 2240.4102, 2856.2400000000002, 3103.5840000000003, 2945.3948000000005, 3377.7007000000003, 2360.6063, 4677.1971, 2678.9358000000007, 2513.0319, 3893.2216000000008, 3680.1237, 4315.794199999998, 2711.9607, 2738.1290000000004, 2450.6927999999994, 5088.881, 2525.8732999999997, 3749.4319000000014, 2946.325500000001, 2413.8374, 2713.2001, 2561.2950999999994, 3061.6174, 2720.2162999999996, 2554.9822, 3430.8130999999994, 4735.308299999999, 4319.1936, 4574.192099999999]\n",
      "Aromaticity =  0.2894736842105263\n",
      "Flexibility =  [0.9562261904761904, 0.9643214285714286, 1.0086904761904762, 0.9719166666666668, 1.0185714285714287, 0.9828571428571428, 0.9657261904761906, 0.9752619047619048, 0.9725714285714288, 0.9792261904761904, 0.9514404761904762, 0.9897976190476191, 0.9657023809523809, 0.9652380952380952, 0.9897261904761905, 1.014988095238095, 0.9931190476190476, 0.9921428571428572, 0.9575714285714285, 0.9775595238095239, 0.9591428571428573, 0.9500714285714287, 0.9353690476190476, 0.9399761904761904, 0.9474166666666667, 0.9632261904761905, 0.9937261904761906, 0.9489761904761904, 0.9535833333333334]\n",
      "Isoelectric point =  6.252937126159668\n",
      "Secondary structure fraction =  (0.5263157894736842, 0.15789473684210525, 0.18421052631578946)\n",
      "\n",
      "\n",
      "Protein of Interest =  {'A': 1, 'C': 3, 'D': 1, 'E': 1, 'F': 4, 'G': 0, 'H': 2, 'I': 1, 'K': 0, 'L': 3, 'M': 1, 'N': 0, 'P': 1, 'Q': 2, 'R': 1, 'S': 4, 'T': 3, 'V': 2, 'W': 2, 'Y': 2}\n",
      "Amino acids percent =     {'A': 0.029411764705882353, 'C': 0.08823529411764706, 'D': 0.029411764705882353, 'E': 0.029411764705882353, 'F': 0.11764705882352941, 'G': 0.0, 'H': 0.058823529411764705, 'I': 0.029411764705882353, 'K': 0.0, 'L': 0.08823529411764706, 'M': 0.029411764705882353, 'N': 0.0, 'P': 0.029411764705882353, 'Q': 0.058823529411764705, 'R': 0.029411764705882353, 'S': 0.11764705882352941, 'T': 0.08823529411764706, 'V': 0.058823529411764705, 'W': 0.058823529411764705, 'Y': 0.058823529411764705}\n",
      "Molecular weight =  [3896.388, 5313.909099999998, 2268.5276000000003, 2240.4102, 2856.2400000000002, 3103.5840000000003, 2945.3948000000005, 3377.7007000000003, 2360.6063, 4677.1971, 2678.9358000000007, 2513.0319, 3893.2216000000008, 3680.1237, 4315.794199999998, 2711.9607, 2738.1290000000004, 2450.6927999999994, 5088.881, 2525.8732999999997, 3749.4319000000014, 2946.325500000001, 2413.8374, 2713.2001, 2561.2950999999994, 3061.6174, 2720.2162999999996, 2554.9822, 3430.8130999999994, 4735.308299999999, 4319.1936, 4574.192099999999, 4147.7319]\n",
      "Aromaticity =  0.23529411764705882\n",
      "Flexibility =  [0.9895238095238096, 1.004547619047619, 0.9989642857142856, 1.010797619047619, 0.9635119047619047, 0.9832619047619047, 1.0034761904761906, 0.9553928571428572, 0.9976428571428573, 0.9520000000000002, 0.9686071428571429, 0.9859761904761906, 0.9357619047619048, 0.954404761904762, 0.9588333333333333, 0.927845238095238, 0.9357619047619048, 0.938297619047619, 0.9470714285714286, 0.967785714285714, 0.9380714285714286, 0.9536071428571428, 0.9756190476190476, 1.0103095238095239, 0.9655714285714286]\n",
      "Isoelectric point =  5.985566520690917\n",
      "Secondary structure fraction =  (0.4117647058823529, 0.14705882352941177, 0.1764705882352941)\n",
      "\n",
      "\n",
      "Protein of Interest =  {'A': 1, 'C': 2, 'D': 0, 'E': 0, 'F': 1, 'G': 1, 'H': 2, 'I': 1, 'K': 0, 'L': 5, 'M': 0, 'N': 1, 'P': 1, 'Q': 0, 'R': 3, 'S': 2, 'T': 1, 'V': 0, 'W': 2, 'Y': 1}\n",
      "Amino acids percent =     {'A': 0.041666666666666664, 'C': 0.08333333333333333, 'D': 0.0, 'E': 0.0, 'F': 0.041666666666666664, 'G': 0.041666666666666664, 'H': 0.08333333333333333, 'I': 0.041666666666666664, 'K': 0.0, 'L': 0.20833333333333334, 'M': 0.0, 'N': 0.041666666666666664, 'P': 0.041666666666666664, 'Q': 0.0, 'R': 0.125, 'S': 0.08333333333333333, 'T': 0.041666666666666664, 'V': 0.0, 'W': 0.08333333333333333, 'Y': 0.041666666666666664}\n",
      "Molecular weight =  [3896.388, 5313.909099999998, 2268.5276000000003, 2240.4102, 2856.2400000000002, 3103.5840000000003, 2945.3948000000005, 3377.7007000000003, 2360.6063, 4677.1971, 2678.9358000000007, 2513.0319, 3893.2216000000008, 3680.1237, 4315.794199999998, 2711.9607, 2738.1290000000004, 2450.6927999999994, 5088.881, 2525.8732999999997, 3749.4319000000014, 2946.325500000001, 2413.8374, 2713.2001, 2561.2950999999994, 3061.6174, 2720.2162999999996, 2554.9822, 3430.8130999999994, 4735.308299999999, 4319.1936, 4574.192099999999, 4147.7319, 2943.4546999999993]\n",
      "Aromaticity =  0.16666666666666666\n",
      "Flexibility =  [0.9407857142857144, 0.9514642857142858, 0.9678928571428571, 0.9826309523809523, 0.9560119047619049, 1.0024642857142856, 0.9650000000000001, 0.9985357142857142, 0.9999761904761906, 0.9617380952380953, 1.0114166666666669, 0.9814404761904764, 0.9518809523809522, 0.9653571428571429, 0.9688452380952383]\n",
      "Isoelectric point =  9.692128562927245\n",
      "Secondary structure fraction =  (0.41666666666666663, 0.20833333333333331, 0.25)\n",
      "\n",
      "\n",
      "Protein of Interest =  {'A': 0, 'C': 3, 'D': 0, 'E': 0, 'F': 1, 'G': 0, 'H': 1, 'I': 1, 'K': 1, 'L': 1, 'M': 0, 'N': 1, 'P': 0, 'Q': 2, 'R': 2, 'S': 4, 'T': 0, 'V': 4, 'W': 1, 'Y': 2}\n",
      "Amino acids percent =     {'A': 0.0, 'C': 0.125, 'D': 0.0, 'E': 0.0, 'F': 0.041666666666666664, 'G': 0.0, 'H': 0.041666666666666664, 'I': 0.041666666666666664, 'K': 0.041666666666666664, 'L': 0.041666666666666664, 'M': 0.0, 'N': 0.041666666666666664, 'P': 0.0, 'Q': 0.08333333333333333, 'R': 0.08333333333333333, 'S': 0.16666666666666666, 'T': 0.0, 'V': 0.16666666666666666, 'W': 0.041666666666666664, 'Y': 0.08333333333333333}\n",
      "Molecular weight =  [3896.388, 5313.909099999998, 2268.5276000000003, 2240.4102, 2856.2400000000002, 3103.5840000000003, 2945.3948000000005, 3377.7007000000003, 2360.6063, 4677.1971, 2678.9358000000007, 2513.0319, 3893.2216000000008, 3680.1237, 4315.794199999998, 2711.9607, 2738.1290000000004, 2450.6927999999994, 5088.881, 2525.8732999999997, 3749.4319000000014, 2946.325500000001, 2413.8374, 2713.2001, 2561.2950999999994, 3061.6174, 2720.2162999999996, 2554.9822, 3430.8130999999994, 4735.308299999999, 4319.1936, 4574.192099999999, 4147.7319, 2943.4546999999993, 2906.3664999999996]\n",
      "Aromaticity =  0.16666666666666666\n",
      "Flexibility =  [0.9486785714285715, 0.9617261904761906, 0.9331785714285714, 0.947202380952381, 0.9573809523809524, 0.997857142857143, 0.9379761904761904, 0.993154761904762, 0.9878928571428572, 0.9684880952380952, 0.9904642857142859, 1.0104642857142858, 0.9933571428571428, 0.9938095238095238, 0.9666309523809524]\n",
      "Isoelectric point =  9.106239891052244\n",
      "Secondary structure fraction =  (0.4166666666666667, 0.20833333333333331, 0.041666666666666664)\n",
      "\n",
      "\n",
      "Protein of Interest =  {'A': 1, 'C': 3, 'D': 0, 'E': 1, 'F': 3, 'G': 1, 'H': 2, 'I': 3, 'K': 2, 'L': 0, 'M': 0, 'N': 2, 'P': 0, 'Q': 0, 'R': 4, 'S': 2, 'T': 4, 'V': 1, 'W': 3, 'Y': 3}\n",
      "Amino acids percent =     {'A': 0.02857142857142857, 'C': 0.08571428571428572, 'D': 0.0, 'E': 0.02857142857142857, 'F': 0.08571428571428572, 'G': 0.02857142857142857, 'H': 0.05714285714285714, 'I': 0.08571428571428572, 'K': 0.05714285714285714, 'L': 0.0, 'M': 0.0, 'N': 0.05714285714285714, 'P': 0.0, 'Q': 0.0, 'R': 0.11428571428571428, 'S': 0.05714285714285714, 'T': 0.11428571428571428, 'V': 0.02857142857142857, 'W': 0.08571428571428572, 'Y': 0.08571428571428572}\n",
      "Molecular weight =  [3896.388, 5313.909099999998, 2268.5276000000003, 2240.4102, 2856.2400000000002, 3103.5840000000003, 2945.3948000000005, 3377.7007000000003, 2360.6063, 4677.1971, 2678.9358000000007, 2513.0319, 3893.2216000000008, 3680.1237, 4315.794199999998, 2711.9607, 2738.1290000000004, 2450.6927999999994, 5088.881, 2525.8732999999997, 3749.4319000000014, 2946.325500000001, 2413.8374, 2713.2001, 2561.2950999999994, 3061.6174, 2720.2162999999996, 2554.9822, 3430.8130999999994, 4735.308299999999, 4319.1936, 4574.192099999999, 4147.7319, 2943.4546999999993, 2906.3664999999996, 4475.1031]\n",
      "Aromaticity =  0.2571428571428571\n",
      "Flexibility =  [0.9634404761904762, 0.9797380952380951, 1.0083333333333333, 0.9836904761904761, 0.956154761904762, 1.0030238095238095, 0.9520119047619049, 0.9921190476190477, 0.947857142857143, 0.9735595238095239, 0.9376428571428571, 0.9417380952380954, 0.9394642857142858, 0.9483333333333335, 0.9558333333333332, 0.9964642857142858, 0.9605238095238097, 0.9735, 1.0042380952380952, 0.9899166666666668, 1.018714285714286, 0.9531309523809522, 0.9886904761904763, 1.0132023809523811, 0.9435238095238095, 0.9858214285714287]\n",
      "Isoelectric point =  9.64848346710205\n",
      "Secondary structure fraction =  (0.37142857142857144, 0.14285714285714285, 0.05714285714285714)\n",
      "\n",
      "\n",
      "Protein of Interest =  {'A': 0, 'C': 2, 'D': 1, 'E': 2, 'F': 8, 'G': 1, 'H': 1, 'I': 0, 'K': 2, 'L': 3, 'M': 2, 'N': 3, 'P': 3, 'Q': 1, 'R': 1, 'S': 4, 'T': 4, 'V': 5, 'W': 0, 'Y': 3}\n",
      "Amino acids percent =     {'A': 0.0, 'C': 0.043478260869565216, 'D': 0.021739130434782608, 'E': 0.043478260869565216, 'F': 0.17391304347826086, 'G': 0.021739130434782608, 'H': 0.021739130434782608, 'I': 0.0, 'K': 0.043478260869565216, 'L': 0.06521739130434782, 'M': 0.043478260869565216, 'N': 0.06521739130434782, 'P': 0.06521739130434782, 'Q': 0.021739130434782608, 'R': 0.021739130434782608, 'S': 0.08695652173913043, 'T': 0.08695652173913043, 'V': 0.10869565217391304, 'W': 0.0, 'Y': 0.06521739130434782}\n",
      "Molecular weight =  [3896.388, 5313.909099999998, 2268.5276000000003, 2240.4102, 2856.2400000000002, 3103.5840000000003, 2945.3948000000005, 3377.7007000000003, 2360.6063, 4677.1971, 2678.9358000000007, 2513.0319, 3893.2216000000008, 3680.1237, 4315.794199999998, 2711.9607, 2738.1290000000004, 2450.6927999999994, 5088.881, 2525.8732999999997, 3749.4319000000014, 2946.325500000001, 2413.8374, 2713.2001, 2561.2950999999994, 3061.6174, 2720.2162999999996, 2554.9822, 3430.8130999999994, 4735.308299999999, 4319.1936, 4574.192099999999, 4147.7319, 2943.4546999999993, 2906.3664999999996, 4475.1031, 5483.274599999999]\n",
      "Aromaticity =  0.2391304347826087\n",
      "Flexibility =  [0.9636666666666668, 0.9592142857142857, 0.9988095238095239, 1.0032738095238096, 0.9727857142857141, 1.049011904761905, 1.0485119047619047, 1.053452380952381, 1.0438928571428572, 1.046511904761905, 1.04, 1.030452380952381, 0.9964166666666668, 1.0115833333333333, 0.9982142857142856, 0.9588809523809523, 0.9681190476190477, 0.9660833333333333, 0.9784880952380952, 0.9626309523809524, 0.9905476190476191, 0.9543928571428572, 1.007, 0.953654761904762, 0.990654761904762, 0.9613809523809523, 1.0029642857142858, 0.9673333333333334, 1.0188690476190476, 1.0094761904761904, 1.0223333333333335, 0.9818452380952382, 1.0205357142857143, 0.9713214285714287, 0.9660476190476192, 0.9495833333333333, 0.9413690476190476]\n",
      "Isoelectric point =  6.421862602233887\n",
      "Secondary structure fraction =  (0.41304347826086957, 0.2391304347826087, 0.15217391304347827)\n",
      "\n",
      "\n",
      "Protein of Interest =  {'A': 0, 'C': 6, 'D': 1, 'E': 0, 'F': 3, 'G': 1, 'H': 0, 'I': 0, 'K': 1, 'L': 1, 'M': 0, 'N': 1, 'P': 0, 'Q': 1, 'R': 0, 'S': 0, 'T': 2, 'V': 2, 'W': 0, 'Y': 4}\n",
      "Amino acids percent =     {'A': 0.0, 'C': 0.2608695652173913, 'D': 0.043478260869565216, 'E': 0.0, 'F': 0.13043478260869565, 'G': 0.043478260869565216, 'H': 0.0, 'I': 0.0, 'K': 0.043478260869565216, 'L': 0.043478260869565216, 'M': 0.0, 'N': 0.043478260869565216, 'P': 0.0, 'Q': 0.043478260869565216, 'R': 0.0, 'S': 0.0, 'T': 0.08695652173913043, 'V': 0.08695652173913043, 'W': 0.0, 'Y': 0.17391304347826086}\n",
      "Molecular weight =  [3896.388, 5313.909099999998, 2268.5276000000003, 2240.4102, 2856.2400000000002, 3103.5840000000003, 2945.3948000000005, 3377.7007000000003, 2360.6063, 4677.1971, 2678.9358000000007, 2513.0319, 3893.2216000000008, 3680.1237, 4315.794199999998, 2711.9607, 2738.1290000000004, 2450.6927999999994, 5088.881, 2525.8732999999997, 3749.4319000000014, 2946.325500000001, 2413.8374, 2713.2001, 2561.2950999999994, 3061.6174, 2720.2162999999996, 2554.9822, 3430.8130999999994, 4735.308299999999, 4319.1936, 4574.192099999999, 4147.7319, 2943.4546999999993, 2906.3664999999996, 4475.1031, 5483.274599999999, 2787.2570999999994]\n",
      "Aromaticity =  0.30434782608695654\n",
      "Flexibility =  [0.9311547619047621, 0.9378214285714286, 0.9461904761904764, 0.9628928571428571, 0.9264166666666667, 0.9395595238095238, 0.9311785714285714, 0.9351547619047619, 0.9259880952380952, 0.9204047619047618, 0.936357142857143, 0.9424880952380952, 0.9809642857142858, 0.9734047619047621]\n",
      "Isoelectric point =  5.794360160827637\n",
      "Secondary structure fraction =  (0.4347826086956521, 0.08695652173913043, 0.043478260869565216)\n",
      "\n",
      "\n",
      "Protein of Interest =  {'A': 1, 'C': 4, 'D': 1, 'E': 0, 'F': 0, 'G': 0, 'H': 0, 'I': 1, 'K': 2, 'L': 1, 'M': 0, 'N': 2, 'P': 1, 'Q': 0, 'R': 1, 'S': 3, 'T': 1, 'V': 3, 'W': 0, 'Y': 2}\n",
      "Amino acids percent =     {'A': 0.043478260869565216, 'C': 0.17391304347826086, 'D': 0.043478260869565216, 'E': 0.0, 'F': 0.0, 'G': 0.0, 'H': 0.0, 'I': 0.043478260869565216, 'K': 0.08695652173913043, 'L': 0.043478260869565216, 'M': 0.0, 'N': 0.08695652173913043, 'P': 0.043478260869565216, 'Q': 0.0, 'R': 0.043478260869565216, 'S': 0.13043478260869565, 'T': 0.043478260869565216, 'V': 0.13043478260869565, 'W': 0.0, 'Y': 0.08695652173913043}\n",
      "Molecular weight =  [3896.388, 5313.909099999998, 2268.5276000000003, 2240.4102, 2856.2400000000002, 3103.5840000000003, 2945.3948000000005, 3377.7007000000003, 2360.6063, 4677.1971, 2678.9358000000007, 2513.0319, 3893.2216000000008, 3680.1237, 4315.794199999998, 2711.9607, 2738.1290000000004, 2450.6927999999994, 5088.881, 2525.8732999999997, 3749.4319000000014, 2946.325500000001, 2413.8374, 2713.2001, 2561.2950999999994, 3061.6174, 2720.2162999999996, 2554.9822, 3430.8130999999994, 4735.308299999999, 4319.1936, 4574.192099999999, 4147.7319, 2943.4546999999993, 2906.3664999999996, 4475.1031, 5483.274599999999, 2787.2570999999994, 2566.9933]\n",
      "Aromaticity =  0.08695652173913043\n",
      "Flexibility =  [0.9545952380952382, 0.9443333333333335, 0.931, 0.9445714285714285, 0.9720833333333335, 0.9355119047619046, 0.9970119047619048, 0.9625238095238096, 1.0016666666666667, 1.0088809523809523, 1.007, 0.9957857142857145, 1.0495, 1.0262499999999999]\n",
      "Isoelectric point =  8.511712455749514\n",
      "Secondary structure fraction =  (0.30434782608695654, 0.2608695652173913, 0.08695652173913043)\n",
      "\n",
      "\n",
      "Protein of Interest =  {'A': 0, 'C': 4, 'D': 0, 'E': 0, 'F': 2, 'G': 1, 'H': 1, 'I': 0, 'K': 0, 'L': 2, 'M': 0, 'N': 1, 'P': 0, 'Q': 1, 'R': 2, 'S': 1, 'T': 0, 'V': 2, 'W': 0, 'Y': 3}\n",
      "Amino acids percent =     {'A': 0.0, 'C': 0.2, 'D': 0.0, 'E': 0.0, 'F': 0.1, 'G': 0.05, 'H': 0.05, 'I': 0.0, 'K': 0.0, 'L': 0.1, 'M': 0.0, 'N': 0.05, 'P': 0.0, 'Q': 0.05, 'R': 0.1, 'S': 0.05, 'T': 0.0, 'V': 0.1, 'W': 0.0, 'Y': 0.15}\n",
      "Molecular weight =  [3896.388, 5313.909099999998, 2268.5276000000003, 2240.4102, 2856.2400000000002, 3103.5840000000003, 2945.3948000000005, 3377.7007000000003, 2360.6063, 4677.1971, 2678.9358000000007, 2513.0319, 3893.2216000000008, 3680.1237, 4315.794199999998, 2711.9607, 2738.1290000000004, 2450.6927999999994, 5088.881, 2525.8732999999997, 3749.4319000000014, 2946.325500000001, 2413.8374, 2713.2001, 2561.2950999999994, 3061.6174, 2720.2162999999996, 2554.9822, 3430.8130999999994, 4735.308299999999, 4319.1936, 4574.192099999999, 4147.7319, 2943.4546999999993, 2906.3664999999996, 4475.1031, 5483.274599999999, 2787.2570999999994, 2566.9933, 2474.9024]\n",
      "Aromaticity =  0.25\n",
      "Flexibility =  [0.9488809523809524, 0.9914285714285717, 0.9388333333333333, 0.9672500000000002, 0.9578452380952381, 0.9595, 0.9902142857142857, 0.9733214285714286, 0.9689761904761903, 0.9528809523809524, 0.9524047619047619]\n",
      "Isoelectric point =  8.519126319885256\n",
      "Secondary structure fraction =  (0.44999999999999996, 0.15000000000000002, 0.1)\n",
      "\n",
      "\n",
      "Protein of Interest =  {'A': 1, 'C': 0, 'D': 0, 'E': 0, 'F': 3, 'G': 0, 'H': 0, 'I': 0, 'K': 0, 'L': 12, 'M': 0, 'N': 1, 'P': 2, 'Q': 1, 'R': 1, 'S': 2, 'T': 2, 'V': 1, 'W': 1, 'Y': 3}\n",
      "Amino acids percent =     {'A': 0.03333333333333333, 'C': 0.0, 'D': 0.0, 'E': 0.0, 'F': 0.1, 'G': 0.0, 'H': 0.0, 'I': 0.0, 'K': 0.0, 'L': 0.4, 'M': 0.0, 'N': 0.03333333333333333, 'P': 0.06666666666666667, 'Q': 0.03333333333333333, 'R': 0.03333333333333333, 'S': 0.06666666666666667, 'T': 0.06666666666666667, 'V': 0.03333333333333333, 'W': 0.03333333333333333, 'Y': 0.1}\n",
      "Molecular weight =  [3896.388, 5313.909099999998, 2268.5276000000003, 2240.4102, 2856.2400000000002, 3103.5840000000003, 2945.3948000000005, 3377.7007000000003, 2360.6063, 4677.1971, 2678.9358000000007, 2513.0319, 3893.2216000000008, 3680.1237, 4315.794199999998, 2711.9607, 2738.1290000000004, 2450.6927999999994, 5088.881, 2525.8732999999997, 3749.4319000000014, 2946.325500000001, 2413.8374, 2713.2001, 2561.2950999999994, 3061.6174, 2720.2162999999996, 2554.9822, 3430.8130999999994, 4735.308299999999, 4319.1936, 4574.192099999999, 4147.7319, 2943.4546999999993, 2906.3664999999996, 4475.1031, 5483.274599999999, 2787.2570999999994, 2566.9933, 2474.9024, 3632.3766000000005]\n",
      "Aromaticity =  0.23333333333333334\n",
      "Flexibility =  [1.0065714285714287, 0.9759285714285714, 0.9940952380952384, 0.9536785714285715, 0.9682380952380951, 0.956857142857143, 0.9543214285714287, 0.9607261904761906, 0.9299523809523811, 0.9372261904761907, 0.9420238095238095, 0.9359166666666667, 0.9346190476190477, 0.9352500000000001, 0.9391428571428572, 0.9373690476190475, 0.9731190476190476, 0.9314880952380953, 0.9565952380952383, 0.9603928571428572, 0.9860714285714286]\n",
      "Isoelectric point =  8.496562385559084\n",
      "Secondary structure fraction =  (0.6666666666666667, 0.16666666666666669, 0.43333333333333335)\n",
      "\n",
      "\n",
      "Protein of Interest =  {'A': 1, 'C': 1, 'D': 0, 'E': 0, 'F': 1, 'G': 0, 'H': 1, 'I': 4, 'K': 1, 'L': 2, 'M': 0, 'N': 1, 'P': 0, 'Q': 1, 'R': 2, 'S': 4, 'T': 3, 'V': 2, 'W': 0, 'Y': 0}\n",
      "Amino acids percent =     {'A': 0.041666666666666664, 'C': 0.041666666666666664, 'D': 0.0, 'E': 0.0, 'F': 0.041666666666666664, 'G': 0.0, 'H': 0.041666666666666664, 'I': 0.16666666666666666, 'K': 0.041666666666666664, 'L': 0.08333333333333333, 'M': 0.0, 'N': 0.041666666666666664, 'P': 0.0, 'Q': 0.041666666666666664, 'R': 0.08333333333333333, 'S': 0.16666666666666666, 'T': 0.125, 'V': 0.08333333333333333, 'W': 0.0, 'Y': 0.0}\n",
      "Molecular weight =  [3896.388, 5313.909099999998, 2268.5276000000003, 2240.4102, 2856.2400000000002, 3103.5840000000003, 2945.3948000000005, 3377.7007000000003, 2360.6063, 4677.1971, 2678.9358000000007, 2513.0319, 3893.2216000000008, 3680.1237, 4315.794199999998, 2711.9607, 2738.1290000000004, 2450.6927999999994, 5088.881, 2525.8732999999997, 3749.4319000000014, 2946.325500000001, 2413.8374, 2713.2001, 2561.2950999999994, 3061.6174, 2720.2162999999996, 2554.9822, 3430.8130999999994, 4735.308299999999, 4319.1936, 4574.192099999999, 4147.7319, 2943.4546999999993, 2906.3664999999996, 4475.1031, 5483.274599999999, 2787.2570999999994, 2566.9933, 2474.9024, 3632.3766000000005, 2688.1531999999997]\n",
      "Aromaticity =  0.041666666666666664\n",
      "Flexibility =  [0.9492738095238096, 0.9820476190476191, 0.9750238095238094, 1.0038690476190477, 0.986654761904762, 0.9649523809523811, 0.9951428571428571, 0.9709642857142858, 1.0021071428571429, 0.9547142857142857, 0.9916666666666666, 0.9906428571428572, 0.9957261904761904, 1.0081785714285714, 1.0010714285714286]\n",
      "Isoelectric point =  10.860489082336425\n",
      "Secondary structure fraction =  (0.375, 0.20833333333333331, 0.125)\n",
      "\n",
      "\n",
      "Protein of Interest =  {'A': 3, 'C': 3, 'D': 0, 'E': 0, 'F': 4, 'G': 2, 'H': 2, 'I': 0, 'K': 2, 'L': 1, 'M': 0, 'N': 1, 'P': 0, 'Q': 1, 'R': 1, 'S': 0, 'T': 2, 'V': 0, 'W': 0, 'Y': 0}\n",
      "Amino acids percent =     {'A': 0.13636363636363635, 'C': 0.13636363636363635, 'D': 0.0, 'E': 0.0, 'F': 0.18181818181818182, 'G': 0.09090909090909091, 'H': 0.09090909090909091, 'I': 0.0, 'K': 0.09090909090909091, 'L': 0.045454545454545456, 'M': 0.0, 'N': 0.045454545454545456, 'P': 0.0, 'Q': 0.045454545454545456, 'R': 0.045454545454545456, 'S': 0.0, 'T': 0.09090909090909091, 'V': 0.0, 'W': 0.0, 'Y': 0.0}\n",
      "Molecular weight =  [3896.388, 5313.909099999998, 2268.5276000000003, 2240.4102, 2856.2400000000002, 3103.5840000000003, 2945.3948000000005, 3377.7007000000003, 2360.6063, 4677.1971, 2678.9358000000007, 2513.0319, 3893.2216000000008, 3680.1237, 4315.794199999998, 2711.9607, 2738.1290000000004, 2450.6927999999994, 5088.881, 2525.8732999999997, 3749.4319000000014, 2946.325500000001, 2413.8374, 2713.2001, 2561.2950999999994, 3061.6174, 2720.2162999999996, 2554.9822, 3430.8130999999994, 4735.308299999999, 4319.1936, 4574.192099999999, 4147.7319, 2943.4546999999993, 2906.3664999999996, 4475.1031, 5483.274599999999, 2787.2570999999994, 2566.9933, 2474.9024, 3632.3766000000005, 2688.1531999999997, 2487.8816]\n",
      "Aromaticity =  0.18181818181818182\n",
      "Flexibility =  [0.9763571428571428, 0.9459047619047619, 0.9456190476190475, 0.9414761904761904, 0.9543690476190476, 0.9332738095238097, 0.9544642857142857, 0.9592380952380951, 0.9688214285714286, 0.9383690476190475, 0.9638690476190475, 0.9925, 0.9732857142857143]\n",
      "Isoelectric point =  9.158008003234862\n",
      "Secondary structure fraction =  (0.2272727272727273, 0.13636363636363635, 0.18181818181818182)\n",
      "\n",
      "\n",
      "Protein of Interest =  {'A': 0, 'C': 4, 'D': 0, 'E': 1, 'F': 0, 'G': 1, 'H': 3, 'I': 0, 'K': 1, 'L': 3, 'M': 0, 'N': 3, 'P': 0, 'Q': 5, 'R': 2, 'S': 4, 'T': 4, 'V': 0, 'W': 1, 'Y': 2}\n",
      "Amino acids percent =     {'A': 0.0, 'C': 0.11764705882352941, 'D': 0.0, 'E': 0.029411764705882353, 'F': 0.0, 'G': 0.029411764705882353, 'H': 0.08823529411764706, 'I': 0.0, 'K': 0.029411764705882353, 'L': 0.08823529411764706, 'M': 0.0, 'N': 0.08823529411764706, 'P': 0.0, 'Q': 0.14705882352941177, 'R': 0.058823529411764705, 'S': 0.11764705882352941, 'T': 0.11764705882352941, 'V': 0.0, 'W': 0.029411764705882353, 'Y': 0.058823529411764705}\n",
      "Molecular weight =  [3896.388, 5313.909099999998, 2268.5276000000003, 2240.4102, 2856.2400000000002, 3103.5840000000003, 2945.3948000000005, 3377.7007000000003, 2360.6063, 4677.1971, 2678.9358000000007, 2513.0319, 3893.2216000000008, 3680.1237, 4315.794199999998, 2711.9607, 2738.1290000000004, 2450.6927999999994, 5088.881, 2525.8732999999997, 3749.4319000000014, 2946.325500000001, 2413.8374, 2713.2001, 2561.2950999999994, 3061.6174, 2720.2162999999996, 2554.9822, 3430.8130999999994, 4735.308299999999, 4319.1936, 4574.192099999999, 4147.7319, 2943.4546999999993, 2906.3664999999996, 4475.1031, 5483.274599999999, 2787.2570999999994, 2566.9933, 2474.9024, 3632.3766000000005, 2688.1531999999997, 2487.8816, 4056.4215000000004]\n",
      "Aromaticity =  0.08823529411764705\n",
      "Flexibility =  [0.9839047619047618, 1.0138095238095237, 0.9983690476190477, 0.9706547619047619, 1.026904761904762, 0.9709999999999999, 0.9629166666666668, 0.9744166666666667, 0.962202380952381, 0.9976309523809525, 0.9569642857142859, 1.0162976190476192, 0.9748809523809524, 1.0228333333333335, 1.0010357142857143, 1.0198333333333334, 0.9927857142857144, 1.0360238095238097, 1.0208214285714288, 1.0249880952380954, 1.027, 1.016, 1.0273690476190478, 1.0051666666666665, 0.9740714285714285]\n",
      "Isoelectric point =  8.521898460388183\n",
      "Secondary structure fraction =  (0.1764705882352941, 0.23529411764705882, 0.11764705882352941)\n",
      "\n",
      "\n",
      "Protein of Interest =  {'A': 0, 'C': 3, 'D': 0, 'E': 0, 'F': 0, 'G': 2, 'H': 0, 'I': 3, 'K': 0, 'L': 1, 'M': 0, 'N': 2, 'P': 1, 'Q': 0, 'R': 2, 'S': 1, 'T': 1, 'V': 1, 'W': 1, 'Y': 2}\n",
      "Amino acids percent =     {'A': 0.0, 'C': 0.15, 'D': 0.0, 'E': 0.0, 'F': 0.0, 'G': 0.1, 'H': 0.0, 'I': 0.15, 'K': 0.0, 'L': 0.05, 'M': 0.0, 'N': 0.1, 'P': 0.05, 'Q': 0.0, 'R': 0.1, 'S': 0.05, 'T': 0.05, 'V': 0.05, 'W': 0.05, 'Y': 0.1}\n",
      "Molecular weight =  [3896.388, 5313.909099999998, 2268.5276000000003, 2240.4102, 2856.2400000000002, 3103.5840000000003, 2945.3948000000005, 3377.7007000000003, 2360.6063, 4677.1971, 2678.9358000000007, 2513.0319, 3893.2216000000008, 3680.1237, 4315.794199999998, 2711.9607, 2738.1290000000004, 2450.6927999999994, 5088.881, 2525.8732999999997, 3749.4319000000014, 2946.325500000001, 2413.8374, 2713.2001, 2561.2950999999994, 3061.6174, 2720.2162999999996, 2554.9822, 3430.8130999999994, 4735.308299999999, 4319.1936, 4574.192099999999, 4147.7319, 2943.4546999999993, 2906.3664999999996, 4475.1031, 5483.274599999999, 2787.2570999999994, 2566.9933, 2474.9024, 3632.3766000000005, 2688.1531999999997, 2487.8816, 4056.4215000000004, 2331.7373000000002]\n",
      "Aromaticity =  0.15000000000000002\n",
      "Flexibility =  [0.9464047619047621, 0.9401547619047619, 0.9485952380952383, 0.9712380952380952, 0.9401666666666669, 0.973702380952381, 1.0039761904761906, 1.0046190476190477, 1.0073571428571428, 0.9970952380952381, 1.008297619047619]\n",
      "Isoelectric point =  8.679201316833495\n",
      "Secondary structure fraction =  (0.4, 0.3, 0.05)\n",
      "\n",
      "\n",
      "Protein of Interest =  {'A': 1, 'C': 3, 'D': 0, 'E': 1, 'F': 3, 'G': 1, 'H': 0, 'I': 1, 'K': 1, 'L': 0, 'M': 1, 'N': 1, 'P': 0, 'Q': 2, 'R': 0, 'S': 3, 'T': 1, 'V': 0, 'W': 0, 'Y': 1}\n",
      "Amino acids percent =     {'A': 0.05, 'C': 0.15, 'D': 0.0, 'E': 0.05, 'F': 0.15, 'G': 0.05, 'H': 0.0, 'I': 0.05, 'K': 0.05, 'L': 0.0, 'M': 0.05, 'N': 0.05, 'P': 0.0, 'Q': 0.1, 'R': 0.0, 'S': 0.15, 'T': 0.05, 'V': 0.0, 'W': 0.0, 'Y': 0.05}\n",
      "Molecular weight =  [3896.388, 5313.909099999998, 2268.5276000000003, 2240.4102, 2856.2400000000002, 3103.5840000000003, 2945.3948000000005, 3377.7007000000003, 2360.6063, 4677.1971, 2678.9358000000007, 2513.0319, 3893.2216000000008, 3680.1237, 4315.794199999998, 2711.9607, 2738.1290000000004, 2450.6927999999994, 5088.881, 2525.8732999999997, 3749.4319000000014, 2946.325500000001, 2413.8374, 2713.2001, 2561.2950999999994, 3061.6174, 2720.2162999999996, 2554.9822, 3430.8130999999994, 4735.308299999999, 4319.1936, 4574.192099999999, 4147.7319, 2943.4546999999993, 2906.3664999999996, 4475.1031, 5483.274599999999, 2787.2570999999994, 2566.9933, 2474.9024, 3632.3766000000005, 2688.1531999999997, 2487.8816, 4056.4215000000004, 2331.7373000000002, 2294.6045]\n",
      "Aromaticity =  0.2\n",
      "Flexibility =  [0.9620833333333335, 0.9764523809523811, 1.0106904761904763, 0.9958095238095239, 0.9796547619047619, 1.0395595238095239, 0.9953928571428572, 1.0021309523809525, 0.9654404761904761, 0.9698333333333332, 0.9644166666666666]\n",
      "Isoelectric point =  6.195472908020019\n",
      "Secondary structure fraction =  (0.25, 0.25, 0.15000000000000002)\n",
      "\n",
      "\n",
      "Protein of Interest =  {'A': 1, 'C': 8, 'D': 0, 'E': 0, 'F': 3, 'G': 0, 'H': 0, 'I': 2, 'K': 0, 'L': 1, 'M': 0, 'N': 2, 'P': 0, 'Q': 1, 'R': 2, 'S': 1, 'T': 0, 'V': 0, 'W': 0, 'Y': 0}\n",
      "Amino acids percent =     {'A': 0.047619047619047616, 'C': 0.38095238095238093, 'D': 0.0, 'E': 0.0, 'F': 0.14285714285714285, 'G': 0.0, 'H': 0.0, 'I': 0.09523809523809523, 'K': 0.0, 'L': 0.047619047619047616, 'M': 0.0, 'N': 0.09523809523809523, 'P': 0.0, 'Q': 0.047619047619047616, 'R': 0.09523809523809523, 'S': 0.047619047619047616, 'T': 0.0, 'V': 0.0, 'W': 0.0, 'Y': 0.0}\n",
      "Molecular weight =  [3896.388, 5313.909099999998, 2268.5276000000003, 2240.4102, 2856.2400000000002, 3103.5840000000003, 2945.3948000000005, 3377.7007000000003, 2360.6063, 4677.1971, 2678.9358000000007, 2513.0319, 3893.2216000000008, 3680.1237, 4315.794199999998, 2711.9607, 2738.1290000000004, 2450.6927999999994, 5088.881, 2525.8732999999997, 3749.4319000000014, 2946.325500000001, 2413.8374, 2713.2001, 2561.2950999999994, 3061.6174, 2720.2162999999996, 2554.9822, 3430.8130999999994, 4735.308299999999, 4319.1936, 4574.192099999999, 4147.7319, 2943.4546999999993, 2906.3664999999996, 4475.1031, 5483.274599999999, 2787.2570999999994, 2566.9933, 2474.9024, 3632.3766000000005, 2688.1531999999997, 2487.8816, 4056.4215000000004, 2331.7373000000002, 2294.6045, 2451.0136999999995]\n",
      "Aromaticity =  0.14285714285714285\n",
      "Flexibility =  [0.97475, 1.0081309523809523, 0.9528214285714286, 0.9912142857142857, 0.9313809523809524, 0.9518452380952382, 0.9406309523809524, 0.9285, 0.9292738095238094, 0.9127142857142858, 0.9222738095238096, 0.9197023809523809]\n",
      "Isoelectric point =  8.228180503845216\n",
      "Secondary structure fraction =  (0.2857142857142857, 0.14285714285714285, 0.09523809523809523)\n",
      "\n",
      "\n",
      "Protein of Interest =  {'A': 0, 'C': 1, 'D': 1, 'E': 0, 'F': 0, 'G': 3, 'H': 2, 'I': 2, 'K': 1, 'L': 4, 'M': 0, 'N': 2, 'P': 2, 'Q': 1, 'R': 2, 'S': 8, 'T': 2, 'V': 4, 'W': 4, 'Y': 4}\n",
      "Amino acids percent =     {'A': 0.0, 'C': 0.023255813953488372, 'D': 0.023255813953488372, 'E': 0.0, 'F': 0.0, 'G': 0.06976744186046512, 'H': 0.046511627906976744, 'I': 0.046511627906976744, 'K': 0.023255813953488372, 'L': 0.09302325581395349, 'M': 0.0, 'N': 0.046511627906976744, 'P': 0.046511627906976744, 'Q': 0.023255813953488372, 'R': 0.046511627906976744, 'S': 0.18604651162790697, 'T': 0.046511627906976744, 'V': 0.09302325581395349, 'W': 0.09302325581395349, 'Y': 0.09302325581395349}\n",
      "Molecular weight =  [3896.388, 5313.909099999998, 2268.5276000000003, 2240.4102, 2856.2400000000002, 3103.5840000000003, 2945.3948000000005, 3377.7007000000003, 2360.6063, 4677.1971, 2678.9358000000007, 2513.0319, 3893.2216000000008, 3680.1237, 4315.794199999998, 2711.9607, 2738.1290000000004, 2450.6927999999994, 5088.881, 2525.8732999999997, 3749.4319000000014, 2946.325500000001, 2413.8374, 2713.2001, 2561.2950999999994, 3061.6174, 2720.2162999999996, 2554.9822, 3430.8130999999994, 4735.308299999999, 4319.1936, 4574.192099999999, 4147.7319, 2943.4546999999993, 2906.3664999999996, 4475.1031, 5483.274599999999, 2787.2570999999994, 2566.9933, 2474.9024, 3632.3766000000005, 2688.1531999999997, 2487.8816, 4056.4215000000004, 2331.7373000000002, 2294.6045, 2451.0136999999995, 5044.614799999999]\n",
      "Aromaticity =  0.18604651162790697\n",
      "Flexibility =  [0.9391071428571429, 0.934642857142857, 0.9520714285714288, 0.9527619047619047, 0.9991309523809525, 0.9889166666666667, 1.0079404761904764, 1.0148809523809523, 1.0190357142857145, 0.9978214285714286, 1.0265595238095238, 1.016654761904762, 1.0130476190476192, 1.0098095238095237, 0.9905714285714285, 1.0270119047619046, 1.0063809523809524, 0.9857023809523808, 0.9611428571428571, 0.9595714285714287, 0.9390833333333333, 0.9304047619047618, 0.9217142857142856, 0.9281785714285716, 0.9319166666666667, 0.9391309523809523, 0.9728095238095238, 0.9405952380952382, 0.9704642857142858, 0.9969761904761906, 0.9620714285714285, 1.0101071428571426, 0.9767857142857143, 1.0177619047619049]\n",
      "Isoelectric point =  9.046284294128416\n",
      "Secondary structure fraction =  (0.4186046511627907, 0.3488372093023256, 0.09302325581395349)\n",
      "\n",
      "\n",
      "Protein of Interest =  {'A': 179, 'C': 89, 'D': 178, 'E': 101, 'F': 143, 'G': 149, 'H': 70, 'I': 129, 'K': 159, 'L': 233, 'M': 63, 'N': 151, 'P': 110, 'Q': 88, 'R': 113, 'S': 162, 'T': 183, 'V': 229, 'W': 32, 'Y': 140}\n",
      "Amino acids percent =     {'A': 0.06627175120325805, 'C': 0.03295075897815624, 'D': 0.06590151795631248, 'E': 0.03739355794150315, 'F': 0.052943354313217325, 'G': 0.05516475379489078, 'H': 0.0259163272861903, 'I': 0.047760088855979266, 'K': 0.05886708626434654, 'L': 0.08626434653831914, 'M': 0.02332469455757127, 'N': 0.055905220288781934, 'P': 0.04072565716401333, 'Q': 0.03258052573121066, 'R': 0.041836356904850054, 'S': 0.05997778600518327, 'T': 0.06775268419104036, 'V': 0.08478341355053684, 'W': 0.011847463902258423, 'Y': 0.0518326545723806}\n",
      "Molecular weight =  [3896.388, 5313.909099999998, 2268.5276000000003, 2240.4102, 2856.2400000000002, 3103.5840000000003, 2945.3948000000005, 3377.7007000000003, 2360.6063, 4677.1971, 2678.9358000000007, 2513.0319, 3893.2216000000008, 3680.1237, 4315.794199999998, 2711.9607, 2738.1290000000004, 2450.6927999999994, 5088.881, 2525.8732999999997, 3749.4319000000014, 2946.325500000001, 2413.8374, 2713.2001, 2561.2950999999994, 3061.6174, 2720.2162999999996, 2554.9822, 3430.8130999999994, 4735.308299999999, 4319.1936, 4574.192099999999, 4147.7319, 2943.4546999999993, 2906.3664999999996, 4475.1031, 5483.274599999999, 2787.2570999999994, 2566.9933, 2474.9024, 3632.3766000000005, 2688.1531999999997, 2487.8816, 4056.4215000000004, 2331.7373000000002, 2294.6045, 2451.0136999999995, 5044.614799999999, 305149.810100002]\n",
      "Aromaticity =  0.11662347278785636\n",
      "Flexibility =  [1.0018452380952383, 0.9605952380952383, 0.9607261904761906, 0.9706904761904761, 1.0002857142857142, 0.9623214285714287, 1.001261904761905, 0.9720357142857142, 0.9868809523809525, 0.9958333333333333, 0.9729761904761903, 0.9986309523809522, 0.9969642857142857, 0.9641666666666666, 1.0149761904761905, 0.9925357142857143, 1.0115833333333333, 1.0051547619047618, 1.0204523809523809, 1.0024761904761905, 1.0153333333333334, 0.9686666666666668, 0.9814880952380953, 0.9704166666666668, 0.983642857142857, 0.9648333333333332, 0.9530357142857143, 1.0004285714285714, 0.9558095238095239, 0.9911785714285716, 1.0188333333333335, 1.011047619047619, 1.0232738095238096, 0.9796547619047621, 1.0148214285714285, 1.0135238095238095, 0.9742500000000001, 0.9984404761904762, 1.010452380952381, 0.9605, 1.0000119047619047, 1.0279880952380953, 0.9799285714285714, 1.0037500000000001, 0.955190476190476, 0.9756547619047619, 0.9959761904761906, 0.9658690476190477, 1.020202380952381, 1.0302261904761907, 1.0461785714285716, 1.0558214285714285, 1.0745119047619047, 1.0647380952380954, 1.0559166666666666, 1.0382261904761907, 1.006416666666667, 1.0090119047619048, 1.0235476190476192, 0.9852619047619049, 0.9550357142857144, 0.9675833333333334, 0.9735238095238095, 0.9720714285714287, 1.0073333333333334, 0.9631547619047619, 0.9752619047619049, 0.9993095238095239, 0.9751785714285715, 1.016547619047619, 0.9915238095238097, 0.9745714285714286, 1.0248095238095238, 0.9961309523809524, 1.0433809523809525, 1.0156666666666667, 0.9949404761904762, 0.9905833333333334, 0.9888690476190476, 1.0089285714285714, 0.9661071428571427, 0.9836428571428572, 1.0240714285714287, 0.9984285714285713, 0.9736785714285714, 1.022654761904762, 0.9887380952380953, 0.9873095238095237, 1.0044523809523809, 1.0179047619047619, 0.9700119047619049, 1.0185, 0.9647738095238096, 0.9884047619047619, 1.0179166666666668, 0.9487738095238094, 1.0030357142857145, 0.9765714285714286, 1.0261190476190474, 0.998940476190476, 1.012797619047619, 0.984107142857143, 0.9907738095238097, 1.0135595238095236, 0.9690119047619048, 0.9813095238095239, 1.010357142857143, 0.9882857142857143, 1.0047619047619047, 0.9978809523809524, 0.9893571428571428, 1.0135476190476191, 1.0185833333333334, 0.9645952380952382, 1.0055476190476191, 0.981904761904762, 0.9933095238095239, 0.9977619047619048, 0.9508452380952382, 0.9677738095238094, 0.9629642857142858, 0.9715119047619047, 0.9489166666666667, 0.9731904761904763, 0.9615952380952381, 0.9768452380952382, 1.0265714285714285, 1.0141309523809525, 1.0084404761904762, 1.0240833333333335, 0.9899047619047617, 1.0447499999999998, 1.0024285714285714, 0.9988690476190476, 1.0393095238095238, 1.0058333333333334, 0.9722023809523809, 0.9868452380952382, 0.9774880952380953, 0.9839761904761904, 0.9488690476190478, 0.9832142857142857, 0.9450714285714286, 0.9799880952380953, 1.018964285714286, 0.9964880952380953, 1.0040119047619047, 0.9805357142857144, 1.0095357142857142, 1.0464642857142856, 1.0357500000000002, 1.026559523809524, 1.0204047619047618, 0.9879047619047621, 1.0066666666666666, 1.0186785714285713, 0.9606666666666668, 0.9910119047619046, 1.0299404761904765, 1.0060833333333334, 1.0183214285714284, 1.0185714285714287, 0.9822857142857143, 0.9942142857142858, 0.9910357142857142, 0.9579285714285716, 0.9651428571428572, 0.9776309523809523, 0.9942619047619048, 0.9731666666666667, 1.0155952380952382, 1.0189761904761905, 0.9972738095238095, 0.9945595238095238, 1.014654761904762, 1.0019404761904762, 0.9843452380952381, 0.9794880952380951, 0.9854761904761905, 1.0223690476190477, 0.9724166666666666, 0.9708928571428572, 1.0012261904761903, 0.9587380952380953, 0.974142857142857, 1.0033095238095238, 0.9668452380952381, 0.9816309523809524, 1.0023571428571427, 1.0056309523809523, 0.9862261904761905, 1.0013571428571428, 0.9675000000000001, 0.9782976190476191, 0.9902738095238096, 0.9475476190476192, 0.9670000000000001, 0.9829642857142856, 0.9724404761904762, 1.0230357142857143, 1.0044285714285714, 1.0171785714285715, 1.0311785714285715, 1.002154761904762, 1.0418571428571428, 1.0084404761904762, 1.0095833333333335, 0.9683571428571428, 0.99, 1.014904761904762, 0.9590238095238096, 1.0045952380952383, 0.9934880952380952, 0.9618690476190476, 0.9891785714285716, 1.0079761904761906, 0.9898928571428571, 1.0027619047619045, 1.0197261904761903, 1.0142619047619046, 1.024892857142857, 1.0135238095238095, 0.9877261904761906, 1.0213809523809523, 0.9741428571428572, 0.9888690476190476, 1.010535714285714, 0.985607142857143, 0.9666666666666667, 0.9786309523809525, 0.9973095238095239, 0.9557857142857143, 0.967392857142857, 0.966202380952381, 0.9853214285714286, 0.9453214285714286, 0.9650000000000001, 0.978797619047619, 0.9601547619047618, 0.9835357142857143, 0.9759880952380953, 0.9741785714285714, 0.9756666666666669, 1.0022142857142857, 0.9956785714285714, 1.0213214285714287, 0.998404761904762, 0.9893452380952381, 1.0040952380952382, 1.0305000000000002, 0.9931785714285714, 1.0206785714285713, 0.9875357142857143, 1.0243571428571427, 1.0326785714285716, 1.004559523809524, 0.9839761904761906, 0.9985595238095241, 1.0295595238095239, 0.9556309523809523, 1.018690476190476, 0.9627619047619046, 0.9911428571428571, 1.0232738095238094, 0.959654761904762, 1.023452380952381, 0.9752500000000001, 1.025845238095238, 1.0350952380952383, 1.0245476190476193, 1.0107738095238097, 1.0016785714285714, 1.0437500000000002, 0.9766904761904762, 0.9892261904761906, 1.011511904761905, 0.9765952380952382, 0.9703333333333335, 0.9714642857142857, 1.0135833333333335, 0.9537857142857142, 0.9780238095238095, 1.0149404761904761, 0.9852619047619046, 0.9867142857142858, 0.9783452380952382, 0.9931309523809524, 1.006488095238095, 0.9872380952380952, 0.9544285714285712, 0.9766785714285714, 0.9960714285714286, 0.9531785714285715, 0.9853690476190478, 1.008702380952381, 0.9925833333333335, 0.9796309523809524, 0.9597857142857142, 0.9703214285714287, 0.9583214285714285, 0.9539166666666667, 0.9393928571428573, 0.9693571428571429, 0.9777738095238097, 0.946595238095238, 0.994202380952381, 0.9502976190476191, 0.9716785714285715, 0.9628333333333335, 0.987404761904762, 0.961642857142857, 0.9607738095238095, 0.9752619047619048, 1.013440476190476, 0.9969166666666668, 0.9904047619047618, 1.0137261904761905, 0.9807380952380951, 1.0210119047619048, 0.9982142857142856, 0.9732380952380953, 0.9885357142857142, 0.9990833333333333, 1.0032976190476193, 0.9521071428571429, 0.9774761904761905, 0.981797619047619, 1.0107857142857144, 0.9804999999999999, 0.9633928571428572, 1.000857142857143, 0.9542738095238096, 0.976845238095238, 0.9712857142857142, 0.9947261904761905, 0.9707142857142856, 0.983142857142857, 0.958809523809524, 0.98275, 0.9709880952380953, 0.9962619047619047, 1.0004642857142858, 0.9557857142857143, 1.000392857142857, 0.9638333333333333, 0.9812619047619048, 0.986845238095238, 1.0039523809523812, 0.9971785714285715, 1.0086071428571426, 0.9780833333333334, 1.023404761904762, 0.9804166666666669, 0.9990714285714285, 1.0120714285714287, 0.9988452380952382, 0.9928452380952383, 0.9861428571428573, 1.026904761904762, 0.984452380952381, 1.0401309523809525, 1.0032976190476193, 0.967095238095238, 0.9844642857142857, 0.9712142857142858, 0.9703809523809526, 0.9812142857142857, 0.9781785714285715, 1.0059166666666668, 0.9950476190476191, 0.9877380952380952, 0.9889642857142859, 0.989952380952381, 0.9958690476190475, 0.9923690476190475, 1.0072857142857143, 0.9970714285714285, 1.0018214285714286, 0.9758214285714285, 0.9945357142857143, 0.9949642857142857, 1.0238214285714287, 1.0148452380952382, 0.9919523809523809, 1.0020952380952381, 0.9988333333333331, 0.970202380952381, 0.9743214285714286, 0.9907976190476191, 0.9451071428571429, 0.9760357142857143, 0.9720119047619048, 0.9725833333333334, 0.997452380952381, 0.9991904761904762, 0.9926785714285713, 0.969845238095238, 0.9970952380952381, 0.9704166666666667, 1.0071190476190477, 0.9830595238095238, 0.9848690476190476, 1.042011904761905, 1.0085595238095237, 1.0207023809523808, 1.0291428571428571, 1.003952380952381, 1.0503928571428571, 1.0303214285714286, 1.0134642857142857, 0.9805238095238096, 0.9983571428571429, 1.0144642857142858, 0.9546071428571429, 0.9931785714285715, 0.976607142857143, 1.01625, 1.0113452380952381, 0.9918809523809523, 0.9882619047619049, 1.009595238095238, 1.052404761904762, 1.0263333333333333, 1.0167857142857142, 1.0356428571428573, 1.0328452380952382, 1.0103095238095239, 1.0504880952380953, 0.9815952380952382, 1.0304880952380953, 0.9590595238095239, 0.9652857142857143, 0.9644285714285714, 0.9613690476190477, 0.9834404761904761, 0.9929999999999999, 1.0066785714285715, 1.0070119047619046, 1.019404761904762, 1.0038928571428571, 1.011404761904762, 0.9916190476190478, 1.022392857142857, 1.005059523809524, 0.9706190476190477, 1.0186428571428572, 0.9617857142857144, 0.9827380952380954, 0.989642857142857, 0.9609642857142857, 1.0028809523809525, 0.9615238095238096, 1.0043452380952382, 0.9787738095238095, 0.974892857142857, 0.9721785714285713, 1.0104166666666667, 0.9575595238095238, 0.993845238095238, 0.98225, 0.9531904761904764, 0.9622380952380952, 0.9527023809523809, 0.9581785714285715, 0.9537857142857143, 0.9924166666666668, 0.9494166666666667, 0.9859285714285716, 1.0171309523809522, 1.0085714285714287, 0.9675952380952382, 0.9823809523809525, 1.0131428571428573, 0.9563690476190475, 0.9869880952380954, 1.0083571428571427, 0.9825238095238095, 0.9931904761904762, 0.9645952380952381, 0.992238095238095, 1.0153928571428572, 0.9815595238095239, 1.0041309523809525, 0.9878690476190476, 0.9700714285714286, 0.9852619047619048, 0.9797619047619047, 1.0059642857142859, 0.996, 0.9861904761904763, 1.0426071428571428, 1.037202380952381, 1.0215833333333333, 1.0141666666666667, 1.022452380952381, 0.9864285714285714, 1.0272380952380953, 0.9716904761904762, 1.0214761904761904, 1.0182976190476192, 0.9756309523809524, 1.038642857142857, 1.0281190476190478, 0.9907857142857143, 1.0020595238095238, 0.9741071428571427, 0.984202380952381, 0.9795476190476192, 1.0083214285714288, 0.9861428571428571, 0.9805238095238096, 1.0244166666666668, 0.9944404761904764, 1.0553452380952382, 1.025464285714286, 1.0240833333333335, 1.030095238095238, 0.9971666666666666, 0.987797619047619, 0.9746309523809524, 0.9860952380952381, 0.9650238095238096, 0.9952857142857143, 1.013809523809524, 0.984952380952381, 1.013357142857143, 0.9811785714285713, 0.9936428571428573, 1.010892857142857, 0.976654761904762, 0.9706666666666667, 0.9976547619047619, 0.9969166666666667, 0.9815119047619048, 1.0130952380952383, 0.9762738095238096, 1.0266071428571428, 0.9631071428571429, 0.9986190476190477, 0.9818214285714287, 1.0192380952380953, 0.9967380952380954, 1.0345476190476193, 1.0127261904761906, 1.0156190476190479, 1.0123214285714286, 1.0105833333333334, 0.9982261904761904, 0.9758571428571428, 0.9941428571428571, 0.9917142857142858, 0.9605357142857143, 0.998547619047619, 0.9556904761904761, 0.9712142857142855, 1.0012857142857143, 0.9725952380952382, 0.9794880952380952, 1.0008095238095238, 1.0081309523809523, 0.9934642857142858, 1.0031785714285715, 0.9770595238095238, 1.0030833333333333, 1.0106071428571428, 1.0125238095238096, 0.9749642857142856, 1.0020357142857141, 1.0366309523809523, 0.9975595238095238, 0.978904761904762, 1.003452380952381, 0.9958452380952382, 0.9992619047619048, 0.996702380952381, 0.9980833333333333, 0.9838690476190477, 0.9862619047619048, 0.9650952380952381, 0.9705238095238096, 0.9695357142857143, 0.9991309523809525, 0.9834880952380952, 1.0046309523809522, 1.014511904761905, 0.9721309523809525, 0.9996785714285716, 1.0066904761904762, 0.9869761904761903, 0.9567380952380953, 0.9798809523809524, 0.9983333333333333, 0.9689404761904761, 0.9811190476190474, 1.0152738095238096, 0.9728690476190477, 0.9811309523809525, 0.9873214285714286, 1.0170714285714286, 1.0107857142857144, 0.9864761904761904, 1.0466666666666666, 1.0130119047619048, 1.017452380952381, 0.9885833333333335, 0.987702380952381, 0.9889285714285714, 0.9919166666666664, 0.9543690476190476, 1.01525, 0.9670833333333335, 1.0238571428571428, 1.0206547619047621, 0.9757738095238094, 1.03975, 0.9974880952380952, 1.005297619047619, 0.9973333333333334, 1.0152023809523811, 1.000392857142857, 0.9737976190476191, 0.978642857142857, 0.9893928571428571, 0.9604999999999999, 0.9740476190476192, 0.9732023809523811, 0.9807500000000001, 0.9492738095238096, 0.9652261904761904, 0.9729761904761907, 0.9862023809523809, 0.9890952380952381, 1.009809523809524, 0.9682857142857143, 0.9986071428571428, 0.986440476190476, 0.9595595238095237, 0.9696666666666667, 0.992059523809524, 0.9531190476190478, 0.9944999999999999, 0.9563333333333335, 0.9858452380952382, 0.9542857142857144, 0.9662857142857144, 0.9817976190476191, 0.9613095238095238, 0.9896309523809524, 1.0000952380952381, 1.0087619047619047, 0.9659285714285714, 1.0058690476190475, 1.0012142857142858, 0.9732023809523811, 0.9890476190476192, 1.007702380952381, 1.00275, 0.9621309523809524, 0.9754285714285715, 0.9807976190476191, 0.9696428571428571, 0.9999642857142857, 0.9790833333333333, 0.9852619047619049, 0.9665833333333335, 0.9870238095238096, 0.9933571428571428, 1.0316904761904762, 1.000690476190476, 1.014892857142857, 1.0269642857142858, 1.025595238095238, 1.0446071428571428, 1.0326190476190478, 1.028142857142857, 1.035, 1.0070714285714284, 1.0141309523809523, 1.0007738095238095, 0.99175, 0.9808571428571428, 0.9968928571428572, 0.9989642857142859, 0.9904642857142859, 0.9654285714285715, 0.9739285714285715, 0.9998452380952382, 0.9506785714285714, 0.9610833333333333, 0.9890238095238095, 0.9619642857142858, 0.9675119047619047, 0.9883928571428572, 0.98275, 1.0033452380952381, 0.9681190476190477, 1.008142857142857, 0.9770714285714286, 0.9759642857142856, 0.9857976190476192, 1.0114166666666666, 0.9950833333333332, 1.0292261904761906, 1.0179404761904762, 1.0327738095238097, 1.043261904761905, 1.0000595238095238, 1.0350119047619049, 1.0327380952380953, 1.0210119047619048, 0.9776190476190477, 0.997107142857143, 1.0108809523809523, 1.0021428571428572, 0.9701428571428574, 1.003642857142857, 0.9679285714285714, 0.995952380952381, 0.9660000000000001, 0.9710238095238095, 1.000952380952381, 0.9338333333333334, 0.9731190476190476, 0.9684523809523811, 0.9955833333333334, 0.9978214285714286, 0.9912380952380951, 1.020154761904762, 0.9915, 1.0405952380952381, 0.9970595238095238, 1.0182499999999999, 0.9760357142857142, 0.9982261904761907, 1.0152261904761903, 1.0003809523809526, 0.952857142857143, 0.9750357142857143, 0.9797380952380953, 0.9622857142857144, 0.9710952380952381, 0.9838333333333333, 1.0011428571428571, 0.9609880952380953, 0.9777857142857143, 1.0046666666666668, 0.9583095238095238, 0.9692023809523809, 0.9627142857142856, 0.9785833333333332, 1.010059523809524, 1.0019166666666668, 1.0035476190476191, 0.9831428571428572, 0.9754404761904761, 0.9736666666666667, 0.9599404761904763, 0.9630714285714286, 0.9891428571428571, 0.9754642857142858, 0.9775595238095239, 0.980452380952381, 1.0094761904761904, 1.014547619047619, 0.9987738095238095, 0.9956071428571427, 0.9766904761904762, 0.986904761904762, 0.9976309523809525, 1.003904761904762, 0.972261904761905, 1.0350714285714286, 1.006702380952381, 0.9935119047619048, 1.0475238095238095, 0.9964523809523811, 0.9736666666666668, 0.9794166666666668, 0.9716547619047619, 0.9765952380952382, 0.9969166666666667, 0.9843452380952381, 0.9872500000000001, 0.9667857142857144, 0.9860952380952381, 0.9967738095238097, 1.015511904761905, 1.0135595238095239, 0.9852500000000001, 1.0278571428571428, 0.9706071428571428, 0.9980952380952381, 1.0138809523809524, 1.016357142857143, 0.9866309523809523, 1.0220595238095238, 0.9930833333333334, 1.0338809523809525, 1.0428690476190476, 1.0141666666666667, 1.028, 0.9959642857142857, 1.0363214285714286, 0.9705952380952381, 0.9878809523809522, 1.0121785714285716, 0.9850714285714285, 0.968607142857143, 0.9838690476190476, 0.9708214285714286, 0.9784642857142858, 0.9826904761904762, 1.0270357142857143, 1.0028095238095238, 1.020952380952381, 1.0313928571428572, 1.020309523809524, 0.9804166666666667, 0.987607142857143, 0.972702380952381, 0.9695833333333336, 0.9939047619047618, 0.9616785714285715, 1.0219285714285715, 1.0195714285714286, 1.0197023809523809, 1.0204285714285715, 1.0065119047619049, 0.9898333333333336, 0.9954285714285716, 1.0027261904761904, 0.9703928571428572, 0.9804999999999999, 0.9472380952380952, 0.9737261904761906, 0.9757500000000001, 0.9996785714285716, 0.9867380952380952, 0.9656904761904761, 1.0001309523809525, 1.0411785714285715, 0.9990357142857145, 1.028547619047619, 1.005095238095238, 0.9991309523809523, 0.9877380952380952, 0.991702380952381, 0.9780119047619047, 1.0090952380952383, 0.9665119047619047, 0.9619404761904763, 0.9795357142857142, 0.9954880952380953, 0.957154761904762, 0.9828928571428571, 0.9637976190476191, 1.0083214285714288, 0.9705833333333332, 0.9731666666666667, 1.012559523809524, 0.9726190476190475, 1.0103095238095239, 1.0247261904761904, 0.9868333333333332, 1.0425357142857141, 1.0264880952380953, 1.0272738095238094, 1.039857142857143, 0.989107142857143, 1.0180595238095238, 1.0113690476190478, 0.9574642857142857, 0.9630833333333333, 0.9586904761904762, 0.9489880952380952, 0.9470833333333334, 0.9461904761904764, 0.9716785714285714, 0.9460119047619048, 0.9701309523809526, 0.9917261904761906, 1.0067857142857144, 0.970142857142857, 1.0028452380952382, 1.0283809523809526, 1.0193452380952384, 0.9814166666666666, 1.0115833333333333, 1.0020714285714285, 0.9777142857142858, 0.9825714285714285, 0.9708809523809524, 1.003095238095238, 0.9570595238095239, 0.9693333333333334, 0.9935357142857144, 0.9507738095238094, 0.9756309523809524, 0.9710357142857143, 0.9974404761904762, 1.0091904761904762, 1.015642857142857, 1.0197976190476192, 1.0146190476190478, 1.0257261904761907, 1.003988095238095, 0.9882261904761906, 0.9953571428571428, 1.0357261904761905, 0.9971904761904763, 1.0184761904761905, 0.9766666666666668, 1.0067023809523812, 1.0297619047619049, 0.9717619047619047, 0.980547619047619, 0.9755833333333335, 0.9956071428571429, 0.9938690476190475, 0.9598571428571429, 0.9861190476190477, 0.9652261904761905, 0.9748690476190477, 0.9937261904761905, 0.9671785714285713, 0.966154761904762, 0.9909047619047617, 0.9618452380952381, 0.9464523809523809, 0.9575952380952382, 0.9554047619047621, 0.9571309523809524, 0.9981190476190476, 0.9897142857142859, 1.0006904761904762, 1.0013095238095238, 1.015059523809524, 0.9822142857142857, 1.0054285714285716, 0.9623571428571428, 0.9946785714285712, 0.9607619047619048, 0.9510833333333333, 0.9725119047619047, 0.9854047619047619, 0.9760714285714285, 0.9808571428571428, 0.9422380952380953, 0.9691190476190477, 0.9541071428571428, 0.9516666666666667, 0.9857738095238096, 0.9184761904761904, 0.9560476190476189, 0.9614166666666667, 0.9865833333333336, 0.9454761904761905, 0.9609404761904763, 0.9721785714285716, 1.0026309523809525, 0.9846904761904762, 1.0056309523809523, 0.9818214285714285, 1.0257500000000002, 0.9657976190476192, 0.9825119047619049, 0.9796785714285715, 1.001702380952381, 0.9637619047619048, 1.0037380952380954, 0.9843333333333333, 0.9616785714285715, 0.9779642857142857, 0.9698214285714284, 1.0074642857142857, 0.9720714285714285, 1.0031190476190477, 0.9940119047619047, 0.974952380952381, 1.0298333333333334, 0.9706666666666667, 1.0054166666666666, 1.0078333333333331, 0.9683214285714288, 1.0022261904761904, 0.989904761904762, 0.9620119047619047, 0.9746666666666668, 0.9723571428571428, 0.996797619047619, 0.9832738095238094, 0.967654761904762, 0.9967261904761906, 0.9598095238095239, 0.980452380952381, 0.9731071428571428, 1.0234880952380954, 0.9940357142857144, 0.9965952380952381, 1.049702380952381, 1.0206190476190475, 1.026535714285714, 0.9932738095238095, 1.0262857142857142, 0.9700714285714286, 1.0054285714285713, 0.955892857142857, 0.9689404761904763, 0.9954166666666666, 0.9978095238095238, 0.9885595238095236, 0.993547619047619, 0.9702500000000001, 0.9782023809523809, 1.0005, 0.9630833333333333, 0.9821785714285716, 1.0194642857142857, 0.984904761904762, 0.9868928571428571, 0.9746666666666667, 0.9973095238095239, 1.0180833333333332, 1.004857142857143, 1.0119047619047619, 1.0119285714285715, 0.9927380952380952, 1.023095238095238, 1.0194880952380951, 0.9701190476190475, 1.0145238095238096, 0.9757142857142858, 0.9709999999999999, 0.9889166666666667, 0.9756190476190476, 0.9572857142857142, 1.0048690476190476, 0.9500238095238096, 1.0031428571428571, 1.0057500000000001, 0.9897500000000001, 1.0117142857142856, 1.0042619047619048, 0.9673690476190476, 0.9831785714285713, 0.9784404761904761, 0.9828571428571429, 0.9868095238095238, 0.9723214285714287, 0.9720357142857142, 1.008547619047619, 1.0211785714285715, 0.9908095238095237, 0.9864523809523809, 1.0273333333333334, 0.9639285714285715, 0.9850833333333333, 0.9973095238095239, 0.9868333333333335, 1.0183809523809524, 0.9844047619047619, 0.9954880952380953, 1.046166666666667, 1.0030833333333333, 1.0301190476190476, 1.043452380952381, 1.032904761904762, 1.0119642857142856, 1.0042976190476192, 1.0463452380952383, 0.9773928571428572, 1.0164285714285715, 0.9671904761904762, 1.0043690476190477, 0.9632857142857143, 0.9858333333333333, 0.9845595238095238, 0.9697142857142858, 0.9981309523809524, 1.0051666666666668, 0.9675238095238096, 0.998690476190476, 1.0270119047619048, 1.0191071428571428, 1.0042619047619048, 1.02475, 0.978452380952381, 0.9976190476190476, 0.984547619047619, 1.0017380952380952, 0.9568214285714286, 1.0237976190476192, 0.9735238095238095, 1.0311666666666666, 1.03875, 1.0241309523809523, 1.0277857142857143, 1.0386428571428572, 1.0306071428571428, 1.003702380952381, 1.0345595238095238, 0.9995119047619048, 1.0044285714285714, 0.9639166666666668, 0.9765714285714285, 0.9671785714285716, 0.9823690476190476, 0.9746309523809524, 0.9508333333333334, 0.9932261904761904, 0.9750119047619047, 1.0125238095238094, 1.035452380952381, 1.0158690476190475, 1.0340952380952382, 1.0426428571428574, 0.9971666666666666, 1.0412619047619047, 0.9905238095238096, 1.0240357142857142, 1.0119166666666668, 0.9684285714285716, 1.015452380952381, 0.9911309523809525, 1.050809523809524, 1.0262380952380954, 1.0151547619047618, 1.0405952380952381, 1.004809523809524, 1.0413690476190478, 1.0170833333333333, 0.9806190476190476, 0.9739642857142857, 0.9746904761904761, 0.9734404761904762, 0.9890714285714287, 0.9842380952380952, 0.9787261904761904, 0.9940952380952381, 0.9964285714285714, 0.9866428571428573, 1.0285952380952383, 0.9672619047619048, 1.0211190476190477, 0.9781785714285715, 1.013642857142857, 0.9991309523809523, 0.9540119047619049, 0.9676309523809524, 0.9667857142857142, 0.964190476190476, 0.9766547619047617, 0.977654761904762, 0.9563452380952382, 0.9871428571428572, 0.9658452380952381, 0.9833095238095236, 0.9992380952380954, 0.9657619047619047, 1.0138928571428572, 0.9854523809523809, 1.009035714285714, 0.9877261904761904, 0.981607142857143, 0.9957976190476191, 1.0196785714285714, 1.0000833333333334, 1.0111071428571428, 0.9716309523809524, 0.9842142857142858, 0.9797738095238095, 0.9879523809523809, 0.9551071428571427, 0.9785833333333332, 0.9799047619047618, 0.9612738095238097, 0.9767142857142859, 1.0033333333333334, 0.9754642857142857, 0.9745714285714286, 1.0113095238095238, 0.9807023809523808, 1.0295357142857144, 1.0186309523809522, 1.0276904761904764, 0.994452380952381, 1.0450714285714287, 1.0209761904761907, 1.0173809523809525, 0.9848809523809524, 1.0087261904761906, 1.0171190476190477, 0.980607142857143, 1.022702380952381, 1.017404761904762, 0.9781428571428572, 1.0294880952380951, 0.9941190476190476, 1.0280357142857144, 1.0258214285714287, 0.9769285714285716, 1.0295357142857144, 0.9977380952380953, 0.9958095238095238, 1.0268333333333333, 1.0121309523809523, 1.0251190476190475, 1.0254761904761902, 1.0290476190476188, 1.0311071428571428, 1.0404880952380953, 1.0421190476190478, 1.0114404761904763, 0.9885119047619049, 0.985845238095238, 0.9929880952380953, 0.9618928571428572, 0.9839642857142856, 0.9441904761904764, 0.9681666666666666, 0.9523095238095238, 0.962202380952381, 0.9684880952380953, 0.9982857142857142, 0.9855476190476191, 0.9761785714285716, 0.9885952380952383, 0.9642261904761905, 0.9722142857142858, 0.9598333333333334, 0.971952380952381, 0.9598333333333334, 0.9499523809523809, 0.9957976190476191, 0.9561309523809524, 0.9845119047619048, 0.9803095238095239, 0.9707738095238095, 1.0053214285714287, 0.9670833333333333, 0.9792738095238097, 0.9855833333333334, 1.0305833333333334, 1.0123690476190477, 0.9890357142857144, 0.9967380952380952, 1.036702380952381, 0.9693690476190477, 0.9921190476190476, 1.0137261904761903, 0.9738095238095239, 1.0287619047619048, 1.0139761904761906, 0.9730357142857142, 1.027404761904762, 0.9901071428571429, 0.977095238095238, 0.9834166666666666, 1.0039285714285715, 0.9773452380952382, 0.9914285714285714, 0.9879523809523809, 0.9978452380952382, 0.9749642857142857, 1.0166547619047621, 0.9572738095238096, 0.9894404761904764, 1.0246666666666666, 1.0105119047619049, 0.9763809523809525, 1.0455119047619048, 0.9861904761904763, 1.036107142857143, 1.0138214285714287, 1.0044880952380955, 1.0003928571428573, 1.0333809523809525, 0.9902261904761905, 0.9644642857142859, 0.9694404761904762, 0.9540833333333334, 0.9521547619047619, 0.9684642857142857, 0.9436666666666667, 0.9895595238095238, 0.9723809523809525, 0.9855714285714287, 1.0250595238095237, 1.0198333333333334, 1.0013095238095238, 1.013452380952381, 1.0049166666666667, 1.015095238095238, 0.9581785714285713, 0.9723452380952382, 0.9715238095238096, 0.9686428571428571, 1.0090357142857145, 0.9947142857142859, 0.9668809523809523, 1.0209642857142858, 0.9850714285714287, 1.0042380952380954, 0.9984404761904762, 1.002857142857143, 0.9761785714285713, 1.019738095238095, 0.9677142857142859, 1.0101309523809525, 0.9656071428571429, 0.9826071428571429, 1.004857142857143, 0.9722380952380953, 0.9905833333333334, 0.9762380952380955, 1.0070238095238095, 0.9909166666666668, 1.013464285714286, 0.9585952380952382, 0.9693333333333334, 0.9665714285714286, 0.9634166666666667, 0.968047619047619, 0.9946190476190476, 1.000857142857143, 1.0019047619047619, 1.000547619047619, 1.0231428571428571, 0.9948928571428571, 1.0306190476190475, 0.9961785714285715, 1.016690476190476, 0.9935952380952381, 0.9923333333333333, 0.9825, 0.9909880952380952, 1.0061309523809523, 1.0178928571428572, 0.9956428571428572, 1.0083095238095239, 1.010904761904762, 1.0543214285714289, 1.0151666666666668, 1.0272380952380953, 0.9847738095238096, 1.0020357142857144, 1.0205833333333334, 0.9887738095238096, 0.9584285714285715, 0.9631666666666666, 0.9906309523809524, 0.9635595238095237, 0.9783333333333333, 1.0100238095238094, 0.9762142857142855, 0.9908452380952381, 1.0245, 1.0115238095238095, 1.0082976190476192, 0.9744166666666667, 0.9808214285714285, 0.9827500000000002, 0.9920238095238095, 0.9678809523809523, 0.9523809523809522, 0.9919761904761903, 0.9794761904761906, 0.9677976190476191, 1.0135833333333333, 0.9788928571428572, 1.0186904761904763, 0.9680119047619049, 0.9929880952380953, 1.020452380952381, 0.9815238095238096, 0.9779285714285715, 1.0036785714285714, 0.9689523809523809, 0.9685595238095239, 0.9727857142857143, 0.9810238095238096, 1.0170357142857145, 1.0027738095238097, 1.0284404761904764, 0.9923095238095236, 1.0577857142857146, 1.0095833333333335, 1.0242380952380952, 1.063107142857143, 1.0344523809523811, 1.0544761904761906, 1.0303214285714286, 1.017, 1.0291428571428571, 0.9783809523809524, 0.9872619047619047, 1.00975, 0.9502261904761905, 0.9717738095238095, 0.9800833333333335, 1.015261904761905, 0.9760119047619048, 0.9628214285714287, 0.9804880952380951, 0.9935238095238094, 0.975202380952381, 1.0078571428571428, 0.9672619047619048, 1.0173928571428572, 1.0032857142857143, 0.9923571428571429, 0.9935952380952383, 1.0269166666666667, 1.0010238095238095, 1.0163095238095239, 1.0034880952380951, 0.9785119047619046, 1.0116309523809524, 0.9706785714285715, 0.9824404761904763, 0.9924642857142858, 0.9969880952380953, 0.9517976190476192, 0.9866190476190477, 1.0016666666666667, 0.9998333333333334, 1.0056904761904764, 0.9988095238095239, 0.9936071428571428, 0.9893690476190476, 1.0180238095238094, 1.0131190476190477, 0.9665119047619047, 0.9701428571428572, 0.9738928571428571, 0.9772738095238096, 1.0002380952380951, 0.9867261904761904, 0.9748571428571429, 1.0303452380952383, 1.0187261904761906, 1.0191190476190475, 1.017404761904762, 0.9989404761904762, 1.0009166666666667, 1.0134880952380954, 1.0120238095238097, 1.0128452380952382, 0.9652499999999998, 0.9948095238095237, 1.0108214285714285, 0.9768452380952382, 1.0153333333333332, 0.9845714285714285, 1.0092380952380953, 1.0000357142857144, 0.9966547619047619, 1.0405714285714287, 1.0178214285714287, 1.0288809523809523, 1.0340952380952382, 1.035607142857143, 1.0426666666666669, 1.0415119047619048, 0.9904642857142859, 1.0301666666666667, 0.9626547619047618, 0.972357142857143, 0.9618571428571427, 0.9563928571428572, 0.9807857142857143, 0.9856666666666667, 0.986345238095238, 1.003952380952381, 1.0280238095238095, 0.997202380952381, 1.0035833333333333, 0.9929999999999999, 1.0102619047619048, 0.9643809523809523, 1.0124285714285715, 0.9645119047619048, 1.0104166666666667, 0.98275, 0.9685952380952382, 1.0070357142857145, 0.9565595238095238, 0.9861785714285715, 0.9626785714285715, 0.992702380952381, 0.9894047619047619, 0.9885714285714284, 1.0201428571428572, 0.9654404761904761, 1.0065238095238094, 0.9562619047619046, 0.9623214285714287, 0.948547619047619, 0.9567023809523809, 0.9680595238095238, 0.9965, 0.999952380952381, 0.9929047619047621, 1.0215833333333333, 0.9905119047619048, 1.0083214285714288, 1.033904761904762, 1.0138333333333334, 0.9746309523809524, 1.0194642857142857, 0.9754047619047619, 1.0132261904761903, 1.0031904761904764, 0.9744047619047619, 1.0296666666666667, 0.9727976190476191, 1.0313214285714285, 1.001095238095238, 1.005595238095238, 1.0123452380952382, 0.9737261904761904, 1.001845238095238, 0.9896309523809522, 0.978797619047619, 1.0151547619047618, 0.9913452380952382, 1.02925, 1.005952380952381, 0.9879404761904761, 1.0122380952380952, 1.0028452380952382, 0.9789761904761906, 0.9849642857142858, 1.0277619047619049, 1.0025238095238098, 0.9799642857142856, 1.0312857142857144, 1.0187738095238095, 0.9751666666666667, 0.9905952380952382, 0.9956785714285714, 0.9923095238095238, 0.9655, 0.9851547619047619, 1.0087857142857142, 0.9913333333333332, 1.0125, 0.9957857142857143, 1.0163690476190477, 0.9937976190476189, 0.9841666666666666, 0.9863214285714286, 1.0084166666666667, 0.974952380952381, 1.022642857142857, 0.9958809523809523, 1.0365, 0.991095238095238, 1.0619761904761904, 1.0116190476190476, 1.0402738095238095, 1.001297619047619, 0.9825, 0.9821190476190476, 0.9818452380952382, 1.0051190476190477, 0.9539285714285713, 1.0082380952380954, 0.9975238095238094, 0.9936428571428573, 1.0402261904761905, 1.0321666666666667, 1.0179404761904762, 0.994547619047619, 1.0148333333333333, 0.985511904761905, 0.9991666666666665, 0.9790238095238095, 0.9606666666666667, 0.9701190476190478, 0.9958214285714286, 0.9582619047619048, 0.9782857142857143, 0.9956666666666666, 0.9682976190476191, 1.0273928571428572, 0.9692380952380952, 1.0138809523809524, 0.9755357142857144, 1.016202380952381, 0.9766785714285715, 1.0156666666666667, 0.9987142857142857, 0.981952380952381, 1.0211071428571428, 0.9937142857142858, 0.9710833333333333, 0.9709166666666667, 0.9785714285714284, 0.9996904761904762, 0.9978928571428572, 1.0203095238095239, 1.0155952380952382, 0.9958452380952382, 0.9945595238095238, 1.0083690476190477, 0.9735357142857143, 0.9669166666666668, 0.9757500000000001, 0.959, 0.945940476190476, 0.9649880952380953, 0.9835833333333333, 0.9537976190476191, 1.0119166666666668, 0.9653571428571429, 1.0254404761904763, 0.9863928571428572, 0.9680714285714286, 0.9944404761904762, 0.9929523809523811, 0.9951190476190477, 0.994547619047619, 1.015261904761905, 0.9858690476190477, 0.9963928571428572, 1.020488095238095, 0.9972261904761904, 1.0095476190476191, 0.9764523809523808, 1.0155357142857144, 0.9749047619047618, 1.0072738095238094, 0.9690000000000002, 1.0032499999999998, 0.9686190476190477, 1.0118690476190477, 0.9860714285714286, 0.9998809523809523, 0.9725952380952382, 1.006547619047619, 0.9596785714285714, 0.9725119047619047, 0.9815833333333334, 0.9655357142857144, 1.0019404761904762, 0.9720238095238096, 0.9944880952380951, 0.9716547619047619, 0.9915952380952381, 1.0242738095238098, 0.9943928571428571, 1.0243571428571427, 1.0237738095238096, 1.0274404761904763, 1.0184166666666665, 1.034654761904762, 0.9850952380952381, 1.0297261904761905, 0.9945952380952382, 0.9877023809523809, 1.0276785714285717, 1.0030952380952383, 1.0492261904761906, 1.0259404761904762, 1.043, 1.0486190476190476, 1.0389880952380952, 1.0480119047619045, 1.0258214285714284, 0.9961666666666666, 1.039107142857143, 0.9696428571428571, 0.981845238095238, 0.9720119047619048, 0.9902380952380954, 0.9524404761904761, 0.976047619047619, 0.9737142857142858, 1.0212619047619047, 0.9826904761904761, 0.9779166666666668, 1.0149404761904761, 0.9622857142857142, 1.0102738095238095, 0.9521904761904763, 0.9728928571428571, 0.9884642857142856, 0.9581071428571428, 1.0120952380952384, 0.9480000000000001, 0.9779642857142857, 0.9989761904761905, 0.9684166666666668, 0.9848452380952382, 1.0083809523809524, 1.0065833333333334, 0.9991547619047619, 0.9989047619047621, 1.0460714285714285, 1.0133452380952381, 1.0001190476190476, 1.0353690476190478, 1.016452380952381, 0.9929880952380954, 0.9704642857142856, 0.9672857142857142, 0.9505833333333333, 0.9446904761904762, 0.9356785714285716, 0.9324285714285714, 0.9584166666666667, 0.9514285714285714, 0.9827142857142855, 0.9555476190476191, 1.019595238095238, 0.9643571428571429, 1.0099285714285715, 1.0108095238095238, 0.9811904761904761, 1.022214285714286, 0.9591785714285714, 0.9812261904761905, 0.983059523809524, 1.0160476190476193, 0.9651904761904762, 1.0218571428571428, 1.0196785714285714, 1.03, 1.0001428571428572, 0.9963333333333334, 0.964452380952381, 0.9658690476190476, 0.9626547619047618, 0.9510833333333333, 0.9951071428571429, 0.9676428571428571, 0.9855714285714285, 0.980642857142857, 0.9862619047619048, 0.9635, 0.9737976190476191, 1.0005238095238096, 0.9787738095238095, 0.9944999999999999, 1.0137976190476192, 1.0133928571428572, 0.9918571428571428, 0.975702380952381, 0.9836071428571429, 0.9460833333333334, 0.9509880952380951, 0.9546309523809524, 0.9528452380952381, 0.9779642857142858, 0.9484761904761905, 0.9952976190476189, 0.9571785714285715, 1.0034523809523812, 0.9502857142857144, 0.9735714285714285, 0.9727380952380953, 0.9955238095238096, 0.977440476190476, 0.9519404761904763, 0.9812142857142857, 0.9722023809523809, 1.0089285714285714, 0.9573333333333333, 1.0044404761904762, 0.9889285714285714, 0.9630238095238096, 1.0094285714285713, 0.9645119047619046, 1.0017738095238096, 0.9970595238095237, 1.0015357142857142, 0.9869166666666668, 1.0266904761904763, 1.0187619047619048, 1.016654761904762, 0.9904285714285715, 1.0182380952380954, 0.9666071428571428, 0.9748571428571429, 0.9599761904761905, 0.9864285714285714, 0.9499166666666667, 0.9751904761904762, 0.9952142857142857, 0.9898690476190476, 0.9768690476190477, 0.9790476190476192, 0.9770714285714286, 0.9911904761904763, 0.9939166666666667, 0.9552142857142857, 1.0102857142857142, 0.9679523809523809, 0.9716190476190478, 0.9792380952380952, 0.9769761904761906, 0.9711785714285716, 0.9421666666666666, 0.9609285714285714, 0.9704404761904761, 0.952857142857143, 0.9643809523809523, 0.9884166666666668, 0.9361547619047619, 0.973404761904762, 0.9748928571428572, 1.014761904761905, 0.9714880952380953, 0.9721428571428573, 1.0119047619047619, 0.9603809523809523, 1.002559523809524, 0.9702738095238094, 1.0150952380952383, 0.9553452380952381, 1.0046547619047619, 0.9659047619047618, 0.9921190476190476, 1.0166309523809525, 1.0148214285714285, 1.0220952380952382, 0.9905595238095237, 1.0515119047619048, 0.9866904761904762, 1.0279761904761906, 0.9850238095238095, 0.9929523809523809, 0.9757261904761905, 1.007059523809524, 1.012202380952381, 0.9620833333333335, 1.0076785714285714, 0.9656428571428572, 0.9807142857142856, 0.9714761904761905, 0.9726428571428571, 1.0100833333333334, 0.9587857142857142, 0.9800952380952381, 0.9723571428571428, 0.9870119047619047, 0.9985833333333334, 1.0109761904761905, 1.0095, 0.96775, 1.020357142857143, 0.9714047619047619, 0.983, 0.979154761904762, 1.0014166666666666, 0.9659285714285715, 1.0212261904761906, 1.0196785714285714, 1.023642857142857, 1.040357142857143, 1.0022142857142857, 1.0029166666666667, 1.0366428571428572, 0.9628095238095237, 0.994952380952381, 1.0139761904761906, 0.996404761904762, 0.9976904761904761, 1.019857142857143, 0.9869523809523809, 1.0395119047619048, 0.9663809523809525, 1.033654761904762, 0.9609285714285715, 0.9929166666666669, 1.022452380952381, 0.9813095238095237, 1.0128095238095238, 1.008452380952381, 0.9896547619047619, 1.045607142857143, 1.0245119047619047, 1.0340238095238097, 1.001547619047619, 1.009261904761905, 1.056357142857143, 0.9895714285714285, 1.0450357142857143, 1.0084166666666667, 0.9746904761904761, 0.9871666666666667, 0.9797738095238095, 0.9973690476190478, 0.9489047619047619, 0.9806309523809524, 0.9846071428571428, 0.9882619047619047, 1.0223333333333333, 1.0155833333333333, 1.0282380952380954, 0.9891309523809524, 1.0316904761904762, 1.023785714285714, 0.9927142857142858, 0.9634642857142857, 0.9567499999999999, 0.9602619047619049, 0.9418095238095239, 0.9415, 0.9740833333333334, 0.9358809523809525, 1.0002261904761904, 0.9606785714285715, 1.0165119047619047, 0.9871190476190476, 0.984107142857143, 1.0270714285714286, 0.992892857142857, 1.0157142857142856, 0.9947857142857144, 0.9653571428571429, 0.9754404761904761, 0.9620714285714287, 0.9849166666666666, 0.9522261904761906, 1.0013214285714285, 0.96775, 0.9879166666666667, 0.9754880952380953, 0.9864404761904764, 1.0117261904761905, 0.9919880952380952, 0.974202380952381, 1.0185952380952383, 0.9778928571428571, 1.0218928571428572, 0.9991785714285714, 0.9804523809523809, 1.0394404761904763, 1.0052619047619047, 1.0116309523809524, 1.0054761904761904, 0.9753214285714288, 0.9927619047619047, 0.9874880952380952, 1.0103690476190477, 1.0015238095238097, 0.9615714285714286, 0.9924166666666666, 0.9719047619047619, 0.9880595238095238, 0.9850476190476191, 0.9895952380952382, 0.9806190476190476, 0.988452380952381, 1.0394166666666667, 1.0241904761904763, 1.0050119047619048, 0.9969285714285715, 0.9842261904761906, 0.9960714285714286, 1.0127261904761906, 0.96975, 1.027904761904762, 0.9909285714285714, 0.9810238095238096, 1.0110714285714286, 0.9509880952380951, 0.9662619047619048, 0.9631309523809525, 0.9665357142857142, 1.0042857142857142, 0.9979880952380951, 1.007059523809524, 1.022452380952381, 0.9958571428571429, 1.056154761904762, 1.0157261904761907, 1.0063214285714286, 1.0354523809523808, 1.0316785714285717, 1.0081547619047617, 0.9925357142857143, 1.0019166666666668, 1.0248333333333333, 1.0061190476190478, 0.9686071428571429, 1.0185714285714287, 0.9656071428571429, 0.9911428571428571, 1.014130952380952, 0.9758333333333333, 1.0359047619047619, 0.9958928571428571, 0.991654761904762, 0.9977261904761905, 0.9673928571428573, 0.9769523809523809, 0.9803214285714285, 0.9689761904761905, 0.9521904761904761, 1.0032142857142858, 0.9657499999999999, 1.006535714285714, 0.9867738095238094, 0.9753928571428571, 0.9686309523809523, 0.9626547619047617, 0.9833571428571427, 0.9551190476190476, 0.9728452380952382, 0.9867380952380952, 1.0047261904761906, 1.009357142857143, 0.9666190476190476, 1.002559523809524, 0.9703690476190475, 0.9755595238095238, 0.9703928571428572, 0.9965000000000002, 0.9641904761904763, 0.9686904761904762, 1.000202380952381, 0.9635, 0.9786904761904763, 0.9720238095238096, 0.9999880952380954, 0.974547619047619, 0.9934642857142857, 0.9607738095238095, 1.0001071428571429, 0.948392857142857, 0.9564047619047619, 0.9677976190476191, 0.9638571428571429, 1.0104404761904764, 0.9778809523809525, 0.9721309523809525, 1.028154761904762, 0.9877857142857144, 0.979559523809524, 1.0054285714285716, 0.9602619047619049, 0.9702380952380952, 0.9985833333333334, 0.9670000000000001, 0.9607380952380954, 0.9904166666666666, 0.9862142857142857, 0.974154761904762, 1.0109642857142858, 1.004857142857143, 0.9879761904761906, 1.0381428571428573, 0.9983809523809523, 0.9818809523809525, 1.0004642857142858, 0.9671071428571429, 1.0026785714285715, 0.958297619047619, 0.9845595238095238, 1.0161071428571429, 1.0117500000000001, 0.9966547619047619, 0.9922261904761905, 1.00075, 1.0387499999999998, 1.0079999999999998, 1.021952380952381, 1.0244404761904762, 1.0295119047619048, 1.0409880952380954, 0.9922142857142857, 1.032142857142857, 0.976952380952381, 1.0120714285714285, 0.9662738095238096, 0.9840714285714286, 1.0095119047619048, 0.9876428571428572, 0.9795357142857144, 0.9759166666666668, 0.9861190476190477, 1.0038452380952383, 1.0169761904761907, 0.9687619047619046, 1.0308809523809523, 1.002702380952381, 0.9936666666666667, 1.0320000000000003, 0.9732976190476191, 1.0302380952380954, 0.9707023809523811, 0.9994166666666667, 1.0451428571428572, 1.0119761904761906, 1.035, 1.0039642857142856, 1.017309523809524, 1.0000833333333334, 1.0193809523809523, 0.9695714285714286, 1.0024285714285714, 0.9612619047619047, 0.989297619047619, 0.9634761904761905, 1.0059761904761904, 0.9511309523809525, 0.9736428571428571, 1.002857142857143, 1.0178809523809524, 0.992404761904762, 1.0215, 0.9952142857142858, 1.0537500000000002, 1.017202380952381, 0.9980357142857144, 1.0431428571428571, 1.0294404761904763, 0.987452380952381, 1.040357142857143, 0.974654761904762, 1.0019166666666668, 1.0179166666666668, 0.9945952380952382, 0.9772023809523811, 1.0089285714285714, 0.9739880952380954, 1.0160357142857144, 0.9637261904761905, 0.9982261904761904, 0.9891785714285714, 0.998202380952381, 0.9728690476190477, 0.9634404761904762, 0.9688095238095238, 0.9660952380952381, 1.0064285714285712, 0.9620952380952381, 1.0307976190476191, 0.9974880952380952, 1.0333214285714287, 1.007297619047619, 1.0239642857142859, 0.9957738095238095, 0.9894642857142857, 0.9818095238095239, 1.0045952380952383, 0.9733214285714286, 0.9617619047619049, 0.9933928571428571, 0.9552380952380952, 0.9669285714285714, 0.9999404761904762, 0.9616071428571429, 0.9918690476190475, 1.0052380952380953, 0.9794285714285713, 1.025809523809524, 1.0455595238095239, 1.0396309523809524, 1.0352857142857144, 1.029547619047619, 1.049, 1.0004047619047618, 0.9877380952380952, 0.9794404761904761, 0.9907857142857143, 0.9866309523809521, 0.9475119047619048, 0.9739880952380953, 0.9521785714285714, 0.9627976190476191, 0.9675952380952382, 0.9998333333333332, 0.9799761904761904, 0.9917261904761904, 0.9903809523809523, 1.0335119047619048, 1.008690476190476, 1.0115833333333333, 0.9823333333333334, 1.0208333333333333, 0.9699404761904761, 0.9817142857142857, 1.0015714285714286, 0.999107142857143, 0.9898452380952382, 1.0059761904761904, 1.0112738095238096, 0.9973095238095236, 0.971547619047619, 0.9835119047619049, 0.9811428571428571, 1.0015238095238095, 1.0133809523809525, 0.9974285714285716, 1.022654761904762, 1.0000714285714285, 1.05375, 1.0102380952380952, 1.0011190476190475, 1.0325357142857141, 1.0169642857142858, 1.0180119047619047, 0.9968571428571428, 1.0397380952380952, 1.0320238095238095, 1.0432261904761906, 1.0193214285714285, 1.0177380952380954, 1.0370476190476192, 0.9953333333333334, 1.0275238095238097, 0.9949880952380952, 0.9696904761904763, 0.9939047619047618, 0.9698452380952383, 0.9817500000000001, 1.0025833333333334, 1.0070833333333333, 0.9851666666666665, 0.9988928571428571, 1.041714285714286, 0.9952976190476189, 1.0139880952380953, 0.9722380952380953, 1.0176428571428573, 0.97625, 0.9930952380952383, 1.0342500000000001, 1.0146547619047621, 0.9872738095238096, 1.0367619047619048, 1.0050833333333333, 0.9884761904761904, 0.9925714285714287, 1.0094880952380951, 1.0005238095238096, 0.9843214285714285, 1.0255714285714286, 1.0162738095238095, 0.9879761904761905, 0.9836071428571429, 0.9872857142857143, 1.0064047619047618, 1.0038214285714286, 1.001095238095238, 0.9997261904761904, 1.0236190476190477, 0.9954047619047619, 1.0357142857142858, 1.0316785714285714, 0.9896309523809524, 1.0597261904761905, 1.0214880952380954, 1.0242976190476192, 1.0378809523809525, 1.0229404761904763, 1.0087857142857142, 1.0395833333333333, 0.9739047619047618, 1.0265238095238096, 0.9653095238095238, 0.989952380952381, 1.0144285714285715, 0.9569047619047618, 1.0018690476190477, 0.9869761904761906, 1.0186309523809522, 1.010452380952381, 0.9705595238095238, 1.001154761904762, 1.0337619047619049, 0.9893690476190476, 0.9899404761904764, 1.0390833333333334, 0.9822738095238095, 1.0419404761904763, 0.9934166666666665, 0.9829047619047622, 1.0052380952380953, 0.9716428571428573, 1.013261904761905, 0.9454166666666668, 0.9618571428571427, 0.969154761904762, 0.9673333333333334, 0.9948452380952381, 0.9871428571428573, 0.9612738095238095, 1.0205357142857143, 0.9823452380952382, 1.0204880952380952, 1.0029880952380954, 0.9816904761904761, 1.0158214285714284, 0.9914999999999998, 0.9654285714285715, 0.9709404761904762, 0.9583333333333334, 0.9569404761904763, 0.9523571428571428, 0.9814285714285714, 0.957702380952381, 0.9908333333333332, 1.018392857142857, 0.9945119047619048, 1.002761904761905, 1.0615238095238095, 1.0335, 1.0302976190476192, 1.0315238095238095, 1.0036666666666667, 1.0615357142857145, 0.9913571428571428, 1.0406904761904763, 1.0059880952380955, 0.9743571428571429, 1.0006428571428572, 1.018738095238095, 0.9839404761904763, 1.0204642857142856, 1.002904761904762, 1.006952380952381, 1.002488095238095, 1.039357142857143, 0.9935952380952381, 0.968654761904762, 0.9786309523809523, 0.9792857142857142, 0.9947380952380952, 0.9994642857142859, 0.9804880952380953, 1.0172261904761906, 1.0105714285714287, 1.0342142857142855, 1.0312261904761906, 1.0236666666666667, 1.0261190476190476, 0.9687261904761906, 0.9921071428571429, 0.9674166666666666, 0.993642857142857, 0.9443214285714286, 0.9600833333333332, 0.9909047619047617, 0.9474880952380952, 0.9770000000000001, 0.9759404761904763, 1.005595238095238, 0.9921071428571427, 0.9610714285714286, 0.9879166666666667, 1.020047619047619, 0.9649047619047618, 0.9950238095238094, 1.037107142857143, 1.0074166666666666, 1.0231309523809524, 1.025988095238095, 0.9902261904761905, 1.0277261904761905, 0.9799642857142858, 0.9936785714285715, 1.011607142857143, 1.007952380952381, 0.9685238095238097, 0.9946547619047619, 1.0252857142857146, 0.9647738095238096, 0.9992380952380954, 0.9692619047619049, 1.0157857142857143, 0.9669404761904763, 1.0045595238095237, 1.0144285714285717, 0.9641785714285712, 1.0101785714285714, 0.9512142857142857, 0.9693333333333334, 0.9538690476190477, 0.9502142857142857, 0.9661666666666667, 1.0128690476190476, 0.9860357142857142, 0.9969761904761905, 0.9924761904761906, 0.9999880952380954, 1.0281071428571429, 0.9744523809523807, 0.9747857142857144, 0.9893214285714287, 1.0164404761904762, 1.0158690476190477, 0.9798928571428572, 1.0355, 1.0264642857142856, 1.023202380952381, 1.0155952380952382, 1.0010476190476192, 0.9936190476190476, 1.0258571428571428, 1.0026071428571428, 0.993595238095238, 0.9758333333333333, 1.0042738095238095, 0.9890238095238095, 1.0080595238095238, 0.9941666666666668, 0.9725714285714285, 0.9938928571428571, 1.0304166666666668, 0.9738214285714286, 1.0108333333333333, 0.9842380952380952, 0.9798809523809524, 0.9890119047619047, 0.987095238095238, 1.026654761904762, 1.0051785714285715, 0.971095238095238, 1.0395714285714284, 0.9849166666666667, 1.0263571428571427, 1.009, 0.9862142857142858, 1.0315238095238095, 1.0221904761904763, 1.0127380952380953, 1.0016190476190476, 1.0145833333333332, 1.0035119047619045, 1.0328690476190476, 1.0209761904761905, 0.9945595238095237, 0.9834285714285714, 0.9963571428571429, 0.9858571428571429, 1.0032023809523811, 0.9616428571428572, 0.9947976190476191, 1.0170238095238096, 0.9661428571428572, 1.0038928571428571, 0.9955, 0.9648928571428573, 0.9672499999999999, 0.9919047619047618, 0.9522619047619049, 0.9708095238095238, 0.9931428571428572, 0.9679761904761905, 0.9665595238095238, 0.9830595238095238, 0.9627261904761905, 0.9807976190476191, 0.9624047619047619, 0.9966190476190477, 0.9594404761904762, 1.0031785714285715, 0.9634880952380953, 0.9858571428571429, 0.9539761904761905, 0.9593809523809523, 0.9630000000000001, 0.9533571428571428, 0.9917738095238094, 0.9767619047619048, 1.013738095238095, 1.025702380952381, 1.036345238095238, 1.0433452380952382, 1.0213095238095238, 1.0090238095238095, 1.027547619047619, 1.024345238095238, 1.0024761904761903, 0.9896190476190476, 0.9872380952380952, 0.9774166666666666, 0.979107142857143, 0.9847142857142857, 0.9785119047619046, 0.950047619047619, 0.9825952380952382, 1.0061190476190474, 0.9812857142857142, 0.9954404761904763, 0.9779047619047618, 0.9727380952380953, 0.9825119047619049, 0.9833690476190475, 1.014952380952381, 0.9968690476190477, 1.0167738095238095, 0.9912619047619047, 1.0326785714285716, 1.014904761904762, 0.9770595238095239, 1.0006190476190477, 1.0217261904761905, 1.0165833333333334, 1.0013214285714287, 1.0318095238095237, 1.0127976190476191, 1.003095238095238, 0.9918095238095239, 0.9895952380952382, 1.0068571428571427, 0.9937142857142858, 0.9526547619047617, 0.9910238095238096, 0.9790952380952381, 0.9626904761904762, 0.9763690476190476, 0.9890714285714285, 0.9871547619047618, 1.0116428571428573, 1.0160714285714285, 0.9689523809523809, 1.0262023809523808, 0.9655, 0.9830595238095238, 0.9785476190476191, 0.9986547619047621, 0.9929166666666667, 0.9722261904761905, 0.9989642857142859, 1.0386904761904763, 1.0248214285714288, 1.046952380952381, 1.019297619047619, 1.0589404761904764, 1.0319642857142857, 1.015059523809524, 1.0454047619047617, 1.0570357142857145, 1.046202380952381, 1.0453214285714285, 1.0650833333333334, 1.064309523809524, 1.0738690476190478, 1.048702380952381, 1.0225714285714287, 0.9906666666666668, 0.9875833333333335, 0.9831785714285713, 0.9442261904761905, 0.9459523809523811, 0.938202380952381, 0.9722142857142857, 0.9375119047619048, 0.9712857142857142, 1.001809523809524, 0.9954285714285714, 1.0144761904761905, 0.9717142857142856, 1.0105952380952379, 0.9929523809523811, 1.014988095238095, 0.9971428571428572, 0.9954880952380952, 0.9753571428571428, 1.001107142857143, 0.9795714285714284, 1.0253690476190476, 0.9631309523809523, 1.0106547619047621, 1.0197619047619046, 0.9783690476190477, 1.020654761904762, 0.974202380952381, 1.0260952380952382, 0.9847023809523809, 1.0121309523809525, 0.9719404761904762, 0.9879761904761906, 1.0239404761904762, 0.9582261904761906, 0.9840595238095238, 0.9899761904761905, 0.9566666666666667, 0.9547023809523809, 0.9637619047619048, 0.9356071428571427, 0.9458333333333332, 0.9604642857142858, 0.9467976190476189, 0.9438214285714286, 0.9611309523809524, 0.9813333333333332, 0.9893214285714287, 0.9662261904761904, 1.0179642857142857, 0.9974761904761906, 1.0327380952380953, 1.028202380952381, 1.0276190476190477, 1.0339166666666668, 0.9911309523809525, 0.9843571428571429, 0.9817142857142857, 0.9679047619047619, 0.983095238095238, 0.9373690476190475, 0.9908214285714285, 0.955154761904762, 0.9874285714285713, 1.0156785714285714, 1.027202380952381, 1.020892857142857, 1.0242380952380952, 1.0532261904761906, 1.0282738095238093, 1.0065357142857143, 1.0378809523809522, 0.9955357142857141, 0.9702857142857143, 0.9741071428571428, 0.9733214285714286, 0.9681428571428571, 0.9707142857142856, 0.9754047619047619, 0.9394285714285715, 0.9561309523809524, 0.9531904761904761, 0.955154761904762, 0.9850357142857143, 0.988107142857143, 0.9845357142857142, 1.0144166666666667, 1.0095595238095239, 0.9874285714285713, 1.026392857142857, 0.9818809523809525, 1.0210357142857145, 0.9987619047619047, 0.9704880952380952, 1.0132380952380953, 0.966047619047619, 0.9816309523809524, 1.0181428571428572, 0.9729166666666668, 1.0204523809523809, 1.016571428571429, 0.9789523809523811, 1.0350833333333334, 0.985202380952381, 1.0377738095238096, 0.9745, 1.0135238095238097, 1.0047261904761906, 0.9879285714285715, 0.989642857142857, 0.9720000000000001, 0.9884761904761906, 1.0097619047619049, 0.9818928571428573, 1.045642857142857, 1.0238809523809524, 1.0209047619047618, 1.0347857142857142, 1.0052857142857141, 1.039297619047619, 1.0087500000000003, 0.9748095238095238, 0.9797142857142856, 0.9757142857142858, 0.9958571428571429, 0.9590000000000002, 0.9840238095238097, 1.0175119047619048, 1.0194166666666666, 0.9989166666666666, 0.9982142857142858, 0.9808452380952379, 0.9868690476190475, 0.984202380952381, 1.003345238095238, 1.0175238095238097, 1.0030357142857143, 1.0144285714285715, 1.0011309523809526, 0.9854285714285714, 0.9889404761904763, 0.9839047619047618, 1.0077976190476192, 0.9902500000000002, 0.9959523809523809, 0.9682023809523809]\n",
      "Isoelectric point =  6.899025917053222\n",
      "Secondary structure fraction =  (0.33543132173269163, 0.21177341725286933, 0.21325435024065165)\n",
      "\n",
      "\n",
      "Protein of Interest =  {'A': 0, 'C': 3, 'D': 1, 'E': 0, 'F': 5, 'G': 1, 'H': 0, 'I': 1, 'K': 0, 'L': 6, 'M': 0, 'N': 1, 'P': 1, 'Q': 4, 'R': 0, 'S': 3, 'T': 3, 'V': 2, 'W': 2, 'Y': 3}\n",
      "Amino acids percent =     {'A': 0.0, 'C': 0.08333333333333333, 'D': 0.027777777777777776, 'E': 0.0, 'F': 0.1388888888888889, 'G': 0.027777777777777776, 'H': 0.0, 'I': 0.027777777777777776, 'K': 0.0, 'L': 0.16666666666666666, 'M': 0.0, 'N': 0.027777777777777776, 'P': 0.027777777777777776, 'Q': 0.1111111111111111, 'R': 0.0, 'S': 0.08333333333333333, 'T': 0.08333333333333333, 'V': 0.05555555555555555, 'W': 0.05555555555555555, 'Y': 0.08333333333333333}\n",
      "Molecular weight =  [3896.388, 5313.909099999998, 2268.5276000000003, 2240.4102, 2856.2400000000002, 3103.5840000000003, 2945.3948000000005, 3377.7007000000003, 2360.6063, 4677.1971, 2678.9358000000007, 2513.0319, 3893.2216000000008, 3680.1237, 4315.794199999998, 2711.9607, 2738.1290000000004, 2450.6927999999994, 5088.881, 2525.8732999999997, 3749.4319000000014, 2946.325500000001, 2413.8374, 2713.2001, 2561.2950999999994, 3061.6174, 2720.2162999999996, 2554.9822, 3430.8130999999994, 4735.308299999999, 4319.1936, 4574.192099999999, 4147.7319, 2943.4546999999993, 2906.3664999999996, 4475.1031, 5483.274599999999, 2787.2570999999994, 2566.9933, 2474.9024, 3632.3766000000005, 2688.1531999999997, 2487.8816, 4056.4215000000004, 2331.7373000000002, 2294.6045, 2451.0136999999995, 5044.614799999999, 305149.810100002, 4376.034500000001]\n",
      "Aromaticity =  0.2777777777777778\n",
      "Flexibility =  [0.9770119047619046, 0.9896785714285715, 0.9457857142857142, 0.9900952380952381, 0.9651071428571429, 1.0116904761904761, 0.9924642857142858, 0.9871309523809524, 0.9693928571428572, 0.9743690476190475, 0.9667738095238095, 0.9657380952380953, 0.9353809523809524, 0.9490000000000001, 0.9416309523809523, 0.9690476190476192, 0.9222738095238096, 0.9504761904761905, 0.9486309523809524, 0.9476547619047618, 0.9750833333333334, 0.9255595238095238, 0.9547738095238096, 0.9602261904761905, 0.9336666666666666, 0.9591428571428573, 0.9481666666666667]\n",
      "Isoelectric point =  4.0500284194946286\n",
      "Secondary structure fraction =  (0.5277777777777778, 0.16666666666666666, 0.16666666666666666)\n",
      "\n",
      "\n",
      "Protein of Interest =  {'A': 0, 'C': 1, 'D': 2, 'E': 1, 'F': 3, 'G': 0, 'H': 1, 'I': 0, 'K': 1, 'L': 1, 'M': 0, 'N': 1, 'P': 2, 'Q': 0, 'R': 2, 'S': 0, 'T': 1, 'V': 1, 'W': 1, 'Y': 3}\n",
      "Amino acids percent =     {'A': 0.0, 'C': 0.047619047619047616, 'D': 0.09523809523809523, 'E': 0.047619047619047616, 'F': 0.14285714285714285, 'G': 0.0, 'H': 0.047619047619047616, 'I': 0.0, 'K': 0.047619047619047616, 'L': 0.047619047619047616, 'M': 0.0, 'N': 0.047619047619047616, 'P': 0.09523809523809523, 'Q': 0.0, 'R': 0.09523809523809523, 'S': 0.0, 'T': 0.047619047619047616, 'V': 0.047619047619047616, 'W': 0.047619047619047616, 'Y': 0.14285714285714285}\n",
      "Molecular weight =  [3896.388, 5313.909099999998, 2268.5276000000003, 2240.4102, 2856.2400000000002, 3103.5840000000003, 2945.3948000000005, 3377.7007000000003, 2360.6063, 4677.1971, 2678.9358000000007, 2513.0319, 3893.2216000000008, 3680.1237, 4315.794199999998, 2711.9607, 2738.1290000000004, 2450.6927999999994, 5088.881, 2525.8732999999997, 3749.4319000000014, 2946.325500000001, 2413.8374, 2713.2001, 2561.2950999999994, 3061.6174, 2720.2162999999996, 2554.9822, 3430.8130999999994, 4735.308299999999, 4319.1936, 4574.192099999999, 4147.7319, 2943.4546999999993, 2906.3664999999996, 4475.1031, 5483.274599999999, 2787.2570999999994, 2566.9933, 2474.9024, 3632.3766000000005, 2688.1531999999997, 2487.8816, 4056.4215000000004, 2331.7373000000002, 2294.6045, 2451.0136999999995, 5044.614799999999, 305149.810100002, 4376.034500000001, 2797.1064000000006]\n",
      "Aromaticity =  0.3333333333333333\n",
      "Flexibility =  [1.0169761904761903, 0.9516071428571429, 0.9567500000000001, 0.9502380952380955, 0.9395833333333334, 0.9427380952380953, 0.9722261904761905, 0.9577500000000001, 1.0231666666666668, 1.0032261904761903, 1.0136904761904764, 0.9933928571428572]\n",
      "Isoelectric point =  6.743457603454591\n",
      "Secondary structure fraction =  (0.42857142857142855, 0.14285714285714285, 0.09523809523809523)\n",
      "\n",
      "\n",
      "Protein of Interest =  {'A': 0, 'C': 1, 'D': 0, 'E': 1, 'F': 1, 'G': 0, 'H': 1, 'I': 1, 'K': 2, 'L': 3, 'M': 0, 'N': 3, 'P': 1, 'Q': 0, 'R': 3, 'S': 2, 'T': 0, 'V': 2, 'W': 0, 'Y': 1}\n",
      "Amino acids percent =     {'A': 0.0, 'C': 0.045454545454545456, 'D': 0.0, 'E': 0.045454545454545456, 'F': 0.045454545454545456, 'G': 0.0, 'H': 0.045454545454545456, 'I': 0.045454545454545456, 'K': 0.09090909090909091, 'L': 0.13636363636363635, 'M': 0.0, 'N': 0.13636363636363635, 'P': 0.045454545454545456, 'Q': 0.0, 'R': 0.13636363636363635, 'S': 0.09090909090909091, 'T': 0.0, 'V': 0.09090909090909091, 'W': 0.0, 'Y': 0.045454545454545456}\n",
      "Molecular weight =  [3896.388, 5313.909099999998, 2268.5276000000003, 2240.4102, 2856.2400000000002, 3103.5840000000003, 2945.3948000000005, 3377.7007000000003, 2360.6063, 4677.1971, 2678.9358000000007, 2513.0319, 3893.2216000000008, 3680.1237, 4315.794199999998, 2711.9607, 2738.1290000000004, 2450.6927999999994, 5088.881, 2525.8732999999997, 3749.4319000000014, 2946.325500000001, 2413.8374, 2713.2001, 2561.2950999999994, 3061.6174, 2720.2162999999996, 2554.9822, 3430.8130999999994, 4735.308299999999, 4319.1936, 4574.192099999999, 4147.7319, 2943.4546999999993, 2906.3664999999996, 4475.1031, 5483.274599999999, 2787.2570999999994, 2566.9933, 2474.9024, 3632.3766000000005, 2688.1531999999997, 2487.8816, 4056.4215000000004, 2331.7373000000002, 2294.6045, 2451.0136999999995, 5044.614799999999, 305149.810100002, 4376.034500000001, 2797.1064000000006, 2687.130200000001]\n",
      "Aromaticity =  0.09090909090909091\n",
      "Flexibility =  [1.017464285714286, 0.971607142857143, 0.9907023809523811, 0.9840357142857143, 1.0075476190476191, 0.938392857142857, 0.9612857142857142, 0.9678333333333333, 0.9631785714285714, 1.0007738095238095, 1.0076785714285716, 0.9880357142857144, 1.0214761904761904]\n",
      "Isoelectric point =  10.301096916198727\n",
      "Secondary structure fraction =  (0.36363636363636365, 0.2727272727272727, 0.18181818181818182)\n",
      "\n",
      "\n",
      "Protein of Interest =  {'A': 0, 'C': 5, 'D': 0, 'E': 3, 'F': 0, 'G': 0, 'H': 1, 'I': 2, 'K': 0, 'L': 3, 'M': 0, 'N': 1, 'P': 0, 'Q': 4, 'R': 1, 'S': 0, 'T': 0, 'V': 0, 'W': 0, 'Y': 0}\n",
      "Amino acids percent =     {'A': 0.0, 'C': 0.25, 'D': 0.0, 'E': 0.15, 'F': 0.0, 'G': 0.0, 'H': 0.05, 'I': 0.1, 'K': 0.0, 'L': 0.15, 'M': 0.0, 'N': 0.05, 'P': 0.0, 'Q': 0.2, 'R': 0.05, 'S': 0.0, 'T': 0.0, 'V': 0.0, 'W': 0.0, 'Y': 0.0}\n",
      "Molecular weight =  [3896.388, 5313.909099999998, 2268.5276000000003, 2240.4102, 2856.2400000000002, 3103.5840000000003, 2945.3948000000005, 3377.7007000000003, 2360.6063, 4677.1971, 2678.9358000000007, 2513.0319, 3893.2216000000008, 3680.1237, 4315.794199999998, 2711.9607, 2738.1290000000004, 2450.6927999999994, 5088.881, 2525.8732999999997, 3749.4319000000014, 2946.325500000001, 2413.8374, 2713.2001, 2561.2950999999994, 3061.6174, 2720.2162999999996, 2554.9822, 3430.8130999999994, 4735.308299999999, 4319.1936, 4574.192099999999, 4147.7319, 2943.4546999999993, 2906.3664999999996, 4475.1031, 5483.274599999999, 2787.2570999999994, 2566.9933, 2474.9024, 3632.3766000000005, 2688.1531999999997, 2487.8816, 4056.4215000000004, 2331.7373000000002, 2294.6045, 2451.0136999999995, 5044.614799999999, 305149.810100002, 4376.034500000001, 2797.1064000000006, 2687.130200000001, 2406.8042]\n",
      "Aromaticity =  0.0\n",
      "Flexibility =  [0.9430357142857143, 0.9263452380952382, 0.9386190476190476, 0.9348571428571427, 0.9645, 1.0155714285714286, 1.002940476190476, 1.0452857142857144, 1.0500357142857144, 1.044654761904762, 1.0405833333333334]\n",
      "Isoelectric point =  4.75181941986084\n",
      "Secondary structure fraction =  (0.25, 0.05, 0.3)\n",
      "\n",
      "\n",
      "Protein of Interest =  {'A': 1, 'C': 4, 'D': 0, 'E': 0, 'F': 2, 'G': 0, 'H': 1, 'I': 0, 'K': 0, 'L': 3, 'M': 0, 'N': 0, 'P': 1, 'Q': 0, 'R': 3, 'S': 4, 'T': 1, 'V': 0, 'W': 0, 'Y': 4}\n",
      "Amino acids percent =     {'A': 0.041666666666666664, 'C': 0.16666666666666666, 'D': 0.0, 'E': 0.0, 'F': 0.08333333333333333, 'G': 0.0, 'H': 0.041666666666666664, 'I': 0.0, 'K': 0.0, 'L': 0.125, 'M': 0.0, 'N': 0.0, 'P': 0.041666666666666664, 'Q': 0.0, 'R': 0.125, 'S': 0.16666666666666666, 'T': 0.041666666666666664, 'V': 0.0, 'W': 0.0, 'Y': 0.16666666666666666}\n",
      "Molecular weight =  [3896.388, 5313.909099999998, 2268.5276000000003, 2240.4102, 2856.2400000000002, 3103.5840000000003, 2945.3948000000005, 3377.7007000000003, 2360.6063, 4677.1971, 2678.9358000000007, 2513.0319, 3893.2216000000008, 3680.1237, 4315.794199999998, 2711.9607, 2738.1290000000004, 2450.6927999999994, 5088.881, 2525.8732999999997, 3749.4319000000014, 2946.325500000001, 2413.8374, 2713.2001, 2561.2950999999994, 3061.6174, 2720.2162999999996, 2554.9822, 3430.8130999999994, 4735.308299999999, 4319.1936, 4574.192099999999, 4147.7319, 2943.4546999999993, 2906.3664999999996, 4475.1031, 5483.274599999999, 2787.2570999999994, 2566.9933, 2474.9024, 3632.3766000000005, 2688.1531999999997, 2487.8816, 4056.4215000000004, 2331.7373000000002, 2294.6045, 2451.0136999999995, 5044.614799999999, 305149.810100002, 4376.034500000001, 2797.1064000000006, 2687.130200000001, 2406.8042, 2940.4027]\n",
      "Aromaticity =  0.25\n",
      "Flexibility =  [0.953440476190476, 0.969797619047619, 0.9690119047619048, 0.9880833333333334, 0.9445119047619047, 0.9909642857142857, 0.9923333333333334, 0.9814642857142857, 0.9743809523809523, 1.002452380952381, 0.9548095238095239, 0.9653333333333333, 0.9622499999999999, 0.9312857142857143, 0.9479642857142856]\n",
      "Isoelectric point =  8.890593147277833\n",
      "Secondary structure fraction =  (0.375, 0.20833333333333331, 0.16666666666666666)\n",
      "\n",
      "\n",
      "Protein of Interest =  {'A': 0, 'C': 1, 'D': 2, 'E': 0, 'F': 0, 'G': 0, 'H': 2, 'I': 1, 'K': 0, 'L': 2, 'M': 0, 'N': 2, 'P': 0, 'Q': 1, 'R': 2, 'S': 3, 'T': 1, 'V': 2, 'W': 1, 'Y': 3}\n",
      "Amino acids percent =     {'A': 0.0, 'C': 0.043478260869565216, 'D': 0.08695652173913043, 'E': 0.0, 'F': 0.0, 'G': 0.0, 'H': 0.08695652173913043, 'I': 0.043478260869565216, 'K': 0.0, 'L': 0.08695652173913043, 'M': 0.0, 'N': 0.08695652173913043, 'P': 0.0, 'Q': 0.043478260869565216, 'R': 0.08695652173913043, 'S': 0.13043478260869565, 'T': 0.043478260869565216, 'V': 0.08695652173913043, 'W': 0.043478260869565216, 'Y': 0.13043478260869565}\n",
      "Molecular weight =  [3896.388, 5313.909099999998, 2268.5276000000003, 2240.4102, 2856.2400000000002, 3103.5840000000003, 2945.3948000000005, 3377.7007000000003, 2360.6063, 4677.1971, 2678.9358000000007, 2513.0319, 3893.2216000000008, 3680.1237, 4315.794199999998, 2711.9607, 2738.1290000000004, 2450.6927999999994, 5088.881, 2525.8732999999997, 3749.4319000000014, 2946.325500000001, 2413.8374, 2713.2001, 2561.2950999999994, 3061.6174, 2720.2162999999996, 2554.9822, 3430.8130999999994, 4735.308299999999, 4319.1936, 4574.192099999999, 4147.7319, 2943.4546999999993, 2906.3664999999996, 4475.1031, 5483.274599999999, 2787.2570999999994, 2566.9933, 2474.9024, 3632.3766000000005, 2688.1531999999997, 2487.8816, 4056.4215000000004, 2331.7373000000002, 2294.6045, 2451.0136999999995, 5044.614799999999, 305149.810100002, 4376.034500000001, 2797.1064000000006, 2687.130200000001, 2406.8042, 2940.4027, 2870.1175]\n",
      "Aromaticity =  0.17391304347826086\n",
      "Flexibility =  [1.0009642857142858, 0.9961428571428572, 1.0161071428571429, 0.9845476190476192, 1.0027857142857144, 1.0268095238095238, 1.0014642857142857, 1.0175119047619048, 0.9824642857142859, 1.0252500000000002, 0.9945119047619048, 0.9756785714285714, 0.9769404761904762, 0.9923452380952381]\n",
      "Isoelectric point =  6.90817699432373\n",
      "Secondary structure fraction =  (0.391304347826087, 0.21739130434782608, 0.08695652173913043)\n",
      "\n",
      "\n",
      "Protein of Interest =  {'A': 1, 'C': 2, 'D': 0, 'E': 0, 'F': 3, 'G': 0, 'H': 0, 'I': 2, 'K': 1, 'L': 1, 'M': 1, 'N': 2, 'P': 1, 'Q': 3, 'R': 0, 'S': 2, 'T': 1, 'V': 1, 'W': 2, 'Y': 1}\n",
      "Amino acids percent =     {'A': 0.041666666666666664, 'C': 0.08333333333333333, 'D': 0.0, 'E': 0.0, 'F': 0.125, 'G': 0.0, 'H': 0.0, 'I': 0.08333333333333333, 'K': 0.041666666666666664, 'L': 0.041666666666666664, 'M': 0.041666666666666664, 'N': 0.08333333333333333, 'P': 0.041666666666666664, 'Q': 0.125, 'R': 0.0, 'S': 0.08333333333333333, 'T': 0.041666666666666664, 'V': 0.041666666666666664, 'W': 0.08333333333333333, 'Y': 0.041666666666666664}\n",
      "Molecular weight =  [3896.388, 5313.909099999998, 2268.5276000000003, 2240.4102, 2856.2400000000002, 3103.5840000000003, 2945.3948000000005, 3377.7007000000003, 2360.6063, 4677.1971, 2678.9358000000007, 2513.0319, 3893.2216000000008, 3680.1237, 4315.794199999998, 2711.9607, 2738.1290000000004, 2450.6927999999994, 5088.881, 2525.8732999999997, 3749.4319000000014, 2946.325500000001, 2413.8374, 2713.2001, 2561.2950999999994, 3061.6174, 2720.2162999999996, 2554.9822, 3430.8130999999994, 4735.308299999999, 4319.1936, 4574.192099999999, 4147.7319, 2943.4546999999993, 2906.3664999999996, 4475.1031, 5483.274599999999, 2787.2570999999994, 2566.9933, 2474.9024, 3632.3766000000005, 2688.1531999999997, 2487.8816, 4056.4215000000004, 2331.7373000000002, 2294.6045, 2451.0136999999995, 5044.614799999999, 305149.810100002, 4376.034500000001, 2797.1064000000006, 2687.130200000001, 2406.8042, 2940.4027, 2870.1175, 2955.4320000000002]\n",
      "Aromaticity =  0.25\n",
      "Flexibility =  [0.9759404761904762, 0.9767142857142856, 0.947202380952381, 0.9455, 0.970857142857143, 0.9286904761904761, 0.9528333333333334, 0.9536785714285715, 0.9794404761904761, 0.9624999999999999, 1.0107857142857144, 0.9802619047619049, 0.9603214285714284, 0.9841547619047619, 1.007642857142857]\n",
      "Isoelectric point =  7.810038566589356\n",
      "Secondary structure fraction =  (0.41666666666666663, 0.20833333333333331, 0.125)\n",
      "\n",
      "\n",
      "Protein of Interest =  {'A': 0, 'C': 1, 'D': 0, 'E': 0, 'F': 1, 'G': 0, 'H': 1, 'I': 0, 'K': 1, 'L': 1, 'M': 0, 'N': 3, 'P': 1, 'Q': 3, 'R': 2, 'S': 2, 'T': 5, 'V': 0, 'W': 0, 'Y': 0}\n",
      "Amino acids percent =     {'A': 0.0, 'C': 0.047619047619047616, 'D': 0.0, 'E': 0.0, 'F': 0.047619047619047616, 'G': 0.0, 'H': 0.047619047619047616, 'I': 0.0, 'K': 0.047619047619047616, 'L': 0.047619047619047616, 'M': 0.0, 'N': 0.14285714285714285, 'P': 0.047619047619047616, 'Q': 0.14285714285714285, 'R': 0.09523809523809523, 'S': 0.09523809523809523, 'T': 0.23809523809523808, 'V': 0.0, 'W': 0.0, 'Y': 0.0}\n",
      "Molecular weight =  [3896.388, 5313.909099999998, 2268.5276000000003, 2240.4102, 2856.2400000000002, 3103.5840000000003, 2945.3948000000005, 3377.7007000000003, 2360.6063, 4677.1971, 2678.9358000000007, 2513.0319, 3893.2216000000008, 3680.1237, 4315.794199999998, 2711.9607, 2738.1290000000004, 2450.6927999999994, 5088.881, 2525.8732999999997, 3749.4319000000014, 2946.325500000001, 2413.8374, 2713.2001, 2561.2950999999994, 3061.6174, 2720.2162999999996, 2554.9822, 3430.8130999999994, 4735.308299999999, 4319.1936, 4574.192099999999, 4147.7319, 2943.4546999999993, 2906.3664999999996, 4475.1031, 5483.274599999999, 2787.2570999999994, 2566.9933, 2474.9024, 3632.3766000000005, 2688.1531999999997, 2487.8816, 4056.4215000000004, 2331.7373000000002, 2294.6045, 2451.0136999999995, 5044.614799999999, 305149.810100002, 4376.034500000001, 2797.1064000000006, 2687.130200000001, 2406.8042, 2940.4027, 2870.1175, 2955.4320000000002, 2462.6573000000003]\n",
      "Aromaticity =  0.047619047619047616\n",
      "Flexibility =  [1.0383690476190475, 1.004547619047619, 1.0096785714285714, 0.9691666666666668, 0.9825595238095236, 1.0027023809523807, 1.0018690476190475, 0.9967738095238096, 0.9959047619047618, 1.0206785714285715, 0.9934523809523809, 1.0304404761904762]\n",
      "Isoelectric point =  10.859844398498534\n",
      "Secondary structure fraction =  (0.09523809523809523, 0.2857142857142857, 0.047619047619047616)\n",
      "\n",
      "\n",
      "Protein of Interest =  {'A': 1, 'C': 6, 'D': 2, 'E': 0, 'F': 2, 'G': 2, 'H': 2, 'I': 3, 'K': 0, 'L': 3, 'M': 0, 'N': 4, 'P': 0, 'Q': 0, 'R': 1, 'S': 2, 'T': 3, 'V': 1, 'W': 2, 'Y': 2}\n",
      "Amino acids percent =     {'A': 0.027777777777777776, 'C': 0.16666666666666666, 'D': 0.05555555555555555, 'E': 0.0, 'F': 0.05555555555555555, 'G': 0.05555555555555555, 'H': 0.05555555555555555, 'I': 0.08333333333333333, 'K': 0.0, 'L': 0.08333333333333333, 'M': 0.0, 'N': 0.1111111111111111, 'P': 0.0, 'Q': 0.0, 'R': 0.027777777777777776, 'S': 0.05555555555555555, 'T': 0.08333333333333333, 'V': 0.027777777777777776, 'W': 0.05555555555555555, 'Y': 0.05555555555555555}\n",
      "Molecular weight =  [3896.388, 5313.909099999998, 2268.5276000000003, 2240.4102, 2856.2400000000002, 3103.5840000000003, 2945.3948000000005, 3377.7007000000003, 2360.6063, 4677.1971, 2678.9358000000007, 2513.0319, 3893.2216000000008, 3680.1237, 4315.794199999998, 2711.9607, 2738.1290000000004, 2450.6927999999994, 5088.881, 2525.8732999999997, 3749.4319000000014, 2946.325500000001, 2413.8374, 2713.2001, 2561.2950999999994, 3061.6174, 2720.2162999999996, 2554.9822, 3430.8130999999994, 4735.308299999999, 4319.1936, 4574.192099999999, 4147.7319, 2943.4546999999993, 2906.3664999999996, 4475.1031, 5483.274599999999, 2787.2570999999994, 2566.9933, 2474.9024, 3632.3766000000005, 2688.1531999999997, 2487.8816, 4056.4215000000004, 2331.7373000000002, 2294.6045, 2451.0136999999995, 5044.614799999999, 305149.810100002, 4376.034500000001, 2797.1064000000006, 2687.130200000001, 2406.8042, 2940.4027, 2870.1175, 2955.4320000000002, 2462.6573000000003, 4187.7594]\n",
      "Aromaticity =  0.16666666666666666\n",
      "Flexibility =  [0.9685238095238097, 0.9455119047619048, 0.9465595238095238, 0.9730595238095238, 0.948547619047619, 0.9948214285714285, 0.9809523809523808, 0.9671666666666667, 1.0033452380952381, 0.9547738095238096, 0.9607976190476192, 0.9552261904761905, 0.9571785714285713, 0.9764047619047619, 0.9277261904761905, 0.942595238095238, 0.9442380952380953, 0.9602380952380952, 0.9219761904761905, 0.9398452380952381, 0.952297619047619, 0.9714047619047619, 0.9757142857142858, 0.9575952380952382, 0.9534404761904762, 0.9615714285714285, 0.9712619047619048]\n",
      "Isoelectric point =  5.97357349395752\n",
      "Secondary structure fraction =  (0.3611111111111111, 0.2222222222222222, 0.1111111111111111)\n",
      "\n",
      "\n",
      "Protein of Interest =  {'A': 1, 'C': 5, 'D': 0, 'E': 0, 'F': 3, 'G': 1, 'H': 2, 'I': 0, 'K': 4, 'L': 1, 'M': 0, 'N': 1, 'P': 1, 'Q': 2, 'R': 2, 'S': 4, 'T': 4, 'V': 0, 'W': 2, 'Y': 1}\n",
      "Amino acids percent =     {'A': 0.029411764705882353, 'C': 0.14705882352941177, 'D': 0.0, 'E': 0.0, 'F': 0.08823529411764706, 'G': 0.029411764705882353, 'H': 0.058823529411764705, 'I': 0.0, 'K': 0.11764705882352941, 'L': 0.029411764705882353, 'M': 0.0, 'N': 0.029411764705882353, 'P': 0.029411764705882353, 'Q': 0.058823529411764705, 'R': 0.058823529411764705, 'S': 0.11764705882352941, 'T': 0.11764705882352941, 'V': 0.0, 'W': 0.058823529411764705, 'Y': 0.029411764705882353}\n",
      "Molecular weight =  [3896.388, 5313.909099999998, 2268.5276000000003, 2240.4102, 2856.2400000000002, 3103.5840000000003, 2945.3948000000005, 3377.7007000000003, 2360.6063, 4677.1971, 2678.9358000000007, 2513.0319, 3893.2216000000008, 3680.1237, 4315.794199999998, 2711.9607, 2738.1290000000004, 2450.6927999999994, 5088.881, 2525.8732999999997, 3749.4319000000014, 2946.325500000001, 2413.8374, 2713.2001, 2561.2950999999994, 3061.6174, 2720.2162999999996, 2554.9822, 3430.8130999999994, 4735.308299999999, 4319.1936, 4574.192099999999, 4147.7319, 2943.4546999999993, 2906.3664999999996, 4475.1031, 5483.274599999999, 2787.2570999999994, 2566.9933, 2474.9024, 3632.3766000000005, 2688.1531999999997, 2487.8816, 4056.4215000000004, 2331.7373000000002, 2294.6045, 2451.0136999999995, 5044.614799999999, 305149.810100002, 4376.034500000001, 2797.1064000000006, 2687.130200000001, 2406.8042, 2940.4027, 2870.1175, 2955.4320000000002, 2462.6573000000003, 4187.7594, 4071.6712000000007]\n",
      "Aromaticity =  0.1764705882352941\n",
      "Flexibility =  [0.9951785714285716, 0.9911785714285715, 0.9774166666666668, 0.9918571428571429, 0.9555714285714286, 0.968047619047619, 0.9736904761904762, 0.9934285714285715, 0.9941190476190476, 0.9540833333333332, 1.0089404761904763, 0.9799880952380953, 1.038107142857143, 0.9824404761904763, 1.0101071428571429, 0.9994523809523809, 0.9873452380952381, 1.0353690476190476, 1.0127261904761906, 1.017547619047619, 1.0279285714285715, 0.9770714285714286, 1.028392857142857, 1.0153214285714285, 0.977047619047619]\n",
      "Isoelectric point =  9.500979804992678\n",
      "Secondary structure fraction =  (0.20588235294117646, 0.20588235294117646, 0.058823529411764705)\n",
      "\n",
      "\n",
      "Protein of Interest =  {'A': 1, 'C': 6, 'D': 1, 'E': 1, 'F': 1, 'G': 1, 'H': 2, 'I': 0, 'K': 2, 'L': 8, 'M': 0, 'N': 1, 'P': 2, 'Q': 0, 'R': 1, 'S': 8, 'T': 2, 'V': 2, 'W': 2, 'Y': 1}\n",
      "Amino acids percent =     {'A': 0.023809523809523808, 'C': 0.14285714285714285, 'D': 0.023809523809523808, 'E': 0.023809523809523808, 'F': 0.023809523809523808, 'G': 0.023809523809523808, 'H': 0.047619047619047616, 'I': 0.0, 'K': 0.047619047619047616, 'L': 0.19047619047619047, 'M': 0.0, 'N': 0.023809523809523808, 'P': 0.047619047619047616, 'Q': 0.0, 'R': 0.023809523809523808, 'S': 0.19047619047619047, 'T': 0.047619047619047616, 'V': 0.047619047619047616, 'W': 0.047619047619047616, 'Y': 0.023809523809523808}\n",
      "Molecular weight =  [3896.388, 5313.909099999998, 2268.5276000000003, 2240.4102, 2856.2400000000002, 3103.5840000000003, 2945.3948000000005, 3377.7007000000003, 2360.6063, 4677.1971, 2678.9358000000007, 2513.0319, 3893.2216000000008, 3680.1237, 4315.794199999998, 2711.9607, 2738.1290000000004, 2450.6927999999994, 5088.881, 2525.8732999999997, 3749.4319000000014, 2946.325500000001, 2413.8374, 2713.2001, 2561.2950999999994, 3061.6174, 2720.2162999999996, 2554.9822, 3430.8130999999994, 4735.308299999999, 4319.1936, 4574.192099999999, 4147.7319, 2943.4546999999993, 2906.3664999999996, 4475.1031, 5483.274599999999, 2787.2570999999994, 2566.9933, 2474.9024, 3632.3766000000005, 2688.1531999999997, 2487.8816, 4056.4215000000004, 2331.7373000000002, 2294.6045, 2451.0136999999995, 5044.614799999999, 305149.810100002, 4376.034500000001, 2797.1064000000006, 2687.130200000001, 2406.8042, 2940.4027, 2870.1175, 2955.4320000000002, 2462.6573000000003, 4187.7594, 4071.6712000000007, 4689.4609999999975]\n",
      "Aromaticity =  0.09523809523809523\n",
      "Flexibility =  [0.9783809523809524, 1.0180000000000002, 0.9961428571428572, 0.9710119047619047, 0.9833690476190475, 0.9791666666666666, 1.0057261904761905, 0.9893571428571429, 0.9743095238095238, 1.0190357142857143, 0.98775, 1.0038809523809524, 0.957857142857143, 0.9718214285714285, 0.9945238095238096, 0.9417261904761907, 0.9611785714285714, 0.9688690476190477, 0.9473095238095238, 0.996797619047619, 0.941011904761905, 0.9603095238095237, 0.9952976190476189, 0.9516190476190476, 1.0071071428571428, 1.0, 1.026559523809524, 1.018214285714286, 0.9831428571428572, 1.0100238095238097, 1.01475, 0.9600238095238095, 0.9979642857142859]\n",
      "Isoelectric point =  7.792374229431152\n",
      "Secondary structure fraction =  (0.3333333333333333, 0.2857142857142857, 0.23809523809523808)\n",
      "\n",
      "\n",
      "Protein of Interest =  {'A': 4, 'C': 1, 'D': 3, 'E': 0, 'F': 1, 'G': 1, 'H': 2, 'I': 0, 'K': 1, 'L': 6, 'M': 2, 'N': 2, 'P': 0, 'Q': 1, 'R': 1, 'S': 2, 'T': 0, 'V': 2, 'W': 1, 'Y': 4}\n",
      "Amino acids percent =     {'A': 0.11764705882352941, 'C': 0.029411764705882353, 'D': 0.08823529411764706, 'E': 0.0, 'F': 0.029411764705882353, 'G': 0.029411764705882353, 'H': 0.058823529411764705, 'I': 0.0, 'K': 0.029411764705882353, 'L': 0.17647058823529413, 'M': 0.058823529411764705, 'N': 0.058823529411764705, 'P': 0.0, 'Q': 0.029411764705882353, 'R': 0.029411764705882353, 'S': 0.058823529411764705, 'T': 0.0, 'V': 0.058823529411764705, 'W': 0.029411764705882353, 'Y': 0.11764705882352941}\n",
      "Molecular weight =  [3896.388, 5313.909099999998, 2268.5276000000003, 2240.4102, 2856.2400000000002, 3103.5840000000003, 2945.3948000000005, 3377.7007000000003, 2360.6063, 4677.1971, 2678.9358000000007, 2513.0319, 3893.2216000000008, 3680.1237, 4315.794199999998, 2711.9607, 2738.1290000000004, 2450.6927999999994, 5088.881, 2525.8732999999997, 3749.4319000000014, 2946.325500000001, 2413.8374, 2713.2001, 2561.2950999999994, 3061.6174, 2720.2162999999996, 2554.9822, 3430.8130999999994, 4735.308299999999, 4319.1936, 4574.192099999999, 4147.7319, 2943.4546999999993, 2906.3664999999996, 4475.1031, 5483.274599999999, 2787.2570999999994, 2566.9933, 2474.9024, 3632.3766000000005, 2688.1531999999997, 2487.8816, 4056.4215000000004, 2331.7373000000002, 2294.6045, 2451.0136999999995, 5044.614799999999, 305149.810100002, 4376.034500000001, 2797.1064000000006, 2687.130200000001, 2406.8042, 2940.4027, 2870.1175, 2955.4320000000002, 2462.6573000000003, 4187.7594, 4071.6712000000007, 4689.4609999999975, 4022.585]\n",
      "Aromaticity =  0.17647058823529413\n",
      "Flexibility =  [0.9814523809523811, 0.9634642857142857, 0.9609761904761904, 0.9655714285714286, 0.9522619047619049, 0.96425, 0.9648690476190476, 0.943797619047619, 0.961404761904762, 0.9856428571428572, 0.9391071428571427, 0.9674047619047619, 0.9909642857142855, 0.9466785714285715, 0.9906666666666668, 1.0109761904761907, 1.0118571428571428, 1.0159880952380953, 1.0267738095238095, 1.0156547619047618, 0.9854761904761905, 0.9983333333333333, 0.9690119047619047, 0.972845238095238, 0.9679761904761905]\n",
      "Isoelectric point =  5.9901704788208\n",
      "Secondary structure fraction =  (0.4117647058823529, 0.14705882352941174, 0.3529411764705882)\n",
      "\n",
      "\n",
      "Protein of Interest =  {'A': 15, 'C': 7, 'D': 13, 'E': 12, 'F': 14, 'G': 14, 'H': 9, 'I': 23, 'K': 11, 'L': 32, 'M': 4, 'N': 9, 'P': 12, 'Q': 11, 'R': 7, 'S': 24, 'T': 25, 'V': 25, 'W': 6, 'Y': 17}\n",
      "Amino acids percent =     {'A': 0.05172413793103448, 'C': 0.02413793103448276, 'D': 0.04482758620689655, 'E': 0.041379310344827586, 'F': 0.04827586206896552, 'G': 0.04827586206896552, 'H': 0.03103448275862069, 'I': 0.07931034482758621, 'K': 0.03793103448275862, 'L': 0.1103448275862069, 'M': 0.013793103448275862, 'N': 0.03103448275862069, 'P': 0.041379310344827586, 'Q': 0.03793103448275862, 'R': 0.02413793103448276, 'S': 0.08275862068965517, 'T': 0.08620689655172414, 'V': 0.08620689655172414, 'W': 0.020689655172413793, 'Y': 0.05862068965517241}\n",
      "Molecular weight =  [3896.388, 5313.909099999998, 2268.5276000000003, 2240.4102, 2856.2400000000002, 3103.5840000000003, 2945.3948000000005, 3377.7007000000003, 2360.6063, 4677.1971, 2678.9358000000007, 2513.0319, 3893.2216000000008, 3680.1237, 4315.794199999998, 2711.9607, 2738.1290000000004, 2450.6927999999994, 5088.881, 2525.8732999999997, 3749.4319000000014, 2946.325500000001, 2413.8374, 2713.2001, 2561.2950999999994, 3061.6174, 2720.2162999999996, 2554.9822, 3430.8130999999994, 4735.308299999999, 4319.1936, 4574.192099999999, 4147.7319, 2943.4546999999993, 2906.3664999999996, 4475.1031, 5483.274599999999, 2787.2570999999994, 2566.9933, 2474.9024, 3632.3766000000005, 2688.1531999999997, 2487.8816, 4056.4215000000004, 2331.7373000000002, 2294.6045, 2451.0136999999995, 5044.614799999999, 305149.810100002, 4376.034500000001, 2797.1064000000006, 2687.130200000001, 2406.8042, 2940.4027, 2870.1175, 2955.4320000000002, 2462.6573000000003, 4187.7594, 4071.6712000000007, 4689.4609999999975, 4022.585, 32785.399100000046]\n",
      "Aromaticity =  0.1275862068965517\n",
      "Flexibility =  [1.020952380952381, 1.007238095238095, 0.9770357142857142, 0.9972142857142856, 0.9651309523809524, 0.9786428571428571, 0.9705119047619047, 1.000857142857143, 1.0011428571428571, 0.965892857142857, 0.9938571428571428, 1.0080238095238097, 0.9587738095238096, 0.9660000000000001, 0.9651904761904762, 0.9693333333333333, 0.9412261904761904, 0.9510357142857143, 0.9743214285714284, 0.9514880952380954, 0.9881666666666666, 0.9651904761904762, 0.9670714285714285, 0.9984880952380951, 0.9823333333333336, 1.0392261904761906, 1.0045119047619049, 1.0251785714285713, 1.047809523809524, 1.0064523809523809, 1.0680119047619048, 1.027892857142857, 1.0167976190476191, 1.0329285714285714, 1.034654761904762, 1.0217619047619049, 1.0171190476190475, 0.9742857142857143, 0.9955952380952382, 1.000952380952381, 0.9797023809523809, 0.9825119047619046, 0.9790476190476189, 0.9858928571428571, 0.9725238095238096, 1.0071666666666668, 0.9669285714285716, 1.0094880952380951, 0.9851785714285713, 1.0058214285714289, 0.9759642857142856, 1.0096309523809524, 0.959095238095238, 0.993297619047619, 0.939202380952381, 0.9602619047619049, 0.9499642857142857, 0.950404761904762, 0.9724999999999998, 0.936404761904762, 0.9679642857142857, 0.9489880952380952, 0.9544642857142859, 0.9647023809523809, 0.9489166666666667, 0.9617380952380953, 0.9980119047619047, 0.9968690476190477, 0.9940714285714285, 1.0196190476190476, 1.0223333333333333, 0.9735714285714285, 0.9959999999999999, 1.0085, 0.9892857142857142, 1.0330714285714286, 1.009952380952381, 0.9956428571428572, 0.987452380952381, 1.0193928571428572, 0.9718809523809524, 0.99525, 0.9797380952380953, 1.0156190476190476, 1.0151547619047618, 0.9892261904761903, 0.9749404761904763, 0.9800714285714287, 0.9605952380952383, 0.9573809523809524, 0.9413690476190476, 0.9720714285714285, 0.9290833333333334, 0.9467976190476192, 0.9439880952380955, 0.9432738095238097, 0.9379761904761904, 0.9403809523809524, 0.9576190476190476, 0.9398690476190475, 0.9548452380952381, 0.9805833333333335, 0.9437499999999999, 0.9538928571428572, 0.9518452380952382, 0.9516904761904763, 0.9546428571428572, 0.9664642857142858, 0.970297619047619, 0.9908333333333332, 0.9765238095238095, 1.028857142857143, 0.9816666666666668, 1.0066309523809522, 0.9586785714285714, 0.9707261904761905, 0.9568928571428573, 0.9478214285714288, 0.941404761904762, 0.9496309523809524, 0.9316428571428572, 0.9378214285714286, 0.9407380952380953, 0.9450595238095238, 0.9569404761904763, 0.9839999999999999, 0.9777619047619048, 0.9576666666666666, 1.0031428571428573, 0.9537976190476191, 0.9719047619047619, 0.9743690476190475, 0.9422142857142859, 0.9548809523809525, 0.9542500000000002, 0.9613214285714287, 0.9344166666666667, 0.9326785714285715, 0.9466428571428571, 0.9359285714285716, 0.9450238095238096, 0.9935, 0.9411547619047619, 1.012452380952381, 1.0194761904761906, 1.0358928571428574, 1.0189880952380954, 1.0178333333333331, 0.9909285714285714, 0.9979999999999999, 0.9891666666666667, 1.0107619047619048, 0.9684166666666668, 0.9915, 0.9520833333333334, 0.9583214285714287, 0.9526190476190477, 0.9334404761904762, 0.9391309523809523, 0.9491547619047619, 0.957952380952381, 0.9726071428571428, 0.9424880952380952, 0.9715238095238096, 0.9922500000000002, 0.9422261904761905, 0.9560833333333334, 0.9637142857142857, 0.993940476190476, 0.9565833333333335, 1.0038333333333334, 0.9938928571428572, 0.9814285714285714, 1.014047619047619, 1.007404761904762, 0.9954047619047619, 0.9635595238095237, 0.9784880952380952, 0.9776190476190477, 0.9969166666666665, 1.003309523809524, 1.002857142857143, 1.0241666666666667, 1.0188333333333333, 1.0226785714285715, 1.0227142857142857, 1.0281904761904763, 1.0215357142857142, 0.9937142857142858, 1.0388095238095238, 1.0270119047619048, 0.9913809523809524, 1.030904761904762, 0.9790952380952381, 1.0227380952380951, 0.9751071428571427, 1.008892857142857, 0.9969047619047618, 0.9836309523809526, 1.01825, 1.0328809523809523, 1.028952380952381, 0.993107142857143, 1.0605714285714287, 1.023654761904762, 1.0303214285714286, 1.0046785714285715, 1.0457261904761905, 1.0045714285714284, 0.9628333333333333, 0.9785595238095238, 0.9652261904761905, 0.960714285714286, 0.9547619047619048, 0.971702380952381, 0.9427976190476189, 0.9698333333333332, 0.9939523809523808, 0.9945238095238096, 0.996559523809524, 0.9633214285714287, 0.9827976190476191, 1.0021071428571429, 0.9612142857142856, 0.9770714285714287, 1.0005595238095237, 0.9811190476190477, 1.0037380952380954, 0.9820238095238096, 1.0268690476190476, 1.0045714285714287, 1.0247380952380953, 1.0027380952380953, 1.018845238095238, 0.9894880952380953, 1.0305714285714285, 0.9662261904761906, 0.9734642857142857, 0.9774642857142857, 0.9389880952380952, 0.9499642857142857, 0.9535595238095237, 0.9594166666666668, 0.9907023809523811, 0.993202380952381, 0.9655714285714286, 1.0065476190476192, 1.044690476190476, 1.042011904761905, 1.0346428571428572, 1.049607142857143, 1.0436666666666667, 1.0055833333333335, 1.0064166666666667, 1.0133928571428572, 0.960797619047619, 0.9773571428571428, 0.9823928571428572, 0.9710357142857143, 1.022452380952381, 1.002190476190476, 1.019857142857143, 1.0172023809523811, 1.0120238095238097, 0.9927142857142857, 0.9982738095238096, 1.013404761904762, 0.9950595238095239, 0.9755714285714286, 0.9994880952380951, 1.0246904761904763, 0.9962738095238093, 0.9819047619047618, 1.0052380952380953, 1.0386904761904763, 1.0267738095238097, 1.0144880952380955, 1.0114642857142857, 1.021607142857143, 1.015595238095238, 1.0087619047619047]\n",
      "Isoelectric point =  5.672781562805175\n",
      "Secondary structure fraction =  (0.40344827586206894, 0.20344827586206898, 0.21724137931034482)\n",
      "\n",
      "\n",
      "Protein of Interest =  {'A': 6, 'C': 3, 'D': 2, 'E': 4, 'F': 5, 'G': 1, 'H': 0, 'I': 3, 'K': 2, 'L': 15, 'M': 1, 'N': 5, 'P': 2, 'Q': 1, 'R': 3, 'S': 8, 'T': 4, 'V': 13, 'W': 0, 'Y': 5}\n",
      "Amino acids percent =     {'A': 0.07228915662650602, 'C': 0.03614457831325301, 'D': 0.024096385542168676, 'E': 0.04819277108433735, 'F': 0.060240963855421686, 'G': 0.012048192771084338, 'H': 0.0, 'I': 0.03614457831325301, 'K': 0.024096385542168676, 'L': 0.18072289156626506, 'M': 0.012048192771084338, 'N': 0.060240963855421686, 'P': 0.024096385542168676, 'Q': 0.012048192771084338, 'R': 0.03614457831325301, 'S': 0.0963855421686747, 'T': 0.04819277108433735, 'V': 0.1566265060240964, 'W': 0.0, 'Y': 0.060240963855421686}\n",
      "Molecular weight =  [3896.388, 5313.909099999998, 2268.5276000000003, 2240.4102, 2856.2400000000002, 3103.5840000000003, 2945.3948000000005, 3377.7007000000003, 2360.6063, 4677.1971, 2678.9358000000007, 2513.0319, 3893.2216000000008, 3680.1237, 4315.794199999998, 2711.9607, 2738.1290000000004, 2450.6927999999994, 5088.881, 2525.8732999999997, 3749.4319000000014, 2946.325500000001, 2413.8374, 2713.2001, 2561.2950999999994, 3061.6174, 2720.2162999999996, 2554.9822, 3430.8130999999994, 4735.308299999999, 4319.1936, 4574.192099999999, 4147.7319, 2943.4546999999993, 2906.3664999999996, 4475.1031, 5483.274599999999, 2787.2570999999994, 2566.9933, 2474.9024, 3632.3766000000005, 2688.1531999999997, 2487.8816, 4056.4215000000004, 2331.7373000000002, 2294.6045, 2451.0136999999995, 5044.614799999999, 305149.810100002, 4376.034500000001, 2797.1064000000006, 2687.130200000001, 2406.8042, 2940.4027, 2870.1175, 2955.4320000000002, 2462.6573000000003, 4187.7594, 4071.6712000000007, 4689.4609999999975, 4022.585, 32785.399100000046, 9284.872599999993]\n",
      "Aromaticity =  0.12048192771084337\n",
      "Flexibility =  [0.9899166666666668, 1.040404761904762, 0.9732261904761905, 0.9919285714285715, 0.9702857142857143, 0.9914880952380953, 0.9531071428571428, 0.9855357142857144, 1.0188809523809523, 1.0245238095238096, 1.0285476190476193, 1.0095357142857142, 1.0277380952380952, 1.0026071428571428, 0.9821547619047619, 0.9802261904761904, 0.9744642857142858, 0.9953928571428572, 0.9742261904761904, 0.9490119047619048, 0.9632500000000002, 0.9567738095238095, 0.9453809523809524, 0.9439285714285717, 0.9457261904761906, 0.9239523809523811, 0.9373928571428571, 0.9330238095238096, 0.9289880952380952, 0.9371904761904762, 0.9348333333333334, 0.9404285714285714, 0.9582499999999999, 0.9385952380952383, 0.9630357142857142, 0.9467857142857143, 0.9590238095238094, 0.9732619047619047, 0.9611309523809524, 0.9535714285714285, 0.9747023809523809, 0.9463452380952381, 0.9472738095238095, 0.9584285714285715, 0.9340357142857145, 0.9381785714285714, 0.9400714285714284, 0.9756071428571429, 0.9348809523809524, 0.963357142857143, 0.9912023809523809, 0.9531071428571429, 1.0026666666666668, 0.9659880952380953, 0.9942142857142857, 1.0327857142857144, 0.9940595238095239, 1.000904761904762, 0.963952380952381, 0.9817142857142857, 0.9732023809523811, 0.9634047619047619, 0.9919166666666668, 0.9761666666666667, 0.9787619047619047, 1.035309523809524, 1.0057500000000001, 0.9997261904761905, 1.0404642857142856, 1.019607142857143, 1.0219642857142859, 1.0115714285714286, 0.9980833333333333, 1.0293333333333332]\n",
      "Isoelectric point =  5.056362724304199\n",
      "Secondary structure fraction =  (0.49397590361445787, 0.1927710843373494, 0.3132530120481928)\n",
      "\n",
      "\n",
      "Protein of Interest =  {'A': 0, 'C': 0, 'D': 0, 'E': 0, 'F': 0, 'G': 1, 'H': 0, 'I': 1, 'K': 2, 'L': 5, 'M': 0, 'N': 2, 'P': 3, 'Q': 1, 'R': 0, 'S': 3, 'T': 2, 'V': 1, 'W': 1, 'Y': 0}\n",
      "Amino acids percent =     {'A': 0.0, 'C': 0.0, 'D': 0.0, 'E': 0.0, 'F': 0.0, 'G': 0.045454545454545456, 'H': 0.0, 'I': 0.045454545454545456, 'K': 0.09090909090909091, 'L': 0.22727272727272727, 'M': 0.0, 'N': 0.09090909090909091, 'P': 0.13636363636363635, 'Q': 0.045454545454545456, 'R': 0.0, 'S': 0.13636363636363635, 'T': 0.09090909090909091, 'V': 0.045454545454545456, 'W': 0.045454545454545456, 'Y': 0.0}\n",
      "Molecular weight =  [3896.388, 5313.909099999998, 2268.5276000000003, 2240.4102, 2856.2400000000002, 3103.5840000000003, 2945.3948000000005, 3377.7007000000003, 2360.6063, 4677.1971, 2678.9358000000007, 2513.0319, 3893.2216000000008, 3680.1237, 4315.794199999998, 2711.9607, 2738.1290000000004, 2450.6927999999994, 5088.881, 2525.8732999999997, 3749.4319000000014, 2946.325500000001, 2413.8374, 2713.2001, 2561.2950999999994, 3061.6174, 2720.2162999999996, 2554.9822, 3430.8130999999994, 4735.308299999999, 4319.1936, 4574.192099999999, 4147.7319, 2943.4546999999993, 2906.3664999999996, 4475.1031, 5483.274599999999, 2787.2570999999994, 2566.9933, 2474.9024, 3632.3766000000005, 2688.1531999999997, 2487.8816, 4056.4215000000004, 2331.7373000000002, 2294.6045, 2451.0136999999995, 5044.614799999999, 305149.810100002, 4376.034500000001, 2797.1064000000006, 2687.130200000001, 2406.8042, 2940.4027, 2870.1175, 2955.4320000000002, 2462.6573000000003, 4187.7594, 4071.6712000000007, 4689.4609999999975, 4022.585, 32785.399100000046, 9284.872599999993, 2406.8174000000004]\n",
      "Aromaticity =  0.045454545454545456\n",
      "Flexibility =  [0.9696785714285715, 0.9627619047619047, 0.9718571428571428, 0.9724047619047621, 1.0036785714285714, 0.9667499999999999, 1.0312738095238096, 1.0060952380952382, 1.0047619047619047, 1.057607142857143, 1.0190476190476192, 1.0311666666666668, 1.0047857142857144]\n",
      "Isoelectric point =  10.01866092681885\n",
      "Secondary structure fraction =  (0.36363636363636365, 0.40909090909090906, 0.22727272727272727)\n",
      "\n",
      "\n",
      "Protein of Interest =  {'A': 0, 'C': 1, 'D': 0, 'E': 0, 'F': 3, 'G': 3, 'H': 1, 'I': 2, 'K': 0, 'L': 2, 'M': 1, 'N': 1, 'P': 2, 'Q': 0, 'R': 0, 'S': 2, 'T': 1, 'V': 2, 'W': 0, 'Y': 2}\n",
      "Amino acids percent =     {'A': 0.0, 'C': 0.043478260869565216, 'D': 0.0, 'E': 0.0, 'F': 0.13043478260869565, 'G': 0.13043478260869565, 'H': 0.043478260869565216, 'I': 0.08695652173913043, 'K': 0.0, 'L': 0.08695652173913043, 'M': 0.043478260869565216, 'N': 0.043478260869565216, 'P': 0.08695652173913043, 'Q': 0.0, 'R': 0.0, 'S': 0.08695652173913043, 'T': 0.043478260869565216, 'V': 0.08695652173913043, 'W': 0.0, 'Y': 0.08695652173913043}\n",
      "Molecular weight =  [3896.388, 5313.909099999998, 2268.5276000000003, 2240.4102, 2856.2400000000002, 3103.5840000000003, 2945.3948000000005, 3377.7007000000003, 2360.6063, 4677.1971, 2678.9358000000007, 2513.0319, 3893.2216000000008, 3680.1237, 4315.794199999998, 2711.9607, 2738.1290000000004, 2450.6927999999994, 5088.881, 2525.8732999999997, 3749.4319000000014, 2946.325500000001, 2413.8374, 2713.2001, 2561.2950999999994, 3061.6174, 2720.2162999999996, 2554.9822, 3430.8130999999994, 4735.308299999999, 4319.1936, 4574.192099999999, 4147.7319, 2943.4546999999993, 2906.3664999999996, 4475.1031, 5483.274599999999, 2787.2570999999994, 2566.9933, 2474.9024, 3632.3766000000005, 2688.1531999999997, 2487.8816, 4056.4215000000004, 2331.7373000000002, 2294.6045, 2451.0136999999995, 5044.614799999999, 305149.810100002, 4376.034500000001, 2797.1064000000006, 2687.130200000001, 2406.8042, 2940.4027, 2870.1175, 2955.4320000000002, 2462.6573000000003, 4187.7594, 4071.6712000000007, 4689.4609999999975, 4022.585, 32785.399100000046, 9284.872599999993, 2406.8174000000004, 2562.9991]\n",
      "Aromaticity =  0.21739130434782608\n",
      "Flexibility =  [0.9752738095238097, 0.9824761904761905, 0.9369523809523811, 0.958047619047619, 0.9463809523809523, 0.9575238095238097, 0.983654761904762, 0.9508214285714286, 1.00375, 0.9761785714285713, 1.0161309523809523, 0.9933214285714285, 1.0034047619047617, 0.9706309523809522]\n",
      "Isoelectric point =  6.7012830734252935\n",
      "Secondary structure fraction =  (0.47826086956521735, 0.34782608695652173, 0.13043478260869565)\n",
      "\n",
      "\n",
      "Protein of Interest =  {'A': 2, 'C': 4, 'D': 1, 'E': 0, 'F': 3, 'G': 2, 'H': 2, 'I': 1, 'K': 1, 'L': 6, 'M': 1, 'N': 0, 'P': 1, 'Q': 1, 'R': 2, 'S': 6, 'T': 3, 'V': 2, 'W': 0, 'Y': 0}\n",
      "Amino acids percent =     {'A': 0.05263157894736842, 'C': 0.10526315789473684, 'D': 0.02631578947368421, 'E': 0.0, 'F': 0.07894736842105263, 'G': 0.05263157894736842, 'H': 0.05263157894736842, 'I': 0.02631578947368421, 'K': 0.02631578947368421, 'L': 0.15789473684210525, 'M': 0.02631578947368421, 'N': 0.0, 'P': 0.02631578947368421, 'Q': 0.02631578947368421, 'R': 0.05263157894736842, 'S': 0.15789473684210525, 'T': 0.07894736842105263, 'V': 0.05263157894736842, 'W': 0.0, 'Y': 0.0}\n",
      "Molecular weight =  [3896.388, 5313.909099999998, 2268.5276000000003, 2240.4102, 2856.2400000000002, 3103.5840000000003, 2945.3948000000005, 3377.7007000000003, 2360.6063, 4677.1971, 2678.9358000000007, 2513.0319, 3893.2216000000008, 3680.1237, 4315.794199999998, 2711.9607, 2738.1290000000004, 2450.6927999999994, 5088.881, 2525.8732999999997, 3749.4319000000014, 2946.325500000001, 2413.8374, 2713.2001, 2561.2950999999994, 3061.6174, 2720.2162999999996, 2554.9822, 3430.8130999999994, 4735.308299999999, 4319.1936, 4574.192099999999, 4147.7319, 2943.4546999999993, 2906.3664999999996, 4475.1031, 5483.274599999999, 2787.2570999999994, 2566.9933, 2474.9024, 3632.3766000000005, 2688.1531999999997, 2487.8816, 4056.4215000000004, 2331.7373000000002, 2294.6045, 2451.0136999999995, 5044.614799999999, 305149.810100002, 4376.034500000001, 2797.1064000000006, 2687.130200000001, 2406.8042, 2940.4027, 2870.1175, 2955.4320000000002, 2462.6573000000003, 4187.7594, 4071.6712000000007, 4689.4609999999975, 4022.585, 32785.399100000046, 9284.872599999993, 2406.8174000000004, 2562.9991, 4130.857499999999]\n",
      "Aromaticity =  0.07894736842105263\n",
      "Flexibility =  [1.0007380952380953, 0.9695357142857143, 0.9845119047619049, 0.9786309523809525, 0.9989404761904762, 0.9862261904761906, 0.9480595238095236, 0.9806309523809527, 0.9862142857142858, 0.9603214285714285, 0.9830595238095238, 0.9560357142857143, 0.9965238095238095, 0.9541666666666666, 1.0018571428571428, 0.9698095238095238, 1.0095357142857142, 0.9750595238095239, 1.0186309523809525, 1.0146666666666666, 0.9645595238095238, 1.00025, 0.9659166666666666, 0.9734642857142857, 0.9912380952380951, 0.9591785714285714, 0.9529166666666666, 0.9773333333333334, 0.9906190476190476]\n",
      "Isoelectric point =  8.55232753753662\n",
      "Secondary structure fraction =  (0.3157894736842105, 0.23684210526315788, 0.23684210526315788)\n",
      "\n",
      "\n",
      "Protein of Interest =  {'A': 1, 'C': 1, 'D': 1, 'E': 2, 'F': 1, 'G': 0, 'H': 2, 'I': 1, 'K': 2, 'L': 6, 'M': 0, 'N': 1, 'P': 0, 'Q': 0, 'R': 3, 'S': 3, 'T': 3, 'V': 2, 'W': 1, 'Y': 0}\n",
      "Amino acids percent =     {'A': 0.03333333333333333, 'C': 0.03333333333333333, 'D': 0.03333333333333333, 'E': 0.06666666666666667, 'F': 0.03333333333333333, 'G': 0.0, 'H': 0.06666666666666667, 'I': 0.03333333333333333, 'K': 0.06666666666666667, 'L': 0.2, 'M': 0.0, 'N': 0.03333333333333333, 'P': 0.0, 'Q': 0.0, 'R': 0.1, 'S': 0.1, 'T': 0.1, 'V': 0.06666666666666667, 'W': 0.03333333333333333, 'Y': 0.0}\n",
      "Molecular weight =  [3896.388, 5313.909099999998, 2268.5276000000003, 2240.4102, 2856.2400000000002, 3103.5840000000003, 2945.3948000000005, 3377.7007000000003, 2360.6063, 4677.1971, 2678.9358000000007, 2513.0319, 3893.2216000000008, 3680.1237, 4315.794199999998, 2711.9607, 2738.1290000000004, 2450.6927999999994, 5088.881, 2525.8732999999997, 3749.4319000000014, 2946.325500000001, 2413.8374, 2713.2001, 2561.2950999999994, 3061.6174, 2720.2162999999996, 2554.9822, 3430.8130999999994, 4735.308299999999, 4319.1936, 4574.192099999999, 4147.7319, 2943.4546999999993, 2906.3664999999996, 4475.1031, 5483.274599999999, 2787.2570999999994, 2566.9933, 2474.9024, 3632.3766000000005, 2688.1531999999997, 2487.8816, 4056.4215000000004, 2331.7373000000002, 2294.6045, 2451.0136999999995, 5044.614799999999, 305149.810100002, 4376.034500000001, 2797.1064000000006, 2687.130200000001, 2406.8042, 2940.4027, 2870.1175, 2955.4320000000002, 2462.6573000000003, 4187.7594, 4071.6712000000007, 4689.4609999999975, 4022.585, 32785.399100000046, 9284.872599999993, 2406.8174000000004, 2562.9991, 4130.857499999999, 3567.1269]\n",
      "Aromaticity =  0.06666666666666667\n",
      "Flexibility =  [0.9847023809523809, 0.9874642857142858, 0.9763452380952382, 1.0045714285714287, 1.036047619047619, 1.011059523809524, 0.9997023809523811, 0.9800595238095237, 0.9879404761904761, 0.9806904761904763, 0.9758928571428572, 0.9695238095238095, 0.9992380952380954, 0.961547619047619, 0.9580238095238096, 0.9767857142857144, 0.9671190476190477, 0.9861190476190477, 0.9841428571428572, 0.9543928571428573, 1.025464285714286]\n",
      "Isoelectric point =  9.309831047058104\n",
      "Secondary structure fraction =  (0.3666666666666667, 0.13333333333333333, 0.30000000000000004)\n",
      "\n",
      "\n",
      "Protein of Interest =  {'A': 1, 'C': 0, 'D': 4, 'E': 5, 'F': 3, 'G': 0, 'H': 1, 'I': 10, 'K': 4, 'L': 8, 'M': 3, 'N': 4, 'P': 1, 'Q': 5, 'R': 1, 'S': 4, 'T': 3, 'V': 3, 'W': 1, 'Y': 2}\n",
      "Amino acids percent =     {'A': 0.015873015873015872, 'C': 0.0, 'D': 0.06349206349206349, 'E': 0.07936507936507936, 'F': 0.047619047619047616, 'G': 0.0, 'H': 0.015873015873015872, 'I': 0.15873015873015872, 'K': 0.06349206349206349, 'L': 0.12698412698412698, 'M': 0.047619047619047616, 'N': 0.06349206349206349, 'P': 0.015873015873015872, 'Q': 0.07936507936507936, 'R': 0.015873015873015872, 'S': 0.06349206349206349, 'T': 0.047619047619047616, 'V': 0.047619047619047616, 'W': 0.015873015873015872, 'Y': 0.031746031746031744}\n",
      "Molecular weight =  [3896.388, 5313.909099999998, 2268.5276000000003, 2240.4102, 2856.2400000000002, 3103.5840000000003, 2945.3948000000005, 3377.7007000000003, 2360.6063, 4677.1971, 2678.9358000000007, 2513.0319, 3893.2216000000008, 3680.1237, 4315.794199999998, 2711.9607, 2738.1290000000004, 2450.6927999999994, 5088.881, 2525.8732999999997, 3749.4319000000014, 2946.325500000001, 2413.8374, 2713.2001, 2561.2950999999994, 3061.6174, 2720.2162999999996, 2554.9822, 3430.8130999999994, 4735.308299999999, 4319.1936, 4574.192099999999, 4147.7319, 2943.4546999999993, 2906.3664999999996, 4475.1031, 5483.274599999999, 2787.2570999999994, 2566.9933, 2474.9024, 3632.3766000000005, 2688.1531999999997, 2487.8816, 4056.4215000000004, 2331.7373000000002, 2294.6045, 2451.0136999999995, 5044.614799999999, 305149.810100002, 4376.034500000001, 2797.1064000000006, 2687.130200000001, 2406.8042, 2940.4027, 2870.1175, 2955.4320000000002, 2462.6573000000003, 4187.7594, 4071.6712000000007, 4689.4609999999975, 4022.585, 32785.399100000046, 9284.872599999993, 2406.8174000000004, 2562.9991, 4130.857499999999, 3567.1269, 7528.714999999998]\n",
      "Aromaticity =  0.09523809523809523\n",
      "Flexibility =  [0.9569404761904763, 0.9588571428571429, 0.9877738095238093, 0.9425357142857143, 0.995345238095238, 0.9550714285714286, 0.9914047619047618, 0.9671309523809525, 0.9868452380952382, 0.9996071428571428, 0.9434642857142858, 0.9666785714285714, 0.9555833333333335, 0.9508095238095238, 0.9502023809523811, 0.9521547619047619, 0.9716785714285714, 0.9687619047619048, 0.9652023809523811, 1.0203690476190477, 0.9558690476190477, 1.0072738095238096, 0.958511904761905, 0.97375, 1.004404761904762, 0.9532619047619049, 0.9975714285714284, 0.9471785714285714, 0.9692261904761904, 0.9655952380952383, 0.982095238095238, 0.9449761904761906, 0.9661666666666665, 0.9739404761904763, 1.0191904761904762, 0.9944047619047619, 0.9916428571428572, 1.0387738095238097, 1.035809523809524, 1.020607142857143, 1.005452380952381, 1.0390119047619049, 1.0493928571428572, 1.0254761904761904, 1.0433214285714287, 0.9962261904761905, 1.0472976190476193, 1.0248095238095236, 1.0074166666666668, 1.0544047619047618, 1.043857142857143, 1.0467142857142857, 1.0380714285714288, 1.0438690476190478]\n",
      "Isoelectric point =  4.677701377868652\n",
      "Secondary structure fraction =  (0.42857142857142855, 0.14285714285714285, 0.2698412698412698)\n",
      "\n",
      "\n",
      "Protein of Interest =  {'A': 9, 'C': 6, 'D': 2, 'E': 8, 'F': 10, 'G': 4, 'H': 3, 'I': 8, 'K': 7, 'L': 15, 'M': 1, 'N': 3, 'P': 6, 'Q': 5, 'R': 5, 'S': 7, 'T': 11, 'V': 8, 'W': 0, 'Y': 5}\n",
      "Amino acids percent =     {'A': 0.07317073170731707, 'C': 0.04878048780487805, 'D': 0.016260162601626018, 'E': 0.06504065040650407, 'F': 0.08130081300813008, 'G': 0.032520325203252036, 'H': 0.024390243902439025, 'I': 0.06504065040650407, 'K': 0.056910569105691054, 'L': 0.12195121951219512, 'M': 0.008130081300813009, 'N': 0.024390243902439025, 'P': 0.04878048780487805, 'Q': 0.04065040650406504, 'R': 0.04065040650406504, 'S': 0.056910569105691054, 'T': 0.08943089430894309, 'V': 0.06504065040650407, 'W': 0.0, 'Y': 0.04065040650406504}\n",
      "Molecular weight =  [3896.388, 5313.909099999998, 2268.5276000000003, 2240.4102, 2856.2400000000002, 3103.5840000000003, 2945.3948000000005, 3377.7007000000003, 2360.6063, 4677.1971, 2678.9358000000007, 2513.0319, 3893.2216000000008, 3680.1237, 4315.794199999998, 2711.9607, 2738.1290000000004, 2450.6927999999994, 5088.881, 2525.8732999999997, 3749.4319000000014, 2946.325500000001, 2413.8374, 2713.2001, 2561.2950999999994, 3061.6174, 2720.2162999999996, 2554.9822, 3430.8130999999994, 4735.308299999999, 4319.1936, 4574.192099999999, 4147.7319, 2943.4546999999993, 2906.3664999999996, 4475.1031, 5483.274599999999, 2787.2570999999994, 2566.9933, 2474.9024, 3632.3766000000005, 2688.1531999999997, 2487.8816, 4056.4215000000004, 2331.7373000000002, 2294.6045, 2451.0136999999995, 5044.614799999999, 305149.810100002, 4376.034500000001, 2797.1064000000006, 2687.130200000001, 2406.8042, 2940.4027, 2870.1175, 2955.4320000000002, 2462.6573000000003, 4187.7594, 4071.6712000000007, 4689.4609999999975, 4022.585, 32785.399100000046, 9284.872599999993, 2406.8174000000004, 2562.9991, 4130.857499999999, 3567.1269, 7528.714999999998, 13959.220099999982]\n",
      "Aromaticity =  0.12195121951219512\n",
      "Flexibility =  [0.9708095238095238, 0.9603928571428572, 0.9447142857142858, 0.9467857142857143, 0.9500595238095239, 0.936452380952381, 0.9478690476190478, 0.9683214285714286, 0.9474642857142859, 0.9754285714285715, 0.9729166666666667, 0.9559999999999998, 1.0084880952380952, 0.9422261904761907, 0.9677261904761907, 0.9750000000000001, 0.9678809523809525, 0.9957142857142858, 0.9899404761904764, 0.9512023809523809, 0.9902261904761905, 1.0024047619047618, 0.9945357142857143, 0.9794285714285713, 0.9777619047619048, 0.9684880952380952, 0.9849404761904763, 0.990059523809524, 1.0273452380952381, 1.008952380952381, 1.011095238095238, 0.9965119047619047, 1.0479761904761904, 1.0199166666666668, 1.013392857142857, 1.0069166666666667, 1.0011785714285715, 1.0515833333333335, 1.0160119047619047, 1.029404761904762, 1.0221785714285716, 1.0205357142857143, 0.9855833333333334, 1.0009285714285714, 1.0098809523809522, 0.9720238095238096, 1.0083095238095237, 1.021202380952381, 1.0123571428571427, 1.026202380952381, 0.9742857142857143, 1.0084166666666665, 0.9715476190476192, 0.9810714285714285, 0.9469285714285715, 0.9640595238095238, 0.9934761904761906, 0.9678333333333333, 0.9862976190476191, 0.9543571428571428, 0.9837023809523809, 0.9564404761904761, 0.980952380952381, 0.9601428571428572, 1.0063333333333335, 1.0019761904761904, 0.9996190476190476, 0.9886309523809524, 1.0326309523809525, 0.9713809523809525, 0.981107142857143, 0.9749880952380953, 0.9935238095238096, 0.959047619047619, 0.9928571428571428, 0.9811190476190477, 0.9978809523809524, 1.0086547619047619, 0.9875, 1.0342380952380954, 1.014297619047619, 1.0200357142857144, 0.9712380952380952, 0.9865595238095237, 0.9916666666666668, 1.0094166666666669, 1.0065357142857143, 1.0220238095238097, 1.0283452380952383, 1.0014642857142857, 1.0443690476190477, 1.0310952380952383, 0.985095238095238, 0.9992500000000002, 1.012511904761905, 0.9889166666666666, 0.9535119047619047, 0.9575952380952382, 0.9573452380952381, 0.9489166666666667, 0.9455357142857143, 0.953607142857143, 0.9471547619047618, 0.9361547619047619, 0.9462261904761905, 0.940797619047619, 0.9430833333333333, 0.9511309523809524, 0.9285, 0.9345595238095238, 0.9491904761904761, 0.9740952380952381, 0.9653214285714284, 1.0230119047619048]\n",
      "Isoelectric point =  8.222894096374514\n",
      "Secondary structure fraction =  (0.3739837398373984, 0.1626016260162602, 0.2682926829268293)\n",
      "\n",
      "\n",
      "Protein of Interest =  {'A': 0, 'C': 2, 'D': 0, 'E': 0, 'F': 1, 'G': 1, 'H': 1, 'I': 2, 'K': 3, 'L': 5, 'M': 1, 'N': 1, 'P': 1, 'Q': 0, 'R': 1, 'S': 2, 'T': 2, 'V': 1, 'W': 0, 'Y': 0}\n",
      "Amino acids percent =     {'A': 0.0, 'C': 0.08333333333333333, 'D': 0.0, 'E': 0.0, 'F': 0.041666666666666664, 'G': 0.041666666666666664, 'H': 0.041666666666666664, 'I': 0.08333333333333333, 'K': 0.125, 'L': 0.20833333333333334, 'M': 0.041666666666666664, 'N': 0.041666666666666664, 'P': 0.041666666666666664, 'Q': 0.0, 'R': 0.041666666666666664, 'S': 0.08333333333333333, 'T': 0.08333333333333333, 'V': 0.041666666666666664, 'W': 0.0, 'Y': 0.0}\n",
      "Molecular weight =  [3896.388, 5313.909099999998, 2268.5276000000003, 2240.4102, 2856.2400000000002, 3103.5840000000003, 2945.3948000000005, 3377.7007000000003, 2360.6063, 4677.1971, 2678.9358000000007, 2513.0319, 3893.2216000000008, 3680.1237, 4315.794199999998, 2711.9607, 2738.1290000000004, 2450.6927999999994, 5088.881, 2525.8732999999997, 3749.4319000000014, 2946.325500000001, 2413.8374, 2713.2001, 2561.2950999999994, 3061.6174, 2720.2162999999996, 2554.9822, 3430.8130999999994, 4735.308299999999, 4319.1936, 4574.192099999999, 4147.7319, 2943.4546999999993, 2906.3664999999996, 4475.1031, 5483.274599999999, 2787.2570999999994, 2566.9933, 2474.9024, 3632.3766000000005, 2688.1531999999997, 2487.8816, 4056.4215000000004, 2331.7373000000002, 2294.6045, 2451.0136999999995, 5044.614799999999, 305149.810100002, 4376.034500000001, 2797.1064000000006, 2687.130200000001, 2406.8042, 2940.4027, 2870.1175, 2955.4320000000002, 2462.6573000000003, 4187.7594, 4071.6712000000007, 4689.4609999999975, 4022.585, 32785.399100000046, 9284.872599999993, 2406.8174000000004, 2562.9991, 4130.857499999999, 3567.1269, 7528.714999999998, 13959.220099999982, 2716.378500000001]\n",
      "Aromaticity =  0.041666666666666664\n",
      "Flexibility =  [0.9470714285714286, 0.9984047619047619, 0.9906071428571428, 0.9699404761904763, 0.9862142857142858, 1.0066785714285715, 0.9594285714285714, 1.0158690476190477, 0.9503333333333334, 0.979988095238095, 0.9821666666666667, 1.0056190476190476, 0.9540833333333334, 0.9852738095238096, 1.0082857142857142]\n",
      "Isoelectric point =  9.850720787048338\n",
      "Secondary structure fraction =  (0.375, 0.20833333333333331, 0.25)\n",
      "\n",
      "\n",
      "Protein of Interest =  {'A': 2, 'C': 1, 'D': 0, 'E': 0, 'F': 2, 'G': 0, 'H': 1, 'I': 4, 'K': 0, 'L': 8, 'M': 1, 'N': 4, 'P': 2, 'Q': 2, 'R': 2, 'S': 3, 'T': 1, 'V': 5, 'W': 2, 'Y': 1}\n",
      "Amino acids percent =     {'A': 0.04878048780487805, 'C': 0.024390243902439025, 'D': 0.0, 'E': 0.0, 'F': 0.04878048780487805, 'G': 0.0, 'H': 0.024390243902439025, 'I': 0.0975609756097561, 'K': 0.0, 'L': 0.1951219512195122, 'M': 0.024390243902439025, 'N': 0.0975609756097561, 'P': 0.04878048780487805, 'Q': 0.04878048780487805, 'R': 0.04878048780487805, 'S': 0.07317073170731707, 'T': 0.024390243902439025, 'V': 0.12195121951219512, 'W': 0.04878048780487805, 'Y': 0.024390243902439025}\n",
      "Molecular weight =  [3896.388, 5313.909099999998, 2268.5276000000003, 2240.4102, 2856.2400000000002, 3103.5840000000003, 2945.3948000000005, 3377.7007000000003, 2360.6063, 4677.1971, 2678.9358000000007, 2513.0319, 3893.2216000000008, 3680.1237, 4315.794199999998, 2711.9607, 2738.1290000000004, 2450.6927999999994, 5088.881, 2525.8732999999997, 3749.4319000000014, 2946.325500000001, 2413.8374, 2713.2001, 2561.2950999999994, 3061.6174, 2720.2162999999996, 2554.9822, 3430.8130999999994, 4735.308299999999, 4319.1936, 4574.192099999999, 4147.7319, 2943.4546999999993, 2906.3664999999996, 4475.1031, 5483.274599999999, 2787.2570999999994, 2566.9933, 2474.9024, 3632.3766000000005, 2688.1531999999997, 2487.8816, 4056.4215000000004, 2331.7373000000002, 2294.6045, 2451.0136999999995, 5044.614799999999, 305149.810100002, 4376.034500000001, 2797.1064000000006, 2687.130200000001, 2406.8042, 2940.4027, 2870.1175, 2955.4320000000002, 2462.6573000000003, 4187.7594, 4071.6712000000007, 4689.4609999999975, 4022.585, 32785.399100000046, 9284.872599999993, 2406.8174000000004, 2562.9991, 4130.857499999999, 3567.1269, 7528.714999999998, 13959.220099999982, 2716.378500000001, 4796.7425]\n",
      "Aromaticity =  0.12195121951219513\n",
      "Flexibility =  [0.9629166666666665, 0.9638690476190477, 0.9415476190476191, 0.9568214285714286, 0.9637619047619049, 0.9906190476190476, 0.9603690476190477, 1.0013333333333332, 0.9673452380952382, 1.0184166666666665, 0.991345238095238, 1.0064404761904764, 0.9713095238095238, 1.0046547619047619, 0.9592857142857143, 0.9672619047619048, 0.9653571428571429, 0.984297619047619, 0.9438095238095239, 0.9873571428571427, 0.9409047619047619, 0.9611666666666666, 0.9596428571428574, 0.953904761904762, 0.9762619047619048, 0.9409166666666667, 0.9650357142857141, 0.9821666666666666, 0.9862976190476191, 0.9934404761904762, 0.9621428571428571, 0.9996785714285714]\n",
      "Isoelectric point =  9.504461097717286\n",
      "Secondary structure fraction =  (0.5365853658536586, 0.21951219512195125, 0.2682926829268293)\n",
      "\n",
      "\n",
      "Protein of Interest =  {'A': 1, 'C': 1, 'D': 0, 'E': 0, 'F': 1, 'G': 0, 'H': 1, 'I': 0, 'K': 2, 'L': 1, 'M': 0, 'N': 1, 'P': 2, 'Q': 1, 'R': 1, 'S': 1, 'T': 3, 'V': 1, 'W': 4, 'Y': 1}\n",
      "Amino acids percent =     {'A': 0.045454545454545456, 'C': 0.045454545454545456, 'D': 0.0, 'E': 0.0, 'F': 0.045454545454545456, 'G': 0.0, 'H': 0.045454545454545456, 'I': 0.0, 'K': 0.09090909090909091, 'L': 0.045454545454545456, 'M': 0.0, 'N': 0.045454545454545456, 'P': 0.09090909090909091, 'Q': 0.045454545454545456, 'R': 0.045454545454545456, 'S': 0.045454545454545456, 'T': 0.13636363636363635, 'V': 0.045454545454545456, 'W': 0.18181818181818182, 'Y': 0.045454545454545456}\n",
      "Molecular weight =  [3896.388, 5313.909099999998, 2268.5276000000003, 2240.4102, 2856.2400000000002, 3103.5840000000003, 2945.3948000000005, 3377.7007000000003, 2360.6063, 4677.1971, 2678.9358000000007, 2513.0319, 3893.2216000000008, 3680.1237, 4315.794199999998, 2711.9607, 2738.1290000000004, 2450.6927999999994, 5088.881, 2525.8732999999997, 3749.4319000000014, 2946.325500000001, 2413.8374, 2713.2001, 2561.2950999999994, 3061.6174, 2720.2162999999996, 2554.9822, 3430.8130999999994, 4735.308299999999, 4319.1936, 4574.192099999999, 4147.7319, 2943.4546999999993, 2906.3664999999996, 4475.1031, 5483.274599999999, 2787.2570999999994, 2566.9933, 2474.9024, 3632.3766000000005, 2688.1531999999997, 2487.8816, 4056.4215000000004, 2331.7373000000002, 2294.6045, 2451.0136999999995, 5044.614799999999, 305149.810100002, 4376.034500000001, 2797.1064000000006, 2687.130200000001, 2406.8042, 2940.4027, 2870.1175, 2955.4320000000002, 2462.6573000000003, 4187.7594, 4071.6712000000007, 4689.4609999999975, 4022.585, 32785.399100000046, 9284.872599999993, 2406.8174000000004, 2562.9991, 4130.857499999999, 3567.1269, 7528.714999999998, 13959.220099999982, 2716.378500000001, 4796.7425, 2836.2321000000006]\n",
      "Aromaticity =  0.27272727272727276\n",
      "Flexibility =  [1.015440476190476, 1.049309523809524, 0.9827261904761904, 1.0198214285714287, 1.0002142857142857, 0.9600476190476191, 0.958952380952381, 0.9499761904761905, 0.9390833333333333, 0.9405000000000001, 0.9564761904761904, 0.9382976190476191, 0.968892857142857]\n",
      "Isoelectric point =  9.787090492248534\n",
      "Secondary structure fraction =  (0.36363636363636365, 0.18181818181818182, 0.09090909090909091)\n",
      "\n",
      "\n",
      "Protein of Interest =  {'A': 2, 'C': 0, 'D': 0, 'E': 1, 'F': 1, 'G': 1, 'H': 0, 'I': 1, 'K': 1, 'L': 0, 'M': 0, 'N': 0, 'P': 2, 'Q': 2, 'R': 2, 'S': 1, 'T': 4, 'V': 0, 'W': 2, 'Y': 0}\n",
      "Amino acids percent =     {'A': 0.1, 'C': 0.0, 'D': 0.0, 'E': 0.05, 'F': 0.05, 'G': 0.05, 'H': 0.0, 'I': 0.05, 'K': 0.05, 'L': 0.0, 'M': 0.0, 'N': 0.0, 'P': 0.1, 'Q': 0.1, 'R': 0.1, 'S': 0.05, 'T': 0.2, 'V': 0.0, 'W': 0.1, 'Y': 0.0}\n",
      "Molecular weight =  [3896.388, 5313.909099999998, 2268.5276000000003, 2240.4102, 2856.2400000000002, 3103.5840000000003, 2945.3948000000005, 3377.7007000000003, 2360.6063, 4677.1971, 2678.9358000000007, 2513.0319, 3893.2216000000008, 3680.1237, 4315.794199999998, 2711.9607, 2738.1290000000004, 2450.6927999999994, 5088.881, 2525.8732999999997, 3749.4319000000014, 2946.325500000001, 2413.8374, 2713.2001, 2561.2950999999994, 3061.6174, 2720.2162999999996, 2554.9822, 3430.8130999999994, 4735.308299999999, 4319.1936, 4574.192099999999, 4147.7319, 2943.4546999999993, 2906.3664999999996, 4475.1031, 5483.274599999999, 2787.2570999999994, 2566.9933, 2474.9024, 3632.3766000000005, 2688.1531999999997, 2487.8816, 4056.4215000000004, 2331.7373000000002, 2294.6045, 2451.0136999999995, 5044.614799999999, 305149.810100002, 4376.034500000001, 2797.1064000000006, 2687.130200000001, 2406.8042, 2940.4027, 2870.1175, 2955.4320000000002, 2462.6573000000003, 4187.7594, 4071.6712000000007, 4689.4609999999975, 4022.585, 32785.399100000046, 9284.872599999993, 2406.8174000000004, 2562.9991, 4130.857499999999, 3567.1269, 7528.714999999998, 13959.220099999982, 2716.378500000001, 4796.7425, 2836.2321000000006, 2361.6130000000003]\n",
      "Aromaticity =  0.15000000000000002\n",
      "Flexibility =  [1.0031428571428571, 0.9627023809523808, 1.0090357142857143, 0.9838214285714285, 0.9828571428571429, 1.0317738095238096, 0.9864880952380952, 1.0126785714285713, 1.0232738095238096, 1.0011309523809524, 1.0220119047619047]\n",
      "Isoelectric point =  10.840310478210448\n",
      "Secondary structure fraction =  (0.2, 0.2, 0.15000000000000002)\n",
      "\n",
      "\n",
      "Protein of Interest =  {'A': 1, 'C': 1, 'D': 0, 'E': 1, 'F': 1, 'G': 0, 'H': 0, 'I': 0, 'K': 1, 'L': 3, 'M': 1, 'N': 2, 'P': 1, 'Q': 1, 'R': 3, 'S': 4, 'T': 1, 'V': 1, 'W': 3, 'Y': 0}\n",
      "Amino acids percent =     {'A': 0.04, 'C': 0.04, 'D': 0.0, 'E': 0.04, 'F': 0.04, 'G': 0.0, 'H': 0.0, 'I': 0.0, 'K': 0.04, 'L': 0.12, 'M': 0.04, 'N': 0.08, 'P': 0.04, 'Q': 0.04, 'R': 0.12, 'S': 0.16, 'T': 0.04, 'V': 0.04, 'W': 0.12, 'Y': 0.0}\n",
      "Molecular weight =  [3896.388, 5313.909099999998, 2268.5276000000003, 2240.4102, 2856.2400000000002, 3103.5840000000003, 2945.3948000000005, 3377.7007000000003, 2360.6063, 4677.1971, 2678.9358000000007, 2513.0319, 3893.2216000000008, 3680.1237, 4315.794199999998, 2711.9607, 2738.1290000000004, 2450.6927999999994, 5088.881, 2525.8732999999997, 3749.4319000000014, 2946.325500000001, 2413.8374, 2713.2001, 2561.2950999999994, 3061.6174, 2720.2162999999996, 2554.9822, 3430.8130999999994, 4735.308299999999, 4319.1936, 4574.192099999999, 4147.7319, 2943.4546999999993, 2906.3664999999996, 4475.1031, 5483.274599999999, 2787.2570999999994, 2566.9933, 2474.9024, 3632.3766000000005, 2688.1531999999997, 2487.8816, 4056.4215000000004, 2331.7373000000002, 2294.6045, 2451.0136999999995, 5044.614799999999, 305149.810100002, 4376.034500000001, 2797.1064000000006, 2687.130200000001, 2406.8042, 2940.4027, 2870.1175, 2955.4320000000002, 2462.6573000000003, 4187.7594, 4071.6712000000007, 4689.4609999999975, 4022.585, 32785.399100000046, 9284.872599999993, 2406.8174000000004, 2562.9991, 4130.857499999999, 3567.1269, 7528.714999999998, 13959.220099999982, 2716.378500000001, 4796.7425, 2836.2321000000006, 2361.6130000000003, 3096.5454999999993]\n",
      "Aromaticity =  0.16\n",
      "Flexibility =  [1.0389285714285716, 1.036047619047619, 0.9807738095238095, 0.9840833333333334, 0.9701428571428572, 0.9685833333333336, 0.9658333333333333, 0.9890833333333333, 0.971547619047619, 0.9945714285714286, 0.9663690476190476, 1.0040595238095238, 0.993952380952381, 0.9968690476190477, 0.9608571428571427, 0.9966190476190475]\n",
      "Isoelectric point =  10.763593101501463\n",
      "Secondary structure fraction =  (0.32, 0.28, 0.24)\n",
      "\n",
      "\n",
      "Protein of Interest =  {'A': 2, 'C': 2, 'D': 0, 'E': 1, 'F': 2, 'G': 0, 'H': 0, 'I': 2, 'K': 1, 'L': 4, 'M': 0, 'N': 3, 'P': 0, 'Q': 3, 'R': 8, 'S': 5, 'T': 3, 'V': 0, 'W': 0, 'Y': 0}\n",
      "Amino acids percent =     {'A': 0.05555555555555555, 'C': 0.05555555555555555, 'D': 0.0, 'E': 0.027777777777777776, 'F': 0.05555555555555555, 'G': 0.0, 'H': 0.0, 'I': 0.05555555555555555, 'K': 0.027777777777777776, 'L': 0.1111111111111111, 'M': 0.0, 'N': 0.08333333333333333, 'P': 0.0, 'Q': 0.08333333333333333, 'R': 0.2222222222222222, 'S': 0.1388888888888889, 'T': 0.08333333333333333, 'V': 0.0, 'W': 0.0, 'Y': 0.0}\n",
      "Molecular weight =  [3896.388, 5313.909099999998, 2268.5276000000003, 2240.4102, 2856.2400000000002, 3103.5840000000003, 2945.3948000000005, 3377.7007000000003, 2360.6063, 4677.1971, 2678.9358000000007, 2513.0319, 3893.2216000000008, 3680.1237, 4315.794199999998, 2711.9607, 2738.1290000000004, 2450.6927999999994, 5088.881, 2525.8732999999997, 3749.4319000000014, 2946.325500000001, 2413.8374, 2713.2001, 2561.2950999999994, 3061.6174, 2720.2162999999996, 2554.9822, 3430.8130999999994, 4735.308299999999, 4319.1936, 4574.192099999999, 4147.7319, 2943.4546999999993, 2906.3664999999996, 4475.1031, 5483.274599999999, 2787.2570999999994, 2566.9933, 2474.9024, 3632.3766000000005, 2688.1531999999997, 2487.8816, 4056.4215000000004, 2331.7373000000002, 2294.6045, 2451.0136999999995, 5044.614799999999, 305149.810100002, 4376.034500000001, 2797.1064000000006, 2687.130200000001, 2406.8042, 2940.4027, 2870.1175, 2955.4320000000002, 2462.6573000000003, 4187.7594, 4071.6712000000007, 4689.4609999999975, 4022.585, 32785.399100000046, 9284.872599999993, 2406.8174000000004, 2562.9991, 4130.857499999999, 3567.1269, 7528.714999999998, 13959.220099999982, 2716.378500000001, 4796.7425, 2836.2321000000006, 2361.6130000000003, 3096.5454999999993, 4311.9155999999975]\n",
      "Aromaticity =  0.05555555555555555\n",
      "Flexibility =  [0.9862261904761905, 0.9992738095238094, 1.0066547619047619, 1.0248928571428573, 1.0213452380952381, 1.01475, 1.0276428571428573, 1.0218095238095237, 0.9961785714285715, 1.020190476190476, 1.0264523809523811, 0.985107142857143, 0.980952380952381, 0.9881309523809525, 1.0074880952380953, 1.0010357142857143, 1.0058809523809524, 1.0315833333333333, 1.0159166666666668, 1.0255357142857144, 1.0311547619047619, 1.0328452380952382, 1.0216428571428575, 1.0123571428571427, 0.979797619047619, 0.9820119047619048, 0.9978809523809524]\n",
      "Isoelectric point =  11.999967765808105\n",
      "Secondary structure fraction =  (0.2222222222222222, 0.2222222222222222, 0.19444444444444442)\n",
      "\n",
      "\n",
      "Protein of Interest =  {'A': 0, 'C': 1, 'D': 0, 'E': 0, 'F': 2, 'G': 2, 'H': 0, 'I': 1, 'K': 1, 'L': 0, 'M': 0, 'N': 4, 'P': 2, 'Q': 3, 'R': 4, 'S': 3, 'T': 5, 'V': 0, 'W': 2, 'Y': 0}\n",
      "Amino acids percent =     {'A': 0.0, 'C': 0.03333333333333333, 'D': 0.0, 'E': 0.0, 'F': 0.06666666666666667, 'G': 0.06666666666666667, 'H': 0.0, 'I': 0.03333333333333333, 'K': 0.03333333333333333, 'L': 0.0, 'M': 0.0, 'N': 0.13333333333333333, 'P': 0.06666666666666667, 'Q': 0.1, 'R': 0.13333333333333333, 'S': 0.1, 'T': 0.16666666666666666, 'V': 0.0, 'W': 0.06666666666666667, 'Y': 0.0}\n",
      "Molecular weight =  [3896.388, 5313.909099999998, 2268.5276000000003, 2240.4102, 2856.2400000000002, 3103.5840000000003, 2945.3948000000005, 3377.7007000000003, 2360.6063, 4677.1971, 2678.9358000000007, 2513.0319, 3893.2216000000008, 3680.1237, 4315.794199999998, 2711.9607, 2738.1290000000004, 2450.6927999999994, 5088.881, 2525.8732999999997, 3749.4319000000014, 2946.325500000001, 2413.8374, 2713.2001, 2561.2950999999994, 3061.6174, 2720.2162999999996, 2554.9822, 3430.8130999999994, 4735.308299999999, 4319.1936, 4574.192099999999, 4147.7319, 2943.4546999999993, 2906.3664999999996, 4475.1031, 5483.274599999999, 2787.2570999999994, 2566.9933, 2474.9024, 3632.3766000000005, 2688.1531999999997, 2487.8816, 4056.4215000000004, 2331.7373000000002, 2294.6045, 2451.0136999999995, 5044.614799999999, 305149.810100002, 4376.034500000001, 2797.1064000000006, 2687.130200000001, 2406.8042, 2940.4027, 2870.1175, 2955.4320000000002, 2462.6573000000003, 4187.7594, 4071.6712000000007, 4689.4609999999975, 4022.585, 32785.399100000046, 9284.872599999993, 2406.8174000000004, 2562.9991, 4130.857499999999, 3567.1269, 7528.714999999998, 13959.220099999982, 2716.378500000001, 4796.7425, 2836.2321000000006, 2361.6130000000003, 3096.5454999999993, 4311.9155999999975, 3569.8807000000015]\n",
      "Aromaticity =  0.13333333333333333\n",
      "Flexibility =  [0.9837023809523809, 1.0040357142857144, 0.9737261904761906, 1.0086309523809525, 1.0009642857142858, 0.9865595238095237, 0.9746428571428571, 1.0194285714285716, 0.9969880952380953, 1.006345238095238, 1.0265, 1.0220714285714283, 1.0131785714285715, 1.032, 0.9750714285714285, 0.9992142857142857, 1.0209642857142858, 1.0065476190476192, 1.00725, 1.006845238095238, 1.02975]\n",
      "Isoelectric point =  11.999967765808105\n",
      "Secondary structure fraction =  (0.16666666666666669, 0.3666666666666667, 0.0)\n",
      "\n",
      "\n",
      "Protein of Interest =  {'A': 3, 'C': 3, 'D': 1, 'E': 0, 'F': 2, 'G': 3, 'H': 5, 'I': 2, 'K': 0, 'L': 4, 'M': 0, 'N': 3, 'P': 1, 'Q': 3, 'R': 3, 'S': 2, 'T': 3, 'V': 4, 'W': 1, 'Y': 0}\n",
      "Amino acids percent =     {'A': 0.06976744186046512, 'C': 0.06976744186046512, 'D': 0.023255813953488372, 'E': 0.0, 'F': 0.046511627906976744, 'G': 0.06976744186046512, 'H': 0.11627906976744186, 'I': 0.046511627906976744, 'K': 0.0, 'L': 0.09302325581395349, 'M': 0.0, 'N': 0.06976744186046512, 'P': 0.023255813953488372, 'Q': 0.06976744186046512, 'R': 0.06976744186046512, 'S': 0.046511627906976744, 'T': 0.06976744186046512, 'V': 0.09302325581395349, 'W': 0.023255813953488372, 'Y': 0.0}\n",
      "Molecular weight =  [3896.388, 5313.909099999998, 2268.5276000000003, 2240.4102, 2856.2400000000002, 3103.5840000000003, 2945.3948000000005, 3377.7007000000003, 2360.6063, 4677.1971, 2678.9358000000007, 2513.0319, 3893.2216000000008, 3680.1237, 4315.794199999998, 2711.9607, 2738.1290000000004, 2450.6927999999994, 5088.881, 2525.8732999999997, 3749.4319000000014, 2946.325500000001, 2413.8374, 2713.2001, 2561.2950999999994, 3061.6174, 2720.2162999999996, 2554.9822, 3430.8130999999994, 4735.308299999999, 4319.1936, 4574.192099999999, 4147.7319, 2943.4546999999993, 2906.3664999999996, 4475.1031, 5483.274599999999, 2787.2570999999994, 2566.9933, 2474.9024, 3632.3766000000005, 2688.1531999999997, 2487.8816, 4056.4215000000004, 2331.7373000000002, 2294.6045, 2451.0136999999995, 5044.614799999999, 305149.810100002, 4376.034500000001, 2797.1064000000006, 2687.130200000001, 2406.8042, 2940.4027, 2870.1175, 2955.4320000000002, 2462.6573000000003, 4187.7594, 4071.6712000000007, 4689.4609999999975, 4022.585, 32785.399100000046, 9284.872599999993, 2406.8174000000004, 2562.9991, 4130.857499999999, 3567.1269, 7528.714999999998, 13959.220099999982, 2716.378500000001, 4796.7425, 2836.2321000000006, 2361.6130000000003, 3096.5454999999993, 4311.9155999999975, 3569.8807000000015, 4838.4766]\n",
      "Aromaticity =  0.06976744186046512\n",
      "Flexibility =  [0.9817857142857143, 0.9929523809523809, 0.9466904761904763, 0.9858690476190475, 0.9585238095238094, 0.9684285714285714, 1.000738095238095, 0.9808690476190476, 0.9833571428571429, 0.9675357142857143, 1.0078809523809527, 0.9646071428571429, 0.9786547619047619, 0.9900595238095239, 0.9861547619047619, 0.9554761904761906, 0.9778214285714286, 0.9612261904761906, 0.9593690476190475, 0.9747738095238095, 0.9864404761904763, 0.9815357142857143, 0.9652380952380952, 0.9957857142857143, 0.973, 1.0062738095238095, 0.9903571428571428, 0.9625833333333333, 0.9803690476190476, 1.0055238095238095, 0.9543809523809524, 0.9723214285714286, 0.9781666666666669, 0.9481071428571429]\n",
      "Isoelectric point =  8.738576698303223\n",
      "Secondary structure fraction =  (0.3023255813953488, 0.20930232558139536, 0.16279069767441862)\n",
      "\n",
      "\n",
      "Protein of Interest =  {'A': 2, 'C': 3, 'D': 1, 'E': 3, 'F': 1, 'G': 1, 'H': 0, 'I': 0, 'K': 0, 'L': 1, 'M': 0, 'N': 2, 'P': 0, 'Q': 0, 'R': 1, 'S': 5, 'T': 3, 'V': 0, 'W': 0, 'Y': 0}\n",
      "Amino acids percent =     {'A': 0.08695652173913043, 'C': 0.13043478260869565, 'D': 0.043478260869565216, 'E': 0.13043478260869565, 'F': 0.043478260869565216, 'G': 0.043478260869565216, 'H': 0.0, 'I': 0.0, 'K': 0.0, 'L': 0.043478260869565216, 'M': 0.0, 'N': 0.08695652173913043, 'P': 0.0, 'Q': 0.0, 'R': 0.043478260869565216, 'S': 0.21739130434782608, 'T': 0.13043478260869565, 'V': 0.0, 'W': 0.0, 'Y': 0.0}\n",
      "Molecular weight =  [3896.388, 5313.909099999998, 2268.5276000000003, 2240.4102, 2856.2400000000002, 3103.5840000000003, 2945.3948000000005, 3377.7007000000003, 2360.6063, 4677.1971, 2678.9358000000007, 2513.0319, 3893.2216000000008, 3680.1237, 4315.794199999998, 2711.9607, 2738.1290000000004, 2450.6927999999994, 5088.881, 2525.8732999999997, 3749.4319000000014, 2946.325500000001, 2413.8374, 2713.2001, 2561.2950999999994, 3061.6174, 2720.2162999999996, 2554.9822, 3430.8130999999994, 4735.308299999999, 4319.1936, 4574.192099999999, 4147.7319, 2943.4546999999993, 2906.3664999999996, 4475.1031, 5483.274599999999, 2787.2570999999994, 2566.9933, 2474.9024, 3632.3766000000005, 2688.1531999999997, 2487.8816, 4056.4215000000004, 2331.7373000000002, 2294.6045, 2451.0136999999995, 5044.614799999999, 305149.810100002, 4376.034500000001, 2797.1064000000006, 2687.130200000001, 2406.8042, 2940.4027, 2870.1175, 2955.4320000000002, 2462.6573000000003, 4187.7594, 4071.6712000000007, 4689.4609999999975, 4022.585, 32785.399100000046, 9284.872599999993, 2406.8174000000004, 2562.9991, 4130.857499999999, 3567.1269, 7528.714999999998, 13959.220099999982, 2716.378500000001, 4796.7425, 2836.2321000000006, 2361.6130000000003, 3096.5454999999993, 4311.9155999999975, 3569.8807000000015, 4838.4766, 2412.5009999999997]\n",
      "Aromaticity =  0.043478260869565216\n",
      "Flexibility =  [1.0114285714285716, 1.0422261904761907, 1.0117857142857143, 1.0519285714285715, 1.0422976190476192, 1.0178452380952383, 1.0255595238095239, 1.0316547619047618, 0.991142857142857, 1.0447261904761906, 1.010404761904762, 1.0116190476190476, 1.006904761904762, 0.9667619047619046]\n",
      "Isoelectric point =  4.0500284194946286\n",
      "Secondary structure fraction =  (0.08695652173913043, 0.34782608695652173, 0.2608695652173913)\n",
      "\n",
      "\n",
      "Protein of Interest =  {'A': 1, 'C': 1, 'D': 2, 'E': 0, 'F': 2, 'G': 2, 'H': 1, 'I': 1, 'K': 2, 'L': 3, 'M': 0, 'N': 2, 'P': 1, 'Q': 0, 'R': 3, 'S': 3, 'T': 0, 'V': 1, 'W': 0, 'Y': 2}\n",
      "Amino acids percent =     {'A': 0.037037037037037035, 'C': 0.037037037037037035, 'D': 0.07407407407407407, 'E': 0.0, 'F': 0.07407407407407407, 'G': 0.07407407407407407, 'H': 0.037037037037037035, 'I': 0.037037037037037035, 'K': 0.07407407407407407, 'L': 0.1111111111111111, 'M': 0.0, 'N': 0.07407407407407407, 'P': 0.037037037037037035, 'Q': 0.0, 'R': 0.1111111111111111, 'S': 0.1111111111111111, 'T': 0.0, 'V': 0.037037037037037035, 'W': 0.0, 'Y': 0.07407407407407407}\n",
      "Molecular weight =  [3896.388, 5313.909099999998, 2268.5276000000003, 2240.4102, 2856.2400000000002, 3103.5840000000003, 2945.3948000000005, 3377.7007000000003, 2360.6063, 4677.1971, 2678.9358000000007, 2513.0319, 3893.2216000000008, 3680.1237, 4315.794199999998, 2711.9607, 2738.1290000000004, 2450.6927999999994, 5088.881, 2525.8732999999997, 3749.4319000000014, 2946.325500000001, 2413.8374, 2713.2001, 2561.2950999999994, 3061.6174, 2720.2162999999996, 2554.9822, 3430.8130999999994, 4735.308299999999, 4319.1936, 4574.192099999999, 4147.7319, 2943.4546999999993, 2906.3664999999996, 4475.1031, 5483.274599999999, 2787.2570999999994, 2566.9933, 2474.9024, 3632.3766000000005, 2688.1531999999997, 2487.8816, 4056.4215000000004, 2331.7373000000002, 2294.6045, 2451.0136999999995, 5044.614799999999, 305149.810100002, 4376.034500000001, 2797.1064000000006, 2687.130200000001, 2406.8042, 2940.4027, 2870.1175, 2955.4320000000002, 2462.6573000000003, 4187.7594, 4071.6712000000007, 4689.4609999999975, 4022.585, 32785.399100000046, 9284.872599999993, 2406.8174000000004, 2562.9991, 4130.857499999999, 3567.1269, 7528.714999999998, 13959.220099999982, 2716.378500000001, 4796.7425, 2836.2321000000006, 2361.6130000000003, 3096.5454999999993, 4311.9155999999975, 3569.8807000000015, 4838.4766, 2412.5009999999997, 3157.5622000000003]\n",
      "Aromaticity =  0.14814814814814814\n",
      "Flexibility =  [1.0257738095238096, 1.0074404761904763, 0.9746666666666667, 1.0181785714285714, 1.010535714285714, 0.9929523809523809, 1.0433452380952382, 0.9963452380952381, 1.0326666666666666, 1.009738095238095, 0.9927261904761906, 1.0006666666666668, 1.028, 0.9763571428571428, 0.970107142857143, 0.9975595238095238, 0.9599166666666666, 1.0016309523809526]\n",
      "Isoelectric point =  9.62514591217041\n",
      "Secondary structure fraction =  (0.3333333333333333, 0.2962962962962963, 0.14814814814814814)\n",
      "\n",
      "\n",
      "Protein of Interest =  {'A': 4, 'C': 3, 'D': 0, 'E': 3, 'F': 2, 'G': 1, 'H': 2, 'I': 4, 'K': 2, 'L': 2, 'M': 2, 'N': 3, 'P': 1, 'Q': 0, 'R': 3, 'S': 5, 'T': 4, 'V': 1, 'W': 0, 'Y': 1}\n",
      "Amino acids percent =     {'A': 0.09302325581395349, 'C': 0.06976744186046512, 'D': 0.0, 'E': 0.06976744186046512, 'F': 0.046511627906976744, 'G': 0.023255813953488372, 'H': 0.046511627906976744, 'I': 0.09302325581395349, 'K': 0.046511627906976744, 'L': 0.046511627906976744, 'M': 0.046511627906976744, 'N': 0.06976744186046512, 'P': 0.023255813953488372, 'Q': 0.0, 'R': 0.06976744186046512, 'S': 0.11627906976744186, 'T': 0.09302325581395349, 'V': 0.023255813953488372, 'W': 0.0, 'Y': 0.023255813953488372}\n",
      "Molecular weight =  [3896.388, 5313.909099999998, 2268.5276000000003, 2240.4102, 2856.2400000000002, 3103.5840000000003, 2945.3948000000005, 3377.7007000000003, 2360.6063, 4677.1971, 2678.9358000000007, 2513.0319, 3893.2216000000008, 3680.1237, 4315.794199999998, 2711.9607, 2738.1290000000004, 2450.6927999999994, 5088.881, 2525.8732999999997, 3749.4319000000014, 2946.325500000001, 2413.8374, 2713.2001, 2561.2950999999994, 3061.6174, 2720.2162999999996, 2554.9822, 3430.8130999999994, 4735.308299999999, 4319.1936, 4574.192099999999, 4147.7319, 2943.4546999999993, 2906.3664999999996, 4475.1031, 5483.274599999999, 2787.2570999999994, 2566.9933, 2474.9024, 3632.3766000000005, 2688.1531999999997, 2487.8816, 4056.4215000000004, 2331.7373000000002, 2294.6045, 2451.0136999999995, 5044.614799999999, 305149.810100002, 4376.034500000001, 2797.1064000000006, 2687.130200000001, 2406.8042, 2940.4027, 2870.1175, 2955.4320000000002, 2462.6573000000003, 4187.7594, 4071.6712000000007, 4689.4609999999975, 4022.585, 32785.399100000046, 9284.872599999993, 2406.8174000000004, 2562.9991, 4130.857499999999, 3567.1269, 7528.714999999998, 13959.220099999982, 2716.378500000001, 4796.7425, 2836.2321000000006, 2361.6130000000003, 3096.5454999999993, 4311.9155999999975, 3569.8807000000015, 4838.4766, 2412.5009999999997, 3157.5622000000003, 4832.543699999999]\n",
      "Aromaticity =  0.06976744186046512\n",
      "Flexibility =  [0.9723690476190476, 0.989452380952381, 1.0022857142857144, 0.9779285714285715, 1.0072380952380953, 1.0089285714285714, 1.0192380952380953, 0.9976547619047619, 0.9850714285714287, 1.023261904761905, 0.9562857142857142, 1.0048333333333335, 0.9755476190476192, 1.0140357142857144, 1.0054166666666666, 0.9999404761904762, 1.0205595238095237, 1.030952380952381, 1.001511904761905, 0.9718214285714285, 0.9902857142857142, 0.9782261904761905, 0.9942857142857142, 0.9687857142857143, 0.9647142857142857, 0.9647857142857144, 0.9749404761904763, 0.9660714285714287, 1.010357142857143, 0.9491785714285713, 1.0099761904761906, 0.9699285714285715, 1.019309523809524, 1.001559523809524]\n",
      "Isoelectric point =  8.65766887664795\n",
      "Secondary structure fraction =  (0.23255813953488372, 0.23255813953488372, 0.2558139534883721)\n"
     ]
    }
   ],
   "source": [
    "from __future__ import division\n",
    "poi_list = []\n",
    "MW_list = []\n",
    "from Bio.SeqUtils import ProtParam\n",
    "for record in Proteins[:]:\n",
    "    print(\"\\n\")\n",
    "    X = ProtParam.ProteinAnalysis(str(record))\n",
    "    POI = X.count_amino_acids()\n",
    "    poi_list.append(POI)\n",
    "    MW = X.molecular_weight()\n",
    "    MW_list.append(MW)\n",
    "    print(\"Protein of Interest = \", POI)\n",
    "    print(\"Amino acids percent =    \",str(X.get_amino_acids_percent()))\n",
    "    print(\"Molecular weight = \", MW_list)\n",
    "    print(\"Aromaticity = \", X.aromaticity())\n",
    "    print(\"Flexibility = \", X.flexibility())\n",
    "    print(\"Isoelectric point = \", X.isoelectric_point())\n",
    "    print(\"Secondary structure fraction = \",   X.secondary_structure_fraction())"
   ]
  },
  {
   "cell_type": "code",
   "execution_count": 124,
   "metadata": {},
   "outputs": [
    {
     "data": {
      "text/plain": [
       "<BarContainer object of 20 artists>"
      ]
     },
     "execution_count": 124,
     "metadata": {},
     "output_type": "execute_result"
    },
    {
     "data": {
      "image/png": "[encoded data removed]",
      "text/plain": [
       "<Figure size 720x432 with 1 Axes>"
      ]
     },
     "metadata": {
      "needs_background": "light"
     },
     "output_type": "display_data"
    }
   ],
   "source": [
    "MolecularWeight=pd.DataFrame(data= MW_list,columns= [\"Molecular Weights\"])\n",
    "ProteinsofInterest= poi_list[79]\n",
    "plt.figure(figsize=(10,6));\n",
    "plt.bar(ProteinsofInterest.keys(), list(ProteinsofInterest.values()), align='center')"
   ]
  },
  {
   "cell_type": "code",
   "execution_count": 94,
   "metadata": {},
   "outputs": [],
   "source": [
    "fasta_string = open(\"Peptide_69.fasta\").read()\n",
    "result_handle = NCBIWWW.qblast(\n",
    "\"blastp\",\n",
    "\"nr\", \n",
    "fasta_string, hitlist_size=10,\n",
    ")\n",
    "save_file = open(\"pep69out.xml\", \"w\")\n",
    "\n",
    "save_file.write(result_handle.read())\n",
    "\n",
    "save_file.close()\n",
    "\n",
    "result_handle.close()"
   ]
  },
  {
   "cell_type": "code",
   "execution_count": null,
   "metadata": {},
   "outputs": [],
   "source": [
    "print_full(pro)"
   ]
  },
  {
   "cell_type": "markdown",
   "metadata": {},
   "source": [
    "<i> This collection of protein sequences can then be saved and placed in an excel sheet with the following code: <i>"
   ]
  },
  {
   "cell_type": "markdown",
   "metadata": {},
   "source": [
    "**These sequences can now be matched with online databases (BLAST) to identify the proteins.**"
   ]
  },
  {
   "cell_type": "markdown",
   "metadata": {},
   "source": [
    "To search each peptide each peptide needs to be writtten to a separate file "
   ]
  },
  {
   "cell_type": "code",
   "execution_count": null,
   "metadata": {},
   "outputs": [],
   "source": [
    "Primers=primer3.designPrimers(\n",
    "    {\n",
    "        \"SEQUENCE_ID\": \"COVID-19\",\n",
    "        \"SEQUENCE_TEMPLATE\": str(DNA),\n",
    "        \"SEQUENCE_INCLUDED_REGION\": [36,342]\n",
    "    },\n",
    "    {\n",
    "        'PRIMER_OPT_SIZE': 20,\n",
    "        'PRIMER_INTERNAL_MAX_SELF_END': 8,\n",
    "        'PRIMER_MIN_SIZE': 18,\n",
    "        'PRIMER_MAX_SIZE': 25,\n",
    "        'PRIMER_OPT_TM': 60.0,\n",
    "        'PRIMER_MIN_TM': 57.0,\n",
    "        'PRIMER_MAX_TM': 63.0,\n",
    "        'PRIMER_MIN_GC': 20.0,\n",
    "        'PRIMER_MAX_GC': 80.0,\n",
    "        'PRIMER_MAX_POLY_X': 100,\n",
    "        'PRIMER_SALT_MONOVALENT': 50.0,\n",
    "        'PRIMER_DNA_CONC': 50.0,\n",
    "        'PRIMER_MAX_NS_ACCEPTED': 0,\n",
    "        'PRIMER_MAX_SELF_ANY': 12,\n",
    "        'PRIMER_MAX_SELF_END': 8,\n",
    "        'PRIMER_PAIR_MAX_COMPL_ANY': 12,\n",
    "        'PRIMER_PAIR_MAX_COMPL_END': 8,\n",
    "        'PRIMER_PRODUCT_SIZE_RANGE': [[75,100],[100,125],[125,150],\n",
    "                                      [150,175],[175,200],[200,225]],\n",
    "    })"
   ]
  },
  {
   "cell_type": "code",
   "execution_count": null,
   "metadata": {},
   "outputs": [],
   "source": [
    "Primer = pd.DataFrame(Primers)\n",
    "Primer_Table=Primer[:1] #keep top 1\n",
    "Primer_final= Primer_Table.transpose()"
   ]
  },
  {
   "cell_type": "code",
   "execution_count": null,
   "metadata": {},
   "outputs": [],
   "source": [
    "def print_full(x):\n",
    "    pd.set_option('display.max_rows', len(x))\n",
    "    print(x)\n",
    "    pd.reset_option('display.max_rows')"
   ]
  },
  {
   "cell_type": "code",
   "execution_count": null,
   "metadata": {},
   "outputs": [],
   "source": [
    "print_full(Primer_final)"
   ]
  },
  {
   "cell_type": "code",
   "execution_count": null,
   "metadata": {},
   "outputs": [],
   "source": [
    "Primer_final.to_excel(\"Primers.xlsx\")"
   ]
  },
  {
   "cell_type": "code",
   "execution_count": null,
   "metadata": {},
   "outputs": [],
   "source": []
  },
  {
   "cell_type": "markdown",
   "metadata": {},
   "source": [
    "primers_list is the one which prints all primers. "
   ]
  },
  {
   "cell_type": "code",
   "execution_count": null,
   "metadata": {},
   "outputs": [],
   "source": []
  }
 ],
 "metadata": {
  "kernelspec": {
   "display_name": "Python 3",
   "language": "python",
   "name": "python3"
  },
  "language_info": {
   "codemirror_mode": {
    "name": "ipython",
    "version": 3
   },
   "file_extension": ".py",
   "mimetype": "text/x-python",
   "name": "python",
   "nbconvert_exporter": "python",
   "pygments_lexer": "ipython3",
   "version": "3.8.5"
  }
 },
 "nbformat": 4,
 "nbformat_minor": 4
}
