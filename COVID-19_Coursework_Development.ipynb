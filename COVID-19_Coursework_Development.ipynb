{
 "cells": [
  {
   "cell_type": "markdown",
   "metadata": {},
   "source": [
    "# <u> Utilising Python for Analysis of the SARS-CoV-2 (COVID-19) Sequence. <u>"
   ]
  },
  {
   "cell_type": "markdown",
   "metadata": {},
   "source": [
    "### SARS-CoV-2 (COVID-19) is a single standed RNA virus responsible for the world pandemic currently faced by mankind. Here, Python is used to demonstrate the utility of such coding langauges to further explore DNA sequences with real world applications."
   ]
  },
  {
   "cell_type": "markdown",
   "metadata": {},
   "source": [
    "<i>Firstly, it is important to ensure that the required packages and functions are installed and imported. This is done with the following lines of code: <i>"
   ]
  },
  {
   "cell_type": "code",
   "execution_count": 27,
   "metadata": {},
   "outputs": [
    {
     "name": "stdout",
     "output_type": "stream",
     "text": [
      "Requirement already satisfied: Biopython in c:\\users\\smej20\\anaconda3\\lib\\site-packages (1.78)\n",
      "Requirement already satisfied: numpy in c:\\users\\smej20\\anaconda3\\lib\\site-packages (from Biopython) (1.19.2)\n",
      "Note: you may need to restart the kernel to use updated packages.\n"
     ]
    }
   ],
   "source": [
    "pip install Biopython"
   ]
  },
  {
   "cell_type": "code",
   "execution_count": 28,
   "metadata": {},
   "outputs": [
    {
     "name": "stdout",
     "output_type": "stream",
     "text": [
      "Requirement already satisfied: pandas in c:\\users\\smej20\\anaconda3\\lib\\site-packages (1.1.3)\n",
      "Requirement already satisfied: python-dateutil>=2.7.3 in c:\\users\\smej20\\anaconda3\\lib\\site-packages (from pandas) (2.8.1)\n",
      "Requirement already satisfied: pytz>=2017.2 in c:\\users\\smej20\\anaconda3\\lib\\site-packages (from pandas) (2020.1)\n",
      "Note: you may need to restart the kernel to use updated packages.Requirement already satisfied: numpy>=1.15.4 in c:\\users\\smej20\\anaconda3\\lib\\site-packages (from pandas) (1.19.2)\n",
      "Requirement already satisfied: six>=1.5 in c:\\users\\smej20\\anaconda3\\lib\\site-packages (from python-dateutil>=2.7.3->pandas) (1.15.0)\n",
      "\n"
     ]
    }
   ],
   "source": [
    "pip install pandas"
   ]
  },
  {
   "cell_type": "code",
   "execution_count": 29,
   "metadata": {},
   "outputs": [
    {
     "name": "stdout",
     "output_type": "stream",
     "text": [
      "Requirement already satisfied: primer3-py in c:\\users\\smej20\\anaconda3\\lib\\site-packages (0.6.1)\n",
      "Note: you may need to restart the kernel to use updated packages.\n"
     ]
    }
   ],
   "source": [
    " pip install primer3-py"
   ]
  },
  {
   "cell_type": "code",
   "execution_count": 30,
   "metadata": {},
   "outputs": [],
   "source": [
    "from Bio import SeqIO"
   ]
  },
  {
   "cell_type": "code",
   "execution_count": 31,
   "metadata": {},
   "outputs": [],
   "source": [
    "from Bio.SeqUtils import GC"
   ]
  },
  {
   "cell_type": "code",
   "execution_count": 32,
   "metadata": {},
   "outputs": [],
   "source": [
    "from Bio.SeqRecord import SeqRecord"
   ]
  },
  {
   "cell_type": "code",
   "execution_count": 33,
   "metadata": {},
   "outputs": [],
   "source": [
    "import pandas as pd"
   ]
  },
  {
   "cell_type": "code",
   "execution_count": 34,
   "metadata": {},
   "outputs": [],
   "source": [
    "import primer3"
   ]
  },
  {
   "cell_type": "code",
   "execution_count": 35,
   "metadata": {},
   "outputs": [],
   "source": [
    "from Bio.Blast import NCBIWWW"
   ]
  },
  {
   "cell_type": "markdown",
   "metadata": {},
   "source": [
    " <i> The complete genome assembly was obtained from https://www.nature.com/articles/s41586-020-2008-3 and is freely accessible from NCBI Sequence Read Archive database under the BioProject accession number PRJNA603194. The complete genome sequence of COVID19 in GenBank can be found under the accession number MN908947. <i>"
   ]
  },
  {
   "cell_type": "code",
   "execution_count": 36,
   "metadata": {},
   "outputs": [
    {
     "name": "stdout",
     "output_type": "stream",
     "text": [
      "GenBankId: MN908947.3\n",
      "Size: 29903 nucleotides\n"
     ]
    }
   ],
   "source": [
    "for sequence in SeqIO.parse(\"MN908947.fna\", \"fasta\"):\n",
    "    print('GenBankId: '  + sequence.id + '\\nSize: ' + str(len(sequence))+' nucleotides')"
   ]
  },
  {
   "cell_type": "markdown",
   "metadata": {},
   "source": [
    "<i> This line of code takes a file type, in this case a fasta sequence, and reports the sequence back as a SeqRecord object which can be read by Biopython for further use. For example, the str(len(sequence)) function can be used to take a string as an argument, e.g. the COVID-19 sequence, and return its length. The output states that the sequence length for the genome assembly of COVID-19 is 29,903 nucleotide bases long. <i>"
   ]
  },
  {
   "cell_type": "code",
   "execution_count": 37,
   "metadata": {},
   "outputs": [],
   "source": [
    "DNAseq = SeqIO.read(\"MN908947.fna\", \"fasta\")"
   ]
  },
  {
   "cell_type": "code",
   "execution_count": 38,
   "metadata": {},
   "outputs": [
    {
     "name": "stdout",
     "output_type": "stream",
     "text": [
      "ATTAAAGGTTTATACCTTCCCAGGTAACAAACCAACCAACTTTCGATCTCTTGTAGATCTGTTCTCTAAACGAACTTTAAAATCTGTGTGGCTGTCACTCGGCTGCATGCTTAGTGCACTCACGCAGTATAATTAATAACTAATTACTGTCGTTGACAGGACACGAGTAACTCGTCTATCTTCTGCAGGCTGCTTACGGTTTCGTCCGTGTTGCAGCCGATCATCAGCACATCTAGGTTTCGTCCGGGTGTGACCGAAAGGTAAGATGGAGAGCCTTGTCCCTGGTTTCAACGAGAAAACACACGTCCAACTCAGTTTGCCTGTTTTACAGGTTCGCGACGTGCTCGTACGTGGCTTTGGAGACTCCGTGGAGGAGGTCTTATCAGAGGCACGTCAACATCTTAAAGATGGCACTTGTGGCTTAGTAGAAGTTGAAAAAGGCGTTTTGCCTCAACTTGAACAGCCCTATGTGTTCATCAAACGTTCGGATGCTCGAACTG\n"
     ]
    }
   ],
   "source": [
    "DNA = DNAseq.seq\n",
    "print(DNA[:500])"
   ]
  },
  {
   "cell_type": "markdown",
   "metadata": {},
   "source": [
    "<i> This takes the COVID-19 sequence and creates an object called DNAseq which is read in as a SeqRecord object that can be recognised by Biopython. An object called DNA is then created from just the sequence of DNAseq. The first 500 nucleotides are then printed to view the sequence and ensure it has been read by the software correctly (29,903 nucleotides can be quite lengthy to read!). <i>"
   ]
  },
  {
   "cell_type": "code",
   "execution_count": 39,
   "metadata": {},
   "outputs": [],
   "source": [
    "dna_list = list(DNA)"
   ]
  },
  {
   "cell_type": "markdown",
   "metadata": {},
   "source": [
    "<i> The sequence loaded is initially read a string by Biopython, so in order to count the contents of the sequence assembly, the string must be converted into a list. This is done using the above function. <i>"
   ]
  },
  {
   "cell_type": "markdown",
   "metadata": {},
   "source": [
    "<i> Counting of each respective nucleotide is undertaken using the following code: <i>"
   ]
  },
  {
   "cell_type": "code",
   "execution_count": 40,
   "metadata": {},
   "outputs": [
    {
     "name": "stdout",
     "output_type": "stream",
     "text": [
      "{'A': 8954, 'T': 9594, 'G': 5863, 'C': 5492}\n"
     ]
    }
   ],
   "source": [
    "count_DNA = DNA\n",
    "nucleotides={}\n",
    "for n in count_DNA:\n",
    "    if n in nucleotides:\n",
    "        nucleotides[n] += 1\n",
    "    else:\n",
    "        nucleotides[n] =  1\n",
    "print(nucleotides)\n",
    "\n",
    "\n",
    "n_count = pd.DataFrame(data=nucleotides, index=[0]).T.reset_index()\n",
    "n_count = n_count.rename(columns={0: 'frequency', 'index': 'nucleotides'})\n",
    "n_count = n_count.sort_values(by=['frequency'], ascending=True)"
   ]
  },
  {
   "cell_type": "markdown",
   "metadata": {},
   "source": [
    "<i> A loop is set up to count each nucleotide base (A, T, G and C). When the computer reads either an A, T , G or C from the DNA list, a 1 is added to that specific nucleotide which has been created into a dictonary called nucleotides through the use of '{}'. This allows for a value to be mapped onto each nucleotide base. If the computer does not read that specific nuceleotide then a one is not added and the value remains unchanged. This is done seperately for each nucleotide base until all four have been counted and this is then printed onto the screen to be evaluated. The dictionary nucleotides is then placed into a dataframe to create the graph below. <i>"
   ]
  },
  {
   "cell_type": "code",
   "execution_count": 41,
   "metadata": {},
   "outputs": [
    {
     "data": {
      "image/png": "[encoded data removed]",
      "text/plain": [
       "<Figure size 576x288 with 1 Axes>"
      ]
     },
     "metadata": {
      "needs_background": "light"
     },
     "output_type": "display_data"
    }
   ],
   "source": [
    "import matplotlib.pyplot as plt\n",
    "plt.figure(figsize=(8,4))\n",
    "a= n_count['frequency'].plot.bar(color= ['blue', 'yellow', 'green', 'red'])\n",
    "plt.xticks(rotation=5)\n",
    "plt.ylabel(\"Nucleotide Base Frequency\")\n",
    "r=list(range(len(n_count)))\n",
    "plt.xticks(r, n_count.nucleotides)\n",
    "plt.xlabel(\"Nucleotide Bases\")\n",
    "plt.title(\"Nucleotide Base Content of the SARS-CoV-2 (COVID-19) Sequence\", weight='bold', size=15)\n",
    "plt.show()"
   ]
  },
  {
   "cell_type": "markdown",
   "metadata": {},
   "source": [
    "<i> From the bar chart above, we can say that the %GC content of the SARS-CoV-2 (COVID-19) sequence is less than 50%. To get the percentage of the GC content, the below code can be used. The round function is used to round ther percentage to the nearest whole number. It is important to know the %GC content of a sequence as this is an important consideration for primer design in PCR experiments.  <i>"
   ]
  },
  {
   "cell_type": "code",
   "execution_count": 42,
   "metadata": {},
   "outputs": [
    {
     "name": "stdout",
     "output_type": "stream",
     "text": [
      "The GC content of SARS-CoV-2 (COVID-19) is 38 %\n"
     ]
    }
   ],
   "source": [
    "GC_COVID19=GC(DNA)\n",
    "print (\"The GC content of SARS-CoV-2 (COVID-19) is\", round(GC_COVID19), \"%\") "
   ]
  },
  {
   "cell_type": "markdown",
   "metadata": {},
   "source": [
    "<i> In order to fully explore the SARS-CoV-2 (COVID-19) sequence, the cDNA sequence is converted into mRNA using the .transcribe() function. This will then allow for the mRNA to be translated into its respective amino acids and its protein sequence can be analysed. The first 200 nucleotide bases can then be printed to ensure this has been done correctly. <i>"
   ]
  },
  {
   "cell_type": "code",
   "execution_count": 137,
   "metadata": {},
   "outputs": [],
   "source": [
    "mRNA = DNA.transcribe()"
   ]
  },
  {
   "cell_type": "code",
   "execution_count": 138,
   "metadata": {},
   "outputs": [
    {
     "name": "stdout",
     "output_type": "stream",
     "text": [
      "AUUAAAGGUUUAUACCUUCCCAGGUAACAAACCAACCAACUUUCGAUCUCUUGUAGAUCUGUUCUCUAAACGAACUUUAAAAUCUGUGUGGCUGUCACUCGGCUGCAUGCUUAGUGCACUCACGCAGUAUAAUUAAUAACUAAUUACUGUCGUUGACAGGACACGAGUAACUCGUCUAUCUUCUGCAGGCUGCUUACGGU\n"
     ]
    }
   ],
   "source": [
    "print(mRNA[:200])"
   ]
  },
  {
   "cell_type": "markdown",
   "metadata": {},
   "source": [
    "<i> The cDNA sequence for SARS-CoV-2 (COVID-19) has been correctly converted into mRNA as the thymine (T) base has been swapped for uracil (U) base. The first 200 bases have been printed. <i>"
   ]
  },
  {
   "cell_type": "markdown",
   "metadata": {},
   "source": [
    "<i> One key disadvanatge of this code is that it does not know what kind of modifications are made either to generate mature mRNA or post-translational modifications made to the proteins. This is why when trying to translate the mRNA into its respctive amino acids, an error message occurs, as 29,903 is not a multiple of 3 which is required when translating mRNA into amino acids. <i>"
   ]
  },
  {
   "cell_type": "markdown",
   "metadata": {},
   "source": [
    "<i> However we do know that the Poly(A) tail, which is located at that end of the mRNA sequence and is required for stability of the mRNA, is not translated into proteins, therefore we can remove this using the following line of code: <i>"
   ]
  },
  {
   "cell_type": "code",
   "execution_count": 139,
   "metadata": {},
   "outputs": [],
   "source": [
    "Less_polyA = mRNA.rstrip(\"A\")"
   ]
  },
  {
   "cell_type": "code",
   "execution_count": 140,
   "metadata": {},
   "outputs": [
    {
     "name": "stdout",
     "output_type": "stream",
     "text": [
      "Length of mRNA minus Poly A tail: 29870\n"
     ]
    }
   ],
   "source": [
    "print(\"Length of mRNA minus Poly A tail:\",len(Less_polyA))"
   ]
  },
  {
   "cell_type": "markdown",
   "metadata": {},
   "source": [
    "<i> This removes the poly(A) tails and then prints the number of nucleotide bases once the poly(A) tail has been removed. This results in 29,870 nucleotide bases remaining which is divisble by 3, and therefore no error messages occur when the mRNA sequence minus the poly(A) tail was translated into amino acids. <i>"
   ]
  },
  {
   "cell_type": "code",
   "execution_count": 141,
   "metadata": {},
   "outputs": [],
   "source": [
    "Amino_Acid = Less_polyA.translate()"
   ]
  },
  {
   "cell_type": "code",
   "execution_count": 142,
   "metadata": {},
   "outputs": [
    {
     "name": "stdout",
     "output_type": "stream",
     "text": [
      "Length of Protein: 9956\n",
      "IKGLYLPR*QTNQLSISCRSVL*TNFKICVAVTRLHA*CTHAV*LITNYCR*QDTSNSSIFCRLLTVSSVLQPIISTSRFRPGVTER*DGEPCPWFQRENTRPTQFACFTGSRRARTWLWRLRGGGLIRGTSTS*RWHLWLSRS*KRRFAST*TALCVHQTFGCSNCTSWSCYG*AGSRTRRHSVRS*W*DTWCPCPSCG\n"
     ]
    }
   ],
   "source": [
    "print(\"Length of Protein:\",len(Amino_Acid))\n",
    "print(Amino_Acid[:200])"
   ]
  },
  {
   "cell_type": "markdown",
   "metadata": {},
   "source": [
    "<i> The length of the translated mRNA into amino acids is printed along with the first 200 amino acids in the sequence to ensure that the translation has been done correctly. In order to identify the amino acid sequences for indivdual proteins, the amino acid sequence was split by the '*' which represents a stop codon for that specific protein sequence. This is shown in the line of code bewlow, the first 10 sequences are then printed. <i>"
   ]
  },
  {
   "cell_type": "code",
   "execution_count": 143,
   "metadata": {},
   "outputs": [
    {
     "name": "stdout",
     "output_type": "stream",
     "text": [
      "[Seq('IKGLYLPR'), Seq('QTNQLSISCRSVL'), Seq('TNFKICVAVTRLHA'), Seq('CTHAV'), Seq('LITNYCR'), Seq('QDTSNSSIFCRLLTVSSVLQPIISTSRFRPGVTER'), Seq('DGEPCPWFQRENTRPTQFACFTGSRRARTWLWRLRGGGLIRGTSTS'), Seq('RWHLWLSRS'), Seq('KRRFAST'), Seq('TALCVHQTFGCSNCTSWSCYG')]\n"
     ]
    }
   ],
   "source": [
    "Proteins = Amino_Acid.split('*')\n",
    "print(Proteins[:10])"
   ]
  },
  {
   "cell_type": "markdown",
   "metadata": {},
   "source": [
    "<i> It is well known that the smallest functional proteins are no shorter than 20 amino acids in length, so all amino acid sequences shorter than this are removed. <i>"
   ]
  },
  {
   "cell_type": "code",
   "execution_count": 147,
   "metadata": {},
   "outputs": [],
   "source": [
    "for i in Proteins[:]:\n",
    "    if len(i) < 20:\n",
    "        Proteins.remove(i)"
   ]
  },
  {
   "cell_type": "code",
   "execution_count": 161,
   "metadata": {},
   "outputs": [],
   "source": [
    "for count, item in enumerate(Proteins, 1):\n",
    "    with open(f'Peptide_{count}.fasta', 'w') as f:\n",
    "        f.write(\"%s\\n\" % item)\n"
   ]
  },
  {
   "cell_type": "code",
   "execution_count": 163,
   "metadata": {},
   "outputs": [],
   "source": [
    "from Bio.Blast import NCBIWWW"
   ]
  },
  {
   "cell_type": "code",
   "execution_count": 168,
   "metadata": {},
   "outputs": [],
   "source": [
    "fasta_string = open(\"Peptide_11.fasta\").read()\n",
    "\n",
    "result_handle = NCBIWWW.qblast(\n",
    "\"blastp\",\n",
    "\"nr\",\n",
    "fasta_string,\n",
    ")\n",
    "save_file = open(\"out.xml\", \"w\")\n",
    "\n",
    "save_file.write(result_handle.read())\n",
    "\n",
    "save_file.close()\n",
    "\n",
    "result_handle.close()"
   ]
  },
  {
   "cell_type": "markdown",
   "metadata": {},
   "source": [
    "<i> The resulting data can then be placed in a dataframe to be utilised for further investigation. <i>"
   ]
  },
  {
   "cell_type": "code",
   "execution_count": 129,
   "metadata": {},
   "outputs": [],
   "source": [
    "proteinas=pd.DataFrame(Proteins)\n",
    "proteinas['Amino Acid Sequence'] = proteinas[0].apply(str)\n",
    "proteinas['Protein Length'] = proteinas[0].apply(len)\n",
    "proteinas.rename(columns={0: \"sequence\"}, inplace=True)\n",
    "pro=proteinas.drop('sequence', axis=1)\n",
    "pro= pro.sort_values(by=['Protein Length'], ascending=False)"
   ]
  },
  {
   "cell_type": "code",
   "execution_count": 146,
   "metadata": {},
   "outputs": [
    {
     "name": "stdout",
     "output_type": "stream",
     "text": [
      "                                   Amino Acid Sequence  Protein Length\n",
      "548  CTIVFKRVCGVSAARLTPCGTGTSTDVVYRAFDIYNDKVAGFAKFL...            2701\n",
      "694  ASAQRSQITLHINELMDLFMRIFTIGTVTLKQGEIKDATPSDFVRA...             290\n",
      "719  TNMKIILFLALITLATCELYHYQECVRGTTVLLKEPCSSGTYEGNS...             123\n",
      "695  AQADEYELMYSFVSEETGTLIVNSVLLFLAFVVFLLVTLAILTALR...              83\n",
      "718  QQMFHLVDFQVTIAEILLIIMRTFKVSIWNLDYIINLIIKNLSKSL...              63\n",
      "464     TMLRCYFPKCSEKNNQGYTPLVVTHNFDFTFSFSPEYSMVFVLFFV              46\n",
      "6       DGEPCPWFQRENTRPTQFACFTGSRRARTWLWRLRGGGLIRGTSTS              46\n",
      "771        KSHHIFTEATRSTIECTVNNARESCLYGRALMCKINFSSAIPM              43\n",
      "539        DVVYTHWYWSGNNSYTGSQYGSRILWWCIVLSVLPLPHRSSKS              43\n",
      "758        LQTLAANCTICPQRFSVLRNVAHWHGSHTFGNVVDLHRCHQIG              43\n",
      "674         FLWKGLSSYVLPSVSTSWCSLLACDLCPCTRKELHNCSCHLS              42\n",
      "729          LNCAWMRLVLNHPFSTSISVIIQFPVYLLQLIARNLNWVVL              41\n",
      "242           RNFVLHRRCFTYKVLRIQRSYYGCFLQRKQLHNNHKTSYL              40\n",
      "91             IQRRNWPTHASKSPKRNYLLRGRNTSHRSVNRGSCLENW              39\n",
      "410             CFFFSTYSVDGYVHTFSTFLDNNCLYHLYFHKAFLLVL              38\n",
      "710             CGSATSLLLSDCLRVRVPCGHSIQKLTFFSTCHSMALF              38\n",
      "405             YVYTTNSTYWCFGHISIYSSWWYCSYRSNMPCLLFYEV              38\n",
      "189              NSCYNATWLCNTWLKFGRSCSVYEISQSASYSFCFFT              37\n",
      "657               NDCSIHFCTVSGYNHFWLDLWCRCCITNTICYANGL              36\n",
      "408               YFTIPYVIHCTLFNTSLLILTWCLFCYLLVLDILSY              36\n",
      "746               QCCNRATTSSRNNIAKRLLRRREQRRQSSLFSFLIT              36\n",
      "553               QSFQILSFTFNSGLVLTFLFQCYLVPCYTCLWDQWY              36\n",
      "5                  QDTSNSSIFCRLLTVSSVLQPIISTSRFRPGVTER              35\n",
      "176                NASESFEKSANRQLYNHLPGSGFKWLHCRGGKDSA              35\n",
      "460                HTRTSFCSNWNCRFRYVCFIKRITAKWYEWTYHIG              35\n",
      "690                 AVYKMAMVHLARFYSWLDCHSNGDNYALLYDQLL              34\n",
      "447                 VCSHSTRTDFFSVSLLQWFTIWCLPMCYEAQFHY              34\n",
      "510                 CTQQHYQQCKRWLCSLEHNTSYNSSQTNGCHTRL              34\n",
      "662                 CYWQNSRLTFFHSKCTWKTSRCGQPKCTSFKHAC              34\n",
      "180                   EARNSWNCFLEFARNACTCRRNTQINACLCGN              32\n",
      "757                     SIQCNTSFRQTWSRTNPRKFWGPGTNQTRN              30\n",
      "479                     YTSVYNASLLFLRLFLYLLLWPLLFTQPLL              30\n",
      "296                     TDKYYNLVFTIKCLPRFFNLLNRCFRCFNV              30\n",
      "715                     DAVTSRTCLKKSLLLHHERFLITNWELRSV              30\n",
      "381                      QSLPIDCCSHNKRSGFCRAWFAWHDITHN              29\n",
      "72                        NCSKFCACFTEGRYNNTRWNFTVFTETH              28\n",
      "334                       RIICKISVCLLQSAYVSTYTVTRSGISV              28\n",
      "71                         TEINTESSLCICIRGCSCCTINFLPHS              27\n",
      "766                        LNSGLNSCRPHKADGLYKRFRFSVYDI              27\n",
      "65                           RDRHYFGIFFCFHKCFCGNCERFGL              25\n",
      "743                          NERSQSKMVFLLPRNWARSWTSLWC              25\n",
      "635                           LHRSPCCYSCRSTYSYLACLFYRF              24\n",
      "648                           MQQSFVAIWQFLYTIKPCFNWNSC              24\n",
      "205                           PPHASCGHVNDIWTTVWSNLFGWS              24\n",
      "455                           CFSLVVRCCYKWRQVVSQSIYHNS              24\n",
      "485                           NVRCKVHISSLTLSFATTQSRIII              24\n",
      "39                            HLQWGMSKFCISLKFHNQDYSTKG              24\n",
      "452                           LCLFLLHAPYGITNWSSCWHRLRR              24\n",
      "723                           LCLLSFGSHLNCKIIMKLVTPKRT              24\n",
      "703                            VSYSLHGFVFYNLPMPTGIGFCI              23\n",
      "302                            VFLCTWIGCNHAIVFQLFCSTFY              23\n",
      "235                            TSYKISSTTGVTFCYDVSTTCSV              23\n",
      "471                            AKRLCYVCISCSVTNPYDSKNCV              23\n",
      "646                            CYHRNSTSVYDQDISRLYNVHLW              23\n",
      "342                            TCKECVLRQCLIYFYFSSSARVC              23\n",
      "465                            KCLFTFCYGYYCYVCFCNDVCQT              23\n",
      "764                            NSSLTAETEETANCDSSSCCRFG              23\n",
      "230                            RNNELLVSTCQFRFLQKSLERGV              23\n",
      "369                             SYTCVPFCCCYFLFNNTCSCHV              22\n",
      "306                             NVHLLCIILLCMEKLCACCRRL              22\n",
      "735                             WTPKSAKCTPHYVWWTLRFNWQ              22\n",
      "490                             KNGFTTFCFAFHAGCCRHKQAL              22\n",
      "12                              DTWCPCPSCGRNTSGLPQGSSS              22\n",
      "700                             PWQIPTVLLPLKSLKSSLNNGT              22\n",
      "588                             PSLRNKVYVEILHCRKRNLSNF              22\n",
      "75                               QSSCNGLHYRWCCSVDFAVAN              21\n",
      "153                              PYTFFKSLCRYCSHKCLLSCL              21\n",
      "560                              HNKRLDFWYYFRFEDPVPTYC              21\n",
      "649                              TRQKHPRSFCTSQTNLQNTTN              21\n",
      "97                               YDGNKQYLHTQRRCTNKGYFW              21\n",
      "300                              WFRFFRHLSFFRNYTNYHFIF              21\n",
      "9                                TALCVHQTFGCSNCTSWSCYG              21\n",
      "535                              CNRSACQFNCIIFLCFCCRCC              21\n",
      "477                               LLRCSYNCHVFGQRYCFYVC              20\n",
      "301                               MGFNCFWLSCRVVFGIYSFH              20\n",
      "519                               FSMASYCNSFKGQFCCQITE              20\n",
      "513                               WYNIYLCISIVGNPTGCRCR              20\n",
      "594                               RHQICICLCLEQEENQQLCC              20\n",
      "736                               PEWRTQWGAIKTTSAPRFTQ              20\n",
      "275                               FKNYRRGWPHRSNGCLCRQF              20\n",
      "522                                SCCTTTDVLCCRYYTNCLH              19\n",
      "633                                HYTMFFWWCQCYNTRNKYF              19\n",
      "404                                LLQIFTRSFLWCRCCKFTY              19\n",
      "643                                SIHHCLHYVTWCRKFSCLL              19\n",
      "427                                CSLPTTTNLYHLSCFAEWF              19\n",
      "584                                FFFRLDSWCCSLLCGLSST              19\n",
      "652                                RSTFQQSDTCRCWLHQTIW              19\n",
      "222                                 QLLSCHCIVNTPTNRVEV              18\n",
      "466                                 ACISLFVFVTFSCHCSLF              18\n",
      "297                                 FRHAFLLYWLQRRLFELY              18\n",
      "726                                 LHFTKNVVYSHVLNINHM              18\n",
      "670                                 VDHRQTSKFADICDSTIN              18\n",
      "96                                  RAYVARNQRHRKVLCPCT              18\n",
      "580                                 SPSGFFGFRTIGRFANRY              18\n",
      "716                                 QVTQVLLHTVATGLATIN              18\n",
      "54                                  GWSHYCLWRLCVLLCWLP              18\n",
      "626                                 KQMCQFQLQWFNRHRCSY              18\n",
      "676                                 RCLCFKWHTLVCNTKEFL              18\n",
      "108                                  VRLCCGRCCHKNFATSI              17\n",
      "484                                  IVGCWWQTLYQSSHCTV              17\n",
      "152                                  SARSSTCTIIISWYFWC              17\n",
      "567                                  SIFGCLLPQKQQKLDGK              17\n",
      "717                                  TQTIPVAVTILLCLYSK              17\n",
      "651                                  FFTNITRSIKTKQEVIY              17\n",
      "476                                  CFRSSHFHVGSYNLCYF              17\n",
      "737                                   YCVLVHRSHSTWQGRP              16\n",
      "491                                   RNAGQQGNLTSYSLRV              16\n",
      "130                                   GSTSIRDGTYTSCSDY              16\n",
      "745                                   GSLEYTKRSHWHPQSC              16\n",
      "288                                   LYALFLYFIATIVYFY              16\n",
      "727                                   LMTRVLFTSILNGILE              16\n",
      "195                                   RLVLFWTIYTTRYRIS              16\n",
      "441                                    CSTQGYWTFYAKLCT              15\n",
      "341                                    RTNGKTQNTSCNCRS              15\n",
      "545                                    KHSLYRLRYVERLWL              15\n",
      "48                                     RRCHYLWLLTPKCCC              15\n",
      "525                                    VCTCTVIRFTGFEMG              15\n",
      "280                                    SIRFENPCYSWFSCC              15\n",
      "741                                    PNWLLPKSYQTNSWW              15\n",
      "454                                    QANSTSSWYGHNYYS              15\n",
      "266                                    TKYLVYTLSLEHKTS              15\n",
      "492                                    FPSIICSFCYCSRSL              15\n",
      "356                                    CAGSKKSQHCFDMER              15\n",
      "770                                    SHIAIFNQCVTLGRT              15\n",
      "99                                     HCDRSARLQECEYHF              15\n",
      "424                                     LQRSCLLSSRKGSQ              14\n",
      "90                                      NICHALKGIVQKVC              14\n",
      "622                                     WCWLPTIQSSSTFF              14\n",
      "549                                     TNNVCFSCFIATSL              14\n",
      "2                                       TNFKICVAVTRLHA              14\n",
      "393                                     HTLCAHGWLYYSIS              14\n",
      "708                                     IGSPVELLSQWLVL              14\n",
      "223                                     STCSTRCLLQSKGW              14\n",
      "628                                     QKVSAFPTIWQRHC              14\n",
      "174                                     CCSRGCFNCCGYTY              14\n",
      "691                                     LSQGLLFLWILLQI              14\n",
      "759                                      QRSKFQRSSHFAE              13\n",
      "1                                        QTNQLSISCRSVL              13\n",
      "61                                       NTPKRESQHQYCW              13\n",
      "528                                      WNWYYLYRTGTTL              13\n",
      "247                                      SCTKPTISKRKLR              13\n",
      "621                                      LLLSFTIIWFPTH              13\n",
      "677                                      TTNHYYRQHICVW              13\n",
      "173                                      HHFLKERCSIYSG              13\n",
      "298                                      CHYCNLLYWFYTL              13\n",
      "232                                      GCRSCYVHGHTFL              13\n",
      "270                                      RSSGKSYHTERRS              13\n",
      "115                                      IGFTYVLFFLPSR              13\n",
      "430                                      GLYGTSNLWYNYT              13\n",
      "83                                       NCRWTNCHLCKGN              13\n",
      "603                                      SQTNRSRANWKDC              13\n",
      "474                                      ESVDTYECLDTRL              13\n",
      "49                                       NLLSSMSQFRSRT              13\n",
      "124                                      TFGIWCHFCCSST              13\n",
      "10                                        AGSRTRRHSVRS              12\n",
      "482                                       IYEFTGTTPTQE              12\n",
      "468                                       LGDAYYDMVGYG              12\n",
      "272                                       CENYRSCRRHYT              12\n",
      "765                                       FLQTIATIHEQC              12\n",
      "636                                       CFSNTCRLFNRG              12\n",
      "291                                       SIYADYYSKEYC              12\n",
      "43                                        MQPNVPFNSHEV              12\n",
      "386                                       HLLHTIKTYRVH              12\n",
      "58                                        PYRCCWRRFRRS              12\n",
      "714                                       SFVDIFVLLDTI              12\n",
      "587                                       KWNHYRCCRLCT              12\n",
      "673                                       NVRVCTWTIKKS              12\n",
      "747                                       SQQFKKFNSRQQ              12\n",
      "323                                       CYSEEWFHPSLL              12\n",
      "551                                       SYNQNSITPCIH              12\n",
      "433                                       RSLLSKTCDLHL              12\n",
      "524                                       QCVSLLQHNKGR              12\n",
      "29                                        SFMHFVRTTGLY              12\n",
      "203                                        DTSFFERSEDY              11\n",
      "313                                        RLLQTTQLELC              11\n",
      "246                                        ERQFLFHRATN              11\n",
      "305                                        SCTNGPDFSYG              11\n",
      "287                                        HSYTVFKPCLY              11\n",
      "129                                        GQSDNYYSNNC              11\n",
      "268                                        CTEVRGRAGNG              11\n",
      "178                                        KCLLHSTIYYL              11\n",
      "679                                        CCNRNCQQHSL              11\n",
      "170                                        WQSSSRFCHSC              11\n",
      "623                                        TSTCTSNCLWT              11\n",
      "42                                         NSICLSSCVTK              11\n",
      "689                                        ISHRSPRTWKV              11\n",
      "656                                        RPYCFATFAHR              11\n",
      "664                                        LQFWCNFKCFK              11\n",
      "156                                        QTCFKLFGNEE              11\n",
      "607                                         FYRLRYSLEF              10\n",
      "391                                         YQCTRRFCCL              10\n",
      "95                                          SSIGWYTSLY              10\n",
      "659                                         WYWSYTECSL              10\n",
      "234                                         ERCSDTLYVW              10\n",
      "309                                         SNKSRMYNYC              10\n",
      "128                                         STNCWSTRRQ              10\n",
      "686                                         CFSCKHSKRN              10\n",
      "307                                         FINLYDVLQT              10\n",
      "707                                         LVLCLLLFTE              10\n",
      "753                                         RPTTTRPNCH              10\n",
      "761                                         RIQNIPTNRA              10\n",
      "269                                         SCLRRSKTSL              10\n",
      "400                                         KIRSWCLCIY              10\n",
      "645                                         LYCHTHKFYY              10\n",
      "387                                         LCNISLCFGC              10\n",
      "534                                         FSCHSTSTSW              10\n",
      "147                                         TLSSCCRPKC              10\n",
      "168                                         VPHRKLVTLY              10\n",
      "507                                         CYADNAFHYA              10\n",
      "415                                         RSCAVHLFVK              10\n",
      "571                                         ICLSAFSYGP              10\n",
      "486                                         IVGSMCPVTQ              10\n",
      "547                                         STPRTHASVS              10\n",
      "187                                         NNCSVTYQHT              10\n",
      "138                                         TWRRCCRSLK              10\n",
      "45                                           NFMADGRFC               9\n",
      "497                                          KVEEVFECG               9\n",
      "55                                           QVCLLGSTC               9\n",
      "730                                          CVVRSMKTF               9\n",
      "243                                          IGWCCLYRN               9\n",
      "146                                          LCFKRTQSC               9\n",
      "738                                          IPSRTRRSN               9\n",
      "744                                          QRRHHMGCN               9\n",
      "24                                           RRGIHSLCR               9\n",
      "167                                          RSYNNSGRN               9\n",
      "756                                          EASAKTYCH               9\n",
      "767                                          STLVQNEFS               9\n",
      "7                                            RWHLWLSRS               9\n",
      "681                                          IRLIQGGVR               9\n",
      "231                                          NLWTTADNP               9\n",
      "552                                          FFHTWCLLP               9\n",
      "639                                          HTHWCRYMR               9\n",
      "319                                          SCERLVTTV               9\n",
      "634                                          PGCCSLSGC               9\n",
      "225                                          LLCTYLSLL               9\n",
      "125                                          RRARRRLVR               9\n",
      "660                                          EPKIDCQPI               9\n",
      "542                                          VCTNTYNLC               9\n",
      "111                                          VEYGYILLI               9\n",
      "374                                          HSIYRYLFC               9\n",
      "478                                          VLPYFLHNW               9\n",
      "750                                           CCSCFAAA               8\n",
      "418                                           CAITSYAI               8\n",
      "671                                           SCRNQSFC               8\n",
      "600                                           CLCRFICN               8\n",
      "592                                           YYKLVPFW               8\n",
      "768                                           LHSTSRCS               8\n",
      "481                                           LLSFYTGV               8\n",
      "590                                           SPTNRIYC               8\n",
      "483                                           HRCLQTQH               8\n",
      "731                                           SIMTFVLF               8\n",
      "582                                           VSNFTCFT               8\n",
      "364                                           CCNNKDST               8\n",
      "655                                           RPHLCTKV               8\n",
      "304                                           FLAYVVNN               8\n",
      "705                                           FSSGCYGQ               8\n",
      "458                                           PCGYEVQL               8\n",
      "326                                           KTFSLSFC               8\n",
      "412                                           LPKETCSL               8\n",
      "0                                             IKGLYLPR               8\n",
      "194                                           NHLTCWFL               8\n",
      "19                                            RFSRKLEH               8\n",
      "92                                            FTTIRTTY               8\n",
      "34                                            NCLVHGTF               8\n",
      "136                                           KGKTNSGC               8\n",
      "204                                           GVYNSRQH               8\n",
      "53                                            IWLENHSS               8\n",
      "135                                           KCRHCGRS               8\n",
      "181                                           SHSFNYTA               8\n",
      "46                                            SHLRILWH               8\n",
      "16                                            LRRRSKVI               8\n",
      "218                                           VHVSIKSH               8\n",
      "200                                           SYHIPPRW               8\n",
      "311                                            KVLLCLC               7\n",
      "721                                            LTSICAF               7\n",
      "191                                            WLSYFFF               7\n",
      "84                                             GECSDIL               7\n",
      "722                                            PFCYSLF               7\n",
      "237                                            AWYIYLC               7\n",
      "459                                            TSNTRPC               7\n",
      "109                                            ITYTTGH               7\n",
      "82                                             IYLNLCL               7\n",
      "558                                            WCLFCFH               7\n",
      "372                                            NHRIQGY               7\n",
      "428                                            KNGIPIW               7\n",
      "106                                            EVLCLYS               7\n",
      "683                                            ESYITRC               7\n",
      "70                                             KRCLEYW               7\n",
      "416                                            RNVSKVA               7\n",
      "596                                            FRIIFHF               7\n",
      "597                                            VLWSVSY               7\n",
      "407                                            IQSCSCL               7\n",
      "675                                            WKSTLSS               7\n",
      "219                                            KVEIPTS               7\n",
      "728                                            ELENQHL               7\n",
      "358                                            TTTKTNT               7\n",
      "282                                            CPLGYYS               7\n",
      "28                                             RPSSTCW               7\n",
      "87                                             LYHYWWS               7\n",
      "17                                             LRRRAWH               7\n",
      "732                                            ISSKRTN               7\n",
      "531                                            SEVFILY               7\n",
      "762                                            KGQKEEG               7\n",
      "506                                            GQEGKSY               7\n",
      "253                                            FKPVNWL               7\n",
      "8                                              KRRFAST               7\n",
      "4                                              LITNYCR               7\n",
      "536                                            SLQRLSS               7\n",
      "254                                            ETCFKRA               7\n",
      "503                                            SSYDPNV               7\n",
      "31                                             EGCILLP               7\n",
      "293                                            ILSRGFI               7\n",
      "362                                             VDMCNY               6\n",
      "210                                             NILCFT               6\n",
      "688                                             GCQEFK               6\n",
      "357                                             RFHVIV               6\n",
      "262                                             TYCLAC               6\n",
      "107                                             TRYRSK               6\n",
      "69                                              SYKRKS               6\n",
      "529                                             VCYRHT               6\n",
      "390                                             ASTILL               6\n",
      "77                                              KTQTRP               6\n",
      "383                                             LFAFLT               6\n",
      "340                                             YVFINF               6\n",
      "76                                              HLWHCL               6\n",
      "641                                             FSSAGT               6\n",
      "259                                             TLHTLF               6\n",
      "80                                              GRCRVS               6\n",
      "73                                              CYDVHI               6\n",
      "423                                             WSNGYN               6\n",
      "347                                             HRSYWR               6\n",
      "184                                             NTRGCG               6\n",
      "327                                             LRQPES               6\n",
      "66                                              SIQTNC               6\n",
      "585                                             DFSIKI               6\n",
      "186                                             ILLLHQ               6\n",
      "467                                             YGLYAC               6\n",
      "137                                             CSQCLP               6\n",
      "86                                              IFGFVC               6\n",
      "240                                             LPVWSL               6\n",
      "637                                             TCQQLI               6\n",
      "544                                             PCGFYT               6\n",
      "537                                             WGTTNH               6\n",
      "175                                             KGWWHY               6\n",
      "480                                             TDSWCL               6\n",
      "453                                             LLWTFC               6\n",
      "749                                             NGWQWR               6\n",
      "133                                             WLFKTY               6\n",
      "368                                             LVEAVN               6\n",
      "532                                             RIKQPK               6\n",
      "320                                             KTNKSY               6\n",
      "321                                             PVFLHR               6\n",
      "166                                             ENQSLC               6\n",
      "81                                              RRLGNC               6\n",
      "325                                             SWSKDL               6\n",
      "698                                             FFCLEL               6\n",
      "583                                             KLFDSW               6\n",
      "440                                             FLGTGW               6\n",
      "640                                              LSDSD               5\n",
      "774                                              LLRRM               5\n",
      "396                                              SGNNF               5\n",
      "190                                              CCYSV               5\n",
      "501                                              CSHAT               5\n",
      "518                                              YGQFT               5\n",
      "149                                              RHSTS               5\n",
      "164                                              TEKTR               5\n",
      "533                                              RYGTW               5\n",
      "140                                              QCHAS               5\n",
      "461                                              CFIRR               5\n",
      "556                                              PCPTI               5\n",
      "617                                              NLSGR               5\n",
      "568                                              VQSLF               5\n",
      "437                                              RFTHS               5\n",
      "198                                              KCILH               5\n",
      "120                                              AINSI               5\n",
      "420                                              ILSSL               5\n",
      "595                                              LFCPI               5\n",
      "616                                              ERYFN               5\n",
      "650                                              RFWWF               5\n",
      "215                                              VLPHN               5\n",
      "502                                              VGKDG               5\n",
      "294                                              LFEVT               5\n",
      "725                                              ESSQL               5\n",
      "353                                              PWCLY               5\n",
      "352                                              KHDTP               5\n",
      "350                                              LYAHL               5\n",
      "315                                              YILCW               5\n",
      "330                                              RFIAY               5\n",
      "36                                               IADTF               5\n",
      "751                                              QIEPA               5\n",
      "245                                              VGQLL               5\n",
      "346                                              IVTSI               5\n",
      "38                                               IGKEI               5\n",
      "343                                              FRCRN               5\n",
      "220                                              WFNFY               5\n",
      "724                                              NFLFS               5\n",
      "748                                              GNFSC               5\n",
      "25                                               QLLWP               5\n",
      "752                                              EQNVW               5\n",
      "21                                               QWCYP               5\n",
      "3                                                CTHAV               5\n",
      "267                                              NIKFV               5\n",
      "373                                              WWCHS               5\n",
      "665                                              YPFTS               5\n",
      "89                                               SLEFR               5\n",
      "337                                              CGSCS               5\n",
      "15                                               RSWWP               5\n",
      "51                                               SCRIP               5\n",
      "255                                              SYIFP               5\n",
      "193                                               RTFY               4\n",
      "134                                               QCIH               4\n",
      "565                                               ISIL               4\n",
      "712                                               KVNS               4\n",
      "444                                               YSQS               4\n",
      "449                                               WFMW               4\n",
      "711                                               PDRF               4\n",
      "41                                                WLYG               4\n",
      "448                                               GFIP               4\n",
      "720                                               LNFH               4\n",
      "470                                               FVWF               4\n",
      "40                                                KEKA               4\n",
      "754                                               EICC               4\n",
      "158                                               TKDR               4\n",
      "515                                               NCST               4\n",
      "493                                               AGCC               4\n",
      "161                                               AIYN               4\n",
      "257                                               CGGY               4\n",
      "487                                               HSLS               4\n",
      "26                                                WLPS               4\n",
      "241                                               TYNF               4\n",
      "475                                               SLLW               4\n",
      "251                                               YQIC               4\n",
      "289                                               KYKF               4\n",
      "143                                               LHSY               4\n",
      "573                                               FQKS               4\n",
      "462                                               IYTF               4\n",
      "572                                               RKTG               4\n",
      "378                                               PAWW               4\n",
      "207                                               NKTS               4\n",
      "331                                               CYSF               4\n",
      "399                                               ARHL               4\n",
      "406                                               KSFW               4\n",
      "574                                               GICV               4\n",
      "355                                               CASY               4\n",
      "672                                               SCCY               4\n",
      "599                                               SLLY               4\n",
      "413                                               WCFL               4\n",
      "680                                               SFAT               4\n",
      "685                                               HLWH               4\n",
      "392                                               KFTP               4\n",
      "201                                               SYHL               4\n",
      "119                                               RRRV               4\n",
      "422                                               VQVF               4\n",
      "631                                               STDT               4\n",
      "615                                               SQTF               4\n",
      "431                                               RSLA               4\n",
      "389                                               RCFW               4\n",
      "388                                               MYNF               4\n",
      "213                                               HSTC               4\n",
      "578                                               AHAY               4\n",
      "653                                                LPW               3\n",
      "145                                                SGW               3\n",
      "654                                                YCC               3\n",
      "618                                                HTL               3\n",
      "22                                                 THA               3\n",
      "624                                                KVY               3\n",
      "85                                                 ACK               3\n",
      "668                                                SAN               3\n",
      "79                                                 REV               3\n",
      "150                                                ECL               3\n",
      "508                                                KVG               3\n",
      "157                                                KAS               3\n",
      "512                                                KYV               3\n",
      "155                                                KSL               3\n",
      "261                                                IVT               3\n",
      "144                                                WTT               3\n",
      "630                                                CCP               3\n",
      "57                                                 HRL               3\n",
      "612                                                LPV               3\n",
      "121                                                VWY               3\n",
      "576                                                WLF               3\n",
      "577                                                NIF               3\n",
      "579                                                FSA               3\n",
      "563                                                CCY               3\n",
      "713                                                SEL               3\n",
      "60                                                 QPS               3\n",
      "697                                                ILY               3\n",
      "693                                                RRL               3\n",
      "123                                                LPR               3\n",
      "47                                                 EFD               3\n",
      "44                                                 SLW               3\n",
      "610                                                GWW               3\n",
      "67                                                 ILW               3\n",
      "687                                                PPQ               3\n",
      "550                                                SVC               3\n",
      "117                                                RRR               3\n",
      "35                                                 KEL               3\n",
      "606                                                ITR               3\n",
      "740                                                QSR               3\n",
      "541                                                LKR               3\n",
      "540                                                RIL               3\n",
      "74                                                 FGY               3\n",
      "570                                                LHF               3\n",
      "260                                                ERS               3\n",
      "188                                                RSK               3\n",
      "426                                                LRF               3\n",
      "249                                                VCM               3\n",
      "299                                                CLS               3\n",
      "239                                                VHW               3\n",
      "395                                                RFC               3\n",
      "316                                                YIY               3\n",
      "394                                                HLP               3\n",
      "227                                                DSR               3\n",
      "333                                                IKM               3\n",
      "434                                                RHA               3\n",
      "385                                                CSW               3\n",
      "339                                                CLR               3\n",
      "185                                                LWC               3\n",
      "221                                                MGR               3\n",
      "344                                                RCC               3\n",
      "377                                                HMV               3\n",
      "451                                                HRL               3\n",
      "375                                                QTC               3\n",
      "450                                                CWF               3\n",
      "361                                                LTF               3\n",
      "363                                                TSC               3\n",
      "371                                                LFK               3\n",
      "163                                                TFS               3\n",
      "217                                                FSG               3\n",
      "256                                                LKW               3\n",
      "488                                                RYY               3\n",
      "263                                                QCN               3\n",
      "265                                                SHV               3\n",
      "276                                                SYY               3\n",
      "286                                                YNY               3\n",
      "285                                                QSC               3\n",
      "284                                                AFS               3\n",
      "292                                                ECR               3\n",
      "160                                                RGS               3\n",
      "273                                                TSK               3\n",
      "496                                                SCS               3\n",
      "402                                                MGT               3\n",
      "379                                                 LY               2\n",
      "94                                                  SC               2\n",
      "113                                                 VW               2\n",
      "608                                                 QS               2\n",
      "208                                                 FT               2\n",
      "206                                                 CY               2\n",
      "370                                                 TY               2\n",
      "647                                                 FN               2\n",
      "614                                                 EV               2\n",
      "642                                                 CS               2\n",
      "613                                                 IV               2\n",
      "384                                                 SF               2\n",
      "104                                                 ST               2\n",
      "214                                                 GF               2\n",
      "398                                                 VL               2\n",
      "632                                                 DS               2\n",
      "629                                                 HY               2\n",
      "619                                                 WC               2\n",
      "663                                                 TT               2\n",
      "110                                                 FR               2\n",
      "620                                                 RF               2\n",
      "625                                                 FG               2\n",
      "504                                                 TG               2\n",
      "366                                                 NC               2\n",
      "365                                                 GW               2\n",
      "13                                                  ER               2\n",
      "760                                                 AY               2\n",
      "18                                                  SL               2\n",
      "755                                                 GF               2\n",
      "277                                                 ET               2\n",
      "279                                                 II               2\n",
      "283                                                 LC               2\n",
      "27                                                  VH               2\n",
      "739                                                 HQ               2\n",
      "733                                                 NV               2\n",
      "295                                                 FF               2\n",
      "233                                                 TI               2\n",
      "310                                                 WC               2\n",
      "312                                                 WR               2\n",
      "228                                                 VR               2\n",
      "704                                                 LS               2\n",
      "696                                                 TN               2\n",
      "224                                                 SC               2\n",
      "335                                                 CW               2\n",
      "338                                                 NV               2\n",
      "684                                                 FR               2\n",
      "682                                                 IF               2\n",
      "414                                                 YF               2\n",
      "345                                                 MS               2\n",
      "351                                                 QS               2\n",
      "78                                                  LA               2\n",
      "359                                                 CC               2\n",
      "360                                                 KE               2\n",
      "666                                                 QS               2\n",
      "598                                                 IK               2\n",
      "102                                                 KD               2\n",
      "202                                                 QS               2\n",
      "575                                                 EY               2\n",
      "148                                                 QR               2\n",
      "581                                                 HH               2\n",
      "196                                                 ER               2\n",
      "526                                                 IP               2\n",
      "569                                                 CE               2\n",
      "489                                                 SL               2\n",
      "131                                                 SE               2\n",
      "473                                                 WC               2\n",
      "425                                                 LQ               2\n",
      "151                                                 KF               2\n",
      "554                                                 EV               2\n",
      "183                                                 GY               2\n",
      "591                                                 IS               2\n",
      "139                                                 GY               2\n",
      "564                                                 SL               2\n",
      "559                                                 EV               2\n",
      "192                                                 NT               2\n",
      "538                                                 LC               2\n",
      "177                                                 KV               2\n",
      "562                                                 RY               2\n",
      "445                                                 DT               2\n",
      "159                                                 DS               2\n",
      "511                                                 HI               2\n",
      "593                                                 SF               2\n",
      "463                                                 CC               2\n",
      "530                                                 RS               2\n",
      "62                                                   L               1\n",
      "182                                                  I               1\n",
      "699                                                  F               1\n",
      "56                                                   R               1\n",
      "706                                                  L               1\n",
      "469                                                  Y               1\n",
      "63                                                   T               1\n",
      "329                                                  H               1\n",
      "332                                                  W               1\n",
      "68                                                   F               1\n",
      "141                                                  I               1\n",
      "546                                                  L               1\n",
      "457                                                  L               1\n",
      "678                                                  L               1\n",
      "348                                                  L               1\n",
      "709                                                  A               1\n",
      "236                                                  T               1\n",
      "50                                                   A               1\n",
      "23                                                   A               1\n",
      "772                                                  F               1\n",
      "500                                                  P               1\n",
      "769                                                  L               1\n",
      "499                                                  I               1\n",
      "11                                                   W               1\n",
      "498                                                  I               1\n",
      "258                                                  L               1\n",
      "271                                                  V               1\n",
      "495                                                  F               1\n",
      "20                                                   T               1\n",
      "494                                                  W               1\n",
      "162                                                  K               1\n",
      "521                                                  A               1\n",
      "314                                                  L               1\n",
      "742                                                  R               1\n",
      "30                                                   H               1\n",
      "290                                                  N               1\n",
      "32                                                   T               1\n",
      "33                                                   A               1\n",
      "527                                                  E               1\n",
      "248                                                  F               1\n",
      "37                                                   N               1\n",
      "244                                                  P               1\n",
      "169                                                  H               1\n",
      "172                                                  H               1\n",
      "229                                                  C               1\n",
      "354                                                  L               1\n",
      "517                                                  N               1\n",
      "209                                                  R               1\n",
      "401                                                  W               1\n",
      "376                                                  F               1\n",
      "114                                                  V               1\n",
      "118                                                  L               1\n",
      "609                                                  F               1\n",
      "611                                                  L               1\n",
      "439                                                  S               1\n",
      "122                                                  R               1\n",
      "627                                                  V               1\n",
      "638                                                  V               1\n",
      "505                                                  I               1\n",
      "100                                                  T               1\n",
      "403                                                  Q               1\n",
      "436                                                  L               1\n",
      "382                                                  W               1\n",
      "438                                                  V               1\n",
      "435                                                  P               1\n",
      "442                                                  A               1\n",
      "116                                                  G               1\n",
      "443                                                  G               1\n",
      "429                                                  S               1\n",
      "446                                                  V               1\n",
      "667                                                  G               1\n",
      "601                                                  R               1\n",
      "397                                                  F               1\n",
      "88                                                   T               1\n",
      "589                                                  L               1\n",
      "604                                                  L               1\n",
      "658                                                  V               1\n",
      "605                                                  L               1\n",
      "132                                                  F               1\n",
      "216                                                  S               1\n",
      "252                                                                  0\n",
      "523                                                                  0\n",
      "250                                                                  0\n",
      "199                                                                  0\n",
      "112                                                                  0\n",
      "126                                                                  0\n",
      "586                                                                  0\n",
      "555                                                                  0\n",
      "421                                                                  0\n",
      "520                                                                  0\n",
      "773                                                                  0\n",
      "417                                                                  0\n",
      "264                                                                  0\n",
      "602                                                                  0\n",
      "14                                                                   0\n",
      "409                                                                  0\n",
      "763                                                                  0\n",
      "509                                                                  0\n",
      "274                                                                  0\n",
      "514                                                                  0\n",
      "419                                                                  0\n",
      "516                                                                  0\n",
      "278                                                                  0\n",
      "281                                                                  0\n",
      "154                                                                  0\n",
      "734                                                                  0\n",
      "238                                                                  0\n",
      "127                                                                  0\n",
      "142                                                                  0\n",
      "702                                                                  0\n",
      "701                                                                  0\n",
      "93                                                                   0\n",
      "226                                                                  0\n",
      "328                                                                  0\n",
      "380                                                                  0\n",
      "64                                                                   0\n",
      "692                                                                  0\n",
      "543                                                                  0\n",
      "211                                                                  0\n",
      "411                                                                  0\n",
      "566                                                                  0\n",
      "661                                                                  0\n",
      "367                                                                  0\n",
      "561                                                                  0\n",
      "456                                                                  0\n",
      "349                                                                  0\n",
      "669                                                                  0\n",
      "324                                                                  0\n",
      "472                                                                  0\n",
      "59                                                                   0\n",
      "98                                                                   0\n",
      "212                                                                  0\n",
      "432                                                                  0\n",
      "165                                                                  0\n",
      "197                                                                  0\n",
      "303                                                                  0\n",
      "105                                                                  0\n",
      "557                                                                  0\n",
      "308                                                                  0\n",
      "171                                                                  0\n",
      "103                                                                  0\n",
      "179                                                                  0\n",
      "52                                                                   0\n",
      "317                                                                  0\n",
      "318                                                                  0\n",
      "322                                                                  0\n",
      "101                                                                  0\n",
      "644                                                                  0\n",
      "336                                                                  0\n"
     ]
    }
   ],
   "source": [
    "print_full(pro)"
   ]
  },
  {
   "cell_type": "markdown",
   "metadata": {},
   "source": [
    "<i> This collection of protein sequences can then be saved and placed in an excel sheet with the following code: <i>"
   ]
  },
  {
   "cell_type": "code",
   "execution_count": null,
   "metadata": {},
   "outputs": [],
   "source": [
    "pro.to_excel(\"Covid19_Protein_Sequence.xlsx\")"
   ]
  },
  {
   "cell_type": "markdown",
   "metadata": {},
   "source": [
    "**These sequences can now be matched with online databases (BLAST) to identify the proteins.**"
   ]
  },
  {
   "cell_type": "markdown",
   "metadata": {},
   "source": [
    "To search each peptide each peptide needs to be writtten to a separate file "
   ]
  },
  {
   "cell_type": "code",
   "execution_count": 53,
   "metadata": {},
   "outputs": [
    {
     "ename": "FileNotFoundError",
     "evalue": "[Errno 2] No such file or directory: 'Proteins'",
     "output_type": "error",
     "traceback": [
      "\u001b[1;31m---------------------------------------------------------------------------\u001b[0m",
      "\u001b[1;31mFileNotFoundError\u001b[0m                         Traceback (most recent call last)",
      "\u001b[1;32m<ipython-input-53-3857cf9efc84>\u001b[0m in \u001b[0;36m<module>\u001b[1;34m\u001b[0m\n\u001b[0;32m      1\u001b[0m \u001b[1;32mfrom\u001b[0m \u001b[0mBio\u001b[0m \u001b[1;32mimport\u001b[0m \u001b[0mSeqIO\u001b[0m\u001b[1;33m\u001b[0m\u001b[1;33m\u001b[0m\u001b[0m\n\u001b[0;32m      2\u001b[0m \u001b[1;33m\u001b[0m\u001b[0m\n\u001b[1;32m----> 3\u001b[1;33m \u001b[0mrecord_iter\u001b[0m \u001b[1;33m=\u001b[0m \u001b[0mSeqIO\u001b[0m\u001b[1;33m.\u001b[0m\u001b[0mparse\u001b[0m\u001b[1;33m(\u001b[0m\u001b[0mopen\u001b[0m\u001b[1;33m(\u001b[0m\u001b[1;34m\"Proteins\"\u001b[0m\u001b[1;33m)\u001b[0m\u001b[1;33m,\u001b[0m \u001b[1;34m\"fasta\"\u001b[0m\u001b[1;33m)\u001b[0m\u001b[1;33m\u001b[0m\u001b[1;33m\u001b[0m\u001b[0m\n\u001b[0m\u001b[0;32m      4\u001b[0m \u001b[1;32mfor\u001b[0m \u001b[0mi\u001b[0m\u001b[1;33m,\u001b[0m \u001b[0mbatch\u001b[0m \u001b[1;32min\u001b[0m \u001b[0menumerate\u001b[0m\u001b[1;33m(\u001b[0m\u001b[0mbatch_iterator\u001b[0m\u001b[1;33m(\u001b[0m\u001b[0mrecord_iter\u001b[0m\u001b[1;33m,\u001b[0m \u001b[1;36m10000\u001b[0m\u001b[1;33m)\u001b[0m\u001b[1;33m)\u001b[0m\u001b[1;33m:\u001b[0m\u001b[1;33m\u001b[0m\u001b[1;33m\u001b[0m\u001b[0m\n\u001b[0;32m      5\u001b[0m     \u001b[0mfilename\u001b[0m \u001b[1;33m=\u001b[0m \u001b[1;34m\"group_%i.fastq\"\u001b[0m \u001b[1;33m%\u001b[0m \u001b[1;33m(\u001b[0m\u001b[0mi\u001b[0m \u001b[1;33m+\u001b[0m \u001b[1;36m1\u001b[0m\u001b[1;33m)\u001b[0m\u001b[1;33m\u001b[0m\u001b[1;33m\u001b[0m\u001b[0m\n",
      "\u001b[1;31mFileNotFoundError\u001b[0m: [Errno 2] No such file or directory: 'Proteins'"
     ]
    }
   ],
   "source": [
    "from Bio import SeqIO\n",
    "\n",
    "record_iter = SeqIO.parse(open(\"Proteins\"), \"fasta\")\n",
    "for i, batch in enumerate(batch_iterator(record_iter, 10000)):\n",
    "    filename = \"group_%i.fastq\" % (i + 1)\n",
    "    with open(filename, \"w\") as handle:\n",
    "        count = SeqIO.write(batch, handle, \"fasta\")\n",
    "    print(\"Wrote %i records to %s\" % (count, filename))"
   ]
  },
  {
   "cell_type": "code",
   "execution_count": null,
   "metadata": {},
   "outputs": [],
   "source": [
    "Primers=primer3.designPrimers(\n",
    "    {\n",
    "        \"SEQUENCE_ID\": \"COVID-19\",\n",
    "        \"SEQUENCE_TEMPLATE\": str(DNA),\n",
    "        \"SEQUENCE_INCLUDED_REGION\": [36,342]\n",
    "    },\n",
    "    {\n",
    "        'PRIMER_OPT_SIZE': 20,\n",
    "        'PRIMER_INTERNAL_MAX_SELF_END': 8,\n",
    "        'PRIMER_MIN_SIZE': 18,\n",
    "        'PRIMER_MAX_SIZE': 25,\n",
    "        'PRIMER_OPT_TM': 60.0,\n",
    "        'PRIMER_MIN_TM': 57.0,\n",
    "        'PRIMER_MAX_TM': 63.0,\n",
    "        'PRIMER_MIN_GC': 20.0,\n",
    "        'PRIMER_MAX_GC': 80.0,\n",
    "        'PRIMER_MAX_POLY_X': 100,\n",
    "        'PRIMER_SALT_MONOVALENT': 50.0,\n",
    "        'PRIMER_DNA_CONC': 50.0,\n",
    "        'PRIMER_MAX_NS_ACCEPTED': 0,\n",
    "        'PRIMER_MAX_SELF_ANY': 12,\n",
    "        'PRIMER_MAX_SELF_END': 8,\n",
    "        'PRIMER_PAIR_MAX_COMPL_ANY': 12,\n",
    "        'PRIMER_PAIR_MAX_COMPL_END': 8,\n",
    "        'PRIMER_PRODUCT_SIZE_RANGE': [[75,100],[100,125],[125,150],\n",
    "                                      [150,175],[175,200],[200,225]],\n",
    "    })"
   ]
  },
  {
   "cell_type": "code",
   "execution_count": null,
   "metadata": {},
   "outputs": [],
   "source": [
    "Primer = pd.DataFrame(Primers)\n",
    "Primer_Table=Primer[:1] #keep top 1\n",
    "Primer_final= Primer_Table.transpose()"
   ]
  },
  {
   "cell_type": "code",
   "execution_count": 126,
   "metadata": {},
   "outputs": [],
   "source": [
    "def print_full(x):\n",
    "    pd.set_option('display.max_rows', len(x))\n",
    "    print(x)\n",
    "    pd.reset_option('display.max_rows')"
   ]
  },
  {
   "cell_type": "code",
   "execution_count": null,
   "metadata": {},
   "outputs": [],
   "source": [
    "print_full(Primer_final)"
   ]
  },
  {
   "cell_type": "code",
   "execution_count": null,
   "metadata": {},
   "outputs": [],
   "source": [
    "Primer_final.to_excel(\"Primers.xlsx\")"
   ]
  },
  {
   "cell_type": "code",
   "execution_count": null,
   "metadata": {},
   "outputs": [],
   "source": []
  },
  {
   "cell_type": "markdown",
   "metadata": {},
   "source": [
    "primers_list is the one which prints all primers. "
   ]
  },
  {
   "cell_type": "code",
   "execution_count": null,
   "metadata": {},
   "outputs": [],
   "source": []
  }
 ],
 "metadata": {
  "kernelspec": {
   "display_name": "Python 3",
   "language": "python",
   "name": "python3"
  },
  "language_info": {
   "codemirror_mode": {
    "name": "ipython",
    "version": 3
   },
   "file_extension": ".py",
   "mimetype": "text/x-python",
   "name": "python",
   "nbconvert_exporter": "python",
   "pygments_lexer": "ipython3",
   "version": "3.8.5"
  }
 },
 "nbformat": 4,
 "nbformat_minor": 4
}
